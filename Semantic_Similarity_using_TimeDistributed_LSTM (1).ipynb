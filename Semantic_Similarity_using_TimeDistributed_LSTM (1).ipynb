{
  "cells": [
    {
      "cell_type": "markdown",
      "source": [
        "The following notebook, reviews the methodology by which we can build a recurrent neural network that is able to analyze text sentences and determine whether they are congruent in meaning or contradictory in terms of meaning.\n",
        "The notebook uses the dataset found in this link: https://nlp.stanford.edu/projects/snli/\n",
        "Available within the kaggle community (https://www.kaggle.com/datasets/stanfordu/stanford-natural-language-inference-corpus), the study focused on two cases: (the first is compatibility in terms of meaning, and the second case is complete difference in terms of meaning).\n",
        "The adopted methodology relied on the use of TimeDistributed and working on the formulation of the input of the neural network in the form of two sentences, and in each sentence the operations are applied to it inclusively independent of the second sentence, and the aim of this is the ability to extract the characteristics and link the sequence of words for each sentence, and then determine whether the two sentences are identical in terms of meaning Im different."
      ],
      "metadata": {
        "id": "gHmom9Ezx0e1"
      }
    },
    {
      "cell_type": "code",
      "execution_count": null,
      "metadata": {
        "colab": {
          "background_save": true,
          "base_uri": "https://localhost:8080/"
        },
        "id": "PN27wItONcfg",
        "outputId": "81c7e276-41f1-4105-a1c0-80122c000c21"
      },
      "outputs": [
        {
          "name": "stdout",
          "output_type": "stream",
          "text": [
            "--2022-07-18 04:57:20--  https://nlp.stanford.edu/data/glove.6B.zip\n",
            "Resolving nlp.stanford.edu (nlp.stanford.edu)... 171.64.67.140\n",
            "Connecting to nlp.stanford.edu (nlp.stanford.edu)|171.64.67.140|:443... connected.\n",
            "HTTP request sent, awaiting response... 301 Moved Permanently\n",
            "Location: https://downloads.cs.stanford.edu/nlp/data/glove.6B.zip [following]\n",
            "--2022-07-18 04:57:20--  https://downloads.cs.stanford.edu/nlp/data/glove.6B.zip\n",
            "Resolving downloads.cs.stanford.edu (downloads.cs.stanford.edu)... 171.64.64.22\n",
            "Connecting to downloads.cs.stanford.edu (downloads.cs.stanford.edu)|171.64.64.22|:443... connected.\n",
            "HTTP request sent, awaiting response... 200 OK\n",
            "Length: 862182613 (822M) [application/zip]\n",
            "Saving to: ‘glove.6B.zip’\n",
            "\n",
            "glove.6B.zip        100%[===================>] 822.24M  4.21MB/s    in 2m 43s  \n",
            "\n",
            "2022-07-18 05:00:04 (5.04 MB/s) - ‘glove.6B.zip’ saved [862182613/862182613]\n",
            "\n"
          ]
        }
      ],
      "source": [
        "!wget https://nlp.stanford.edu/data/glove.6B.zip"
      ]
    },
    {
      "cell_type": "code",
      "execution_count": null,
      "metadata": {
        "colab": {
          "background_save": true,
          "base_uri": "https://localhost:8080/"
        },
        "id": "C6tbXUi7NfAm",
        "outputId": "5bff1d19-7a24-465d-9d38-f06534fccc51"
      },
      "outputs": [
        {
          "name": "stdout",
          "output_type": "stream",
          "text": [
            "Archive:  glove.6B.zip\n",
            "  inflating: glove.6B.50d.txt        \n",
            "  inflating: glove.6B.100d.txt       \n",
            "  inflating: glove.6B.200d.txt       \n",
            "  inflating: glove.6B.300d.txt       \n"
          ]
        }
      ],
      "source": [
        "!unzip glove.6B.zip"
      ]
    },
    {
      "cell_type": "code",
      "execution_count": 3,
      "metadata": {
        "colab": {
          "base_uri": "https://localhost:8080/"
        },
        "id": "Gejr0NUj4QgW",
        "outputId": "cd3efd1f-6abf-4c0a-fd63-0a1ab083e22f"
      },
      "outputs": [
        {
          "output_type": "stream",
          "name": "stdout",
          "text": [
            "Looking in indexes: https://pypi.org/simple, https://us-python.pkg.dev/colab-wheels/public/simple/\n",
            "Collecting opendatasets\n",
            "  Downloading opendatasets-0.1.22-py3-none-any.whl (15 kB)\n",
            "Requirement already satisfied: click in /usr/local/lib/python3.7/dist-packages (from opendatasets) (7.1.2)\n",
            "Requirement already satisfied: tqdm in /usr/local/lib/python3.7/dist-packages (from opendatasets) (4.64.0)\n",
            "Requirement already satisfied: kaggle in /usr/local/lib/python3.7/dist-packages (from opendatasets) (1.5.12)\n",
            "Requirement already satisfied: requests in /usr/local/lib/python3.7/dist-packages (from kaggle->opendatasets) (2.23.0)\n",
            "Requirement already satisfied: six>=1.10 in /usr/local/lib/python3.7/dist-packages (from kaggle->opendatasets) (1.15.0)\n",
            "Requirement already satisfied: certifi in /usr/local/lib/python3.7/dist-packages (from kaggle->opendatasets) (2022.6.15)\n",
            "Requirement already satisfied: python-slugify in /usr/local/lib/python3.7/dist-packages (from kaggle->opendatasets) (6.1.2)\n",
            "Requirement already satisfied: urllib3 in /usr/local/lib/python3.7/dist-packages (from kaggle->opendatasets) (1.24.3)\n",
            "Requirement already satisfied: python-dateutil in /usr/local/lib/python3.7/dist-packages (from kaggle->opendatasets) (2.8.2)\n",
            "Requirement already satisfied: text-unidecode>=1.3 in /usr/local/lib/python3.7/dist-packages (from python-slugify->kaggle->opendatasets) (1.3)\n",
            "Requirement already satisfied: idna<3,>=2.5 in /usr/local/lib/python3.7/dist-packages (from requests->kaggle->opendatasets) (2.10)\n",
            "Requirement already satisfied: chardet<4,>=3.0.2 in /usr/local/lib/python3.7/dist-packages (from requests->kaggle->opendatasets) (3.0.4)\n",
            "Installing collected packages: opendatasets\n",
            "Successfully installed opendatasets-0.1.22\n"
          ]
        }
      ],
      "source": [
        "!pip install opendatasets"
      ]
    },
    {
      "cell_type": "code",
      "execution_count": 4,
      "metadata": {
        "colab": {
          "base_uri": "https://localhost:8080/"
        },
        "id": "mnu4vTw74a0V",
        "outputId": "b7039396-def0-4ab2-e667-9bc1c50c0b4f"
      },
      "outputs": [
        {
          "output_type": "stream",
          "name": "stdout",
          "text": [
            "Please provide your Kaggle credentials to download this dataset. Learn more: http://bit.ly/kaggle-creds\n",
            "Your Kaggle username: kaledhoshme\n",
            "Your Kaggle Key: ··········\n",
            "Downloading stanford-natural-language-inference-corpus.zip to ./stanford-natural-language-inference-corpus\n"
          ]
        },
        {
          "output_type": "stream",
          "name": "stderr",
          "text": [
            "100%|██████████| 44.4M/44.4M [00:00<00:00, 165MB/s]\n"
          ]
        },
        {
          "output_type": "stream",
          "name": "stdout",
          "text": [
            "\n"
          ]
        }
      ],
      "source": [
        "import opendatasets as op\n",
        "op.download(\"https://www.kaggle.com/datasets/stanfordu/stanford-natural-language-inference-corpus\")"
      ]
    },
    {
      "cell_type": "code",
      "execution_count": 5,
      "metadata": {
        "id": "NCCF_c8f4riN"
      },
      "outputs": [],
      "source": [
        "datasetFolder = \"stanford-natural-language-inference-corpus\""
      ]
    },
    {
      "cell_type": "code",
      "execution_count": 6,
      "metadata": {
        "id": "zCR89uqA4uiW"
      },
      "outputs": [],
      "source": [
        "import pandas as pd\n",
        "import numpy as np\n",
        "import os\n",
        "import string\n",
        "import tensorflow as tf\n",
        "import matplotlib.pyplot as plt\n",
        "from keras.preprocessing.text import Tokenizer\n",
        "from keras.preprocessing.sequence import pad_sequences\n",
        "from tensorflow.keras.layers import Input, Embedding, LSTM , Dense, Flatten, Dropout , GRU, TimeDistributed, Conv1D, MaxPool1D\n",
        "from tensorflow.keras.metrics import TruePositives, FalsePositives,categorical_accuracy, TrueNegatives, FalseNegatives, Precision, Recall, AUC\n",
        "from tensorflow.keras.models import Sequential\n",
        "from sklearn.preprocessing import LabelEncoder\n",
        "from tensorflow.keras.utils import to_categorical\n",
        "from sklearn.model_selection import train_test_split\n",
        "import nltk\n",
        "from nltk.corpus import stopwords"
      ]
    },
    {
      "cell_type": "code",
      "execution_count": 7,
      "metadata": {
        "colab": {
          "base_uri": "https://localhost:8080/"
        },
        "id": "uNiZ_fwGx6Qv",
        "outputId": "6cef9008-292f-4862-b961-4f9200327ee6"
      },
      "outputs": [
        {
          "output_type": "stream",
          "name": "stderr",
          "text": [
            "[nltk_data] Downloading package stopwords to /root/nltk_data...\n",
            "[nltk_data]   Unzipping corpora/stopwords.zip.\n"
          ]
        }
      ],
      "source": [
        "nltk.download('stopwords')\n",
        "stop_words = stopwords.words('english')"
      ]
    },
    {
      "cell_type": "code",
      "execution_count": 344,
      "metadata": {
        "id": "fp0HV2A25A1G"
      },
      "outputs": [],
      "source": [
        "train_dataset = pd.read_csv(os.path.join(datasetFolder, \"snli_1.0_train.csv\"))\n",
        "test_dataset = pd.read_csv(os.path.join(datasetFolder, \"snli_1.0_test.csv\"))\n",
        "validation_dataset = pd.read_csv(os.path.join(datasetFolder, \"snli_1.0_dev.csv\"))"
      ]
    },
    {
      "cell_type": "code",
      "execution_count": 345,
      "metadata": {
        "id": "RQymq_dO9Jis"
      },
      "outputs": [],
      "source": [
        "full_dataset = [train_dataset, test_dataset, validation_dataset]\n",
        "dataset = pd.concat(full_dataset)"
      ]
    },
    {
      "cell_type": "code",
      "execution_count": 346,
      "metadata": {
        "colab": {
          "base_uri": "https://localhost:8080/",
          "height": 617
        },
        "id": "dkuBZaR-5esk",
        "outputId": "521cee8e-34ea-4c0e-d8e5-a5d6dd176d03"
      },
      "outputs": [
        {
          "output_type": "execute_result",
          "data": {
            "text/plain": [
              "      gold_label                             sentence1_binary_parse  \\\n",
              "0        neutral  ( ( ( A person ) ( on ( a horse ) ) ) ( ( jump...   \n",
              "1  contradiction  ( ( ( A person ) ( on ( a horse ) ) ) ( ( jump...   \n",
              "2     entailment  ( ( ( A person ) ( on ( a horse ) ) ) ( ( jump...   \n",
              "3        neutral  ( Children ( ( ( smiling and ) waving ) ( at c...   \n",
              "4     entailment  ( Children ( ( ( smiling and ) waving ) ( at c...   \n",
              "\n",
              "                              sentence2_binary_parse  \\\n",
              "0  ( ( A person ) ( ( is ( ( training ( his horse...   \n",
              "1  ( ( A person ) ( ( ( ( is ( at ( a diner ) ) )...   \n",
              "2  ( ( A person ) ( ( ( ( is outdoors ) , ) ( on ...   \n",
              "3  ( They ( are ( smiling ( at ( their parents ) ...   \n",
              "4             ( There ( ( are children ) present ) )   \n",
              "\n",
              "                                     sentence1_parse  \\\n",
              "0  (ROOT (S (NP (NP (DT A) (NN person)) (PP (IN o...   \n",
              "1  (ROOT (S (NP (NP (DT A) (NN person)) (PP (IN o...   \n",
              "2  (ROOT (S (NP (NP (DT A) (NN person)) (PP (IN o...   \n",
              "3  (ROOT (NP (S (NP (NNP Children)) (VP (VBG smil...   \n",
              "4  (ROOT (NP (S (NP (NNP Children)) (VP (VBG smil...   \n",
              "\n",
              "                                     sentence2_parse  \\\n",
              "0  (ROOT (S (NP (DT A) (NN person)) (VP (VBZ is) ...   \n",
              "1  (ROOT (S (NP (DT A) (NN person)) (VP (VBZ is) ...   \n",
              "2  (ROOT (S (NP (DT A) (NN person)) (VP (VBZ is) ...   \n",
              "3  (ROOT (S (NP (PRP They)) (VP (VBP are) (VP (VB...   \n",
              "4  (ROOT (S (NP (EX There)) (VP (VBP are) (NP (NN...   \n",
              "\n",
              "                                           sentence1  \\\n",
              "0  A person on a horse jumps over a broken down a...   \n",
              "1  A person on a horse jumps over a broken down a...   \n",
              "2  A person on a horse jumps over a broken down a...   \n",
              "3              Children smiling and waving at camera   \n",
              "4              Children smiling and waving at camera   \n",
              "\n",
              "                                           sentence2         captionID  \\\n",
              "0  A person is training his horse for a competition.  3416050480.jpg#4   \n",
              "1      A person is at a diner, ordering an omelette.  3416050480.jpg#4   \n",
              "2                  A person is outdoors, on a horse.  3416050480.jpg#4   \n",
              "3                  They are smiling at their parents  2267923837.jpg#2   \n",
              "4                         There are children present  2267923837.jpg#2   \n",
              "\n",
              "                pairID         label1 label2 label3 label4 label5  \n",
              "0  3416050480.jpg#4r1n        neutral    NaN    NaN    NaN    NaN  \n",
              "1  3416050480.jpg#4r1c  contradiction    NaN    NaN    NaN    NaN  \n",
              "2  3416050480.jpg#4r1e     entailment    NaN    NaN    NaN    NaN  \n",
              "3  2267923837.jpg#2r1n        neutral    NaN    NaN    NaN    NaN  \n",
              "4  2267923837.jpg#2r1e     entailment    NaN    NaN    NaN    NaN  "
            ],
            "text/html": [
              "\n",
              "  <div id=\"df-f79b3417-cbde-470f-98e7-424f2a0a0e1a\">\n",
              "    <div class=\"colab-df-container\">\n",
              "      <div>\n",
              "<style scoped>\n",
              "    .dataframe tbody tr th:only-of-type {\n",
              "        vertical-align: middle;\n",
              "    }\n",
              "\n",
              "    .dataframe tbody tr th {\n",
              "        vertical-align: top;\n",
              "    }\n",
              "\n",
              "    .dataframe thead th {\n",
              "        text-align: right;\n",
              "    }\n",
              "</style>\n",
              "<table border=\"1\" class=\"dataframe\">\n",
              "  <thead>\n",
              "    <tr style=\"text-align: right;\">\n",
              "      <th></th>\n",
              "      <th>gold_label</th>\n",
              "      <th>sentence1_binary_parse</th>\n",
              "      <th>sentence2_binary_parse</th>\n",
              "      <th>sentence1_parse</th>\n",
              "      <th>sentence2_parse</th>\n",
              "      <th>sentence1</th>\n",
              "      <th>sentence2</th>\n",
              "      <th>captionID</th>\n",
              "      <th>pairID</th>\n",
              "      <th>label1</th>\n",
              "      <th>label2</th>\n",
              "      <th>label3</th>\n",
              "      <th>label4</th>\n",
              "      <th>label5</th>\n",
              "    </tr>\n",
              "  </thead>\n",
              "  <tbody>\n",
              "    <tr>\n",
              "      <th>0</th>\n",
              "      <td>neutral</td>\n",
              "      <td>( ( ( A person ) ( on ( a horse ) ) ) ( ( jump...</td>\n",
              "      <td>( ( A person ) ( ( is ( ( training ( his horse...</td>\n",
              "      <td>(ROOT (S (NP (NP (DT A) (NN person)) (PP (IN o...</td>\n",
              "      <td>(ROOT (S (NP (DT A) (NN person)) (VP (VBZ is) ...</td>\n",
              "      <td>A person on a horse jumps over a broken down a...</td>\n",
              "      <td>A person is training his horse for a competition.</td>\n",
              "      <td>3416050480.jpg#4</td>\n",
              "      <td>3416050480.jpg#4r1n</td>\n",
              "      <td>neutral</td>\n",
              "      <td>NaN</td>\n",
              "      <td>NaN</td>\n",
              "      <td>NaN</td>\n",
              "      <td>NaN</td>\n",
              "    </tr>\n",
              "    <tr>\n",
              "      <th>1</th>\n",
              "      <td>contradiction</td>\n",
              "      <td>( ( ( A person ) ( on ( a horse ) ) ) ( ( jump...</td>\n",
              "      <td>( ( A person ) ( ( ( ( is ( at ( a diner ) ) )...</td>\n",
              "      <td>(ROOT (S (NP (NP (DT A) (NN person)) (PP (IN o...</td>\n",
              "      <td>(ROOT (S (NP (DT A) (NN person)) (VP (VBZ is) ...</td>\n",
              "      <td>A person on a horse jumps over a broken down a...</td>\n",
              "      <td>A person is at a diner, ordering an omelette.</td>\n",
              "      <td>3416050480.jpg#4</td>\n",
              "      <td>3416050480.jpg#4r1c</td>\n",
              "      <td>contradiction</td>\n",
              "      <td>NaN</td>\n",
              "      <td>NaN</td>\n",
              "      <td>NaN</td>\n",
              "      <td>NaN</td>\n",
              "    </tr>\n",
              "    <tr>\n",
              "      <th>2</th>\n",
              "      <td>entailment</td>\n",
              "      <td>( ( ( A person ) ( on ( a horse ) ) ) ( ( jump...</td>\n",
              "      <td>( ( A person ) ( ( ( ( is outdoors ) , ) ( on ...</td>\n",
              "      <td>(ROOT (S (NP (NP (DT A) (NN person)) (PP (IN o...</td>\n",
              "      <td>(ROOT (S (NP (DT A) (NN person)) (VP (VBZ is) ...</td>\n",
              "      <td>A person on a horse jumps over a broken down a...</td>\n",
              "      <td>A person is outdoors, on a horse.</td>\n",
              "      <td>3416050480.jpg#4</td>\n",
              "      <td>3416050480.jpg#4r1e</td>\n",
              "      <td>entailment</td>\n",
              "      <td>NaN</td>\n",
              "      <td>NaN</td>\n",
              "      <td>NaN</td>\n",
              "      <td>NaN</td>\n",
              "    </tr>\n",
              "    <tr>\n",
              "      <th>3</th>\n",
              "      <td>neutral</td>\n",
              "      <td>( Children ( ( ( smiling and ) waving ) ( at c...</td>\n",
              "      <td>( They ( are ( smiling ( at ( their parents ) ...</td>\n",
              "      <td>(ROOT (NP (S (NP (NNP Children)) (VP (VBG smil...</td>\n",
              "      <td>(ROOT (S (NP (PRP They)) (VP (VBP are) (VP (VB...</td>\n",
              "      <td>Children smiling and waving at camera</td>\n",
              "      <td>They are smiling at their parents</td>\n",
              "      <td>2267923837.jpg#2</td>\n",
              "      <td>2267923837.jpg#2r1n</td>\n",
              "      <td>neutral</td>\n",
              "      <td>NaN</td>\n",
              "      <td>NaN</td>\n",
              "      <td>NaN</td>\n",
              "      <td>NaN</td>\n",
              "    </tr>\n",
              "    <tr>\n",
              "      <th>4</th>\n",
              "      <td>entailment</td>\n",
              "      <td>( Children ( ( ( smiling and ) waving ) ( at c...</td>\n",
              "      <td>( There ( ( are children ) present ) )</td>\n",
              "      <td>(ROOT (NP (S (NP (NNP Children)) (VP (VBG smil...</td>\n",
              "      <td>(ROOT (S (NP (EX There)) (VP (VBP are) (NP (NN...</td>\n",
              "      <td>Children smiling and waving at camera</td>\n",
              "      <td>There are children present</td>\n",
              "      <td>2267923837.jpg#2</td>\n",
              "      <td>2267923837.jpg#2r1e</td>\n",
              "      <td>entailment</td>\n",
              "      <td>NaN</td>\n",
              "      <td>NaN</td>\n",
              "      <td>NaN</td>\n",
              "      <td>NaN</td>\n",
              "    </tr>\n",
              "  </tbody>\n",
              "</table>\n",
              "</div>\n",
              "      <button class=\"colab-df-convert\" onclick=\"convertToInteractive('df-f79b3417-cbde-470f-98e7-424f2a0a0e1a')\"\n",
              "              title=\"Convert this dataframe to an interactive table.\"\n",
              "              style=\"display:none;\">\n",
              "        \n",
              "  <svg xmlns=\"http://www.w3.org/2000/svg\" height=\"24px\"viewBox=\"0 0 24 24\"\n",
              "       width=\"24px\">\n",
              "    <path d=\"M0 0h24v24H0V0z\" fill=\"none\"/>\n",
              "    <path d=\"M18.56 5.44l.94 2.06.94-2.06 2.06-.94-2.06-.94-.94-2.06-.94 2.06-2.06.94zm-11 1L8.5 8.5l.94-2.06 2.06-.94-2.06-.94L8.5 2.5l-.94 2.06-2.06.94zm10 10l.94 2.06.94-2.06 2.06-.94-2.06-.94-.94-2.06-.94 2.06-2.06.94z\"/><path d=\"M17.41 7.96l-1.37-1.37c-.4-.4-.92-.59-1.43-.59-.52 0-1.04.2-1.43.59L10.3 9.45l-7.72 7.72c-.78.78-.78 2.05 0 2.83L4 21.41c.39.39.9.59 1.41.59.51 0 1.02-.2 1.41-.59l7.78-7.78 2.81-2.81c.8-.78.8-2.07 0-2.86zM5.41 20L4 18.59l7.72-7.72 1.47 1.35L5.41 20z\"/>\n",
              "  </svg>\n",
              "      </button>\n",
              "      \n",
              "  <style>\n",
              "    .colab-df-container {\n",
              "      display:flex;\n",
              "      flex-wrap:wrap;\n",
              "      gap: 12px;\n",
              "    }\n",
              "\n",
              "    .colab-df-convert {\n",
              "      background-color: #E8F0FE;\n",
              "      border: none;\n",
              "      border-radius: 50%;\n",
              "      cursor: pointer;\n",
              "      display: none;\n",
              "      fill: #1967D2;\n",
              "      height: 32px;\n",
              "      padding: 0 0 0 0;\n",
              "      width: 32px;\n",
              "    }\n",
              "\n",
              "    .colab-df-convert:hover {\n",
              "      background-color: #E2EBFA;\n",
              "      box-shadow: 0px 1px 2px rgba(60, 64, 67, 0.3), 0px 1px 3px 1px rgba(60, 64, 67, 0.15);\n",
              "      fill: #174EA6;\n",
              "    }\n",
              "\n",
              "    [theme=dark] .colab-df-convert {\n",
              "      background-color: #3B4455;\n",
              "      fill: #D2E3FC;\n",
              "    }\n",
              "\n",
              "    [theme=dark] .colab-df-convert:hover {\n",
              "      background-color: #434B5C;\n",
              "      box-shadow: 0px 1px 3px 1px rgba(0, 0, 0, 0.15);\n",
              "      filter: drop-shadow(0px 1px 2px rgba(0, 0, 0, 0.3));\n",
              "      fill: #FFFFFF;\n",
              "    }\n",
              "  </style>\n",
              "\n",
              "      <script>\n",
              "        const buttonEl =\n",
              "          document.querySelector('#df-f79b3417-cbde-470f-98e7-424f2a0a0e1a button.colab-df-convert');\n",
              "        buttonEl.style.display =\n",
              "          google.colab.kernel.accessAllowed ? 'block' : 'none';\n",
              "\n",
              "        async function convertToInteractive(key) {\n",
              "          const element = document.querySelector('#df-f79b3417-cbde-470f-98e7-424f2a0a0e1a');\n",
              "          const dataTable =\n",
              "            await google.colab.kernel.invokeFunction('convertToInteractive',\n",
              "                                                     [key], {});\n",
              "          if (!dataTable) return;\n",
              "\n",
              "          const docLinkHtml = 'Like what you see? Visit the ' +\n",
              "            '<a target=\"_blank\" href=https://colab.research.google.com/notebooks/data_table.ipynb>data table notebook</a>'\n",
              "            + ' to learn more about interactive tables.';\n",
              "          element.innerHTML = '';\n",
              "          dataTable['output_type'] = 'display_data';\n",
              "          await google.colab.output.renderOutput(dataTable, element);\n",
              "          const docLink = document.createElement('div');\n",
              "          docLink.innerHTML = docLinkHtml;\n",
              "          element.appendChild(docLink);\n",
              "        }\n",
              "      </script>\n",
              "    </div>\n",
              "  </div>\n",
              "  "
            ]
          },
          "metadata": {},
          "execution_count": 346
        }
      ],
      "source": [
        "dataset.head()"
      ]
    },
    {
      "cell_type": "code",
      "execution_count": 347,
      "metadata": {
        "id": "vEPMNUuma3SW"
      },
      "outputs": [],
      "source": [
        "dataset = dataset[['gold_label', 'sentence1', 'sentence2']]"
      ]
    },
    {
      "cell_type": "code",
      "execution_count": 348,
      "metadata": {
        "colab": {
          "base_uri": "https://localhost:8080/"
        },
        "id": "zYUMkpqGZUNp",
        "outputId": "0a0320c0-9103-4888-86ab-ca867061dd18"
      },
      "outputs": [
        {
          "output_type": "execute_result",
          "data": {
            "text/plain": [
              "570152"
            ]
          },
          "metadata": {},
          "execution_count": 348
        }
      ],
      "source": [
        "len(dataset)"
      ]
    },
    {
      "cell_type": "code",
      "execution_count": 349,
      "metadata": {
        "colab": {
          "base_uri": "https://localhost:8080/"
        },
        "id": "lIr4KOyQaltz",
        "outputId": "7f327997-8a0f-446c-fd7d-e90029c3195a"
      },
      "outputs": [
        {
          "output_type": "execute_result",
          "data": {
            "text/plain": [
              "gold_label    0\n",
              "sentence1     0\n",
              "sentence2     6\n",
              "dtype: int64"
            ]
          },
          "metadata": {},
          "execution_count": 349
        }
      ],
      "source": [
        "dataset.isnull().sum()"
      ]
    },
    {
      "cell_type": "code",
      "source": [
        "dataset.describe()"
      ],
      "metadata": {
        "colab": {
          "base_uri": "https://localhost:8080/",
          "height": 175
        },
        "id": "DkGpdNlNMl_W",
        "outputId": "6bccd09b-db3d-4507-8c5a-56fb4d5713be"
      },
      "execution_count": 350,
      "outputs": [
        {
          "output_type": "execute_result",
          "data": {
            "text/plain": [
              "        gold_label          sentence1           sentence2\n",
              "count       570152             570152              570146\n",
              "unique           4             157351              496642\n",
              "top     entailment  A dog in a field.  A man is sleeping.\n",
              "freq        190113                 33                 343"
            ],
            "text/html": [
              "\n",
              "  <div id=\"df-72136144-f766-44c8-928f-0334e210718c\">\n",
              "    <div class=\"colab-df-container\">\n",
              "      <div>\n",
              "<style scoped>\n",
              "    .dataframe tbody tr th:only-of-type {\n",
              "        vertical-align: middle;\n",
              "    }\n",
              "\n",
              "    .dataframe tbody tr th {\n",
              "        vertical-align: top;\n",
              "    }\n",
              "\n",
              "    .dataframe thead th {\n",
              "        text-align: right;\n",
              "    }\n",
              "</style>\n",
              "<table border=\"1\" class=\"dataframe\">\n",
              "  <thead>\n",
              "    <tr style=\"text-align: right;\">\n",
              "      <th></th>\n",
              "      <th>gold_label</th>\n",
              "      <th>sentence1</th>\n",
              "      <th>sentence2</th>\n",
              "    </tr>\n",
              "  </thead>\n",
              "  <tbody>\n",
              "    <tr>\n",
              "      <th>count</th>\n",
              "      <td>570152</td>\n",
              "      <td>570152</td>\n",
              "      <td>570146</td>\n",
              "    </tr>\n",
              "    <tr>\n",
              "      <th>unique</th>\n",
              "      <td>4</td>\n",
              "      <td>157351</td>\n",
              "      <td>496642</td>\n",
              "    </tr>\n",
              "    <tr>\n",
              "      <th>top</th>\n",
              "      <td>entailment</td>\n",
              "      <td>A dog in a field.</td>\n",
              "      <td>A man is sleeping.</td>\n",
              "    </tr>\n",
              "    <tr>\n",
              "      <th>freq</th>\n",
              "      <td>190113</td>\n",
              "      <td>33</td>\n",
              "      <td>343</td>\n",
              "    </tr>\n",
              "  </tbody>\n",
              "</table>\n",
              "</div>\n",
              "      <button class=\"colab-df-convert\" onclick=\"convertToInteractive('df-72136144-f766-44c8-928f-0334e210718c')\"\n",
              "              title=\"Convert this dataframe to an interactive table.\"\n",
              "              style=\"display:none;\">\n",
              "        \n",
              "  <svg xmlns=\"http://www.w3.org/2000/svg\" height=\"24px\"viewBox=\"0 0 24 24\"\n",
              "       width=\"24px\">\n",
              "    <path d=\"M0 0h24v24H0V0z\" fill=\"none\"/>\n",
              "    <path d=\"M18.56 5.44l.94 2.06.94-2.06 2.06-.94-2.06-.94-.94-2.06-.94 2.06-2.06.94zm-11 1L8.5 8.5l.94-2.06 2.06-.94-2.06-.94L8.5 2.5l-.94 2.06-2.06.94zm10 10l.94 2.06.94-2.06 2.06-.94-2.06-.94-.94-2.06-.94 2.06-2.06.94z\"/><path d=\"M17.41 7.96l-1.37-1.37c-.4-.4-.92-.59-1.43-.59-.52 0-1.04.2-1.43.59L10.3 9.45l-7.72 7.72c-.78.78-.78 2.05 0 2.83L4 21.41c.39.39.9.59 1.41.59.51 0 1.02-.2 1.41-.59l7.78-7.78 2.81-2.81c.8-.78.8-2.07 0-2.86zM5.41 20L4 18.59l7.72-7.72 1.47 1.35L5.41 20z\"/>\n",
              "  </svg>\n",
              "      </button>\n",
              "      \n",
              "  <style>\n",
              "    .colab-df-container {\n",
              "      display:flex;\n",
              "      flex-wrap:wrap;\n",
              "      gap: 12px;\n",
              "    }\n",
              "\n",
              "    .colab-df-convert {\n",
              "      background-color: #E8F0FE;\n",
              "      border: none;\n",
              "      border-radius: 50%;\n",
              "      cursor: pointer;\n",
              "      display: none;\n",
              "      fill: #1967D2;\n",
              "      height: 32px;\n",
              "      padding: 0 0 0 0;\n",
              "      width: 32px;\n",
              "    }\n",
              "\n",
              "    .colab-df-convert:hover {\n",
              "      background-color: #E2EBFA;\n",
              "      box-shadow: 0px 1px 2px rgba(60, 64, 67, 0.3), 0px 1px 3px 1px rgba(60, 64, 67, 0.15);\n",
              "      fill: #174EA6;\n",
              "    }\n",
              "\n",
              "    [theme=dark] .colab-df-convert {\n",
              "      background-color: #3B4455;\n",
              "      fill: #D2E3FC;\n",
              "    }\n",
              "\n",
              "    [theme=dark] .colab-df-convert:hover {\n",
              "      background-color: #434B5C;\n",
              "      box-shadow: 0px 1px 3px 1px rgba(0, 0, 0, 0.15);\n",
              "      filter: drop-shadow(0px 1px 2px rgba(0, 0, 0, 0.3));\n",
              "      fill: #FFFFFF;\n",
              "    }\n",
              "  </style>\n",
              "\n",
              "      <script>\n",
              "        const buttonEl =\n",
              "          document.querySelector('#df-72136144-f766-44c8-928f-0334e210718c button.colab-df-convert');\n",
              "        buttonEl.style.display =\n",
              "          google.colab.kernel.accessAllowed ? 'block' : 'none';\n",
              "\n",
              "        async function convertToInteractive(key) {\n",
              "          const element = document.querySelector('#df-72136144-f766-44c8-928f-0334e210718c');\n",
              "          const dataTable =\n",
              "            await google.colab.kernel.invokeFunction('convertToInteractive',\n",
              "                                                     [key], {});\n",
              "          if (!dataTable) return;\n",
              "\n",
              "          const docLinkHtml = 'Like what you see? Visit the ' +\n",
              "            '<a target=\"_blank\" href=https://colab.research.google.com/notebooks/data_table.ipynb>data table notebook</a>'\n",
              "            + ' to learn more about interactive tables.';\n",
              "          element.innerHTML = '';\n",
              "          dataTable['output_type'] = 'display_data';\n",
              "          await google.colab.output.renderOutput(dataTable, element);\n",
              "          const docLink = document.createElement('div');\n",
              "          docLink.innerHTML = docLinkHtml;\n",
              "          element.appendChild(docLink);\n",
              "        }\n",
              "      </script>\n",
              "    </div>\n",
              "  </div>\n",
              "  "
            ]
          },
          "metadata": {},
          "execution_count": 350
        }
      ]
    },
    {
      "cell_type": "code",
      "execution_count": 351,
      "metadata": {
        "id": "TzY18pMtata0"
      },
      "outputs": [],
      "source": [
        "dataset.dropna(axis=0, inplace=True)"
      ]
    },
    {
      "cell_type": "code",
      "execution_count": 352,
      "metadata": {
        "colab": {
          "base_uri": "https://localhost:8080/"
        },
        "id": "oi86wCCzawq9",
        "outputId": "a142be8d-656a-4330-eb11-bebf0c3dc2de"
      },
      "outputs": [
        {
          "output_type": "execute_result",
          "data": {
            "text/plain": [
              "570146"
            ]
          },
          "metadata": {},
          "execution_count": 352
        }
      ],
      "source": [
        "len(dataset)"
      ]
    },
    {
      "cell_type": "code",
      "execution_count": 353,
      "metadata": {
        "id": "9RzbLISM_0L-"
      },
      "outputs": [],
      "source": [
        "dataset = dataset.loc[dataset['gold_label'] != \"-\"]\n",
        "dataset = dataset.loc[dataset['gold_label'] != \"neutral\"]"
      ]
    },
    {
      "cell_type": "code",
      "execution_count": 354,
      "metadata": {
        "colab": {
          "base_uri": "https://localhost:8080/"
        },
        "id": "Oz2NZhmfZkHJ",
        "outputId": "472a4cc8-b3b4-47b8-a95b-b376832d0e08"
      },
      "outputs": [
        {
          "output_type": "execute_result",
          "data": {
            "text/plain": [
              "379811"
            ]
          },
          "metadata": {},
          "execution_count": 354
        }
      ],
      "source": [
        "len(dataset)"
      ]
    },
    {
      "cell_type": "code",
      "execution_count": 355,
      "metadata": {
        "id": "Fp9kIloTtuek"
      },
      "outputs": [],
      "source": [
        "dataset = dataset.sample(frac = 1)"
      ]
    },
    {
      "cell_type": "code",
      "execution_count": 356,
      "metadata": {
        "colab": {
          "base_uri": "https://localhost:8080/",
          "height": 206
        },
        "id": "nqfIdYveytrX",
        "outputId": "f63a9ade-f0c7-4568-afb0-75de2a485e6a"
      },
      "outputs": [
        {
          "output_type": "execute_result",
          "data": {
            "text/plain": [
              "           gold_label                                          sentence1  \\\n",
              "189870  contradiction  The young Asian girl is wrapping things in the...   \n",
              "16192      entailment  A woman in a diagonal black and white striped ...   \n",
              "86718      entailment        A group of young adults singing in a choir.   \n",
              "47198      entailment  These two young boys with blue and gray shorts...   \n",
              "269897     entailment     Many people are shopping at an outdoor market.   \n",
              "\n",
              "                                                sentence2  \n",
              "189870                    The girl is painting her nails.  \n",
              "16192              A woman is walking towards a building.  \n",
              "86718                Several people sing a song together.  \n",
              "47198   Two children take a picture before going to play.  \n",
              "269897                                     humans outside  "
            ],
            "text/html": [
              "\n",
              "  <div id=\"df-00e0d237-7e02-46a4-b204-a57e954a8a4b\">\n",
              "    <div class=\"colab-df-container\">\n",
              "      <div>\n",
              "<style scoped>\n",
              "    .dataframe tbody tr th:only-of-type {\n",
              "        vertical-align: middle;\n",
              "    }\n",
              "\n",
              "    .dataframe tbody tr th {\n",
              "        vertical-align: top;\n",
              "    }\n",
              "\n",
              "    .dataframe thead th {\n",
              "        text-align: right;\n",
              "    }\n",
              "</style>\n",
              "<table border=\"1\" class=\"dataframe\">\n",
              "  <thead>\n",
              "    <tr style=\"text-align: right;\">\n",
              "      <th></th>\n",
              "      <th>gold_label</th>\n",
              "      <th>sentence1</th>\n",
              "      <th>sentence2</th>\n",
              "    </tr>\n",
              "  </thead>\n",
              "  <tbody>\n",
              "    <tr>\n",
              "      <th>189870</th>\n",
              "      <td>contradiction</td>\n",
              "      <td>The young Asian girl is wrapping things in the...</td>\n",
              "      <td>The girl is painting her nails.</td>\n",
              "    </tr>\n",
              "    <tr>\n",
              "      <th>16192</th>\n",
              "      <td>entailment</td>\n",
              "      <td>A woman in a diagonal black and white striped ...</td>\n",
              "      <td>A woman is walking towards a building.</td>\n",
              "    </tr>\n",
              "    <tr>\n",
              "      <th>86718</th>\n",
              "      <td>entailment</td>\n",
              "      <td>A group of young adults singing in a choir.</td>\n",
              "      <td>Several people sing a song together.</td>\n",
              "    </tr>\n",
              "    <tr>\n",
              "      <th>47198</th>\n",
              "      <td>entailment</td>\n",
              "      <td>These two young boys with blue and gray shorts...</td>\n",
              "      <td>Two children take a picture before going to play.</td>\n",
              "    </tr>\n",
              "    <tr>\n",
              "      <th>269897</th>\n",
              "      <td>entailment</td>\n",
              "      <td>Many people are shopping at an outdoor market.</td>\n",
              "      <td>humans outside</td>\n",
              "    </tr>\n",
              "  </tbody>\n",
              "</table>\n",
              "</div>\n",
              "      <button class=\"colab-df-convert\" onclick=\"convertToInteractive('df-00e0d237-7e02-46a4-b204-a57e954a8a4b')\"\n",
              "              title=\"Convert this dataframe to an interactive table.\"\n",
              "              style=\"display:none;\">\n",
              "        \n",
              "  <svg xmlns=\"http://www.w3.org/2000/svg\" height=\"24px\"viewBox=\"0 0 24 24\"\n",
              "       width=\"24px\">\n",
              "    <path d=\"M0 0h24v24H0V0z\" fill=\"none\"/>\n",
              "    <path d=\"M18.56 5.44l.94 2.06.94-2.06 2.06-.94-2.06-.94-.94-2.06-.94 2.06-2.06.94zm-11 1L8.5 8.5l.94-2.06 2.06-.94-2.06-.94L8.5 2.5l-.94 2.06-2.06.94zm10 10l.94 2.06.94-2.06 2.06-.94-2.06-.94-.94-2.06-.94 2.06-2.06.94z\"/><path d=\"M17.41 7.96l-1.37-1.37c-.4-.4-.92-.59-1.43-.59-.52 0-1.04.2-1.43.59L10.3 9.45l-7.72 7.72c-.78.78-.78 2.05 0 2.83L4 21.41c.39.39.9.59 1.41.59.51 0 1.02-.2 1.41-.59l7.78-7.78 2.81-2.81c.8-.78.8-2.07 0-2.86zM5.41 20L4 18.59l7.72-7.72 1.47 1.35L5.41 20z\"/>\n",
              "  </svg>\n",
              "      </button>\n",
              "      \n",
              "  <style>\n",
              "    .colab-df-container {\n",
              "      display:flex;\n",
              "      flex-wrap:wrap;\n",
              "      gap: 12px;\n",
              "    }\n",
              "\n",
              "    .colab-df-convert {\n",
              "      background-color: #E8F0FE;\n",
              "      border: none;\n",
              "      border-radius: 50%;\n",
              "      cursor: pointer;\n",
              "      display: none;\n",
              "      fill: #1967D2;\n",
              "      height: 32px;\n",
              "      padding: 0 0 0 0;\n",
              "      width: 32px;\n",
              "    }\n",
              "\n",
              "    .colab-df-convert:hover {\n",
              "      background-color: #E2EBFA;\n",
              "      box-shadow: 0px 1px 2px rgba(60, 64, 67, 0.3), 0px 1px 3px 1px rgba(60, 64, 67, 0.15);\n",
              "      fill: #174EA6;\n",
              "    }\n",
              "\n",
              "    [theme=dark] .colab-df-convert {\n",
              "      background-color: #3B4455;\n",
              "      fill: #D2E3FC;\n",
              "    }\n",
              "\n",
              "    [theme=dark] .colab-df-convert:hover {\n",
              "      background-color: #434B5C;\n",
              "      box-shadow: 0px 1px 3px 1px rgba(0, 0, 0, 0.15);\n",
              "      filter: drop-shadow(0px 1px 2px rgba(0, 0, 0, 0.3));\n",
              "      fill: #FFFFFF;\n",
              "    }\n",
              "  </style>\n",
              "\n",
              "      <script>\n",
              "        const buttonEl =\n",
              "          document.querySelector('#df-00e0d237-7e02-46a4-b204-a57e954a8a4b button.colab-df-convert');\n",
              "        buttonEl.style.display =\n",
              "          google.colab.kernel.accessAllowed ? 'block' : 'none';\n",
              "\n",
              "        async function convertToInteractive(key) {\n",
              "          const element = document.querySelector('#df-00e0d237-7e02-46a4-b204-a57e954a8a4b');\n",
              "          const dataTable =\n",
              "            await google.colab.kernel.invokeFunction('convertToInteractive',\n",
              "                                                     [key], {});\n",
              "          if (!dataTable) return;\n",
              "\n",
              "          const docLinkHtml = 'Like what you see? Visit the ' +\n",
              "            '<a target=\"_blank\" href=https://colab.research.google.com/notebooks/data_table.ipynb>data table notebook</a>'\n",
              "            + ' to learn more about interactive tables.';\n",
              "          element.innerHTML = '';\n",
              "          dataTable['output_type'] = 'display_data';\n",
              "          await google.colab.output.renderOutput(dataTable, element);\n",
              "          const docLink = document.createElement('div');\n",
              "          docLink.innerHTML = docLinkHtml;\n",
              "          element.appendChild(docLink);\n",
              "        }\n",
              "      </script>\n",
              "    </div>\n",
              "  </div>\n",
              "  "
            ]
          },
          "metadata": {},
          "execution_count": 356
        }
      ],
      "source": [
        "dataset.head()"
      ]
    },
    {
      "cell_type": "code",
      "execution_count": 357,
      "metadata": {
        "id": "QPwpj-B1-_4T"
      },
      "outputs": [],
      "source": [
        "sentence1 = dataset['sentence1']\n",
        "sentence2 = dataset['sentence2']\n",
        "label = dataset['gold_label']"
      ]
    },
    {
      "cell_type": "code",
      "execution_count": 358,
      "metadata": {
        "colab": {
          "base_uri": "https://localhost:8080/"
        },
        "id": "e8vSCe9MZqeZ",
        "outputId": "a3bad47b-423d-4350-d01a-67637f62678c"
      },
      "outputs": [
        {
          "output_type": "execute_result",
          "data": {
            "text/plain": [
              "array(['contradiction', 'entailment'], dtype=object)"
            ]
          },
          "metadata": {},
          "execution_count": 358
        }
      ],
      "source": [
        "label.unique()"
      ]
    },
    {
      "cell_type": "code",
      "execution_count": 359,
      "metadata": {
        "id": "6ek-v895Nk9Q"
      },
      "outputs": [],
      "source": [
        "def CleanFeatures(sentences):\n",
        "  sentences = sentences.apply(lambda sequence:\n",
        "                                            [ltrs.lower() for ltrs in sequence if ltrs not in string.punctuation])\n",
        "  sentences = sentences.apply(lambda wrd: ''.join(wrd))\n",
        "  sentences = sentences.apply(lambda sequence:\n",
        "                                            [word for word in sequence.split() if word not in stop_words])\n",
        "  sentences = sentences.apply(lambda wrd: ' '.join(wrd))\n",
        "  return sentences"
      ]
    },
    {
      "cell_type": "code",
      "execution_count": 360,
      "metadata": {
        "id": "a5w5qR1GUnQZ"
      },
      "outputs": [],
      "source": [
        "sentence1 = CleanFeatures(sentence1)\n",
        "sentence2 = CleanFeatures(sentence2)"
      ]
    },
    {
      "cell_type": "code",
      "execution_count": 361,
      "metadata": {
        "colab": {
          "base_uri": "https://localhost:8080/"
        },
        "id": "NgExSelkyXPK",
        "outputId": "5c20c3bd-c60c-4cc6-a4f7-dfc355b541a3"
      },
      "outputs": [
        {
          "output_type": "execute_result",
          "data": {
            "text/plain": [
              "189870          young asian girl wrapping things girls hair\n",
              "16192     woman diagonal black white striped skirt carri...\n",
              "86718                      group young adults singing choir\n",
              "47198     two young boys blue gray shorts smile camera g...\n",
              "269897                  many people shopping outdoor market\n",
              "Name: sentence1, dtype: object"
            ]
          },
          "metadata": {},
          "execution_count": 361
        }
      ],
      "source": [
        "sentence1.head()"
      ]
    },
    {
      "cell_type": "code",
      "execution_count": 362,
      "metadata": {
        "colab": {
          "base_uri": "https://localhost:8080/"
        },
        "id": "I97ELVkAzBG-",
        "outputId": "9549d825-87f7-4b3c-dddb-f43801a792d6"
      },
      "outputs": [
        {
          "output_type": "execute_result",
          "data": {
            "text/plain": [
              "189870                     girl painting nails\n",
              "16192           woman walking towards building\n",
              "86718        several people sing song together\n",
              "47198     two children take picture going play\n",
              "269897                          humans outside\n",
              "Name: sentence2, dtype: object"
            ]
          },
          "metadata": {},
          "execution_count": 362
        }
      ],
      "source": [
        "sentence2.head()"
      ]
    },
    {
      "cell_type": "code",
      "execution_count": 363,
      "metadata": {
        "colab": {
          "base_uri": "https://localhost:8080/"
        },
        "id": "bNdDoe2R_LMh",
        "outputId": "61104c4f-6967-405d-b747-9ed0edbb80dd"
      },
      "outputs": [
        {
          "output_type": "execute_result",
          "data": {
            "text/plain": [
              "(379811,)"
            ]
          },
          "metadata": {},
          "execution_count": 363
        }
      ],
      "source": [
        "sentence1.shape"
      ]
    },
    {
      "cell_type": "code",
      "execution_count": 364,
      "metadata": {
        "colab": {
          "base_uri": "https://localhost:8080/"
        },
        "id": "1NTJMFb266n4",
        "outputId": "9d3a62dc-9dec-411a-96b9-aa72f572e115"
      },
      "outputs": [
        {
          "output_type": "execute_result",
          "data": {
            "text/plain": [
              "array(['contradiction', 'entailment'], dtype=object)"
            ]
          },
          "metadata": {},
          "execution_count": 364
        }
      ],
      "source": [
        "label.unique()"
      ]
    },
    {
      "cell_type": "code",
      "execution_count": 365,
      "metadata": {
        "colab": {
          "base_uri": "https://localhost:8080/"
        },
        "id": "ubpP0SbhAKNe",
        "outputId": "f6900d2f-b8ef-41d1-da2b-361ae4e0a47a"
      },
      "outputs": [
        {
          "output_type": "execute_result",
          "data": {
            "text/plain": [
              "379811"
            ]
          },
          "metadata": {},
          "execution_count": 365
        }
      ],
      "source": [
        "len(label)"
      ]
    },
    {
      "cell_type": "code",
      "execution_count": 366,
      "metadata": {
        "colab": {
          "base_uri": "https://localhost:8080/"
        },
        "id": "VGjBegIWBBFG",
        "outputId": "428b3958-a8b4-499a-89b0-6256bf530a91"
      },
      "outputs": [
        {
          "output_type": "execute_result",
          "data": {
            "text/plain": [
              "(2, 379811)"
            ]
          },
          "metadata": {},
          "execution_count": 366
        }
      ],
      "source": [
        "all_sentences = np.asarray([sentence1, sentence2])\n",
        "all_sentences.shape"
      ]
    },
    {
      "cell_type": "code",
      "execution_count": 367,
      "metadata": {
        "id": "77Qh9lfdB0yl"
      },
      "outputs": [],
      "source": [
        "all_sentences = all_sentences.reshape(-1,1 )"
      ]
    },
    {
      "cell_type": "code",
      "execution_count": 368,
      "metadata": {
        "id": "4C-uhA8GB5H8"
      },
      "outputs": [],
      "source": [
        "all_sentences = all_sentences.reshape(all_sentences.shape[0])"
      ]
    },
    {
      "cell_type": "code",
      "execution_count": 369,
      "metadata": {
        "colab": {
          "base_uri": "https://localhost:8080/"
        },
        "id": "zeoZ7S93CS9O",
        "outputId": "c9a28e28-a432-4f73-b1a1-29accc49b431"
      },
      "outputs": [
        {
          "output_type": "execute_result",
          "data": {
            "text/plain": [
              "(759622,)"
            ]
          },
          "metadata": {},
          "execution_count": 369
        }
      ],
      "source": [
        "all_sentences.shape"
      ]
    },
    {
      "cell_type": "code",
      "execution_count": 370,
      "metadata": {
        "id": "LyUYWy9RBPW2"
      },
      "outputs": [],
      "source": [
        "tokenizer = Tokenizer(num_words=6000)\n",
        "tokenizer.fit_on_texts(all_sentences)"
      ]
    },
    {
      "cell_type": "markdown",
      "metadata": {
        "id": "ciYkEaKqCYxm"
      },
      "source": [
        "for first sentences:"
      ]
    },
    {
      "cell_type": "code",
      "execution_count": 371,
      "metadata": {
        "id": "EbtH_mO6CcTm"
      },
      "outputs": [],
      "source": [
        "sentence1_seq = tokenizer.texts_to_sequences(sentence1)\n",
        "sentence1 = pad_sequences(sentence1_seq)"
      ]
    },
    {
      "cell_type": "code",
      "execution_count": 372,
      "metadata": {
        "colab": {
          "base_uri": "https://localhost:8080/"
        },
        "id": "-Xvel2aLCkxl",
        "outputId": "0b9ae5b5-9e14-4d71-f1be-dd48c5dc1809"
      },
      "outputs": [
        {
          "output_type": "execute_result",
          "data": {
            "text/plain": [
              "(379811, 43)"
            ]
          },
          "metadata": {},
          "execution_count": 372
        }
      ],
      "source": [
        "sentence1.shape"
      ]
    },
    {
      "cell_type": "code",
      "execution_count": 373,
      "metadata": {
        "id": "3O0dlMlgCocM"
      },
      "outputs": [],
      "source": [
        "sentence2_seq = tokenizer.texts_to_sequences(sentence2)\n",
        "sentence2 = pad_sequences(sentence2_seq, maxlen= sentence1.shape[1])"
      ]
    },
    {
      "cell_type": "code",
      "execution_count": 374,
      "metadata": {
        "colab": {
          "base_uri": "https://localhost:8080/"
        },
        "id": "lgrcK47QCrfd",
        "outputId": "2a16c14c-bdd3-42d8-b66b-20ca2eded132"
      },
      "outputs": [
        {
          "output_type": "execute_result",
          "data": {
            "text/plain": [
              "(379811, 43)"
            ]
          },
          "metadata": {},
          "execution_count": 374
        }
      ],
      "source": [
        "sentence2.shape"
      ]
    },
    {
      "cell_type": "code",
      "execution_count": 375,
      "metadata": {
        "colab": {
          "base_uri": "https://localhost:8080/"
        },
        "id": "bRjyiBF0C8d1",
        "outputId": "726dbc4f-0cab-4785-faf5-ea8a4e4e6322"
      },
      "outputs": [
        {
          "output_type": "execute_result",
          "data": {
            "text/plain": [
              "array([[   0,    0,    0, ...,  759,   47,   79],\n",
              "       [   0,    0,    0, ...,  345,  324,  635],\n",
              "       [   0,    0,    0, ...,  262,  207, 1170],\n",
              "       ...,\n",
              "       [   0,    0,    0, ...,  124,  369,  337],\n",
              "       [   0,    0,    0, ..., 4162, 1986, 2300],\n",
              "       [   0,    0,    0, ..., 1038,    8, 1518]], dtype=int32)"
            ]
          },
          "metadata": {},
          "execution_count": 375
        }
      ],
      "source": [
        "sentence1"
      ]
    },
    {
      "cell_type": "code",
      "execution_count": 376,
      "metadata": {
        "id": "pF7BLsrV82PF"
      },
      "outputs": [],
      "source": [
        "label_ = LabelEncoder()\n",
        "labels = label_.fit_transform(label)"
      ]
    },
    {
      "cell_type": "code",
      "execution_count": 377,
      "metadata": {
        "colab": {
          "base_uri": "https://localhost:8080/"
        },
        "id": "INfvhvbbDOu9",
        "outputId": "8585fca6-be86-442f-a8f1-0f1ccb773092"
      },
      "outputs": [
        {
          "output_type": "execute_result",
          "data": {
            "text/plain": [
              "array([0, 1, 1, ..., 1, 0, 1])"
            ]
          },
          "metadata": {},
          "execution_count": 377
        }
      ],
      "source": [
        "labels"
      ]
    },
    {
      "cell_type": "code",
      "execution_count": 378,
      "metadata": {
        "id": "nSKF31-BDQNl"
      },
      "outputs": [],
      "source": [
        "vocabulary = len(tokenizer.word_index)"
      ]
    },
    {
      "cell_type": "code",
      "execution_count": 379,
      "metadata": {
        "colab": {
          "base_uri": "https://localhost:8080/"
        },
        "id": "jbZOMbnVDSbE",
        "outputId": "91a92a27-fe02-459b-e02d-b85b162074f6"
      },
      "outputs": [
        {
          "output_type": "execute_result",
          "data": {
            "text/plain": [
              "30607"
            ]
          },
          "metadata": {},
          "execution_count": 379
        }
      ],
      "source": [
        "vocabulary"
      ]
    },
    {
      "cell_type": "code",
      "execution_count": 380,
      "metadata": {
        "id": "YiZqTKcLE9V8"
      },
      "outputs": [],
      "source": [
        "labels = to_categorical(labels)"
      ]
    },
    {
      "cell_type": "code",
      "execution_count": 381,
      "metadata": {
        "colab": {
          "base_uri": "https://localhost:8080/"
        },
        "id": "WMf9IWovFBmT",
        "outputId": "717e5647-2311-4574-9a93-9b7830455fdc"
      },
      "outputs": [
        {
          "output_type": "execute_result",
          "data": {
            "text/plain": [
              "(379811, 2)"
            ]
          },
          "metadata": {},
          "execution_count": 381
        }
      ],
      "source": [
        "labels.shape"
      ]
    },
    {
      "cell_type": "code",
      "execution_count": 382,
      "metadata": {
        "colab": {
          "base_uri": "https://localhost:8080/"
        },
        "id": "_GcqyCbgFDgs",
        "outputId": "a290f1dd-9a70-4f4b-9c10-e599123626fd"
      },
      "outputs": [
        {
          "output_type": "execute_result",
          "data": {
            "text/plain": [
              "array([[1., 0.],\n",
              "       [0., 1.],\n",
              "       [0., 1.],\n",
              "       ...,\n",
              "       [0., 1.],\n",
              "       [1., 0.],\n",
              "       [0., 1.]], dtype=float32)"
            ]
          },
          "metadata": {},
          "execution_count": 382
        }
      ],
      "source": [
        "labels"
      ]
    },
    {
      "cell_type": "code",
      "execution_count": 383,
      "metadata": {
        "colab": {
          "base_uri": "https://localhost:8080/"
        },
        "id": "KjrE0ew-FW9V",
        "outputId": "b250afd9-ae61-43bc-d5bc-69899aa506e1"
      },
      "outputs": [
        {
          "output_type": "execute_result",
          "data": {
            "text/plain": [
              "(2, 379811, 43)"
            ]
          },
          "metadata": {},
          "execution_count": 383
        }
      ],
      "source": [
        "all_sentences = np.asarray([sentence1, sentence2])\n",
        "all_sentences.shape"
      ]
    },
    {
      "cell_type": "code",
      "execution_count": 384,
      "metadata": {
        "id": "gj695nsPFPSk"
      },
      "outputs": [],
      "source": [
        "all_sentences = all_sentences.reshape(all_sentences.shape[1], 2, all_sentences.shape[2])"
      ]
    },
    {
      "cell_type": "code",
      "execution_count": 385,
      "metadata": {
        "colab": {
          "base_uri": "https://localhost:8080/"
        },
        "id": "IGvDfJ26Fk-V",
        "outputId": "19073862-ebbd-4951-a30a-6d510c5f5070"
      },
      "outputs": [
        {
          "output_type": "execute_result",
          "data": {
            "text/plain": [
              "(379811, 2, 43)"
            ]
          },
          "metadata": {},
          "execution_count": 385
        }
      ],
      "source": [
        "all_sentences.shape"
      ]
    },
    {
      "cell_type": "code",
      "execution_count": 386,
      "metadata": {
        "id": "39nHKmAXN72O"
      },
      "outputs": [],
      "source": [
        "def glove_word_embedding(file_name, vocabulary):\n",
        "  embeddings_index = {}\n",
        "  file_ = open(file_name)\n",
        "  for line in file_:\n",
        "      arr = line.split()\n",
        "      single_word = arr[0]\n",
        "      w = np.asarray(arr[1:],dtype='float32')\n",
        "      embeddings_index[single_word] = w\n",
        "  file_.close()\n",
        "  max_words = vocabulary + 1\n",
        "  word_index = tokenizer.word_index\n",
        "  embedding_matrix = np.zeros((max_words,300)).astype(object)\n",
        "  for word , i in word_index.items():\n",
        "          embedding_vector = embeddings_index.get(word)\n",
        "          if embedding_vector is not None:\n",
        "              embedding_matrix[i] = embedding_vector \n",
        "  return embedding_matrix            "
      ]
    },
    {
      "cell_type": "code",
      "source": [
        "x = Input(shape=(all_sentences.shape[1], all_sentences.shape[2],))\n",
        "p = TimeDistributed(Embedding(vocabulary + 1, 300))(x)\n",
        "p = TimeDistributed(LSTM(128, return_sequences=True))(p)\n",
        "p = TimeDistributed(LSTM(64, return_sequences=True))(p)\n",
        "x1 = TimeDistributed(tf.keras.layers.GlobalMaxPooling1D())(p)\n",
        "x2 = TimeDistributed(tf.keras.layers.GlobalAveragePooling1D())(p)\n",
        "concat = tf.keras.layers.concatenate([x1, x2])\n",
        "p = tf.keras.layers.Dropout(0.35)(concat)\n",
        "p = Flatten()(p)\n",
        "p = Dense(2, activation=\"softmax\")(p)"
      ],
      "metadata": {
        "id": "blYKDjKEIXZB"
      },
      "execution_count": 437,
      "outputs": []
    },
    {
      "cell_type": "code",
      "source": [
        "m = tf.keras.models.Model(inputs = x, outputs = p)"
      ],
      "metadata": {
        "id": "jVwbdiRsJcFS"
      },
      "execution_count": 438,
      "outputs": []
    },
    {
      "cell_type": "code",
      "execution_count": 440,
      "metadata": {
        "id": "xRWJ-aj_Om3R"
      },
      "outputs": [],
      "source": [
        "m.layers[1].set_weights([glove_word_embedding(\"glove.6B.300d.txt\", vocabulary)])\n",
        "m.layers[1].trainable = False"
      ]
    },
    {
      "cell_type": "code",
      "execution_count": 441,
      "metadata": {
        "colab": {
          "base_uri": "https://localhost:8080/"
        },
        "id": "jLwdENGOGWMO",
        "outputId": "12fb2223-348a-4170-cc27-4df7950ffafc"
      },
      "outputs": [
        {
          "output_type": "stream",
          "name": "stdout",
          "text": [
            "Model: \"model_3\"\n",
            "__________________________________________________________________________________________________\n",
            " Layer (type)                   Output Shape         Param #     Connected to                     \n",
            "==================================================================================================\n",
            " input_34 (InputLayer)          [(None, 2, 43)]      0           []                               \n",
            "                                                                                                  \n",
            " time_distributed_135 (TimeDist  (None, 2, 43, 300)  9182400     ['input_34[0][0]']               \n",
            " ributed)                                                                                         \n",
            "                                                                                                  \n",
            " time_distributed_136 (TimeDist  (None, 2, 43, 128)  219648      ['time_distributed_135[0][0]']   \n",
            " ributed)                                                                                         \n",
            "                                                                                                  \n",
            " time_distributed_137 (TimeDist  (None, 2, 43, 64)   49408       ['time_distributed_136[0][0]']   \n",
            " ributed)                                                                                         \n",
            "                                                                                                  \n",
            " time_distributed_138 (TimeDist  (None, 2, 64)       0           ['time_distributed_137[0][0]']   \n",
            " ributed)                                                                                         \n",
            "                                                                                                  \n",
            " time_distributed_139 (TimeDist  (None, 2, 64)       0           ['time_distributed_137[0][0]']   \n",
            " ributed)                                                                                         \n",
            "                                                                                                  \n",
            " concatenate_9 (Concatenate)    (None, 2, 128)       0           ['time_distributed_138[0][0]',   \n",
            "                                                                  'time_distributed_139[0][0]']   \n",
            "                                                                                                  \n",
            " dropout_21 (Dropout)           (None, 2, 128)       0           ['concatenate_9[0][0]']          \n",
            "                                                                                                  \n",
            " flatten_20 (Flatten)           (None, 256)          0           ['dropout_21[0][0]']             \n",
            "                                                                                                  \n",
            " dense_20 (Dense)               (None, 2)            514         ['flatten_20[0][0]']             \n",
            "                                                                                                  \n",
            "==================================================================================================\n",
            "Total params: 9,451,970\n",
            "Trainable params: 269,570\n",
            "Non-trainable params: 9,182,400\n",
            "__________________________________________________________________________________________________\n"
          ]
        }
      ],
      "source": [
        "m.summary()"
      ]
    },
    {
      "cell_type": "code",
      "execution_count": 442,
      "metadata": {
        "id": "rcGYhVmUGcou"
      },
      "outputs": [],
      "source": [
        "m.compile(loss=\"binary_crossentropy\",optimizer='adam',metrics=[TruePositives(name='tp'),\n",
        "                                                                     FalsePositives(name='fp'),\n",
        "                                                                     TrueNegatives(name='tn'),\n",
        "                                                                     FalseNegatives(name='fn'),\n",
        "                                                                     \"accuracy\",\n",
        "                                                                     Precision(name='precision'),\n",
        "                                                                     Recall(name='recall'),\n",
        "                                                                     AUC(name = \"AUC\")])"
      ]
    },
    {
      "cell_type": "code",
      "execution_count": 443,
      "metadata": {
        "id": "JB6XiOHvGf2N"
      },
      "outputs": [],
      "source": [
        "from keras.callbacks import TensorBoard, EarlyStopping\n",
        "earlyStopping = EarlyStopping(monitor = 'loss', patience = 60, mode = 'min', restore_best_weights = True)"
      ]
    },
    {
      "cell_type": "code",
      "execution_count": 444,
      "metadata": {
        "colab": {
          "base_uri": "https://localhost:8080/"
        },
        "id": "LF4N2ZVAGjvW",
        "outputId": "85d7599d-a89e-4674-84f8-ad44703e9e6e"
      },
      "outputs": [
        {
          "output_type": "stream",
          "name": "stdout",
          "text": [
            "Epoch 1/2500\n",
            "371/371 [==============================] - 22s 44ms/step - loss: 0.6933 - tp: 189574.0000 - fp: 190237.0000 - tn: 189574.0000 - fn: 190237.0000 - accuracy: 0.4991 - precision: 0.4991 - recall: 0.4991 - AUC: 0.4990\n",
            "Epoch 2/2500\n",
            "371/371 [==============================] - 16s 44ms/step - loss: 0.6932 - tp: 190924.0000 - fp: 188886.0000 - tn: 190925.0000 - fn: 188887.0000 - accuracy: 0.5027 - precision: 0.5027 - recall: 0.5027 - AUC: 0.5034\n",
            "Epoch 3/2500\n",
            "371/371 [==============================] - 16s 44ms/step - loss: 0.6931 - tp: 192029.0000 - fp: 187782.0000 - tn: 192029.0000 - fn: 187782.0000 - accuracy: 0.5056 - precision: 0.5056 - recall: 0.5056 - AUC: 0.5075\n",
            "Epoch 4/2500\n",
            "371/371 [==============================] - 16s 44ms/step - loss: 0.6929 - tp: 193085.0000 - fp: 186725.0000 - tn: 193086.0000 - fn: 186726.0000 - accuracy: 0.5084 - precision: 0.5084 - recall: 0.5084 - AUC: 0.5126\n",
            "Epoch 5/2500\n",
            "371/371 [==============================] - 16s 44ms/step - loss: 0.6925 - tp: 194815.0000 - fp: 184996.0000 - tn: 194815.0000 - fn: 184996.0000 - accuracy: 0.5129 - precision: 0.5129 - recall: 0.5129 - AUC: 0.5188\n",
            "Epoch 6/2500\n",
            "371/371 [==============================] - 16s 44ms/step - loss: 0.6918 - tp: 196713.0000 - fp: 183098.0000 - tn: 196713.0000 - fn: 183098.0000 - accuracy: 0.5179 - precision: 0.5179 - recall: 0.5179 - AUC: 0.5273\n",
            "Epoch 7/2500\n",
            "371/371 [==============================] - 16s 44ms/step - loss: 0.6906 - tp: 199491.0000 - fp: 180320.0000 - tn: 199491.0000 - fn: 180320.0000 - accuracy: 0.5252 - precision: 0.5252 - recall: 0.5252 - AUC: 0.5376\n",
            "Epoch 8/2500\n",
            "371/371 [==============================] - 16s 44ms/step - loss: 0.6886 - tp: 202256.0000 - fp: 177554.0000 - tn: 202257.0000 - fn: 177555.0000 - accuracy: 0.5325 - precision: 0.5325 - recall: 0.5325 - AUC: 0.5495\n",
            "Epoch 9/2500\n",
            "371/371 [==============================] - 16s 43ms/step - loss: 0.6855 - tp: 205931.0000 - fp: 173880.0000 - tn: 205931.0000 - fn: 173880.0000 - accuracy: 0.5422 - precision: 0.5422 - recall: 0.5422 - AUC: 0.5638\n",
            "Epoch 10/2500\n",
            "371/371 [==============================] - 16s 43ms/step - loss: 0.6816 - tp: 209479.0000 - fp: 170332.0000 - tn: 209479.0000 - fn: 170332.0000 - accuracy: 0.5515 - precision: 0.5515 - recall: 0.5515 - AUC: 0.5786\n",
            "Epoch 11/2500\n",
            "371/371 [==============================] - 16s 43ms/step - loss: 0.6765 - tp: 213285.0000 - fp: 166526.0000 - tn: 213285.0000 - fn: 166526.0000 - accuracy: 0.5616 - precision: 0.5616 - recall: 0.5616 - AUC: 0.5940\n",
            "Epoch 12/2500\n",
            "371/371 [==============================] - 16s 43ms/step - loss: 0.6706 - tp: 216973.0000 - fp: 162838.0000 - tn: 216973.0000 - fn: 162838.0000 - accuracy: 0.5713 - precision: 0.5713 - recall: 0.5713 - AUC: 0.6094\n",
            "Epoch 13/2500\n",
            "371/371 [==============================] - 16s 43ms/step - loss: 0.6638 - tp: 220703.0000 - fp: 159108.0000 - tn: 220703.0000 - fn: 159108.0000 - accuracy: 0.5811 - precision: 0.5811 - recall: 0.5811 - AUC: 0.6245\n",
            "Epoch 14/2500\n",
            "371/371 [==============================] - 16s 44ms/step - loss: 0.6566 - tp: 224244.0000 - fp: 155567.0000 - tn: 224244.0000 - fn: 155567.0000 - accuracy: 0.5904 - precision: 0.5904 - recall: 0.5904 - AUC: 0.6390\n",
            "Epoch 15/2500\n",
            "371/371 [==============================] - 16s 43ms/step - loss: 0.6491 - tp: 227964.0000 - fp: 151847.0000 - tn: 227964.0000 - fn: 151847.0000 - accuracy: 0.6002 - precision: 0.6002 - recall: 0.6002 - AUC: 0.6529\n",
            "Epoch 16/2500\n",
            "371/371 [==============================] - 16s 44ms/step - loss: 0.6416 - tp: 231358.0000 - fp: 148453.0000 - tn: 231358.0000 - fn: 148453.0000 - accuracy: 0.6091 - precision: 0.6091 - recall: 0.6091 - AUC: 0.6649\n",
            "Epoch 17/2500\n",
            "371/371 [==============================] - 16s 44ms/step - loss: 0.6341 - tp: 233731.0000 - fp: 146080.0000 - tn: 233731.0000 - fn: 146080.0000 - accuracy: 0.6154 - precision: 0.6154 - recall: 0.6154 - AUC: 0.6765\n",
            "Epoch 18/2500\n",
            "371/371 [==============================] - 16s 44ms/step - loss: 0.6266 - tp: 236554.0000 - fp: 143257.0000 - tn: 236554.0000 - fn: 143257.0000 - accuracy: 0.6228 - precision: 0.6228 - recall: 0.6228 - AUC: 0.6870\n",
            "Epoch 19/2500\n",
            "371/371 [==============================] - 16s 44ms/step - loss: 0.6195 - tp: 239000.0000 - fp: 140811.0000 - tn: 239000.0000 - fn: 140811.0000 - accuracy: 0.6293 - precision: 0.6293 - recall: 0.6293 - AUC: 0.6969\n",
            "Epoch 20/2500\n",
            "371/371 [==============================] - 16s 43ms/step - loss: 0.6123 - tp: 241482.0000 - fp: 138329.0000 - tn: 241482.0000 - fn: 138329.0000 - accuracy: 0.6358 - precision: 0.6358 - recall: 0.6358 - AUC: 0.7062\n",
            "Epoch 21/2500\n",
            "371/371 [==============================] - 16s 43ms/step - loss: 0.6055 - tp: 243556.0000 - fp: 136255.0000 - tn: 243556.0000 - fn: 136255.0000 - accuracy: 0.6413 - precision: 0.6413 - recall: 0.6413 - AUC: 0.7145\n",
            "Epoch 22/2500\n",
            "371/371 [==============================] - 16s 44ms/step - loss: 0.5983 - tp: 246060.0000 - fp: 133751.0000 - tn: 246060.0000 - fn: 133751.0000 - accuracy: 0.6478 - precision: 0.6478 - recall: 0.6478 - AUC: 0.7234\n",
            "Epoch 23/2500\n",
            "371/371 [==============================] - 16s 44ms/step - loss: 0.5916 - tp: 247586.0000 - fp: 132225.0000 - tn: 247586.0000 - fn: 132225.0000 - accuracy: 0.6519 - precision: 0.6519 - recall: 0.6519 - AUC: 0.7304\n",
            "Epoch 24/2500\n",
            "371/371 [==============================] - 16s 43ms/step - loss: 0.5853 - tp: 249631.0000 - fp: 130180.0000 - tn: 249631.0000 - fn: 130180.0000 - accuracy: 0.6573 - precision: 0.6573 - recall: 0.6573 - AUC: 0.7381\n",
            "Epoch 25/2500\n",
            "371/371 [==============================] - 16s 43ms/step - loss: 0.5789 - tp: 251453.0000 - fp: 128358.0000 - tn: 251453.0000 - fn: 128358.0000 - accuracy: 0.6620 - precision: 0.6620 - recall: 0.6620 - AUC: 0.7447\n",
            "Epoch 26/2500\n",
            "371/371 [==============================] - 16s 44ms/step - loss: 0.5730 - tp: 252745.0000 - fp: 127066.0000 - tn: 252745.0000 - fn: 127066.0000 - accuracy: 0.6654 - precision: 0.6654 - recall: 0.6654 - AUC: 0.7506\n",
            "Epoch 27/2500\n",
            "371/371 [==============================] - 16s 43ms/step - loss: 0.5667 - tp: 254905.0000 - fp: 124906.0000 - tn: 254905.0000 - fn: 124906.0000 - accuracy: 0.6711 - precision: 0.6711 - recall: 0.6711 - AUC: 0.7574\n",
            "Epoch 28/2500\n",
            "371/371 [==============================] - 16s 44ms/step - loss: 0.5613 - tp: 256459.0000 - fp: 123352.0000 - tn: 256459.0000 - fn: 123352.0000 - accuracy: 0.6752 - precision: 0.6752 - recall: 0.6752 - AUC: 0.7629\n",
            "Epoch 29/2500\n",
            "371/371 [==============================] - 16s 43ms/step - loss: 0.5551 - tp: 258041.0000 - fp: 121770.0000 - tn: 258041.0000 - fn: 121770.0000 - accuracy: 0.6794 - precision: 0.6794 - recall: 0.6794 - AUC: 0.7685\n",
            "Epoch 30/2500\n",
            "371/371 [==============================] - 16s 44ms/step - loss: 0.5500 - tp: 259171.0000 - fp: 120640.0000 - tn: 259171.0000 - fn: 120640.0000 - accuracy: 0.6824 - precision: 0.6824 - recall: 0.6824 - AUC: 0.7733\n",
            "Epoch 31/2500\n",
            "371/371 [==============================] - 16s 44ms/step - loss: 0.5445 - tp: 260663.0000 - fp: 119148.0000 - tn: 260663.0000 - fn: 119148.0000 - accuracy: 0.6863 - precision: 0.6863 - recall: 0.6863 - AUC: 0.7784\n",
            "Epoch 32/2500\n",
            "371/371 [==============================] - 16s 44ms/step - loss: 0.5392 - tp: 262234.0000 - fp: 117577.0000 - tn: 262234.0000 - fn: 117577.0000 - accuracy: 0.6904 - precision: 0.6904 - recall: 0.6904 - AUC: 0.7836\n",
            "Epoch 33/2500\n",
            "371/371 [==============================] - 16s 44ms/step - loss: 0.5343 - tp: 263207.0000 - fp: 116604.0000 - tn: 263207.0000 - fn: 116604.0000 - accuracy: 0.6930 - precision: 0.6930 - recall: 0.6930 - AUC: 0.7876\n",
            "Epoch 34/2500\n",
            "371/371 [==============================] - 16s 44ms/step - loss: 0.5292 - tp: 264500.0000 - fp: 115311.0000 - tn: 264500.0000 - fn: 115311.0000 - accuracy: 0.6964 - precision: 0.6964 - recall: 0.6964 - AUC: 0.7923\n",
            "Epoch 35/2500\n",
            "371/371 [==============================] - 16s 44ms/step - loss: 0.5241 - tp: 265567.0000 - fp: 114244.0000 - tn: 265567.0000 - fn: 114244.0000 - accuracy: 0.6992 - precision: 0.6992 - recall: 0.6992 - AUC: 0.7964\n",
            "Epoch 36/2500\n",
            "371/371 [==============================] - 16s 44ms/step - loss: 0.5196 - tp: 266878.0000 - fp: 112933.0000 - tn: 266878.0000 - fn: 112933.0000 - accuracy: 0.7027 - precision: 0.7027 - recall: 0.7027 - AUC: 0.8005\n",
            "Epoch 37/2500\n",
            "371/371 [==============================] - 16s 44ms/step - loss: 0.5153 - tp: 267699.0000 - fp: 112112.0000 - tn: 267699.0000 - fn: 112112.0000 - accuracy: 0.7048 - precision: 0.7048 - recall: 0.7048 - AUC: 0.8038\n",
            "Epoch 38/2500\n",
            "371/371 [==============================] - 16s 44ms/step - loss: 0.5104 - tp: 269078.0000 - fp: 110733.0000 - tn: 269078.0000 - fn: 110733.0000 - accuracy: 0.7085 - precision: 0.7085 - recall: 0.7085 - AUC: 0.8079\n",
            "Epoch 39/2500\n",
            "371/371 [==============================] - 16s 43ms/step - loss: 0.5050 - tp: 270027.0000 - fp: 109783.0000 - tn: 270028.0000 - fn: 109784.0000 - accuracy: 0.7110 - precision: 0.7110 - recall: 0.7110 - AUC: 0.8117\n",
            "Epoch 40/2500\n",
            "371/371 [==============================] - 16s 44ms/step - loss: 0.5019 - tp: 270997.0000 - fp: 108814.0000 - tn: 270997.0000 - fn: 108814.0000 - accuracy: 0.7135 - precision: 0.7135 - recall: 0.7135 - AUC: 0.8148\n",
            "Epoch 41/2500\n",
            "371/371 [==============================] - 16s 44ms/step - loss: 0.4976 - tp: 272176.0000 - fp: 107635.0000 - tn: 272176.0000 - fn: 107635.0000 - accuracy: 0.7166 - precision: 0.7166 - recall: 0.7166 - AUC: 0.8182\n",
            "Epoch 42/2500\n",
            "371/371 [==============================] - 16s 44ms/step - loss: 0.4931 - tp: 273343.0000 - fp: 106468.0000 - tn: 273343.0000 - fn: 106468.0000 - accuracy: 0.7197 - precision: 0.7197 - recall: 0.7197 - AUC: 0.8216\n",
            "Epoch 43/2500\n",
            "371/371 [==============================] - 16s 44ms/step - loss: 0.4905 - tp: 273632.0000 - fp: 106179.0000 - tn: 273632.0000 - fn: 106179.0000 - accuracy: 0.7204 - precision: 0.7204 - recall: 0.7204 - AUC: 0.8235\n",
            "Epoch 44/2500\n",
            "371/371 [==============================] - 16s 44ms/step - loss: 0.4856 - tp: 274766.0000 - fp: 105045.0000 - tn: 274766.0000 - fn: 105045.0000 - accuracy: 0.7234 - precision: 0.7234 - recall: 0.7234 - AUC: 0.8273\n",
            "Epoch 45/2500\n",
            "371/371 [==============================] - 16s 44ms/step - loss: 0.4823 - tp: 275910.0000 - fp: 103901.0000 - tn: 275910.0000 - fn: 103901.0000 - accuracy: 0.7264 - precision: 0.7264 - recall: 0.7264 - AUC: 0.8299\n",
            "Epoch 46/2500\n",
            "371/371 [==============================] - 16s 44ms/step - loss: 0.4783 - tp: 276751.0000 - fp: 103060.0000 - tn: 276751.0000 - fn: 103060.0000 - accuracy: 0.7287 - precision: 0.7287 - recall: 0.7287 - AUC: 0.8331\n",
            "Epoch 47/2500\n",
            "371/371 [==============================] - 16s 44ms/step - loss: 0.4745 - tp: 277362.0000 - fp: 102449.0000 - tn: 277362.0000 - fn: 102449.0000 - accuracy: 0.7303 - precision: 0.7303 - recall: 0.7303 - AUC: 0.8353\n",
            "Epoch 48/2500\n",
            "371/371 [==============================] - 16s 43ms/step - loss: 0.4716 - tp: 278085.0000 - fp: 101726.0000 - tn: 278085.0000 - fn: 101726.0000 - accuracy: 0.7322 - precision: 0.7322 - recall: 0.7322 - AUC: 0.8377\n",
            "Epoch 49/2500\n",
            "371/371 [==============================] - 16s 44ms/step - loss: 0.4688 - tp: 278654.0000 - fp: 101157.0000 - tn: 278654.0000 - fn: 101157.0000 - accuracy: 0.7337 - precision: 0.7337 - recall: 0.7337 - AUC: 0.8394\n",
            "Epoch 50/2500\n",
            "371/371 [==============================] - 17s 46ms/step - loss: 0.4650 - tp: 279498.0000 - fp: 100313.0000 - tn: 279498.0000 - fn: 100313.0000 - accuracy: 0.7359 - precision: 0.7359 - recall: 0.7359 - AUC: 0.8422\n",
            "Epoch 51/2500\n",
            "371/371 [==============================] - 16s 44ms/step - loss: 0.4616 - tp: 280231.0000 - fp: 99580.0000 - tn: 280231.0000 - fn: 99580.0000 - accuracy: 0.7378 - precision: 0.7378 - recall: 0.7378 - AUC: 0.8445\n",
            "Epoch 52/2500\n",
            "371/371 [==============================] - 16s 44ms/step - loss: 0.4588 - tp: 281159.0000 - fp: 98652.0000 - tn: 281159.0000 - fn: 98652.0000 - accuracy: 0.7403 - precision: 0.7403 - recall: 0.7403 - AUC: 0.8466\n",
            "Epoch 53/2500\n",
            "371/371 [==============================] - 16s 44ms/step - loss: 0.4564 - tp: 281468.0000 - fp: 98343.0000 - tn: 281468.0000 - fn: 98343.0000 - accuracy: 0.7411 - precision: 0.7411 - recall: 0.7411 - AUC: 0.8483\n",
            "Epoch 54/2500\n",
            "371/371 [==============================] - 16s 43ms/step - loss: 0.4529 - tp: 282192.0000 - fp: 97619.0000 - tn: 282192.0000 - fn: 97619.0000 - accuracy: 0.7430 - precision: 0.7430 - recall: 0.7430 - AUC: 0.8505\n",
            "Epoch 55/2500\n",
            "371/371 [==============================] - 16s 44ms/step - loss: 0.4498 - tp: 283092.0000 - fp: 96719.0000 - tn: 283092.0000 - fn: 96719.0000 - accuracy: 0.7453 - precision: 0.7453 - recall: 0.7453 - AUC: 0.8527\n",
            "Epoch 56/2500\n",
            "371/371 [==============================] - 16s 44ms/step - loss: 0.4470 - tp: 283394.0000 - fp: 96417.0000 - tn: 283394.0000 - fn: 96417.0000 - accuracy: 0.7461 - precision: 0.7461 - recall: 0.7461 - AUC: 0.8543\n",
            "Epoch 57/2500\n",
            "371/371 [==============================] - 16s 44ms/step - loss: 0.4439 - tp: 284115.0000 - fp: 95696.0000 - tn: 284115.0000 - fn: 95696.0000 - accuracy: 0.7480 - precision: 0.7480 - recall: 0.7480 - AUC: 0.8565\n",
            "Epoch 58/2500\n",
            "371/371 [==============================] - 16s 44ms/step - loss: 0.4420 - tp: 284912.0000 - fp: 94899.0000 - tn: 284912.0000 - fn: 94899.0000 - accuracy: 0.7501 - precision: 0.7501 - recall: 0.7501 - AUC: 0.8581\n",
            "Epoch 59/2500\n",
            "371/371 [==============================] - 16s 44ms/step - loss: 0.4390 - tp: 285063.0000 - fp: 94748.0000 - tn: 285063.0000 - fn: 94748.0000 - accuracy: 0.7505 - precision: 0.7505 - recall: 0.7505 - AUC: 0.8596\n",
            "Epoch 60/2500\n",
            "371/371 [==============================] - 16s 44ms/step - loss: 0.4357 - tp: 285861.0000 - fp: 93950.0000 - tn: 285861.0000 - fn: 93950.0000 - accuracy: 0.7526 - precision: 0.7526 - recall: 0.7526 - AUC: 0.8616\n",
            "Epoch 61/2500\n",
            "371/371 [==============================] - 16s 43ms/step - loss: 0.4335 - tp: 286397.0000 - fp: 93414.0000 - tn: 286397.0000 - fn: 93414.0000 - accuracy: 0.7541 - precision: 0.7541 - recall: 0.7541 - AUC: 0.8631\n",
            "Epoch 62/2500\n",
            "371/371 [==============================] - 16s 43ms/step - loss: 0.4320 - tp: 286640.0000 - fp: 93171.0000 - tn: 286640.0000 - fn: 93171.0000 - accuracy: 0.7547 - precision: 0.7547 - recall: 0.7547 - AUC: 0.8641\n",
            "Epoch 63/2500\n",
            "371/371 [==============================] - 16s 43ms/step - loss: 0.4289 - tp: 287161.0000 - fp: 92650.0000 - tn: 287161.0000 - fn: 92650.0000 - accuracy: 0.7561 - precision: 0.7561 - recall: 0.7561 - AUC: 0.8660\n",
            "Epoch 64/2500\n",
            "371/371 [==============================] - 16s 44ms/step - loss: 0.4262 - tp: 287864.0000 - fp: 91947.0000 - tn: 287864.0000 - fn: 91947.0000 - accuracy: 0.7579 - precision: 0.7579 - recall: 0.7579 - AUC: 0.8678\n",
            "Epoch 65/2500\n",
            "371/371 [==============================] - 16s 44ms/step - loss: 0.4253 - tp: 288106.0000 - fp: 91705.0000 - tn: 288106.0000 - fn: 91705.0000 - accuracy: 0.7586 - precision: 0.7586 - recall: 0.7586 - AUC: 0.8682\n",
            "Epoch 66/2500\n",
            "371/371 [==============================] - 16s 44ms/step - loss: 0.4219 - tp: 288766.0000 - fp: 91045.0000 - tn: 288766.0000 - fn: 91045.0000 - accuracy: 0.7603 - precision: 0.7603 - recall: 0.7603 - AUC: 0.8702\n",
            "Epoch 67/2500\n",
            "371/371 [==============================] - 16s 44ms/step - loss: 0.4197 - tp: 289238.0000 - fp: 90573.0000 - tn: 289238.0000 - fn: 90573.0000 - accuracy: 0.7615 - precision: 0.7615 - recall: 0.7615 - AUC: 0.8716\n",
            "Epoch 68/2500\n",
            "371/371 [==============================] - 16s 44ms/step - loss: 0.4168 - tp: 289746.0000 - fp: 90065.0000 - tn: 289746.0000 - fn: 90065.0000 - accuracy: 0.7629 - precision: 0.7629 - recall: 0.7629 - AUC: 0.8731\n",
            "Epoch 69/2500\n",
            "371/371 [==============================] - 16s 43ms/step - loss: 0.4160 - tp: 289709.0000 - fp: 90102.0000 - tn: 289709.0000 - fn: 90102.0000 - accuracy: 0.7628 - precision: 0.7628 - recall: 0.7628 - AUC: 0.8737\n",
            "Epoch 70/2500\n",
            "371/371 [==============================] - 16s 44ms/step - loss: 0.4140 - tp: 290485.0000 - fp: 89326.0000 - tn: 290485.0000 - fn: 89326.0000 - accuracy: 0.7648 - precision: 0.7648 - recall: 0.7648 - AUC: 0.8750\n",
            "Epoch 71/2500\n",
            "371/371 [==============================] - 16s 44ms/step - loss: 0.4115 - tp: 290921.0000 - fp: 88890.0000 - tn: 290921.0000 - fn: 88890.0000 - accuracy: 0.7660 - precision: 0.7660 - recall: 0.7660 - AUC: 0.8766\n",
            "Epoch 72/2500\n",
            "371/371 [==============================] - 16s 44ms/step - loss: 0.4096 - tp: 291343.0000 - fp: 88468.0000 - tn: 291343.0000 - fn: 88468.0000 - accuracy: 0.7671 - precision: 0.7671 - recall: 0.7671 - AUC: 0.8775\n",
            "Epoch 73/2500\n",
            "371/371 [==============================] - 16s 44ms/step - loss: 0.4079 - tp: 291795.0000 - fp: 88016.0000 - tn: 291795.0000 - fn: 88016.0000 - accuracy: 0.7683 - precision: 0.7683 - recall: 0.7683 - AUC: 0.8788\n",
            "Epoch 74/2500\n",
            "371/371 [==============================] - 16s 44ms/step - loss: 0.4055 - tp: 292620.0000 - fp: 87191.0000 - tn: 292620.0000 - fn: 87191.0000 - accuracy: 0.7704 - precision: 0.7704 - recall: 0.7704 - AUC: 0.8803\n",
            "Epoch 75/2500\n",
            "371/371 [==============================] - 16s 44ms/step - loss: 0.4033 - tp: 292580.0000 - fp: 87231.0000 - tn: 292580.0000 - fn: 87231.0000 - accuracy: 0.7703 - precision: 0.7703 - recall: 0.7703 - AUC: 0.8811\n",
            "Epoch 76/2500\n",
            "371/371 [==============================] - 16s 44ms/step - loss: 0.4013 - tp: 293340.0000 - fp: 86471.0000 - tn: 293340.0000 - fn: 86471.0000 - accuracy: 0.7723 - precision: 0.7723 - recall: 0.7723 - AUC: 0.8827\n",
            "Epoch 77/2500\n",
            "371/371 [==============================] - 16s 44ms/step - loss: 0.3996 - tp: 293532.0000 - fp: 86279.0000 - tn: 293532.0000 - fn: 86279.0000 - accuracy: 0.7728 - precision: 0.7728 - recall: 0.7728 - AUC: 0.8835\n",
            "Epoch 78/2500\n",
            "371/371 [==============================] - 16s 44ms/step - loss: 0.3974 - tp: 293985.0000 - fp: 85826.0000 - tn: 293985.0000 - fn: 85826.0000 - accuracy: 0.7740 - precision: 0.7740 - recall: 0.7740 - AUC: 0.8847\n",
            "Epoch 79/2500\n",
            "371/371 [==============================] - 16s 44ms/step - loss: 0.3972 - tp: 293914.0000 - fp: 85897.0000 - tn: 293914.0000 - fn: 85897.0000 - accuracy: 0.7738 - precision: 0.7738 - recall: 0.7738 - AUC: 0.8848\n",
            "Epoch 80/2500\n",
            "371/371 [==============================] - 16s 44ms/step - loss: 0.3949 - tp: 294572.0000 - fp: 85239.0000 - tn: 294572.0000 - fn: 85239.0000 - accuracy: 0.7756 - precision: 0.7756 - recall: 0.7756 - AUC: 0.8861\n",
            "Epoch 81/2500\n",
            "371/371 [==============================] - 16s 44ms/step - loss: 0.3925 - tp: 294797.0000 - fp: 85014.0000 - tn: 294797.0000 - fn: 85014.0000 - accuracy: 0.7762 - precision: 0.7762 - recall: 0.7762 - AUC: 0.8873\n",
            "Epoch 82/2500\n",
            "371/371 [==============================] - 16s 44ms/step - loss: 0.3912 - tp: 295367.0000 - fp: 84444.0000 - tn: 295367.0000 - fn: 84444.0000 - accuracy: 0.7777 - precision: 0.7777 - recall: 0.7777 - AUC: 0.8881\n",
            "Epoch 83/2500\n",
            "371/371 [==============================] - 16s 44ms/step - loss: 0.3892 - tp: 295829.0000 - fp: 83982.0000 - tn: 295829.0000 - fn: 83982.0000 - accuracy: 0.7789 - precision: 0.7789 - recall: 0.7789 - AUC: 0.8895\n",
            "Epoch 84/2500\n",
            "371/371 [==============================] - 16s 44ms/step - loss: 0.3882 - tp: 296012.0000 - fp: 83799.0000 - tn: 296012.0000 - fn: 83799.0000 - accuracy: 0.7794 - precision: 0.7794 - recall: 0.7794 - AUC: 0.8900\n",
            "Epoch 85/2500\n",
            "371/371 [==============================] - 16s 44ms/step - loss: 0.3868 - tp: 296136.0000 - fp: 83675.0000 - tn: 296136.0000 - fn: 83675.0000 - accuracy: 0.7797 - precision: 0.7797 - recall: 0.7797 - AUC: 0.8905\n",
            "Epoch 86/2500\n",
            "371/371 [==============================] - 16s 44ms/step - loss: 0.3836 - tp: 296824.0000 - fp: 82987.0000 - tn: 296824.0000 - fn: 82987.0000 - accuracy: 0.7815 - precision: 0.7815 - recall: 0.7815 - AUC: 0.8924\n",
            "Epoch 87/2500\n",
            "371/371 [==============================] - 16s 44ms/step - loss: 0.3833 - tp: 296691.0000 - fp: 83119.0000 - tn: 296692.0000 - fn: 83120.0000 - accuracy: 0.7812 - precision: 0.7812 - recall: 0.7812 - AUC: 0.8924\n",
            "Epoch 88/2500\n",
            "371/371 [==============================] - 16s 44ms/step - loss: 0.3832 - tp: 297112.0000 - fp: 82699.0000 - tn: 297112.0000 - fn: 82699.0000 - accuracy: 0.7823 - precision: 0.7823 - recall: 0.7823 - AUC: 0.8928\n",
            "Epoch 89/2500\n",
            "371/371 [==============================] - 16s 44ms/step - loss: 0.3810 - tp: 297470.0000 - fp: 82341.0000 - tn: 297470.0000 - fn: 82341.0000 - accuracy: 0.7832 - precision: 0.7832 - recall: 0.7832 - AUC: 0.8936\n",
            "Epoch 90/2500\n",
            "371/371 [==============================] - 16s 44ms/step - loss: 0.3793 - tp: 297746.0000 - fp: 82065.0000 - tn: 297746.0000 - fn: 82065.0000 - accuracy: 0.7839 - precision: 0.7839 - recall: 0.7839 - AUC: 0.8947\n",
            "Epoch 91/2500\n",
            "371/371 [==============================] - 16s 44ms/step - loss: 0.3769 - tp: 298203.0000 - fp: 81608.0000 - tn: 298203.0000 - fn: 81608.0000 - accuracy: 0.7851 - precision: 0.7851 - recall: 0.7851 - AUC: 0.8959\n",
            "Epoch 92/2500\n",
            "371/371 [==============================] - 16s 44ms/step - loss: 0.3770 - tp: 298307.0000 - fp: 81504.0000 - tn: 298307.0000 - fn: 81504.0000 - accuracy: 0.7854 - precision: 0.7854 - recall: 0.7854 - AUC: 0.8960\n",
            "Epoch 93/2500\n",
            "371/371 [==============================] - 16s 44ms/step - loss: 0.3747 - tp: 298906.0000 - fp: 80905.0000 - tn: 298906.0000 - fn: 80905.0000 - accuracy: 0.7870 - precision: 0.7870 - recall: 0.7870 - AUC: 0.8974\n",
            "Epoch 94/2500\n",
            "371/371 [==============================] - 16s 44ms/step - loss: 0.3733 - tp: 299125.0000 - fp: 80686.0000 - tn: 299125.0000 - fn: 80686.0000 - accuracy: 0.7876 - precision: 0.7876 - recall: 0.7876 - AUC: 0.8980\n",
            "Epoch 95/2500\n",
            "371/371 [==============================] - 16s 44ms/step - loss: 0.3715 - tp: 299157.0000 - fp: 80654.0000 - tn: 299157.0000 - fn: 80654.0000 - accuracy: 0.7876 - precision: 0.7876 - recall: 0.7876 - AUC: 0.8987\n",
            "Epoch 96/2500\n",
            "371/371 [==============================] - 16s 44ms/step - loss: 0.3716 - tp: 299509.0000 - fp: 80302.0000 - tn: 299509.0000 - fn: 80302.0000 - accuracy: 0.7886 - precision: 0.7886 - recall: 0.7886 - AUC: 0.8991\n",
            "Epoch 97/2500\n",
            "371/371 [==============================] - 16s 44ms/step - loss: 0.3707 - tp: 299899.0000 - fp: 79911.0000 - tn: 299900.0000 - fn: 79912.0000 - accuracy: 0.7896 - precision: 0.7896 - recall: 0.7896 - AUC: 0.8995\n",
            "Epoch 98/2500\n",
            "371/371 [==============================] - 16s 44ms/step - loss: 0.3688 - tp: 299872.0000 - fp: 79939.0000 - tn: 299872.0000 - fn: 79939.0000 - accuracy: 0.7895 - precision: 0.7895 - recall: 0.7895 - AUC: 0.9003\n",
            "Epoch 99/2500\n",
            "371/371 [==============================] - 16s 44ms/step - loss: 0.3656 - tp: 300630.0000 - fp: 79181.0000 - tn: 300630.0000 - fn: 79181.0000 - accuracy: 0.7915 - precision: 0.7915 - recall: 0.7915 - AUC: 0.9019\n",
            "Epoch 100/2500\n",
            "371/371 [==============================] - 16s 44ms/step - loss: 0.3654 - tp: 300942.0000 - fp: 78869.0000 - tn: 300942.0000 - fn: 78869.0000 - accuracy: 0.7923 - precision: 0.7923 - recall: 0.7923 - AUC: 0.9023\n",
            "Epoch 101/2500\n",
            "371/371 [==============================] - 16s 44ms/step - loss: 0.3653 - tp: 300596.0000 - fp: 79215.0000 - tn: 300596.0000 - fn: 79215.0000 - accuracy: 0.7914 - precision: 0.7914 - recall: 0.7914 - AUC: 0.9021\n",
            "Epoch 102/2500\n",
            "371/371 [==============================] - 16s 44ms/step - loss: 0.3631 - tp: 301433.0000 - fp: 78378.0000 - tn: 301433.0000 - fn: 78378.0000 - accuracy: 0.7936 - precision: 0.7936 - recall: 0.7936 - AUC: 0.9037\n",
            "Epoch 103/2500\n",
            "371/371 [==============================] - 16s 44ms/step - loss: 0.3623 - tp: 301434.0000 - fp: 78377.0000 - tn: 301434.0000 - fn: 78377.0000 - accuracy: 0.7936 - precision: 0.7936 - recall: 0.7936 - AUC: 0.9038\n",
            "Epoch 104/2500\n",
            "371/371 [==============================] - 16s 44ms/step - loss: 0.3612 - tp: 301339.0000 - fp: 78472.0000 - tn: 301339.0000 - fn: 78472.0000 - accuracy: 0.7934 - precision: 0.7934 - recall: 0.7934 - AUC: 0.9042\n",
            "Epoch 105/2500\n",
            "371/371 [==============================] - 16s 44ms/step - loss: 0.3588 - tp: 302069.0000 - fp: 77742.0000 - tn: 302069.0000 - fn: 77742.0000 - accuracy: 0.7953 - precision: 0.7953 - recall: 0.7953 - AUC: 0.9055\n",
            "Epoch 106/2500\n",
            "371/371 [==============================] - 16s 44ms/step - loss: 0.3597 - tp: 302091.0000 - fp: 77720.0000 - tn: 302091.0000 - fn: 77720.0000 - accuracy: 0.7954 - precision: 0.7954 - recall: 0.7954 - AUC: 0.9052\n",
            "Epoch 107/2500\n",
            "371/371 [==============================] - 16s 44ms/step - loss: 0.3584 - tp: 302381.0000 - fp: 77430.0000 - tn: 302381.0000 - fn: 77430.0000 - accuracy: 0.7961 - precision: 0.7961 - recall: 0.7961 - AUC: 0.9059\n",
            "Epoch 108/2500\n",
            "371/371 [==============================] - 16s 44ms/step - loss: 0.3563 - tp: 302660.0000 - fp: 77151.0000 - tn: 302660.0000 - fn: 77151.0000 - accuracy: 0.7969 - precision: 0.7969 - recall: 0.7969 - AUC: 0.9068\n",
            "Epoch 109/2500\n",
            "371/371 [==============================] - 16s 44ms/step - loss: 0.3566 - tp: 302562.0000 - fp: 77249.0000 - tn: 302562.0000 - fn: 77249.0000 - accuracy: 0.7966 - precision: 0.7966 - recall: 0.7966 - AUC: 0.9068\n",
            "Epoch 110/2500\n",
            "371/371 [==============================] - 16s 44ms/step - loss: 0.3548 - tp: 302996.0000 - fp: 76815.0000 - tn: 302996.0000 - fn: 76815.0000 - accuracy: 0.7978 - precision: 0.7978 - recall: 0.7978 - AUC: 0.9076\n",
            "Epoch 111/2500\n",
            "371/371 [==============================] - 16s 44ms/step - loss: 0.3536 - tp: 303335.0000 - fp: 76476.0000 - tn: 303335.0000 - fn: 76476.0000 - accuracy: 0.7986 - precision: 0.7986 - recall: 0.7986 - AUC: 0.9083\n",
            "Epoch 112/2500\n",
            "371/371 [==============================] - 16s 44ms/step - loss: 0.3524 - tp: 303532.0000 - fp: 76279.0000 - tn: 303532.0000 - fn: 76279.0000 - accuracy: 0.7992 - precision: 0.7992 - recall: 0.7992 - AUC: 0.9089\n",
            "Epoch 113/2500\n",
            "371/371 [==============================] - 16s 43ms/step - loss: 0.3526 - tp: 303708.0000 - fp: 76103.0000 - tn: 303708.0000 - fn: 76103.0000 - accuracy: 0.7996 - precision: 0.7996 - recall: 0.7996 - AUC: 0.9089\n",
            "Epoch 114/2500\n",
            "371/371 [==============================] - 16s 44ms/step - loss: 0.3510 - tp: 303737.0000 - fp: 76074.0000 - tn: 303737.0000 - fn: 76074.0000 - accuracy: 0.7997 - precision: 0.7997 - recall: 0.7997 - AUC: 0.9097\n",
            "Epoch 115/2500\n",
            "371/371 [==============================] - 17s 45ms/step - loss: 0.3496 - tp: 304239.0000 - fp: 75572.0000 - tn: 304239.0000 - fn: 75572.0000 - accuracy: 0.8010 - precision: 0.8010 - recall: 0.8010 - AUC: 0.9104\n",
            "Epoch 116/2500\n",
            "371/371 [==============================] - 16s 44ms/step - loss: 0.3492 - tp: 304269.0000 - fp: 75542.0000 - tn: 304269.0000 - fn: 75542.0000 - accuracy: 0.8011 - precision: 0.8011 - recall: 0.8011 - AUC: 0.9104\n",
            "Epoch 117/2500\n",
            "371/371 [==============================] - 16s 44ms/step - loss: 0.3482 - tp: 304308.0000 - fp: 75503.0000 - tn: 304308.0000 - fn: 75503.0000 - accuracy: 0.8012 - precision: 0.8012 - recall: 0.8012 - AUC: 0.9109\n",
            "Epoch 118/2500\n",
            "371/371 [==============================] - 16s 44ms/step - loss: 0.3472 - tp: 304740.0000 - fp: 75071.0000 - tn: 304740.0000 - fn: 75071.0000 - accuracy: 0.8023 - precision: 0.8023 - recall: 0.8023 - AUC: 0.9117\n",
            "Epoch 119/2500\n",
            "371/371 [==============================] - 16s 44ms/step - loss: 0.3459 - tp: 305031.0000 - fp: 74780.0000 - tn: 305031.0000 - fn: 74780.0000 - accuracy: 0.8031 - precision: 0.8031 - recall: 0.8031 - AUC: 0.9121\n",
            "Epoch 120/2500\n",
            "371/371 [==============================] - 16s 44ms/step - loss: 0.3449 - tp: 305195.0000 - fp: 74616.0000 - tn: 305195.0000 - fn: 74616.0000 - accuracy: 0.8035 - precision: 0.8035 - recall: 0.8035 - AUC: 0.9127\n",
            "Epoch 121/2500\n",
            "371/371 [==============================] - 16s 44ms/step - loss: 0.3447 - tp: 305133.0000 - fp: 74678.0000 - tn: 305133.0000 - fn: 74678.0000 - accuracy: 0.8034 - precision: 0.8034 - recall: 0.8034 - AUC: 0.9129\n",
            "Epoch 122/2500\n",
            "371/371 [==============================] - 16s 44ms/step - loss: 0.3462 - tp: 304981.0000 - fp: 74830.0000 - tn: 304981.0000 - fn: 74830.0000 - accuracy: 0.8030 - precision: 0.8030 - recall: 0.8030 - AUC: 0.9121\n",
            "Epoch 123/2500\n",
            "371/371 [==============================] - 16s 44ms/step - loss: 0.3426 - tp: 305646.0000 - fp: 74165.0000 - tn: 305646.0000 - fn: 74165.0000 - accuracy: 0.8047 - precision: 0.8047 - recall: 0.8047 - AUC: 0.9138\n",
            "Epoch 124/2500\n",
            "371/371 [==============================] - 16s 44ms/step - loss: 0.3418 - tp: 305995.0000 - fp: 73816.0000 - tn: 305995.0000 - fn: 73816.0000 - accuracy: 0.8057 - precision: 0.8057 - recall: 0.8057 - AUC: 0.9143\n",
            "Epoch 125/2500\n",
            "371/371 [==============================] - 16s 44ms/step - loss: 0.3414 - tp: 305855.0000 - fp: 73956.0000 - tn: 305855.0000 - fn: 73956.0000 - accuracy: 0.8053 - precision: 0.8053 - recall: 0.8053 - AUC: 0.9143\n",
            "Epoch 126/2500\n",
            "371/371 [==============================] - 16s 44ms/step - loss: 0.3389 - tp: 306380.0000 - fp: 73431.0000 - tn: 306380.0000 - fn: 73431.0000 - accuracy: 0.8067 - precision: 0.8067 - recall: 0.8067 - AUC: 0.9154\n",
            "Epoch 127/2500\n",
            "371/371 [==============================] - 16s 44ms/step - loss: 0.3386 - tp: 306420.0000 - fp: 73391.0000 - tn: 306420.0000 - fn: 73391.0000 - accuracy: 0.8068 - precision: 0.8068 - recall: 0.8068 - AUC: 0.9156\n",
            "Epoch 128/2500\n",
            "371/371 [==============================] - 16s 44ms/step - loss: 0.3392 - tp: 306303.0000 - fp: 73508.0000 - tn: 306303.0000 - fn: 73508.0000 - accuracy: 0.8065 - precision: 0.8065 - recall: 0.8065 - AUC: 0.9156\n",
            "Epoch 129/2500\n",
            "371/371 [==============================] - 16s 44ms/step - loss: 0.3370 - tp: 306897.0000 - fp: 72914.0000 - tn: 306897.0000 - fn: 72914.0000 - accuracy: 0.8080 - precision: 0.8080 - recall: 0.8080 - AUC: 0.9166\n",
            "Epoch 130/2500\n",
            "371/371 [==============================] - 16s 44ms/step - loss: 0.3361 - tp: 306829.0000 - fp: 72982.0000 - tn: 306829.0000 - fn: 72982.0000 - accuracy: 0.8078 - precision: 0.8078 - recall: 0.8078 - AUC: 0.9169\n",
            "Epoch 131/2500\n",
            "371/371 [==============================] - 16s 44ms/step - loss: 0.3360 - tp: 307317.0000 - fp: 72494.0000 - tn: 307317.0000 - fn: 72494.0000 - accuracy: 0.8091 - precision: 0.8091 - recall: 0.8091 - AUC: 0.9173\n",
            "Epoch 132/2500\n",
            "371/371 [==============================] - 16s 44ms/step - loss: 0.3351 - tp: 307633.0000 - fp: 72178.0000 - tn: 307633.0000 - fn: 72178.0000 - accuracy: 0.8100 - precision: 0.8100 - recall: 0.8100 - AUC: 0.9177\n",
            "Epoch 133/2500\n",
            "371/371 [==============================] - 16s 44ms/step - loss: 0.3355 - tp: 307433.0000 - fp: 72378.0000 - tn: 307433.0000 - fn: 72378.0000 - accuracy: 0.8094 - precision: 0.8094 - recall: 0.8094 - AUC: 0.9175\n",
            "Epoch 134/2500\n",
            "371/371 [==============================] - 16s 44ms/step - loss: 0.3339 - tp: 307713.0000 - fp: 72098.0000 - tn: 307713.0000 - fn: 72098.0000 - accuracy: 0.8102 - precision: 0.8102 - recall: 0.8102 - AUC: 0.9182\n",
            "Epoch 135/2500\n",
            "371/371 [==============================] - 16s 44ms/step - loss: 0.3326 - tp: 308104.0000 - fp: 71707.0000 - tn: 308104.0000 - fn: 71707.0000 - accuracy: 0.8112 - precision: 0.8112 - recall: 0.8112 - AUC: 0.9189\n",
            "Epoch 136/2500\n",
            "371/371 [==============================] - 16s 44ms/step - loss: 0.3322 - tp: 308057.0000 - fp: 71754.0000 - tn: 308057.0000 - fn: 71754.0000 - accuracy: 0.8111 - precision: 0.8111 - recall: 0.8111 - AUC: 0.9192\n",
            "Epoch 137/2500\n",
            "371/371 [==============================] - 16s 44ms/step - loss: 0.3317 - tp: 308306.0000 - fp: 71505.0000 - tn: 308306.0000 - fn: 71505.0000 - accuracy: 0.8117 - precision: 0.8117 - recall: 0.8117 - AUC: 0.9195\n",
            "Epoch 138/2500\n",
            "371/371 [==============================] - 16s 44ms/step - loss: 0.3320 - tp: 308147.0000 - fp: 71664.0000 - tn: 308147.0000 - fn: 71664.0000 - accuracy: 0.8113 - precision: 0.8113 - recall: 0.8113 - AUC: 0.9191\n",
            "Epoch 139/2500\n",
            "371/371 [==============================] - 16s 44ms/step - loss: 0.3309 - tp: 308351.0000 - fp: 71460.0000 - tn: 308351.0000 - fn: 71460.0000 - accuracy: 0.8119 - precision: 0.8119 - recall: 0.8119 - AUC: 0.9196\n",
            "Epoch 140/2500\n",
            "371/371 [==============================] - 16s 44ms/step - loss: 0.3305 - tp: 308350.0000 - fp: 71460.0000 - tn: 308351.0000 - fn: 71461.0000 - accuracy: 0.8119 - precision: 0.8119 - recall: 0.8119 - AUC: 0.9197\n",
            "Epoch 141/2500\n",
            "371/371 [==============================] - 16s 44ms/step - loss: 0.3290 - tp: 308951.0000 - fp: 70860.0000 - tn: 308951.0000 - fn: 70860.0000 - accuracy: 0.8134 - precision: 0.8134 - recall: 0.8134 - AUC: 0.9206\n",
            "Epoch 142/2500\n",
            "371/371 [==============================] - 16s 44ms/step - loss: 0.3281 - tp: 309005.0000 - fp: 70806.0000 - tn: 309005.0000 - fn: 70806.0000 - accuracy: 0.8136 - precision: 0.8136 - recall: 0.8136 - AUC: 0.9210\n",
            "Epoch 143/2500\n",
            "371/371 [==============================] - 16s 44ms/step - loss: 0.3269 - tp: 309089.0000 - fp: 70722.0000 - tn: 309089.0000 - fn: 70722.0000 - accuracy: 0.8138 - precision: 0.8138 - recall: 0.8138 - AUC: 0.9215\n",
            "Epoch 144/2500\n",
            "371/371 [==============================] - 16s 44ms/step - loss: 0.3265 - tp: 308940.0000 - fp: 70871.0000 - tn: 308940.0000 - fn: 70871.0000 - accuracy: 0.8134 - precision: 0.8134 - recall: 0.8134 - AUC: 0.9215\n",
            "Epoch 145/2500\n",
            "371/371 [==============================] - 16s 44ms/step - loss: 0.3269 - tp: 308945.0000 - fp: 70866.0000 - tn: 308945.0000 - fn: 70866.0000 - accuracy: 0.8134 - precision: 0.8134 - recall: 0.8134 - AUC: 0.9215\n",
            "Epoch 146/2500\n",
            "371/371 [==============================] - 16s 44ms/step - loss: 0.3266 - tp: 309357.0000 - fp: 70454.0000 - tn: 309357.0000 - fn: 70454.0000 - accuracy: 0.8145 - precision: 0.8145 - recall: 0.8145 - AUC: 0.9218\n",
            "Epoch 147/2500\n",
            "371/371 [==============================] - 16s 44ms/step - loss: 0.3254 - tp: 309657.0000 - fp: 70154.0000 - tn: 309657.0000 - fn: 70154.0000 - accuracy: 0.8153 - precision: 0.8153 - recall: 0.8153 - AUC: 0.9224\n",
            "Epoch 148/2500\n",
            "371/371 [==============================] - 16s 44ms/step - loss: 0.3255 - tp: 309641.0000 - fp: 70170.0000 - tn: 309641.0000 - fn: 70170.0000 - accuracy: 0.8153 - precision: 0.8153 - recall: 0.8153 - AUC: 0.9223\n",
            "Epoch 149/2500\n",
            "371/371 [==============================] - 16s 44ms/step - loss: 0.3233 - tp: 309576.0000 - fp: 70235.0000 - tn: 309576.0000 - fn: 70235.0000 - accuracy: 0.8151 - precision: 0.8151 - recall: 0.8151 - AUC: 0.9231\n",
            "Epoch 150/2500\n",
            "371/371 [==============================] - 16s 44ms/step - loss: 0.3226 - tp: 310321.0000 - fp: 69490.0000 - tn: 310321.0000 - fn: 69490.0000 - accuracy: 0.8170 - precision: 0.8170 - recall: 0.8170 - AUC: 0.9238\n",
            "Epoch 151/2500\n",
            "371/371 [==============================] - 16s 44ms/step - loss: 0.3225 - tp: 310128.0000 - fp: 69683.0000 - tn: 310128.0000 - fn: 69683.0000 - accuracy: 0.8165 - precision: 0.8165 - recall: 0.8165 - AUC: 0.9236\n",
            "Epoch 152/2500\n",
            "371/371 [==============================] - 17s 45ms/step - loss: 0.3215 - tp: 310555.0000 - fp: 69256.0000 - tn: 310555.0000 - fn: 69256.0000 - accuracy: 0.8177 - precision: 0.8177 - recall: 0.8177 - AUC: 0.9244\n",
            "Epoch 153/2500\n",
            "371/371 [==============================] - 16s 44ms/step - loss: 0.3218 - tp: 310265.0000 - fp: 69546.0000 - tn: 310265.0000 - fn: 69546.0000 - accuracy: 0.8169 - precision: 0.8169 - recall: 0.8169 - AUC: 0.9239\n",
            "Epoch 154/2500\n",
            "371/371 [==============================] - 16s 44ms/step - loss: 0.3204 - tp: 310722.0000 - fp: 69089.0000 - tn: 310722.0000 - fn: 69089.0000 - accuracy: 0.8181 - precision: 0.8181 - recall: 0.8181 - AUC: 0.9246\n",
            "Epoch 155/2500\n",
            "371/371 [==============================] - 16s 44ms/step - loss: 0.3211 - tp: 310446.0000 - fp: 69365.0000 - tn: 310446.0000 - fn: 69365.0000 - accuracy: 0.8174 - precision: 0.8174 - recall: 0.8174 - AUC: 0.9242\n",
            "Epoch 156/2500\n",
            "371/371 [==============================] - 16s 44ms/step - loss: 0.3201 - tp: 310720.0000 - fp: 69091.0000 - tn: 310720.0000 - fn: 69091.0000 - accuracy: 0.8181 - precision: 0.8181 - recall: 0.8181 - AUC: 0.9249\n",
            "Epoch 157/2500\n",
            "371/371 [==============================] - 16s 44ms/step - loss: 0.3190 - tp: 310800.0000 - fp: 69011.0000 - tn: 310800.0000 - fn: 69011.0000 - accuracy: 0.8183 - precision: 0.8183 - recall: 0.8183 - AUC: 0.9251\n",
            "Epoch 158/2500\n",
            "371/371 [==============================] - 16s 44ms/step - loss: 0.3174 - tp: 310923.0000 - fp: 68888.0000 - tn: 310923.0000 - fn: 68888.0000 - accuracy: 0.8186 - precision: 0.8186 - recall: 0.8186 - AUC: 0.9258\n",
            "Epoch 159/2500\n",
            "371/371 [==============================] - 16s 44ms/step - loss: 0.3176 - tp: 311216.0000 - fp: 68595.0000 - tn: 311216.0000 - fn: 68595.0000 - accuracy: 0.8194 - precision: 0.8194 - recall: 0.8194 - AUC: 0.9259\n",
            "Epoch 160/2500\n",
            "371/371 [==============================] - 16s 44ms/step - loss: 0.3183 - tp: 311353.0000 - fp: 68458.0000 - tn: 311353.0000 - fn: 68458.0000 - accuracy: 0.8198 - precision: 0.8198 - recall: 0.8198 - AUC: 0.9258\n",
            "Epoch 161/2500\n",
            "371/371 [==============================] - 16s 44ms/step - loss: 0.3180 - tp: 311210.0000 - fp: 68601.0000 - tn: 311210.0000 - fn: 68601.0000 - accuracy: 0.8194 - precision: 0.8194 - recall: 0.8194 - AUC: 0.9259\n",
            "Epoch 162/2500\n",
            "371/371 [==============================] - 16s 44ms/step - loss: 0.3159 - tp: 311510.0000 - fp: 68301.0000 - tn: 311510.0000 - fn: 68301.0000 - accuracy: 0.8202 - precision: 0.8202 - recall: 0.8202 - AUC: 0.9267\n",
            "Epoch 163/2500\n",
            "371/371 [==============================] - 16s 44ms/step - loss: 0.3156 - tp: 311779.0000 - fp: 68032.0000 - tn: 311779.0000 - fn: 68032.0000 - accuracy: 0.8209 - precision: 0.8209 - recall: 0.8209 - AUC: 0.9270\n",
            "Epoch 164/2500\n",
            "371/371 [==============================] - 16s 44ms/step - loss: 0.3154 - tp: 311600.0000 - fp: 68211.0000 - tn: 311600.0000 - fn: 68211.0000 - accuracy: 0.8204 - precision: 0.8204 - recall: 0.8204 - AUC: 0.9268\n",
            "Epoch 165/2500\n",
            "371/371 [==============================] - 16s 44ms/step - loss: 0.3147 - tp: 311766.0000 - fp: 68045.0000 - tn: 311766.0000 - fn: 68045.0000 - accuracy: 0.8208 - precision: 0.8208 - recall: 0.8208 - AUC: 0.9273\n",
            "Epoch 166/2500\n",
            "371/371 [==============================] - 16s 44ms/step - loss: 0.3144 - tp: 311935.0000 - fp: 67876.0000 - tn: 311935.0000 - fn: 67876.0000 - accuracy: 0.8213 - precision: 0.8213 - recall: 0.8213 - AUC: 0.9274\n",
            "Epoch 167/2500\n",
            "371/371 [==============================] - 16s 44ms/step - loss: 0.3138 - tp: 312292.0000 - fp: 67518.0000 - tn: 312293.0000 - fn: 67519.0000 - accuracy: 0.8222 - precision: 0.8222 - recall: 0.8222 - AUC: 0.9279\n",
            "Epoch 168/2500\n",
            "371/371 [==============================] - 16s 44ms/step - loss: 0.3129 - tp: 312611.0000 - fp: 67200.0000 - tn: 312611.0000 - fn: 67200.0000 - accuracy: 0.8231 - precision: 0.8231 - recall: 0.8231 - AUC: 0.9283\n",
            "Epoch 169/2500\n",
            "371/371 [==============================] - 16s 44ms/step - loss: 0.3132 - tp: 312347.0000 - fp: 67464.0000 - tn: 312347.0000 - fn: 67464.0000 - accuracy: 0.8224 - precision: 0.8224 - recall: 0.8224 - AUC: 0.9282\n",
            "Epoch 170/2500\n",
            "371/371 [==============================] - 16s 44ms/step - loss: 0.3140 - tp: 312281.0000 - fp: 67530.0000 - tn: 312281.0000 - fn: 67530.0000 - accuracy: 0.8222 - precision: 0.8222 - recall: 0.8222 - AUC: 0.9277\n",
            "Epoch 171/2500\n",
            "371/371 [==============================] - 16s 44ms/step - loss: 0.3125 - tp: 312384.0000 - fp: 67427.0000 - tn: 312384.0000 - fn: 67427.0000 - accuracy: 0.8225 - precision: 0.8225 - recall: 0.8225 - AUC: 0.9284\n",
            "Epoch 172/2500\n",
            "371/371 [==============================] - 17s 45ms/step - loss: 0.3120 - tp: 312728.0000 - fp: 67083.0000 - tn: 312728.0000 - fn: 67083.0000 - accuracy: 0.8234 - precision: 0.8234 - recall: 0.8234 - AUC: 0.9287\n",
            "Epoch 173/2500\n",
            "371/371 [==============================] - 17s 45ms/step - loss: 0.3105 - tp: 312984.0000 - fp: 66827.0000 - tn: 312984.0000 - fn: 66827.0000 - accuracy: 0.8241 - precision: 0.8241 - recall: 0.8241 - AUC: 0.9292\n",
            "Epoch 174/2500\n",
            "371/371 [==============================] - 17s 45ms/step - loss: 0.3092 - tp: 313092.0000 - fp: 66719.0000 - tn: 313092.0000 - fn: 66719.0000 - accuracy: 0.8243 - precision: 0.8243 - recall: 0.8243 - AUC: 0.9299\n",
            "Epoch 175/2500\n",
            "371/371 [==============================] - 17s 45ms/step - loss: 0.3081 - tp: 313459.0000 - fp: 66352.0000 - tn: 313459.0000 - fn: 66352.0000 - accuracy: 0.8253 - precision: 0.8253 - recall: 0.8253 - AUC: 0.9303\n",
            "Epoch 176/2500\n",
            "371/371 [==============================] - 17s 45ms/step - loss: 0.3087 - tp: 313114.0000 - fp: 66697.0000 - tn: 313114.0000 - fn: 66697.0000 - accuracy: 0.8244 - precision: 0.8244 - recall: 0.8244 - AUC: 0.9299\n",
            "Epoch 177/2500\n",
            "371/371 [==============================] - 17s 45ms/step - loss: 0.3083 - tp: 313569.0000 - fp: 66242.0000 - tn: 313569.0000 - fn: 66242.0000 - accuracy: 0.8256 - precision: 0.8256 - recall: 0.8256 - AUC: 0.9303\n",
            "Epoch 178/2500\n",
            "371/371 [==============================] - 17s 45ms/step - loss: 0.3082 - tp: 313405.0000 - fp: 66406.0000 - tn: 313405.0000 - fn: 66406.0000 - accuracy: 0.8252 - precision: 0.8252 - recall: 0.8252 - AUC: 0.9302\n",
            "Epoch 179/2500\n",
            "371/371 [==============================] - 17s 45ms/step - loss: 0.3081 - tp: 313622.0000 - fp: 66189.0000 - tn: 313622.0000 - fn: 66189.0000 - accuracy: 0.8257 - precision: 0.8257 - recall: 0.8257 - AUC: 0.9304\n",
            "Epoch 180/2500\n",
            "371/371 [==============================] - 17s 45ms/step - loss: 0.3063 - tp: 313580.0000 - fp: 66231.0000 - tn: 313580.0000 - fn: 66231.0000 - accuracy: 0.8256 - precision: 0.8256 - recall: 0.8256 - AUC: 0.9310\n",
            "Epoch 181/2500\n",
            "371/371 [==============================] - 17s 45ms/step - loss: 0.3083 - tp: 313693.0000 - fp: 66118.0000 - tn: 313693.0000 - fn: 66118.0000 - accuracy: 0.8259 - precision: 0.8259 - recall: 0.8259 - AUC: 0.9306\n",
            "Epoch 182/2500\n",
            "371/371 [==============================] - 17s 45ms/step - loss: 0.3070 - tp: 313690.0000 - fp: 66121.0000 - tn: 313690.0000 - fn: 66121.0000 - accuracy: 0.8259 - precision: 0.8259 - recall: 0.8259 - AUC: 0.9308\n",
            "Epoch 183/2500\n",
            "371/371 [==============================] - 17s 45ms/step - loss: 0.3087 - tp: 313630.0000 - fp: 66181.0000 - tn: 313630.0000 - fn: 66181.0000 - accuracy: 0.8258 - precision: 0.8258 - recall: 0.8258 - AUC: 0.9305\n",
            "Epoch 184/2500\n",
            "371/371 [==============================] - 16s 44ms/step - loss: 0.3069 - tp: 313664.0000 - fp: 66146.0000 - tn: 313665.0000 - fn: 66147.0000 - accuracy: 0.8258 - precision: 0.8258 - recall: 0.8258 - AUC: 0.9309\n",
            "Epoch 185/2500\n",
            "371/371 [==============================] - 16s 44ms/step - loss: 0.3049 - tp: 313937.0000 - fp: 65874.0000 - tn: 313937.0000 - fn: 65874.0000 - accuracy: 0.8266 - precision: 0.8266 - recall: 0.8266 - AUC: 0.9317\n",
            "Epoch 186/2500\n",
            "371/371 [==============================] - 16s 44ms/step - loss: 0.3040 - tp: 314322.0000 - fp: 65489.0000 - tn: 314322.0000 - fn: 65489.0000 - accuracy: 0.8276 - precision: 0.8276 - recall: 0.8276 - AUC: 0.9321\n",
            "Epoch 187/2500\n",
            "371/371 [==============================] - 16s 44ms/step - loss: 0.3041 - tp: 314293.0000 - fp: 65518.0000 - tn: 314293.0000 - fn: 65518.0000 - accuracy: 0.8275 - precision: 0.8275 - recall: 0.8275 - AUC: 0.9320\n",
            "Epoch 188/2500\n",
            "371/371 [==============================] - 17s 45ms/step - loss: 0.3034 - tp: 314296.0000 - fp: 65515.0000 - tn: 314296.0000 - fn: 65515.0000 - accuracy: 0.8275 - precision: 0.8275 - recall: 0.8275 - AUC: 0.9324\n",
            "Epoch 189/2500\n",
            "371/371 [==============================] - 16s 44ms/step - loss: 0.3035 - tp: 314523.0000 - fp: 65288.0000 - tn: 314523.0000 - fn: 65288.0000 - accuracy: 0.8281 - precision: 0.8281 - recall: 0.8281 - AUC: 0.9325\n",
            "Epoch 190/2500\n",
            "371/371 [==============================] - 17s 44ms/step - loss: 0.3027 - tp: 314451.0000 - fp: 65360.0000 - tn: 314451.0000 - fn: 65360.0000 - accuracy: 0.8279 - precision: 0.8279 - recall: 0.8279 - AUC: 0.9326\n",
            "Epoch 191/2500\n",
            "371/371 [==============================] - 16s 44ms/step - loss: 0.3053 - tp: 314612.0000 - fp: 65199.0000 - tn: 314612.0000 - fn: 65199.0000 - accuracy: 0.8283 - precision: 0.8283 - recall: 0.8283 - AUC: 0.9322\n",
            "Epoch 192/2500\n",
            "371/371 [==============================] - 16s 44ms/step - loss: 0.3021 - tp: 314683.0000 - fp: 65128.0000 - tn: 314683.0000 - fn: 65128.0000 - accuracy: 0.8285 - precision: 0.8285 - recall: 0.8285 - AUC: 0.9331\n",
            "Epoch 193/2500\n",
            "371/371 [==============================] - 16s 44ms/step - loss: 0.3022 - tp: 315255.0000 - fp: 64556.0000 - tn: 315255.0000 - fn: 64556.0000 - accuracy: 0.8300 - precision: 0.8300 - recall: 0.8300 - AUC: 0.9334\n",
            "Epoch 194/2500\n",
            "371/371 [==============================] - 16s 44ms/step - loss: 0.3024 - tp: 314976.0000 - fp: 64835.0000 - tn: 314976.0000 - fn: 64835.0000 - accuracy: 0.8293 - precision: 0.8293 - recall: 0.8293 - AUC: 0.9331\n",
            "Epoch 195/2500\n",
            "371/371 [==============================] - 16s 44ms/step - loss: 0.3013 - tp: 315154.0000 - fp: 64657.0000 - tn: 315154.0000 - fn: 64657.0000 - accuracy: 0.8298 - precision: 0.8298 - recall: 0.8298 - AUC: 0.9337\n",
            "Epoch 196/2500\n",
            "371/371 [==============================] - 16s 44ms/step - loss: 0.2999 - tp: 315206.0000 - fp: 64605.0000 - tn: 315206.0000 - fn: 64605.0000 - accuracy: 0.8299 - precision: 0.8299 - recall: 0.8299 - AUC: 0.9339\n",
            "Epoch 197/2500\n",
            "371/371 [==============================] - 16s 44ms/step - loss: 0.3013 - tp: 315288.0000 - fp: 64523.0000 - tn: 315288.0000 - fn: 64523.0000 - accuracy: 0.8301 - precision: 0.8301 - recall: 0.8301 - AUC: 0.9337\n",
            "Epoch 198/2500\n",
            "371/371 [==============================] - 16s 44ms/step - loss: 0.3006 - tp: 315388.0000 - fp: 64423.0000 - tn: 315388.0000 - fn: 64423.0000 - accuracy: 0.8304 - precision: 0.8304 - recall: 0.8304 - AUC: 0.9339\n",
            "Epoch 199/2500\n",
            "371/371 [==============================] - 16s 44ms/step - loss: 0.2999 - tp: 315455.0000 - fp: 64356.0000 - tn: 315455.0000 - fn: 64356.0000 - accuracy: 0.8306 - precision: 0.8306 - recall: 0.8306 - AUC: 0.9342\n",
            "Epoch 200/2500\n",
            "371/371 [==============================] - 16s 44ms/step - loss: 0.2977 - tp: 316008.0000 - fp: 63803.0000 - tn: 316008.0000 - fn: 63803.0000 - accuracy: 0.8320 - precision: 0.8320 - recall: 0.8320 - AUC: 0.9351\n",
            "Epoch 201/2500\n",
            "371/371 [==============================] - 16s 44ms/step - loss: 0.2995 - tp: 315630.0000 - fp: 64181.0000 - tn: 315630.0000 - fn: 64181.0000 - accuracy: 0.8310 - precision: 0.8310 - recall: 0.8310 - AUC: 0.9345\n",
            "Epoch 202/2500\n",
            "371/371 [==============================] - 16s 44ms/step - loss: 0.2979 - tp: 315812.0000 - fp: 63999.0000 - tn: 315812.0000 - fn: 63999.0000 - accuracy: 0.8315 - precision: 0.8315 - recall: 0.8315 - AUC: 0.9349\n",
            "Epoch 203/2500\n",
            "371/371 [==============================] - 16s 44ms/step - loss: 0.2980 - tp: 315825.0000 - fp: 63986.0000 - tn: 315825.0000 - fn: 63986.0000 - accuracy: 0.8315 - precision: 0.8315 - recall: 0.8315 - AUC: 0.9350\n",
            "Epoch 204/2500\n",
            "371/371 [==============================] - 16s 44ms/step - loss: 0.2965 - tp: 316180.0000 - fp: 63631.0000 - tn: 316180.0000 - fn: 63631.0000 - accuracy: 0.8325 - precision: 0.8325 - recall: 0.8325 - AUC: 0.9356\n",
            "Epoch 205/2500\n",
            "371/371 [==============================] - 16s 44ms/step - loss: 0.2965 - tp: 316235.0000 - fp: 63576.0000 - tn: 316235.0000 - fn: 63576.0000 - accuracy: 0.8326 - precision: 0.8326 - recall: 0.8326 - AUC: 0.9356\n",
            "Epoch 206/2500\n",
            "371/371 [==============================] - 17s 45ms/step - loss: 0.2979 - tp: 316155.0000 - fp: 63656.0000 - tn: 316155.0000 - fn: 63656.0000 - accuracy: 0.8324 - precision: 0.8324 - recall: 0.8324 - AUC: 0.9352\n",
            "Epoch 207/2500\n",
            "371/371 [==============================] - 17s 45ms/step - loss: 0.2976 - tp: 315907.0000 - fp: 63904.0000 - tn: 315907.0000 - fn: 63904.0000 - accuracy: 0.8317 - precision: 0.8317 - recall: 0.8317 - AUC: 0.9353\n",
            "Epoch 208/2500\n",
            "371/371 [==============================] - 17s 45ms/step - loss: 0.2959 - tp: 316567.0000 - fp: 63244.0000 - tn: 316567.0000 - fn: 63244.0000 - accuracy: 0.8335 - precision: 0.8335 - recall: 0.8335 - AUC: 0.9360\n",
            "Epoch 209/2500\n",
            "371/371 [==============================] - 17s 45ms/step - loss: 0.2971 - tp: 316416.0000 - fp: 63395.0000 - tn: 316416.0000 - fn: 63395.0000 - accuracy: 0.8331 - precision: 0.8331 - recall: 0.8331 - AUC: 0.9355\n",
            "Epoch 210/2500\n",
            "371/371 [==============================] - 17s 45ms/step - loss: 0.2949 - tp: 316592.0000 - fp: 63219.0000 - tn: 316592.0000 - fn: 63219.0000 - accuracy: 0.8336 - precision: 0.8336 - recall: 0.8336 - AUC: 0.9364\n",
            "Epoch 211/2500\n",
            "371/371 [==============================] - 17s 45ms/step - loss: 0.2945 - tp: 316474.0000 - fp: 63337.0000 - tn: 316474.0000 - fn: 63337.0000 - accuracy: 0.8332 - precision: 0.8332 - recall: 0.8332 - AUC: 0.9364\n",
            "Epoch 212/2500\n",
            "371/371 [==============================] - 17s 45ms/step - loss: 0.2926 - tp: 317097.0000 - fp: 62714.0000 - tn: 317097.0000 - fn: 62714.0000 - accuracy: 0.8349 - precision: 0.8349 - recall: 0.8349 - AUC: 0.9373\n",
            "Epoch 213/2500\n",
            "371/371 [==============================] - 17s 45ms/step - loss: 0.2941 - tp: 316972.0000 - fp: 62839.0000 - tn: 316972.0000 - fn: 62839.0000 - accuracy: 0.8346 - precision: 0.8346 - recall: 0.8346 - AUC: 0.9367\n",
            "Epoch 214/2500\n",
            "371/371 [==============================] - 17s 45ms/step - loss: 0.2934 - tp: 316926.0000 - fp: 62885.0000 - tn: 316926.0000 - fn: 62885.0000 - accuracy: 0.8344 - precision: 0.8344 - recall: 0.8344 - AUC: 0.9369\n",
            "Epoch 215/2500\n",
            "371/371 [==============================] - 17s 45ms/step - loss: 0.2932 - tp: 317371.0000 - fp: 62440.0000 - tn: 317371.0000 - fn: 62440.0000 - accuracy: 0.8356 - precision: 0.8356 - recall: 0.8356 - AUC: 0.9373\n",
            "Epoch 216/2500\n",
            "371/371 [==============================] - 17s 45ms/step - loss: 0.2938 - tp: 317086.0000 - fp: 62725.0000 - tn: 317086.0000 - fn: 62725.0000 - accuracy: 0.8349 - precision: 0.8349 - recall: 0.8349 - AUC: 0.9369\n",
            "Epoch 217/2500\n",
            "371/371 [==============================] - 17s 45ms/step - loss: 0.2937 - tp: 316818.0000 - fp: 62993.0000 - tn: 316818.0000 - fn: 62993.0000 - accuracy: 0.8341 - precision: 0.8341 - recall: 0.8341 - AUC: 0.9368\n",
            "Epoch 218/2500\n",
            "371/371 [==============================] - 17s 45ms/step - loss: 0.2936 - tp: 317050.0000 - fp: 62761.0000 - tn: 317050.0000 - fn: 62761.0000 - accuracy: 0.8348 - precision: 0.8348 - recall: 0.8348 - AUC: 0.9370\n",
            "Epoch 219/2500\n",
            "371/371 [==============================] - 17s 45ms/step - loss: 0.2915 - tp: 317234.0000 - fp: 62577.0000 - tn: 317234.0000 - fn: 62577.0000 - accuracy: 0.8352 - precision: 0.8352 - recall: 0.8352 - AUC: 0.9377\n",
            "Epoch 220/2500\n",
            "371/371 [==============================] - 17s 45ms/step - loss: 0.2926 - tp: 317390.0000 - fp: 62421.0000 - tn: 317390.0000 - fn: 62421.0000 - accuracy: 0.8357 - precision: 0.8357 - recall: 0.8357 - AUC: 0.9375\n",
            "Epoch 221/2500\n",
            "371/371 [==============================] - 17s 45ms/step - loss: 0.2912 - tp: 317442.0000 - fp: 62369.0000 - tn: 317442.0000 - fn: 62369.0000 - accuracy: 0.8358 - precision: 0.8358 - recall: 0.8358 - AUC: 0.9378\n",
            "Epoch 222/2500\n",
            "371/371 [==============================] - 17s 45ms/step - loss: 0.2908 - tp: 317461.0000 - fp: 62350.0000 - tn: 317461.0000 - fn: 62350.0000 - accuracy: 0.8358 - precision: 0.8358 - recall: 0.8358 - AUC: 0.9380\n",
            "Epoch 223/2500\n",
            "371/371 [==============================] - 17s 45ms/step - loss: 0.2913 - tp: 317790.0000 - fp: 62021.0000 - tn: 317790.0000 - fn: 62021.0000 - accuracy: 0.8367 - precision: 0.8367 - recall: 0.8367 - AUC: 0.9381\n",
            "Epoch 224/2500\n",
            "371/371 [==============================] - 17s 45ms/step - loss: 0.2913 - tp: 317691.0000 - fp: 62120.0000 - tn: 317691.0000 - fn: 62120.0000 - accuracy: 0.8364 - precision: 0.8364 - recall: 0.8364 - AUC: 0.9382\n",
            "Epoch 225/2500\n",
            "371/371 [==============================] - 17s 45ms/step - loss: 0.2907 - tp: 317585.0000 - fp: 62226.0000 - tn: 317585.0000 - fn: 62226.0000 - accuracy: 0.8362 - precision: 0.8362 - recall: 0.8362 - AUC: 0.9382\n",
            "Epoch 226/2500\n",
            "371/371 [==============================] - 17s 45ms/step - loss: 0.2889 - tp: 318030.0000 - fp: 61781.0000 - tn: 318030.0000 - fn: 61781.0000 - accuracy: 0.8373 - precision: 0.8373 - recall: 0.8373 - AUC: 0.9390\n",
            "Epoch 227/2500\n",
            "371/371 [==============================] - 17s 45ms/step - loss: 0.2893 - tp: 318098.0000 - fp: 61713.0000 - tn: 318098.0000 - fn: 61713.0000 - accuracy: 0.8375 - precision: 0.8375 - recall: 0.8375 - AUC: 0.9389\n",
            "Epoch 228/2500\n",
            "371/371 [==============================] - 17s 45ms/step - loss: 0.2900 - tp: 317626.0000 - fp: 62185.0000 - tn: 317626.0000 - fn: 62185.0000 - accuracy: 0.8363 - precision: 0.8363 - recall: 0.8363 - AUC: 0.9385\n",
            "Epoch 229/2500\n",
            "371/371 [==============================] - 17s 45ms/step - loss: 0.2911 - tp: 317802.0000 - fp: 62009.0000 - tn: 317802.0000 - fn: 62009.0000 - accuracy: 0.8367 - precision: 0.8367 - recall: 0.8367 - AUC: 0.9383\n",
            "Epoch 230/2500\n",
            "371/371 [==============================] - 17s 45ms/step - loss: 0.2882 - tp: 318219.0000 - fp: 61592.0000 - tn: 318219.0000 - fn: 61592.0000 - accuracy: 0.8378 - precision: 0.8378 - recall: 0.8378 - AUC: 0.9394\n",
            "Epoch 231/2500\n",
            "371/371 [==============================] - 17s 45ms/step - loss: 0.2869 - tp: 318166.0000 - fp: 61645.0000 - tn: 318166.0000 - fn: 61645.0000 - accuracy: 0.8377 - precision: 0.8377 - recall: 0.8377 - AUC: 0.9396\n",
            "Epoch 232/2500\n",
            "371/371 [==============================] - 17s 45ms/step - loss: 0.2878 - tp: 318224.0000 - fp: 61587.0000 - tn: 318224.0000 - fn: 61587.0000 - accuracy: 0.8378 - precision: 0.8378 - recall: 0.8378 - AUC: 0.9393\n",
            "Epoch 233/2500\n",
            "371/371 [==============================] - 17s 45ms/step - loss: 0.2874 - tp: 318566.0000 - fp: 61245.0000 - tn: 318566.0000 - fn: 61245.0000 - accuracy: 0.8387 - precision: 0.8387 - recall: 0.8387 - AUC: 0.9397\n",
            "Epoch 234/2500\n",
            "371/371 [==============================] - 17s 45ms/step - loss: 0.2885 - tp: 318364.0000 - fp: 61447.0000 - tn: 318364.0000 - fn: 61447.0000 - accuracy: 0.8382 - precision: 0.8382 - recall: 0.8382 - AUC: 0.9395\n",
            "Epoch 235/2500\n",
            "371/371 [==============================] - 17s 45ms/step - loss: 0.2877 - tp: 318397.0000 - fp: 61414.0000 - tn: 318397.0000 - fn: 61414.0000 - accuracy: 0.8383 - precision: 0.8383 - recall: 0.8383 - AUC: 0.9396\n",
            "Epoch 236/2500\n",
            "371/371 [==============================] - 17s 45ms/step - loss: 0.2867 - tp: 318454.0000 - fp: 61357.0000 - tn: 318454.0000 - fn: 61357.0000 - accuracy: 0.8385 - precision: 0.8385 - recall: 0.8385 - AUC: 0.9398\n",
            "Epoch 237/2500\n",
            "371/371 [==============================] - 17s 45ms/step - loss: 0.2876 - tp: 318457.0000 - fp: 61354.0000 - tn: 318457.0000 - fn: 61354.0000 - accuracy: 0.8385 - precision: 0.8385 - recall: 0.8385 - AUC: 0.9399\n",
            "Epoch 238/2500\n",
            "371/371 [==============================] - 17s 45ms/step - loss: 0.2851 - tp: 318744.0000 - fp: 61067.0000 - tn: 318744.0000 - fn: 61067.0000 - accuracy: 0.8392 - precision: 0.8392 - recall: 0.8392 - AUC: 0.9405\n",
            "Epoch 239/2500\n",
            "371/371 [==============================] - 17s 45ms/step - loss: 0.2890 - tp: 318617.0000 - fp: 61194.0000 - tn: 318617.0000 - fn: 61194.0000 - accuracy: 0.8389 - precision: 0.8389 - recall: 0.8389 - AUC: 0.9394\n",
            "Epoch 240/2500\n",
            "371/371 [==============================] - 17s 45ms/step - loss: 0.2854 - tp: 318782.0000 - fp: 61029.0000 - tn: 318782.0000 - fn: 61029.0000 - accuracy: 0.8393 - precision: 0.8393 - recall: 0.8393 - AUC: 0.9405\n",
            "Epoch 241/2500\n",
            "371/371 [==============================] - 17s 45ms/step - loss: 0.2851 - tp: 318925.0000 - fp: 60886.0000 - tn: 318925.0000 - fn: 60886.0000 - accuracy: 0.8397 - precision: 0.8397 - recall: 0.8397 - AUC: 0.9407\n",
            "Epoch 242/2500\n",
            "371/371 [==============================] - 17s 45ms/step - loss: 0.2833 - tp: 319365.0000 - fp: 60446.0000 - tn: 319365.0000 - fn: 60446.0000 - accuracy: 0.8409 - precision: 0.8409 - recall: 0.8409 - AUC: 0.9414\n",
            "Epoch 243/2500\n",
            "371/371 [==============================] - 17s 45ms/step - loss: 0.2834 - tp: 319135.0000 - fp: 60675.0000 - tn: 319136.0000 - fn: 60676.0000 - accuracy: 0.8402 - precision: 0.8402 - recall: 0.8402 - AUC: 0.9412\n",
            "Epoch 244/2500\n",
            "371/371 [==============================] - 17s 45ms/step - loss: 0.2825 - tp: 319400.0000 - fp: 60411.0000 - tn: 319400.0000 - fn: 60411.0000 - accuracy: 0.8409 - precision: 0.8409 - recall: 0.8409 - AUC: 0.9416\n",
            "Epoch 245/2500\n",
            "371/371 [==============================] - 17s 45ms/step - loss: 0.2839 - tp: 319175.0000 - fp: 60636.0000 - tn: 319175.0000 - fn: 60636.0000 - accuracy: 0.8404 - precision: 0.8404 - recall: 0.8404 - AUC: 0.9410\n",
            "Epoch 246/2500\n",
            "371/371 [==============================] - 17s 45ms/step - loss: 0.2837 - tp: 319288.0000 - fp: 60523.0000 - tn: 319288.0000 - fn: 60523.0000 - accuracy: 0.8406 - precision: 0.8406 - recall: 0.8406 - AUC: 0.9412\n",
            "Epoch 247/2500\n",
            "371/371 [==============================] - 17s 45ms/step - loss: 0.2816 - tp: 319647.0000 - fp: 60164.0000 - tn: 319647.0000 - fn: 60164.0000 - accuracy: 0.8416 - precision: 0.8416 - recall: 0.8416 - AUC: 0.9421\n",
            "Epoch 248/2500\n",
            "371/371 [==============================] - 17s 45ms/step - loss: 0.2836 - tp: 319687.0000 - fp: 60124.0000 - tn: 319687.0000 - fn: 60124.0000 - accuracy: 0.8417 - precision: 0.8417 - recall: 0.8417 - AUC: 0.9414\n",
            "Epoch 249/2500\n",
            "371/371 [==============================] - 17s 45ms/step - loss: 0.2841 - tp: 319340.0000 - fp: 60471.0000 - tn: 319340.0000 - fn: 60471.0000 - accuracy: 0.8408 - precision: 0.8408 - recall: 0.8408 - AUC: 0.9414\n",
            "Epoch 250/2500\n",
            "371/371 [==============================] - 17s 45ms/step - loss: 0.2839 - tp: 319439.0000 - fp: 60372.0000 - tn: 319439.0000 - fn: 60372.0000 - accuracy: 0.8410 - precision: 0.8410 - recall: 0.8410 - AUC: 0.9412\n",
            "Epoch 251/2500\n",
            "371/371 [==============================] - 17s 45ms/step - loss: 0.2828 - tp: 319776.0000 - fp: 60035.0000 - tn: 319776.0000 - fn: 60035.0000 - accuracy: 0.8419 - precision: 0.8419 - recall: 0.8419 - AUC: 0.9417\n",
            "Epoch 252/2500\n",
            "371/371 [==============================] - 17s 45ms/step - loss: 0.2815 - tp: 319902.0000 - fp: 59909.0000 - tn: 319902.0000 - fn: 59909.0000 - accuracy: 0.8423 - precision: 0.8423 - recall: 0.8423 - AUC: 0.9422\n",
            "Epoch 253/2500\n",
            "371/371 [==============================] - 17s 45ms/step - loss: 0.2836 - tp: 319486.0000 - fp: 60325.0000 - tn: 319486.0000 - fn: 60325.0000 - accuracy: 0.8412 - precision: 0.8412 - recall: 0.8412 - AUC: 0.9413\n",
            "Epoch 254/2500\n",
            "371/371 [==============================] - 17s 45ms/step - loss: 0.2812 - tp: 319640.0000 - fp: 60171.0000 - tn: 319640.0000 - fn: 60171.0000 - accuracy: 0.8416 - precision: 0.8416 - recall: 0.8416 - AUC: 0.9422\n",
            "Epoch 255/2500\n",
            "371/371 [==============================] - 17s 45ms/step - loss: 0.2795 - tp: 319939.0000 - fp: 59872.0000 - tn: 319939.0000 - fn: 59872.0000 - accuracy: 0.8424 - precision: 0.8424 - recall: 0.8424 - AUC: 0.9428\n",
            "Epoch 256/2500\n",
            "371/371 [==============================] - 17s 45ms/step - loss: 0.2806 - tp: 320155.0000 - fp: 59656.0000 - tn: 320155.0000 - fn: 59656.0000 - accuracy: 0.8429 - precision: 0.8429 - recall: 0.8429 - AUC: 0.9426\n",
            "Epoch 257/2500\n",
            "371/371 [==============================] - 17s 45ms/step - loss: 0.2817 - tp: 319729.0000 - fp: 60082.0000 - tn: 319729.0000 - fn: 60082.0000 - accuracy: 0.8418 - precision: 0.8418 - recall: 0.8418 - AUC: 0.9422\n",
            "Epoch 258/2500\n",
            "371/371 [==============================] - 17s 45ms/step - loss: 0.2821 - tp: 320187.0000 - fp: 59624.0000 - tn: 320187.0000 - fn: 59624.0000 - accuracy: 0.8430 - precision: 0.8430 - recall: 0.8430 - AUC: 0.9424\n",
            "Epoch 259/2500\n",
            "371/371 [==============================] - 17s 45ms/step - loss: 0.2803 - tp: 320217.0000 - fp: 59594.0000 - tn: 320217.0000 - fn: 59594.0000 - accuracy: 0.8431 - precision: 0.8431 - recall: 0.8431 - AUC: 0.9429\n",
            "Epoch 260/2500\n",
            "371/371 [==============================] - 17s 45ms/step - loss: 0.2790 - tp: 320288.0000 - fp: 59523.0000 - tn: 320288.0000 - fn: 59523.0000 - accuracy: 0.8433 - precision: 0.8433 - recall: 0.8433 - AUC: 0.9432\n",
            "Epoch 261/2500\n",
            "371/371 [==============================] - 17s 45ms/step - loss: 0.2780 - tp: 320510.0000 - fp: 59301.0000 - tn: 320510.0000 - fn: 59301.0000 - accuracy: 0.8439 - precision: 0.8439 - recall: 0.8439 - AUC: 0.9435\n",
            "Epoch 262/2500\n",
            "371/371 [==============================] - 17s 45ms/step - loss: 0.2779 - tp: 320589.0000 - fp: 59222.0000 - tn: 320589.0000 - fn: 59222.0000 - accuracy: 0.8441 - precision: 0.8441 - recall: 0.8441 - AUC: 0.9436\n",
            "Epoch 263/2500\n",
            "371/371 [==============================] - 17s 45ms/step - loss: 0.2790 - tp: 320555.0000 - fp: 59256.0000 - tn: 320555.0000 - fn: 59256.0000 - accuracy: 0.8440 - precision: 0.8440 - recall: 0.8440 - AUC: 0.9433\n",
            "Epoch 264/2500\n",
            "371/371 [==============================] - 17s 45ms/step - loss: 0.2793 - tp: 320378.0000 - fp: 59433.0000 - tn: 320378.0000 - fn: 59433.0000 - accuracy: 0.8435 - precision: 0.8435 - recall: 0.8435 - AUC: 0.9431\n",
            "Epoch 265/2500\n",
            "371/371 [==============================] - 17s 45ms/step - loss: 0.2798 - tp: 320374.0000 - fp: 59437.0000 - tn: 320374.0000 - fn: 59437.0000 - accuracy: 0.8435 - precision: 0.8435 - recall: 0.8435 - AUC: 0.9430\n",
            "Epoch 266/2500\n",
            "371/371 [==============================] - 17s 45ms/step - loss: 0.2794 - tp: 320770.0000 - fp: 59041.0000 - tn: 320770.0000 - fn: 59041.0000 - accuracy: 0.8446 - precision: 0.8446 - recall: 0.8446 - AUC: 0.9433\n",
            "Epoch 267/2500\n",
            "371/371 [==============================] - 17s 45ms/step - loss: 0.2789 - tp: 320650.0000 - fp: 59161.0000 - tn: 320650.0000 - fn: 59161.0000 - accuracy: 0.8442 - precision: 0.8442 - recall: 0.8442 - AUC: 0.9433\n",
            "Epoch 268/2500\n",
            "371/371 [==============================] - 17s 45ms/step - loss: 0.2782 - tp: 320547.0000 - fp: 59264.0000 - tn: 320547.0000 - fn: 59264.0000 - accuracy: 0.8440 - precision: 0.8440 - recall: 0.8440 - AUC: 0.9436\n",
            "Epoch 269/2500\n",
            "371/371 [==============================] - 17s 45ms/step - loss: 0.2779 - tp: 320654.0000 - fp: 59157.0000 - tn: 320654.0000 - fn: 59157.0000 - accuracy: 0.8442 - precision: 0.8442 - recall: 0.8442 - AUC: 0.9437\n",
            "Epoch 270/2500\n",
            "371/371 [==============================] - 17s 45ms/step - loss: 0.2766 - tp: 320731.0000 - fp: 59080.0000 - tn: 320731.0000 - fn: 59080.0000 - accuracy: 0.8444 - precision: 0.8444 - recall: 0.8444 - AUC: 0.9442\n",
            "Epoch 271/2500\n",
            "371/371 [==============================] - 17s 45ms/step - loss: 0.2765 - tp: 320925.0000 - fp: 58886.0000 - tn: 320925.0000 - fn: 58886.0000 - accuracy: 0.8450 - precision: 0.8450 - recall: 0.8450 - AUC: 0.9442\n",
            "Epoch 272/2500\n",
            "371/371 [==============================] - 17s 45ms/step - loss: 0.2835 - tp: 320172.0000 - fp: 59639.0000 - tn: 320172.0000 - fn: 59639.0000 - accuracy: 0.8430 - precision: 0.8430 - recall: 0.8430 - AUC: 0.9420\n",
            "Epoch 273/2500\n",
            "371/371 [==============================] - 17s 45ms/step - loss: 0.2766 - tp: 321049.0000 - fp: 58762.0000 - tn: 321049.0000 - fn: 58762.0000 - accuracy: 0.8453 - precision: 0.8453 - recall: 0.8453 - AUC: 0.9442\n",
            "Epoch 274/2500\n",
            "371/371 [==============================] - 17s 45ms/step - loss: 0.2745 - tp: 321167.0000 - fp: 58644.0000 - tn: 321167.0000 - fn: 58644.0000 - accuracy: 0.8456 - precision: 0.8456 - recall: 0.8456 - AUC: 0.9449\n",
            "Epoch 275/2500\n",
            "371/371 [==============================] - 17s 45ms/step - loss: 0.2723 - tp: 321683.0000 - fp: 58128.0000 - tn: 321683.0000 - fn: 58128.0000 - accuracy: 0.8470 - precision: 0.8470 - recall: 0.8470 - AUC: 0.9456\n",
            "Epoch 276/2500\n",
            "371/371 [==============================] - 17s 45ms/step - loss: 0.2755 - tp: 321200.0000 - fp: 58610.0000 - tn: 321201.0000 - fn: 58611.0000 - accuracy: 0.8457 - precision: 0.8457 - recall: 0.8457 - AUC: 0.9448\n",
            "Epoch 277/2500\n",
            "371/371 [==============================] - 17s 45ms/step - loss: 0.2752 - tp: 321236.0000 - fp: 58575.0000 - tn: 321236.0000 - fn: 58575.0000 - accuracy: 0.8458 - precision: 0.8458 - recall: 0.8458 - AUC: 0.9448\n",
            "Epoch 278/2500\n",
            "371/371 [==============================] - 17s 45ms/step - loss: 0.2748 - tp: 321369.0000 - fp: 58442.0000 - tn: 321369.0000 - fn: 58442.0000 - accuracy: 0.8461 - precision: 0.8461 - recall: 0.8461 - AUC: 0.9449\n",
            "Epoch 279/2500\n",
            "371/371 [==============================] - 17s 45ms/step - loss: 0.2734 - tp: 321598.0000 - fp: 58213.0000 - tn: 321598.0000 - fn: 58213.0000 - accuracy: 0.8467 - precision: 0.8467 - recall: 0.8467 - AUC: 0.9455\n",
            "Epoch 280/2500\n",
            "371/371 [==============================] - 17s 45ms/step - loss: 0.2763 - tp: 321335.0000 - fp: 58476.0000 - tn: 321335.0000 - fn: 58476.0000 - accuracy: 0.8460 - precision: 0.8460 - recall: 0.8460 - AUC: 0.9447\n",
            "Epoch 281/2500\n",
            "371/371 [==============================] - 17s 45ms/step - loss: 0.2744 - tp: 321915.0000 - fp: 57896.0000 - tn: 321915.0000 - fn: 57896.0000 - accuracy: 0.8476 - precision: 0.8476 - recall: 0.8476 - AUC: 0.9454\n",
            "Epoch 282/2500\n",
            "371/371 [==============================] - 17s 45ms/step - loss: 0.2759 - tp: 321561.0000 - fp: 58250.0000 - tn: 321561.0000 - fn: 58250.0000 - accuracy: 0.8466 - precision: 0.8466 - recall: 0.8466 - AUC: 0.9447\n",
            "Epoch 283/2500\n",
            "371/371 [==============================] - 17s 45ms/step - loss: 0.2735 - tp: 322041.0000 - fp: 57770.0000 - tn: 322041.0000 - fn: 57770.0000 - accuracy: 0.8479 - precision: 0.8479 - recall: 0.8479 - AUC: 0.9458\n",
            "Epoch 284/2500\n",
            "371/371 [==============================] - 17s 45ms/step - loss: 0.2737 - tp: 321867.0000 - fp: 57944.0000 - tn: 321867.0000 - fn: 57944.0000 - accuracy: 0.8474 - precision: 0.8474 - recall: 0.8474 - AUC: 0.9456\n",
            "Epoch 285/2500\n",
            "371/371 [==============================] - 17s 45ms/step - loss: 0.2718 - tp: 321632.0000 - fp: 58179.0000 - tn: 321632.0000 - fn: 58179.0000 - accuracy: 0.8468 - precision: 0.8468 - recall: 0.8468 - AUC: 0.9459\n",
            "Epoch 286/2500\n",
            "371/371 [==============================] - 17s 45ms/step - loss: 0.2728 - tp: 322147.0000 - fp: 57664.0000 - tn: 322147.0000 - fn: 57664.0000 - accuracy: 0.8482 - precision: 0.8482 - recall: 0.8482 - AUC: 0.9458\n",
            "Epoch 287/2500\n",
            "371/371 [==============================] - 17s 45ms/step - loss: 0.2746 - tp: 321631.0000 - fp: 58180.0000 - tn: 321631.0000 - fn: 58180.0000 - accuracy: 0.8468 - precision: 0.8468 - recall: 0.8468 - AUC: 0.9452\n",
            "Epoch 288/2500\n",
            "371/371 [==============================] - 17s 45ms/step - loss: 0.2752 - tp: 321881.0000 - fp: 57930.0000 - tn: 321881.0000 - fn: 57930.0000 - accuracy: 0.8475 - precision: 0.8475 - recall: 0.8475 - AUC: 0.9453\n",
            "Epoch 289/2500\n",
            "371/371 [==============================] - 17s 45ms/step - loss: 0.2729 - tp: 321817.0000 - fp: 57994.0000 - tn: 321817.0000 - fn: 57994.0000 - accuracy: 0.8473 - precision: 0.8473 - recall: 0.8473 - AUC: 0.9459\n",
            "Epoch 290/2500\n",
            "371/371 [==============================] - 17s 45ms/step - loss: 0.2727 - tp: 322265.0000 - fp: 57546.0000 - tn: 322265.0000 - fn: 57546.0000 - accuracy: 0.8485 - precision: 0.8485 - recall: 0.8485 - AUC: 0.9460\n",
            "Epoch 291/2500\n",
            "371/371 [==============================] - 17s 45ms/step - loss: 0.2729 - tp: 321856.0000 - fp: 57955.0000 - tn: 321856.0000 - fn: 57955.0000 - accuracy: 0.8474 - precision: 0.8474 - recall: 0.8474 - AUC: 0.9458\n",
            "Epoch 292/2500\n",
            "371/371 [==============================] - 17s 45ms/step - loss: 0.2728 - tp: 321982.0000 - fp: 57829.0000 - tn: 321982.0000 - fn: 57829.0000 - accuracy: 0.8477 - precision: 0.8477 - recall: 0.8477 - AUC: 0.9458\n",
            "Epoch 293/2500\n",
            "371/371 [==============================] - 17s 45ms/step - loss: 0.2702 - tp: 322363.0000 - fp: 57448.0000 - tn: 322363.0000 - fn: 57448.0000 - accuracy: 0.8487 - precision: 0.8487 - recall: 0.8487 - AUC: 0.9469\n",
            "Epoch 294/2500\n",
            "371/371 [==============================] - 17s 45ms/step - loss: 0.2692 - tp: 322506.0000 - fp: 57305.0000 - tn: 322506.0000 - fn: 57305.0000 - accuracy: 0.8491 - precision: 0.8491 - recall: 0.8491 - AUC: 0.9471\n",
            "Epoch 295/2500\n",
            "371/371 [==============================] - 17s 45ms/step - loss: 0.2702 - tp: 322672.0000 - fp: 57139.0000 - tn: 322672.0000 - fn: 57139.0000 - accuracy: 0.8496 - precision: 0.8496 - recall: 0.8496 - AUC: 0.9469\n",
            "Epoch 296/2500\n",
            "371/371 [==============================] - 17s 45ms/step - loss: 0.2691 - tp: 322671.0000 - fp: 57140.0000 - tn: 322671.0000 - fn: 57140.0000 - accuracy: 0.8496 - precision: 0.8496 - recall: 0.8496 - AUC: 0.9472\n",
            "Epoch 297/2500\n",
            "371/371 [==============================] - 17s 45ms/step - loss: 0.2722 - tp: 322164.0000 - fp: 57647.0000 - tn: 322164.0000 - fn: 57647.0000 - accuracy: 0.8482 - precision: 0.8482 - recall: 0.8482 - AUC: 0.9462\n",
            "Epoch 298/2500\n",
            "371/371 [==============================] - 17s 45ms/step - loss: 0.2729 - tp: 322150.0000 - fp: 57661.0000 - tn: 322150.0000 - fn: 57661.0000 - accuracy: 0.8482 - precision: 0.8482 - recall: 0.8482 - AUC: 0.9461\n",
            "Epoch 299/2500\n",
            "371/371 [==============================] - 17s 45ms/step - loss: 0.2707 - tp: 322413.0000 - fp: 57398.0000 - tn: 322413.0000 - fn: 57398.0000 - accuracy: 0.8489 - precision: 0.8489 - recall: 0.8489 - AUC: 0.9467\n",
            "Epoch 300/2500\n",
            "371/371 [==============================] - 17s 45ms/step - loss: 0.2704 - tp: 322704.0000 - fp: 57107.0000 - tn: 322704.0000 - fn: 57107.0000 - accuracy: 0.8496 - precision: 0.8496 - recall: 0.8496 - AUC: 0.9469\n",
            "Epoch 301/2500\n",
            "371/371 [==============================] - 17s 45ms/step - loss: 0.2713 - tp: 322565.0000 - fp: 57246.0000 - tn: 322565.0000 - fn: 57246.0000 - accuracy: 0.8493 - precision: 0.8493 - recall: 0.8493 - AUC: 0.9468\n",
            "Epoch 302/2500\n",
            "371/371 [==============================] - 17s 45ms/step - loss: 0.2696 - tp: 323090.0000 - fp: 56721.0000 - tn: 323090.0000 - fn: 56721.0000 - accuracy: 0.8507 - precision: 0.8507 - recall: 0.8507 - AUC: 0.9473\n",
            "Epoch 303/2500\n",
            "371/371 [==============================] - 17s 45ms/step - loss: 0.2685 - tp: 323314.0000 - fp: 56497.0000 - tn: 323314.0000 - fn: 56497.0000 - accuracy: 0.8512 - precision: 0.8512 - recall: 0.8512 - AUC: 0.9478\n",
            "Epoch 304/2500\n",
            "371/371 [==============================] - 17s 45ms/step - loss: 0.2699 - tp: 322645.0000 - fp: 57166.0000 - tn: 322645.0000 - fn: 57166.0000 - accuracy: 0.8495 - precision: 0.8495 - recall: 0.8495 - AUC: 0.9472\n",
            "Epoch 305/2500\n",
            "371/371 [==============================] - 17s 45ms/step - loss: 0.2693 - tp: 322748.0000 - fp: 57063.0000 - tn: 322748.0000 - fn: 57063.0000 - accuracy: 0.8498 - precision: 0.8498 - recall: 0.8498 - AUC: 0.9473\n",
            "Epoch 306/2500\n",
            "371/371 [==============================] - 17s 45ms/step - loss: 0.2702 - tp: 322991.0000 - fp: 56820.0000 - tn: 322991.0000 - fn: 56820.0000 - accuracy: 0.8504 - precision: 0.8504 - recall: 0.8504 - AUC: 0.9473\n",
            "Epoch 307/2500\n",
            "371/371 [==============================] - 17s 45ms/step - loss: 0.2666 - tp: 323318.0000 - fp: 56493.0000 - tn: 323318.0000 - fn: 56493.0000 - accuracy: 0.8513 - precision: 0.8513 - recall: 0.8513 - AUC: 0.9484\n",
            "Epoch 308/2500\n",
            "371/371 [==============================] - 17s 45ms/step - loss: 0.2689 - tp: 323046.0000 - fp: 56765.0000 - tn: 323046.0000 - fn: 56765.0000 - accuracy: 0.8505 - precision: 0.8505 - recall: 0.8505 - AUC: 0.9475\n",
            "Epoch 309/2500\n",
            "371/371 [==============================] - 17s 45ms/step - loss: 0.2685 - tp: 322955.0000 - fp: 56856.0000 - tn: 322955.0000 - fn: 56856.0000 - accuracy: 0.8503 - precision: 0.8503 - recall: 0.8503 - AUC: 0.9476\n",
            "Epoch 310/2500\n",
            "371/371 [==============================] - 17s 45ms/step - loss: 0.2686 - tp: 323153.0000 - fp: 56658.0000 - tn: 323153.0000 - fn: 56658.0000 - accuracy: 0.8508 - precision: 0.8508 - recall: 0.8508 - AUC: 0.9477\n",
            "Epoch 311/2500\n",
            "371/371 [==============================] - 17s 45ms/step - loss: 0.2652 - tp: 323848.0000 - fp: 55963.0000 - tn: 323848.0000 - fn: 55963.0000 - accuracy: 0.8527 - precision: 0.8527 - recall: 0.8527 - AUC: 0.9488\n",
            "Epoch 312/2500\n",
            "371/371 [==============================] - 17s 45ms/step - loss: 0.2659 - tp: 323689.0000 - fp: 56122.0000 - tn: 323689.0000 - fn: 56122.0000 - accuracy: 0.8522 - precision: 0.8522 - recall: 0.8522 - AUC: 0.9486\n",
            "Epoch 313/2500\n",
            "371/371 [==============================] - 17s 45ms/step - loss: 0.2656 - tp: 323768.0000 - fp: 56043.0000 - tn: 323768.0000 - fn: 56043.0000 - accuracy: 0.8524 - precision: 0.8524 - recall: 0.8524 - AUC: 0.9488\n",
            "Epoch 314/2500\n",
            "371/371 [==============================] - 17s 45ms/step - loss: 0.2682 - tp: 323221.0000 - fp: 56590.0000 - tn: 323221.0000 - fn: 56590.0000 - accuracy: 0.8510 - precision: 0.8510 - recall: 0.8510 - AUC: 0.9478\n",
            "Epoch 315/2500\n",
            "371/371 [==============================] - 17s 45ms/step - loss: 0.2661 - tp: 323636.0000 - fp: 56175.0000 - tn: 323636.0000 - fn: 56175.0000 - accuracy: 0.8521 - precision: 0.8521 - recall: 0.8521 - AUC: 0.9487\n",
            "Epoch 316/2500\n",
            "371/371 [==============================] - 17s 45ms/step - loss: 0.2657 - tp: 323721.0000 - fp: 56090.0000 - tn: 323721.0000 - fn: 56090.0000 - accuracy: 0.8523 - precision: 0.8523 - recall: 0.8523 - AUC: 0.9487\n",
            "Epoch 317/2500\n",
            "371/371 [==============================] - 17s 45ms/step - loss: 0.2689 - tp: 323525.0000 - fp: 56286.0000 - tn: 323525.0000 - fn: 56286.0000 - accuracy: 0.8518 - precision: 0.8518 - recall: 0.8518 - AUC: 0.9477\n",
            "Epoch 318/2500\n",
            "371/371 [==============================] - 17s 45ms/step - loss: 0.2660 - tp: 323782.0000 - fp: 56029.0000 - tn: 323782.0000 - fn: 56029.0000 - accuracy: 0.8525 - precision: 0.8525 - recall: 0.8525 - AUC: 0.9487\n",
            "Epoch 319/2500\n",
            "371/371 [==============================] - 17s 45ms/step - loss: 0.2656 - tp: 323974.0000 - fp: 55837.0000 - tn: 323974.0000 - fn: 55837.0000 - accuracy: 0.8530 - precision: 0.8530 - recall: 0.8530 - AUC: 0.9489\n",
            "Epoch 320/2500\n",
            "371/371 [==============================] - 17s 45ms/step - loss: 0.2623 - tp: 324217.0000 - fp: 55594.0000 - tn: 324217.0000 - fn: 55594.0000 - accuracy: 0.8536 - precision: 0.8536 - recall: 0.8536 - AUC: 0.9499\n",
            "Epoch 321/2500\n",
            "371/371 [==============================] - 17s 45ms/step - loss: 0.2665 - tp: 323576.0000 - fp: 56235.0000 - tn: 323576.0000 - fn: 56235.0000 - accuracy: 0.8519 - precision: 0.8519 - recall: 0.8519 - AUC: 0.9484\n",
            "Epoch 322/2500\n",
            "371/371 [==============================] - 17s 45ms/step - loss: 0.2684 - tp: 323612.0000 - fp: 56199.0000 - tn: 323612.0000 - fn: 56199.0000 - accuracy: 0.8520 - precision: 0.8520 - recall: 0.8520 - AUC: 0.9481\n",
            "Epoch 323/2500\n",
            "371/371 [==============================] - 17s 45ms/step - loss: 0.2652 - tp: 323968.0000 - fp: 55843.0000 - tn: 323968.0000 - fn: 55843.0000 - accuracy: 0.8530 - precision: 0.8530 - recall: 0.8530 - AUC: 0.9491\n",
            "Epoch 324/2500\n",
            "371/371 [==============================] - 17s 45ms/step - loss: 0.2656 - tp: 323703.0000 - fp: 56108.0000 - tn: 323703.0000 - fn: 56108.0000 - accuracy: 0.8523 - precision: 0.8523 - recall: 0.8523 - AUC: 0.9489\n",
            "Epoch 325/2500\n",
            "371/371 [==============================] - 17s 45ms/step - loss: 0.2653 - tp: 323871.0000 - fp: 55940.0000 - tn: 323871.0000 - fn: 55940.0000 - accuracy: 0.8527 - precision: 0.8527 - recall: 0.8527 - AUC: 0.9489\n",
            "Epoch 326/2500\n",
            "371/371 [==============================] - 17s 45ms/step - loss: 0.2646 - tp: 323852.0000 - fp: 55959.0000 - tn: 323852.0000 - fn: 55959.0000 - accuracy: 0.8527 - precision: 0.8527 - recall: 0.8527 - AUC: 0.9491\n",
            "Epoch 327/2500\n",
            "371/371 [==============================] - 17s 45ms/step - loss: 0.2640 - tp: 324149.0000 - fp: 55662.0000 - tn: 324149.0000 - fn: 55662.0000 - accuracy: 0.8534 - precision: 0.8534 - recall: 0.8534 - AUC: 0.9493\n",
            "Epoch 328/2500\n",
            "371/371 [==============================] - 17s 45ms/step - loss: 0.2645 - tp: 324106.0000 - fp: 55705.0000 - tn: 324106.0000 - fn: 55705.0000 - accuracy: 0.8533 - precision: 0.8533 - recall: 0.8533 - AUC: 0.9494\n",
            "Epoch 329/2500\n",
            "371/371 [==============================] - 17s 45ms/step - loss: 0.2644 - tp: 324221.0000 - fp: 55590.0000 - tn: 324221.0000 - fn: 55590.0000 - accuracy: 0.8536 - precision: 0.8536 - recall: 0.8536 - AUC: 0.9494\n",
            "Epoch 330/2500\n",
            "371/371 [==============================] - 17s 45ms/step - loss: 0.2651 - tp: 323928.0000 - fp: 55883.0000 - tn: 323928.0000 - fn: 55883.0000 - accuracy: 0.8529 - precision: 0.8529 - recall: 0.8529 - AUC: 0.9491\n",
            "Epoch 331/2500\n",
            "371/371 [==============================] - 17s 45ms/step - loss: 0.2636 - tp: 324368.0000 - fp: 55443.0000 - tn: 324368.0000 - fn: 55443.0000 - accuracy: 0.8540 - precision: 0.8540 - recall: 0.8540 - AUC: 0.9496\n",
            "Epoch 332/2500\n",
            "371/371 [==============================] - 17s 45ms/step - loss: 0.2629 - tp: 324276.0000 - fp: 55535.0000 - tn: 324276.0000 - fn: 55535.0000 - accuracy: 0.8538 - precision: 0.8538 - recall: 0.8538 - AUC: 0.9498\n",
            "Epoch 333/2500\n",
            "371/371 [==============================] - 17s 45ms/step - loss: 0.2624 - tp: 324461.0000 - fp: 55350.0000 - tn: 324461.0000 - fn: 55350.0000 - accuracy: 0.8543 - precision: 0.8543 - recall: 0.8543 - AUC: 0.9500\n",
            "Epoch 334/2500\n",
            "371/371 [==============================] - 17s 45ms/step - loss: 0.2614 - tp: 324713.0000 - fp: 55098.0000 - tn: 324713.0000 - fn: 55098.0000 - accuracy: 0.8549 - precision: 0.8549 - recall: 0.8549 - AUC: 0.9504\n",
            "Epoch 335/2500\n",
            "371/371 [==============================] - 17s 45ms/step - loss: 0.2637 - tp: 324716.0000 - fp: 55095.0000 - tn: 324716.0000 - fn: 55095.0000 - accuracy: 0.8549 - precision: 0.8549 - recall: 0.8549 - AUC: 0.9499\n",
            "Epoch 336/2500\n",
            "371/371 [==============================] - 17s 45ms/step - loss: 0.2648 - tp: 324262.0000 - fp: 55549.0000 - tn: 324262.0000 - fn: 55549.0000 - accuracy: 0.8537 - precision: 0.8537 - recall: 0.8537 - AUC: 0.9494\n",
            "Epoch 337/2500\n",
            "371/371 [==============================] - 17s 45ms/step - loss: 0.2636 - tp: 324686.0000 - fp: 55125.0000 - tn: 324686.0000 - fn: 55125.0000 - accuracy: 0.8549 - precision: 0.8549 - recall: 0.8549 - AUC: 0.9499\n",
            "Epoch 338/2500\n",
            "371/371 [==============================] - 17s 45ms/step - loss: 0.2624 - tp: 324454.0000 - fp: 55357.0000 - tn: 324454.0000 - fn: 55357.0000 - accuracy: 0.8543 - precision: 0.8543 - recall: 0.8543 - AUC: 0.9501\n",
            "Epoch 339/2500\n",
            "371/371 [==============================] - 17s 45ms/step - loss: 0.2619 - tp: 325087.0000 - fp: 54724.0000 - tn: 325087.0000 - fn: 54724.0000 - accuracy: 0.8559 - precision: 0.8559 - recall: 0.8559 - AUC: 0.9506\n",
            "Epoch 340/2500\n",
            "371/371 [==============================] - 17s 45ms/step - loss: 0.2602 - tp: 325058.0000 - fp: 54753.0000 - tn: 325058.0000 - fn: 54753.0000 - accuracy: 0.8558 - precision: 0.8558 - recall: 0.8558 - AUC: 0.9509\n",
            "Epoch 341/2500\n",
            "371/371 [==============================] - 17s 45ms/step - loss: 0.2607 - tp: 325207.0000 - fp: 54604.0000 - tn: 325207.0000 - fn: 54604.0000 - accuracy: 0.8562 - precision: 0.8562 - recall: 0.8562 - AUC: 0.9510\n",
            "Epoch 342/2500\n",
            "371/371 [==============================] - 17s 45ms/step - loss: 0.2591 - tp: 325217.0000 - fp: 54594.0000 - tn: 325217.0000 - fn: 54594.0000 - accuracy: 0.8563 - precision: 0.8563 - recall: 0.8563 - AUC: 0.9513\n",
            "Epoch 343/2500\n",
            "371/371 [==============================] - 17s 45ms/step - loss: 0.2613 - tp: 324953.0000 - fp: 54858.0000 - tn: 324953.0000 - fn: 54858.0000 - accuracy: 0.8556 - precision: 0.8556 - recall: 0.8556 - AUC: 0.9506\n",
            "Epoch 344/2500\n",
            "371/371 [==============================] - 17s 45ms/step - loss: 0.2646 - tp: 324643.0000 - fp: 55168.0000 - tn: 324643.0000 - fn: 55168.0000 - accuracy: 0.8547 - precision: 0.8547 - recall: 0.8547 - AUC: 0.9497\n",
            "Epoch 345/2500\n",
            "371/371 [==============================] - 17s 45ms/step - loss: 0.2625 - tp: 324566.0000 - fp: 55245.0000 - tn: 324566.0000 - fn: 55245.0000 - accuracy: 0.8545 - precision: 0.8545 - recall: 0.8545 - AUC: 0.9501\n",
            "Epoch 346/2500\n",
            "371/371 [==============================] - 17s 45ms/step - loss: 0.2615 - tp: 325239.0000 - fp: 54572.0000 - tn: 325239.0000 - fn: 54572.0000 - accuracy: 0.8563 - precision: 0.8563 - recall: 0.8563 - AUC: 0.9508\n",
            "Epoch 347/2500\n",
            "371/371 [==============================] - 17s 45ms/step - loss: 0.2628 - tp: 324741.0000 - fp: 55070.0000 - tn: 324741.0000 - fn: 55070.0000 - accuracy: 0.8550 - precision: 0.8550 - recall: 0.8550 - AUC: 0.9501\n",
            "Epoch 348/2500\n",
            "371/371 [==============================] - 17s 45ms/step - loss: 0.2586 - tp: 325320.0000 - fp: 54491.0000 - tn: 325320.0000 - fn: 54491.0000 - accuracy: 0.8565 - precision: 0.8565 - recall: 0.8565 - AUC: 0.9515\n",
            "Epoch 349/2500\n",
            "371/371 [==============================] - 17s 45ms/step - loss: 0.2592 - tp: 325388.0000 - fp: 54423.0000 - tn: 325388.0000 - fn: 54423.0000 - accuracy: 0.8567 - precision: 0.8567 - recall: 0.8567 - AUC: 0.9514\n",
            "Epoch 350/2500\n",
            "371/371 [==============================] - 17s 45ms/step - loss: 0.2582 - tp: 325433.0000 - fp: 54378.0000 - tn: 325433.0000 - fn: 54378.0000 - accuracy: 0.8568 - precision: 0.8568 - recall: 0.8568 - AUC: 0.9516\n",
            "Epoch 351/2500\n",
            "371/371 [==============================] - 17s 45ms/step - loss: 0.2611 - tp: 324864.0000 - fp: 54947.0000 - tn: 324864.0000 - fn: 54947.0000 - accuracy: 0.8553 - precision: 0.8553 - recall: 0.8553 - AUC: 0.9507\n",
            "Epoch 352/2500\n",
            "371/371 [==============================] - 17s 45ms/step - loss: 0.2600 - tp: 325242.0000 - fp: 54569.0000 - tn: 325242.0000 - fn: 54569.0000 - accuracy: 0.8563 - precision: 0.8563 - recall: 0.8563 - AUC: 0.9512\n",
            "Epoch 353/2500\n",
            "371/371 [==============================] - 17s 45ms/step - loss: 0.2579 - tp: 325709.0000 - fp: 54102.0000 - tn: 325709.0000 - fn: 54102.0000 - accuracy: 0.8576 - precision: 0.8576 - recall: 0.8576 - AUC: 0.9519\n",
            "Epoch 354/2500\n",
            "371/371 [==============================] - 17s 45ms/step - loss: 0.2619 - tp: 324778.0000 - fp: 55033.0000 - tn: 324778.0000 - fn: 55033.0000 - accuracy: 0.8551 - precision: 0.8551 - recall: 0.8551 - AUC: 0.9505\n",
            "Epoch 355/2500\n",
            "371/371 [==============================] - 17s 45ms/step - loss: 0.2610 - tp: 325386.0000 - fp: 54425.0000 - tn: 325386.0000 - fn: 54425.0000 - accuracy: 0.8567 - precision: 0.8567 - recall: 0.8567 - AUC: 0.9509\n",
            "Epoch 356/2500\n",
            "371/371 [==============================] - 17s 45ms/step - loss: 0.2615 - tp: 325277.0000 - fp: 54534.0000 - tn: 325277.0000 - fn: 54534.0000 - accuracy: 0.8564 - precision: 0.8564 - recall: 0.8564 - AUC: 0.9509\n",
            "Epoch 357/2500\n",
            "371/371 [==============================] - 17s 45ms/step - loss: 0.2593 - tp: 325252.0000 - fp: 54559.0000 - tn: 325252.0000 - fn: 54559.0000 - accuracy: 0.8564 - precision: 0.8564 - recall: 0.8564 - AUC: 0.9513\n",
            "Epoch 358/2500\n",
            "371/371 [==============================] - 17s 45ms/step - loss: 0.2592 - tp: 325567.0000 - fp: 54244.0000 - tn: 325567.0000 - fn: 54244.0000 - accuracy: 0.8572 - precision: 0.8572 - recall: 0.8572 - AUC: 0.9516\n",
            "Epoch 359/2500\n",
            "371/371 [==============================] - 17s 45ms/step - loss: 0.2587 - tp: 325366.0000 - fp: 54445.0000 - tn: 325366.0000 - fn: 54445.0000 - accuracy: 0.8567 - precision: 0.8567 - recall: 0.8567 - AUC: 0.9514\n",
            "Epoch 360/2500\n",
            "371/371 [==============================] - 17s 45ms/step - loss: 0.2574 - tp: 325691.0000 - fp: 54120.0000 - tn: 325691.0000 - fn: 54120.0000 - accuracy: 0.8575 - precision: 0.8575 - recall: 0.8575 - AUC: 0.9520\n",
            "Epoch 361/2500\n",
            "371/371 [==============================] - 17s 45ms/step - loss: 0.2572 - tp: 325728.0000 - fp: 54083.0000 - tn: 325728.0000 - fn: 54083.0000 - accuracy: 0.8576 - precision: 0.8576 - recall: 0.8576 - AUC: 0.9522\n",
            "Epoch 362/2500\n",
            "371/371 [==============================] - 17s 45ms/step - loss: 0.2578 - tp: 325802.0000 - fp: 54009.0000 - tn: 325802.0000 - fn: 54009.0000 - accuracy: 0.8578 - precision: 0.8578 - recall: 0.8578 - AUC: 0.9519\n",
            "Epoch 363/2500\n",
            "371/371 [==============================] - 17s 45ms/step - loss: 0.2574 - tp: 325788.0000 - fp: 54023.0000 - tn: 325788.0000 - fn: 54023.0000 - accuracy: 0.8578 - precision: 0.8578 - recall: 0.8578 - AUC: 0.9521\n",
            "Epoch 364/2500\n",
            "371/371 [==============================] - 17s 45ms/step - loss: 0.2557 - tp: 326233.0000 - fp: 53578.0000 - tn: 326233.0000 - fn: 53578.0000 - accuracy: 0.8589 - precision: 0.8589 - recall: 0.8589 - AUC: 0.9526\n",
            "Epoch 365/2500\n",
            "371/371 [==============================] - 17s 45ms/step - loss: 0.2556 - tp: 326300.0000 - fp: 53511.0000 - tn: 326300.0000 - fn: 53511.0000 - accuracy: 0.8591 - precision: 0.8591 - recall: 0.8591 - AUC: 0.9528\n",
            "Epoch 366/2500\n",
            "371/371 [==============================] - 17s 45ms/step - loss: 0.2589 - tp: 325843.0000 - fp: 53968.0000 - tn: 325843.0000 - fn: 53968.0000 - accuracy: 0.8579 - precision: 0.8579 - recall: 0.8579 - AUC: 0.9517\n",
            "Epoch 367/2500\n",
            "371/371 [==============================] - 17s 45ms/step - loss: 0.2578 - tp: 325863.0000 - fp: 53948.0000 - tn: 325863.0000 - fn: 53948.0000 - accuracy: 0.8580 - precision: 0.8580 - recall: 0.8580 - AUC: 0.9519\n",
            "Epoch 368/2500\n",
            "371/371 [==============================] - 17s 45ms/step - loss: 0.2582 - tp: 325696.0000 - fp: 54115.0000 - tn: 325696.0000 - fn: 54115.0000 - accuracy: 0.8575 - precision: 0.8575 - recall: 0.8575 - AUC: 0.9518\n",
            "Epoch 369/2500\n",
            "371/371 [==============================] - 17s 45ms/step - loss: 0.2564 - tp: 326113.0000 - fp: 53698.0000 - tn: 326113.0000 - fn: 53698.0000 - accuracy: 0.8586 - precision: 0.8586 - recall: 0.8586 - AUC: 0.9524\n",
            "Epoch 370/2500\n",
            "371/371 [==============================] - 17s 45ms/step - loss: 0.2571 - tp: 326225.0000 - fp: 53586.0000 - tn: 326225.0000 - fn: 53586.0000 - accuracy: 0.8589 - precision: 0.8589 - recall: 0.8589 - AUC: 0.9524\n",
            "Epoch 371/2500\n",
            "371/371 [==============================] - 17s 45ms/step - loss: 0.2571 - tp: 326155.0000 - fp: 53656.0000 - tn: 326155.0000 - fn: 53656.0000 - accuracy: 0.8587 - precision: 0.8587 - recall: 0.8587 - AUC: 0.9524\n",
            "Epoch 372/2500\n",
            "371/371 [==============================] - 17s 45ms/step - loss: 0.2577 - tp: 325836.0000 - fp: 53975.0000 - tn: 325836.0000 - fn: 53975.0000 - accuracy: 0.8579 - precision: 0.8579 - recall: 0.8579 - AUC: 0.9522\n",
            "Epoch 373/2500\n",
            "371/371 [==============================] - 17s 45ms/step - loss: 0.2619 - tp: 325609.0000 - fp: 54202.0000 - tn: 325609.0000 - fn: 54202.0000 - accuracy: 0.8573 - precision: 0.8573 - recall: 0.8573 - AUC: 0.9510\n",
            "Epoch 374/2500\n",
            "371/371 [==============================] - 17s 45ms/step - loss: 0.2551 - tp: 326459.0000 - fp: 53352.0000 - tn: 326459.0000 - fn: 53352.0000 - accuracy: 0.8595 - precision: 0.8595 - recall: 0.8595 - AUC: 0.9531\n",
            "Epoch 375/2500\n",
            "371/371 [==============================] - 17s 45ms/step - loss: 0.2545 - tp: 326264.0000 - fp: 53547.0000 - tn: 326264.0000 - fn: 53547.0000 - accuracy: 0.8590 - precision: 0.8590 - recall: 0.8590 - AUC: 0.9530\n",
            "Epoch 376/2500\n",
            "371/371 [==============================] - 17s 45ms/step - loss: 0.2568 - tp: 326025.0000 - fp: 53786.0000 - tn: 326025.0000 - fn: 53786.0000 - accuracy: 0.8584 - precision: 0.8584 - recall: 0.8584 - AUC: 0.9523\n",
            "Epoch 377/2500\n",
            "371/371 [==============================] - 17s 45ms/step - loss: 0.2533 - tp: 326647.0000 - fp: 53164.0000 - tn: 326647.0000 - fn: 53164.0000 - accuracy: 0.8600 - precision: 0.8600 - recall: 0.8600 - AUC: 0.9536\n",
            "Epoch 378/2500\n",
            "371/371 [==============================] - 17s 45ms/step - loss: 0.2545 - tp: 326401.0000 - fp: 53410.0000 - tn: 326401.0000 - fn: 53410.0000 - accuracy: 0.8594 - precision: 0.8594 - recall: 0.8594 - AUC: 0.9531\n",
            "Epoch 379/2500\n",
            "371/371 [==============================] - 17s 45ms/step - loss: 0.2542 - tp: 326661.0000 - fp: 53150.0000 - tn: 326661.0000 - fn: 53150.0000 - accuracy: 0.8601 - precision: 0.8601 - recall: 0.8601 - AUC: 0.9533\n",
            "Epoch 380/2500\n",
            "371/371 [==============================] - 17s 45ms/step - loss: 0.2575 - tp: 326109.0000 - fp: 53702.0000 - tn: 326109.0000 - fn: 53702.0000 - accuracy: 0.8586 - precision: 0.8586 - recall: 0.8586 - AUC: 0.9522\n",
            "Epoch 381/2500\n",
            "371/371 [==============================] - 17s 45ms/step - loss: 0.2528 - tp: 326923.0000 - fp: 52888.0000 - tn: 326923.0000 - fn: 52888.0000 - accuracy: 0.8608 - precision: 0.8608 - recall: 0.8608 - AUC: 0.9537\n",
            "Epoch 382/2500\n",
            "371/371 [==============================] - 17s 45ms/step - loss: 0.2549 - tp: 326581.0000 - fp: 53230.0000 - tn: 326581.0000 - fn: 53230.0000 - accuracy: 0.8599 - precision: 0.8599 - recall: 0.8599 - AUC: 0.9533\n",
            "Epoch 383/2500\n",
            "371/371 [==============================] - 17s 45ms/step - loss: 0.2542 - tp: 326719.0000 - fp: 53092.0000 - tn: 326719.0000 - fn: 53092.0000 - accuracy: 0.8602 - precision: 0.8602 - recall: 0.8602 - AUC: 0.9533\n",
            "Epoch 384/2500\n",
            "371/371 [==============================] - 17s 45ms/step - loss: 0.2531 - tp: 326864.0000 - fp: 52947.0000 - tn: 326864.0000 - fn: 52947.0000 - accuracy: 0.8606 - precision: 0.8606 - recall: 0.8606 - AUC: 0.9537\n",
            "Epoch 385/2500\n",
            "371/371 [==============================] - 17s 45ms/step - loss: 0.2562 - tp: 326545.0000 - fp: 53266.0000 - tn: 326545.0000 - fn: 53266.0000 - accuracy: 0.8598 - precision: 0.8598 - recall: 0.8598 - AUC: 0.9528\n",
            "Epoch 386/2500\n",
            "371/371 [==============================] - 17s 46ms/step - loss: 0.2576 - tp: 326383.0000 - fp: 53428.0000 - tn: 326383.0000 - fn: 53428.0000 - accuracy: 0.8593 - precision: 0.8593 - recall: 0.8593 - AUC: 0.9524\n",
            "Epoch 387/2500\n",
            "371/371 [==============================] - 17s 45ms/step - loss: 0.2547 - tp: 326622.0000 - fp: 53189.0000 - tn: 326622.0000 - fn: 53189.0000 - accuracy: 0.8600 - precision: 0.8600 - recall: 0.8600 - AUC: 0.9532\n",
            "Epoch 388/2500\n",
            "371/371 [==============================] - 17s 45ms/step - loss: 0.2541 - tp: 327049.0000 - fp: 52762.0000 - tn: 327049.0000 - fn: 52762.0000 - accuracy: 0.8611 - precision: 0.8611 - recall: 0.8611 - AUC: 0.9537\n",
            "Epoch 389/2500\n",
            "371/371 [==============================] - 17s 45ms/step - loss: 0.2528 - tp: 326948.0000 - fp: 52863.0000 - tn: 326948.0000 - fn: 52863.0000 - accuracy: 0.8608 - precision: 0.8608 - recall: 0.8608 - AUC: 0.9539\n",
            "Epoch 390/2500\n",
            "371/371 [==============================] - 17s 45ms/step - loss: 0.2531 - tp: 326744.0000 - fp: 53067.0000 - tn: 326744.0000 - fn: 53067.0000 - accuracy: 0.8603 - precision: 0.8603 - recall: 0.8603 - AUC: 0.9536\n",
            "Epoch 391/2500\n",
            "371/371 [==============================] - 17s 45ms/step - loss: 0.2516 - tp: 327057.0000 - fp: 52754.0000 - tn: 327057.0000 - fn: 52754.0000 - accuracy: 0.8611 - precision: 0.8611 - recall: 0.8611 - AUC: 0.9541\n",
            "Epoch 392/2500\n",
            "371/371 [==============================] - 17s 45ms/step - loss: 0.2521 - tp: 326896.0000 - fp: 52915.0000 - tn: 326896.0000 - fn: 52915.0000 - accuracy: 0.8607 - precision: 0.8607 - recall: 0.8607 - AUC: 0.9539\n",
            "Epoch 393/2500\n",
            "371/371 [==============================] - 17s 45ms/step - loss: 0.2534 - tp: 326963.0000 - fp: 52848.0000 - tn: 326963.0000 - fn: 52848.0000 - accuracy: 0.8609 - precision: 0.8609 - recall: 0.8609 - AUC: 0.9539\n",
            "Epoch 394/2500\n",
            "371/371 [==============================] - 17s 45ms/step - loss: 0.2531 - tp: 326788.0000 - fp: 53023.0000 - tn: 326788.0000 - fn: 53023.0000 - accuracy: 0.8604 - precision: 0.8604 - recall: 0.8604 - AUC: 0.9536\n",
            "Epoch 395/2500\n",
            "371/371 [==============================] - 17s 45ms/step - loss: 0.2539 - tp: 327033.0000 - fp: 52778.0000 - tn: 327033.0000 - fn: 52778.0000 - accuracy: 0.8610 - precision: 0.8610 - recall: 0.8610 - AUC: 0.9538\n",
            "Epoch 396/2500\n",
            "371/371 [==============================] - 17s 45ms/step - loss: 0.2505 - tp: 327603.0000 - fp: 52208.0000 - tn: 327603.0000 - fn: 52208.0000 - accuracy: 0.8625 - precision: 0.8625 - recall: 0.8625 - AUC: 0.9548\n",
            "Epoch 397/2500\n",
            "371/371 [==============================] - 17s 45ms/step - loss: 0.2519 - tp: 327153.0000 - fp: 52658.0000 - tn: 327153.0000 - fn: 52658.0000 - accuracy: 0.8614 - precision: 0.8614 - recall: 0.8614 - AUC: 0.9543\n",
            "Epoch 398/2500\n",
            "371/371 [==============================] - 17s 45ms/step - loss: 0.2551 - tp: 326743.0000 - fp: 53068.0000 - tn: 326743.0000 - fn: 53068.0000 - accuracy: 0.8603 - precision: 0.8603 - recall: 0.8603 - AUC: 0.9532\n",
            "Epoch 399/2500\n",
            "371/371 [==============================] - 17s 45ms/step - loss: 0.2537 - tp: 327118.0000 - fp: 52693.0000 - tn: 327118.0000 - fn: 52693.0000 - accuracy: 0.8613 - precision: 0.8613 - recall: 0.8613 - AUC: 0.9537\n",
            "Epoch 400/2500\n",
            "371/371 [==============================] - 17s 45ms/step - loss: 0.2504 - tp: 327237.0000 - fp: 52574.0000 - tn: 327237.0000 - fn: 52574.0000 - accuracy: 0.8616 - precision: 0.8616 - recall: 0.8616 - AUC: 0.9547\n",
            "Epoch 401/2500\n",
            "371/371 [==============================] - 17s 45ms/step - loss: 0.2482 - tp: 327808.0000 - fp: 52003.0000 - tn: 327808.0000 - fn: 52003.0000 - accuracy: 0.8631 - precision: 0.8631 - recall: 0.8631 - AUC: 0.9554\n",
            "Epoch 402/2500\n",
            "371/371 [==============================] - 17s 45ms/step - loss: 0.2498 - tp: 327462.0000 - fp: 52349.0000 - tn: 327462.0000 - fn: 52349.0000 - accuracy: 0.8622 - precision: 0.8622 - recall: 0.8622 - AUC: 0.9548\n",
            "Epoch 403/2500\n",
            "371/371 [==============================] - 16s 44ms/step - loss: 0.2500 - tp: 327669.0000 - fp: 52142.0000 - tn: 327669.0000 - fn: 52142.0000 - accuracy: 0.8627 - precision: 0.8627 - recall: 0.8627 - AUC: 0.9549\n",
            "Epoch 404/2500\n",
            "371/371 [==============================] - 17s 45ms/step - loss: 0.2521 - tp: 327318.0000 - fp: 52493.0000 - tn: 327318.0000 - fn: 52493.0000 - accuracy: 0.8618 - precision: 0.8618 - recall: 0.8618 - AUC: 0.9544\n",
            "Epoch 405/2500\n",
            "371/371 [==============================] - 16s 44ms/step - loss: 0.2524 - tp: 327355.0000 - fp: 52456.0000 - tn: 327355.0000 - fn: 52456.0000 - accuracy: 0.8619 - precision: 0.8619 - recall: 0.8619 - AUC: 0.9541\n",
            "Epoch 406/2500\n",
            "371/371 [==============================] - 16s 44ms/step - loss: 0.2519 - tp: 327329.0000 - fp: 52482.0000 - tn: 327329.0000 - fn: 52482.0000 - accuracy: 0.8618 - precision: 0.8618 - recall: 0.8618 - AUC: 0.9542\n",
            "Epoch 407/2500\n",
            "371/371 [==============================] - 16s 44ms/step - loss: 0.2515 - tp: 327627.0000 - fp: 52184.0000 - tn: 327627.0000 - fn: 52184.0000 - accuracy: 0.8626 - precision: 0.8626 - recall: 0.8626 - AUC: 0.9546\n",
            "Epoch 408/2500\n",
            "371/371 [==============================] - 16s 44ms/step - loss: 0.2496 - tp: 327625.0000 - fp: 52186.0000 - tn: 327625.0000 - fn: 52186.0000 - accuracy: 0.8626 - precision: 0.8626 - recall: 0.8626 - AUC: 0.9550\n",
            "Epoch 409/2500\n",
            "371/371 [==============================] - 16s 44ms/step - loss: 0.2466 - tp: 328139.0000 - fp: 51672.0000 - tn: 328139.0000 - fn: 51672.0000 - accuracy: 0.8640 - precision: 0.8640 - recall: 0.8640 - AUC: 0.9558\n",
            "Epoch 410/2500\n",
            "371/371 [==============================] - 16s 44ms/step - loss: 0.2518 - tp: 327438.0000 - fp: 52373.0000 - tn: 327438.0000 - fn: 52373.0000 - accuracy: 0.8621 - precision: 0.8621 - recall: 0.8621 - AUC: 0.9545\n",
            "Epoch 411/2500\n",
            "371/371 [==============================] - 16s 44ms/step - loss: 0.2498 - tp: 327607.0000 - fp: 52204.0000 - tn: 327607.0000 - fn: 52204.0000 - accuracy: 0.8626 - precision: 0.8626 - recall: 0.8626 - AUC: 0.9550\n",
            "Epoch 412/2500\n",
            "371/371 [==============================] - 16s 44ms/step - loss: 0.2488 - tp: 327914.0000 - fp: 51897.0000 - tn: 327914.0000 - fn: 51897.0000 - accuracy: 0.8634 - precision: 0.8634 - recall: 0.8634 - AUC: 0.9553\n",
            "Epoch 413/2500\n",
            "371/371 [==============================] - 16s 44ms/step - loss: 0.2504 - tp: 327775.0000 - fp: 52036.0000 - tn: 327775.0000 - fn: 52036.0000 - accuracy: 0.8630 - precision: 0.8630 - recall: 0.8630 - AUC: 0.9548\n",
            "Epoch 414/2500\n",
            "371/371 [==============================] - 16s 44ms/step - loss: 0.2522 - tp: 327450.0000 - fp: 52361.0000 - tn: 327450.0000 - fn: 52361.0000 - accuracy: 0.8621 - precision: 0.8621 - recall: 0.8621 - AUC: 0.9544\n",
            "Epoch 415/2500\n",
            "371/371 [==============================] - 16s 44ms/step - loss: 0.2495 - tp: 327719.0000 - fp: 52092.0000 - tn: 327719.0000 - fn: 52092.0000 - accuracy: 0.8628 - precision: 0.8628 - recall: 0.8628 - AUC: 0.9552\n",
            "Epoch 416/2500\n",
            "371/371 [==============================] - 16s 44ms/step - loss: 0.2491 - tp: 327984.0000 - fp: 51827.0000 - tn: 327984.0000 - fn: 51827.0000 - accuracy: 0.8635 - precision: 0.8635 - recall: 0.8635 - AUC: 0.9554\n",
            "Epoch 417/2500\n",
            "371/371 [==============================] - 16s 44ms/step - loss: 0.2498 - tp: 327903.0000 - fp: 51908.0000 - tn: 327903.0000 - fn: 51908.0000 - accuracy: 0.8633 - precision: 0.8633 - recall: 0.8633 - AUC: 0.9551\n",
            "Epoch 418/2500\n",
            "371/371 [==============================] - 16s 44ms/step - loss: 0.2477 - tp: 328049.0000 - fp: 51762.0000 - tn: 328049.0000 - fn: 51762.0000 - accuracy: 0.8637 - precision: 0.8637 - recall: 0.8637 - AUC: 0.9556\n",
            "Epoch 419/2500\n",
            "371/371 [==============================] - 16s 44ms/step - loss: 0.2492 - tp: 328160.0000 - fp: 51651.0000 - tn: 328160.0000 - fn: 51651.0000 - accuracy: 0.8640 - precision: 0.8640 - recall: 0.8640 - AUC: 0.9554\n",
            "Epoch 420/2500\n",
            "371/371 [==============================] - 16s 44ms/step - loss: 0.2514 - tp: 327779.0000 - fp: 52032.0000 - tn: 327779.0000 - fn: 52032.0000 - accuracy: 0.8630 - precision: 0.8630 - recall: 0.8630 - AUC: 0.9548\n",
            "Epoch 421/2500\n",
            "371/371 [==============================] - 16s 44ms/step - loss: 0.2507 - tp: 327601.0000 - fp: 52210.0000 - tn: 327601.0000 - fn: 52210.0000 - accuracy: 0.8625 - precision: 0.8625 - recall: 0.8625 - AUC: 0.9548\n",
            "Epoch 422/2500\n",
            "371/371 [==============================] - 16s 44ms/step - loss: 0.2498 - tp: 328018.0000 - fp: 51793.0000 - tn: 328018.0000 - fn: 51793.0000 - accuracy: 0.8636 - precision: 0.8636 - recall: 0.8636 - AUC: 0.9552\n",
            "Epoch 423/2500\n",
            "371/371 [==============================] - 16s 44ms/step - loss: 0.2478 - tp: 328338.0000 - fp: 51473.0000 - tn: 328338.0000 - fn: 51473.0000 - accuracy: 0.8645 - precision: 0.8645 - recall: 0.8645 - AUC: 0.9560\n",
            "Epoch 424/2500\n",
            "371/371 [==============================] - 16s 44ms/step - loss: 0.2489 - tp: 328343.0000 - fp: 51468.0000 - tn: 328343.0000 - fn: 51468.0000 - accuracy: 0.8645 - precision: 0.8645 - recall: 0.8645 - AUC: 0.9556\n",
            "Epoch 425/2500\n",
            "371/371 [==============================] - 16s 44ms/step - loss: 0.2481 - tp: 328395.0000 - fp: 51416.0000 - tn: 328395.0000 - fn: 51416.0000 - accuracy: 0.8646 - precision: 0.8646 - recall: 0.8646 - AUC: 0.9558\n",
            "Epoch 426/2500\n",
            "371/371 [==============================] - 16s 44ms/step - loss: 0.2462 - tp: 328605.0000 - fp: 51206.0000 - tn: 328605.0000 - fn: 51206.0000 - accuracy: 0.8652 - precision: 0.8652 - recall: 0.8652 - AUC: 0.9562\n",
            "Epoch 427/2500\n",
            "371/371 [==============================] - 16s 44ms/step - loss: 0.2474 - tp: 328381.0000 - fp: 51430.0000 - tn: 328381.0000 - fn: 51430.0000 - accuracy: 0.8646 - precision: 0.8646 - recall: 0.8646 - AUC: 0.9558\n",
            "Epoch 428/2500\n",
            "371/371 [==============================] - 16s 44ms/step - loss: 0.2460 - tp: 328713.0000 - fp: 51098.0000 - tn: 328713.0000 - fn: 51098.0000 - accuracy: 0.8655 - precision: 0.8655 - recall: 0.8655 - AUC: 0.9564\n",
            "Epoch 429/2500\n",
            "371/371 [==============================] - 16s 44ms/step - loss: 0.2485 - tp: 328294.0000 - fp: 51517.0000 - tn: 328294.0000 - fn: 51517.0000 - accuracy: 0.8644 - precision: 0.8644 - recall: 0.8644 - AUC: 0.9556\n",
            "Epoch 430/2500\n",
            "371/371 [==============================] - 16s 44ms/step - loss: 0.2487 - tp: 328062.0000 - fp: 51749.0000 - tn: 328062.0000 - fn: 51749.0000 - accuracy: 0.8638 - precision: 0.8638 - recall: 0.8638 - AUC: 0.9555\n",
            "Epoch 431/2500\n",
            "371/371 [==============================] - 16s 44ms/step - loss: 0.2488 - tp: 328124.0000 - fp: 51687.0000 - tn: 328124.0000 - fn: 51687.0000 - accuracy: 0.8639 - precision: 0.8639 - recall: 0.8639 - AUC: 0.9556\n",
            "Epoch 432/2500\n",
            "371/371 [==============================] - 16s 44ms/step - loss: 0.2477 - tp: 328464.0000 - fp: 51347.0000 - tn: 328464.0000 - fn: 51347.0000 - accuracy: 0.8648 - precision: 0.8648 - recall: 0.8648 - AUC: 0.9560\n",
            "Epoch 433/2500\n",
            "371/371 [==============================] - 16s 44ms/step - loss: 0.2478 - tp: 328539.0000 - fp: 51272.0000 - tn: 328539.0000 - fn: 51272.0000 - accuracy: 0.8650 - precision: 0.8650 - recall: 0.8650 - AUC: 0.9560\n",
            "Epoch 434/2500\n",
            "371/371 [==============================] - 16s 44ms/step - loss: 0.2495 - tp: 328117.0000 - fp: 51694.0000 - tn: 328117.0000 - fn: 51694.0000 - accuracy: 0.8639 - precision: 0.8639 - recall: 0.8639 - AUC: 0.9552\n",
            "Epoch 435/2500\n",
            "371/371 [==============================] - 16s 44ms/step - loss: 0.2476 - tp: 328568.0000 - fp: 51243.0000 - tn: 328568.0000 - fn: 51243.0000 - accuracy: 0.8651 - precision: 0.8651 - recall: 0.8651 - AUC: 0.9560\n",
            "Epoch 436/2500\n",
            "371/371 [==============================] - 16s 44ms/step - loss: 0.2437 - tp: 329082.0000 - fp: 50729.0000 - tn: 329082.0000 - fn: 50729.0000 - accuracy: 0.8664 - precision: 0.8664 - recall: 0.8664 - AUC: 0.9571\n",
            "Epoch 437/2500\n",
            "371/371 [==============================] - 16s 44ms/step - loss: 0.2474 - tp: 328699.0000 - fp: 51112.0000 - tn: 328699.0000 - fn: 51112.0000 - accuracy: 0.8654 - precision: 0.8654 - recall: 0.8654 - AUC: 0.9561\n",
            "Epoch 438/2500\n",
            "371/371 [==============================] - 16s 44ms/step - loss: 0.2461 - tp: 328593.0000 - fp: 51218.0000 - tn: 328593.0000 - fn: 51218.0000 - accuracy: 0.8651 - precision: 0.8651 - recall: 0.8651 - AUC: 0.9562\n",
            "Epoch 439/2500\n",
            "371/371 [==============================] - 16s 44ms/step - loss: 0.2466 - tp: 328745.0000 - fp: 51066.0000 - tn: 328745.0000 - fn: 51066.0000 - accuracy: 0.8655 - precision: 0.8655 - recall: 0.8655 - AUC: 0.9564\n",
            "Epoch 440/2500\n",
            "371/371 [==============================] - 16s 44ms/step - loss: 0.2464 - tp: 328806.0000 - fp: 51005.0000 - tn: 328806.0000 - fn: 51005.0000 - accuracy: 0.8657 - precision: 0.8657 - recall: 0.8657 - AUC: 0.9563\n",
            "Epoch 441/2500\n",
            "371/371 [==============================] - 16s 44ms/step - loss: 0.2444 - tp: 328853.0000 - fp: 50958.0000 - tn: 328853.0000 - fn: 50958.0000 - accuracy: 0.8658 - precision: 0.8658 - recall: 0.8658 - AUC: 0.9570\n",
            "Epoch 442/2500\n",
            "371/371 [==============================] - 16s 44ms/step - loss: 0.2465 - tp: 328774.0000 - fp: 51037.0000 - tn: 328774.0000 - fn: 51037.0000 - accuracy: 0.8656 - precision: 0.8656 - recall: 0.8656 - AUC: 0.9564\n",
            "Epoch 443/2500\n",
            "371/371 [==============================] - 16s 44ms/step - loss: 0.2460 - tp: 328921.0000 - fp: 50890.0000 - tn: 328921.0000 - fn: 50890.0000 - accuracy: 0.8660 - precision: 0.8660 - recall: 0.8660 - AUC: 0.9566\n",
            "Epoch 444/2500\n",
            "371/371 [==============================] - 16s 44ms/step - loss: 0.2475 - tp: 328829.0000 - fp: 50982.0000 - tn: 328829.0000 - fn: 50982.0000 - accuracy: 0.8658 - precision: 0.8658 - recall: 0.8658 - AUC: 0.9561\n",
            "Epoch 445/2500\n",
            "371/371 [==============================] - 16s 44ms/step - loss: 0.2469 - tp: 328723.0000 - fp: 51088.0000 - tn: 328723.0000 - fn: 51088.0000 - accuracy: 0.8655 - precision: 0.8655 - recall: 0.8655 - AUC: 0.9563\n",
            "Epoch 446/2500\n",
            "371/371 [==============================] - 16s 44ms/step - loss: 0.2455 - tp: 328933.0000 - fp: 50878.0000 - tn: 328933.0000 - fn: 50878.0000 - accuracy: 0.8660 - precision: 0.8660 - recall: 0.8660 - AUC: 0.9567\n",
            "Epoch 447/2500\n",
            "371/371 [==============================] - 16s 44ms/step - loss: 0.2464 - tp: 328844.0000 - fp: 50967.0000 - tn: 328844.0000 - fn: 50967.0000 - accuracy: 0.8658 - precision: 0.8658 - recall: 0.8658 - AUC: 0.9564\n",
            "Epoch 448/2500\n",
            "371/371 [==============================] - 16s 44ms/step - loss: 0.2443 - tp: 329089.0000 - fp: 50722.0000 - tn: 329089.0000 - fn: 50722.0000 - accuracy: 0.8665 - precision: 0.8665 - recall: 0.8665 - AUC: 0.9571\n",
            "Epoch 449/2500\n",
            "371/371 [==============================] - 16s 44ms/step - loss: 0.2445 - tp: 329084.0000 - fp: 50727.0000 - tn: 329084.0000 - fn: 50727.0000 - accuracy: 0.8664 - precision: 0.8664 - recall: 0.8664 - AUC: 0.9570\n",
            "Epoch 450/2500\n",
            "371/371 [==============================] - 16s 44ms/step - loss: 0.2449 - tp: 329418.0000 - fp: 50393.0000 - tn: 329418.0000 - fn: 50393.0000 - accuracy: 0.8673 - precision: 0.8673 - recall: 0.8673 - AUC: 0.9571\n",
            "Epoch 451/2500\n",
            "371/371 [==============================] - 16s 44ms/step - loss: 0.2448 - tp: 329006.0000 - fp: 50805.0000 - tn: 329006.0000 - fn: 50805.0000 - accuracy: 0.8662 - precision: 0.8662 - recall: 0.8662 - AUC: 0.9569\n",
            "Epoch 452/2500\n",
            "371/371 [==============================] - 16s 44ms/step - loss: 0.2460 - tp: 328955.0000 - fp: 50856.0000 - tn: 328955.0000 - fn: 50856.0000 - accuracy: 0.8661 - precision: 0.8661 - recall: 0.8661 - AUC: 0.9567\n",
            "Epoch 453/2500\n",
            "371/371 [==============================] - 16s 44ms/step - loss: 0.2430 - tp: 329260.0000 - fp: 50551.0000 - tn: 329260.0000 - fn: 50551.0000 - accuracy: 0.8669 - precision: 0.8669 - recall: 0.8669 - AUC: 0.9575\n",
            "Epoch 454/2500\n",
            "371/371 [==============================] - 16s 44ms/step - loss: 0.2415 - tp: 329847.0000 - fp: 49964.0000 - tn: 329847.0000 - fn: 49964.0000 - accuracy: 0.8685 - precision: 0.8685 - recall: 0.8685 - AUC: 0.9580\n",
            "Epoch 455/2500\n",
            "371/371 [==============================] - 16s 44ms/step - loss: 0.2443 - tp: 329229.0000 - fp: 50582.0000 - tn: 329229.0000 - fn: 50582.0000 - accuracy: 0.8668 - precision: 0.8668 - recall: 0.8668 - AUC: 0.9572\n",
            "Epoch 456/2500\n",
            "371/371 [==============================] - 16s 44ms/step - loss: 0.2438 - tp: 329299.0000 - fp: 50512.0000 - tn: 329299.0000 - fn: 50512.0000 - accuracy: 0.8670 - precision: 0.8670 - recall: 0.8670 - AUC: 0.9572\n",
            "Epoch 457/2500\n",
            "371/371 [==============================] - 16s 44ms/step - loss: 0.2421 - tp: 329549.0000 - fp: 50262.0000 - tn: 329549.0000 - fn: 50262.0000 - accuracy: 0.8677 - precision: 0.8677 - recall: 0.8677 - AUC: 0.9578\n",
            "Epoch 458/2500\n",
            "371/371 [==============================] - 16s 44ms/step - loss: 0.2446 - tp: 329194.0000 - fp: 50617.0000 - tn: 329194.0000 - fn: 50617.0000 - accuracy: 0.8667 - precision: 0.8667 - recall: 0.8667 - AUC: 0.9570\n",
            "Epoch 459/2500\n",
            "371/371 [==============================] - 16s 44ms/step - loss: 0.2448 - tp: 329210.0000 - fp: 50601.0000 - tn: 329210.0000 - fn: 50601.0000 - accuracy: 0.8668 - precision: 0.8668 - recall: 0.8668 - AUC: 0.9571\n",
            "Epoch 460/2500\n",
            "371/371 [==============================] - 16s 44ms/step - loss: 0.2449 - tp: 329185.0000 - fp: 50626.0000 - tn: 329185.0000 - fn: 50626.0000 - accuracy: 0.8667 - precision: 0.8667 - recall: 0.8667 - AUC: 0.9571\n",
            "Epoch 461/2500\n",
            "371/371 [==============================] - 16s 44ms/step - loss: 0.2423 - tp: 329715.0000 - fp: 50096.0000 - tn: 329715.0000 - fn: 50096.0000 - accuracy: 0.8681 - precision: 0.8681 - recall: 0.8681 - AUC: 0.9578\n",
            "Epoch 462/2500\n",
            "371/371 [==============================] - 16s 44ms/step - loss: 0.2412 - tp: 329744.0000 - fp: 50067.0000 - tn: 329744.0000 - fn: 50067.0000 - accuracy: 0.8682 - precision: 0.8682 - recall: 0.8682 - AUC: 0.9581\n",
            "Epoch 463/2500\n",
            "371/371 [==============================] - 16s 44ms/step - loss: 0.2420 - tp: 329847.0000 - fp: 49964.0000 - tn: 329847.0000 - fn: 49964.0000 - accuracy: 0.8685 - precision: 0.8685 - recall: 0.8685 - AUC: 0.9580\n",
            "Epoch 464/2500\n",
            "371/371 [==============================] - 16s 44ms/step - loss: 0.2420 - tp: 329664.0000 - fp: 50147.0000 - tn: 329664.0000 - fn: 50147.0000 - accuracy: 0.8680 - precision: 0.8680 - recall: 0.8680 - AUC: 0.9579\n",
            "Epoch 465/2500\n",
            "371/371 [==============================] - 16s 44ms/step - loss: 0.2415 - tp: 329720.0000 - fp: 50091.0000 - tn: 329720.0000 - fn: 50091.0000 - accuracy: 0.8681 - precision: 0.8681 - recall: 0.8681 - AUC: 0.9580\n",
            "Epoch 466/2500\n",
            "371/371 [==============================] - 16s 44ms/step - loss: 0.2435 - tp: 329490.0000 - fp: 50321.0000 - tn: 329490.0000 - fn: 50321.0000 - accuracy: 0.8675 - precision: 0.8675 - recall: 0.8675 - AUC: 0.9576\n",
            "Epoch 467/2500\n",
            "371/371 [==============================] - 16s 44ms/step - loss: 0.2428 - tp: 329517.0000 - fp: 50294.0000 - tn: 329517.0000 - fn: 50294.0000 - accuracy: 0.8676 - precision: 0.8676 - recall: 0.8676 - AUC: 0.9576\n",
            "Epoch 468/2500\n",
            "371/371 [==============================] - 16s 44ms/step - loss: 0.2422 - tp: 329528.0000 - fp: 50283.0000 - tn: 329528.0000 - fn: 50283.0000 - accuracy: 0.8676 - precision: 0.8676 - recall: 0.8676 - AUC: 0.9578\n",
            "Epoch 469/2500\n",
            "371/371 [==============================] - 16s 44ms/step - loss: 0.2454 - tp: 329397.0000 - fp: 50414.0000 - tn: 329397.0000 - fn: 50414.0000 - accuracy: 0.8673 - precision: 0.8673 - recall: 0.8673 - AUC: 0.9570\n",
            "Epoch 470/2500\n",
            "371/371 [==============================] - 16s 44ms/step - loss: 0.2438 - tp: 329513.0000 - fp: 50298.0000 - tn: 329513.0000 - fn: 50298.0000 - accuracy: 0.8676 - precision: 0.8676 - recall: 0.8676 - AUC: 0.9575\n",
            "Epoch 471/2500\n",
            "371/371 [==============================] - 16s 44ms/step - loss: 0.2403 - tp: 330034.0000 - fp: 49777.0000 - tn: 330034.0000 - fn: 49777.0000 - accuracy: 0.8689 - precision: 0.8689 - recall: 0.8689 - AUC: 0.9585\n",
            "Epoch 472/2500\n",
            "371/371 [==============================] - 16s 44ms/step - loss: 0.2421 - tp: 329979.0000 - fp: 49832.0000 - tn: 329979.0000 - fn: 49832.0000 - accuracy: 0.8688 - precision: 0.8688 - recall: 0.8688 - AUC: 0.9580\n",
            "Epoch 473/2500\n",
            "371/371 [==============================] - 16s 44ms/step - loss: 0.2412 - tp: 329983.0000 - fp: 49828.0000 - tn: 329983.0000 - fn: 49828.0000 - accuracy: 0.8688 - precision: 0.8688 - recall: 0.8688 - AUC: 0.9583\n",
            "Epoch 474/2500\n",
            "371/371 [==============================] - 16s 44ms/step - loss: 0.2404 - tp: 330058.0000 - fp: 49753.0000 - tn: 330058.0000 - fn: 49753.0000 - accuracy: 0.8690 - precision: 0.8690 - recall: 0.8690 - AUC: 0.9585\n",
            "Epoch 475/2500\n",
            "371/371 [==============================] - 16s 44ms/step - loss: 0.2423 - tp: 329806.0000 - fp: 50005.0000 - tn: 329806.0000 - fn: 50005.0000 - accuracy: 0.8683 - precision: 0.8683 - recall: 0.8683 - AUC: 0.9579\n",
            "Epoch 476/2500\n",
            "371/371 [==============================] - 16s 44ms/step - loss: 0.2423 - tp: 329735.0000 - fp: 50076.0000 - tn: 329735.0000 - fn: 50076.0000 - accuracy: 0.8682 - precision: 0.8682 - recall: 0.8682 - AUC: 0.9578\n",
            "Epoch 477/2500\n",
            "371/371 [==============================] - 16s 44ms/step - loss: 0.2416 - tp: 330178.0000 - fp: 49633.0000 - tn: 330178.0000 - fn: 49633.0000 - accuracy: 0.8693 - precision: 0.8693 - recall: 0.8693 - AUC: 0.9583\n",
            "Epoch 478/2500\n",
            "371/371 [==============================] - 16s 44ms/step - loss: 0.2411 - tp: 329636.0000 - fp: 50175.0000 - tn: 329636.0000 - fn: 50175.0000 - accuracy: 0.8679 - precision: 0.8679 - recall: 0.8679 - AUC: 0.9581\n",
            "Epoch 479/2500\n",
            "371/371 [==============================] - 16s 44ms/step - loss: 0.2407 - tp: 330237.0000 - fp: 49574.0000 - tn: 330237.0000 - fn: 49574.0000 - accuracy: 0.8695 - precision: 0.8695 - recall: 0.8695 - AUC: 0.9585\n",
            "Epoch 480/2500\n",
            "371/371 [==============================] - 16s 44ms/step - loss: 0.2428 - tp: 329916.0000 - fp: 49895.0000 - tn: 329916.0000 - fn: 49895.0000 - accuracy: 0.8686 - precision: 0.8686 - recall: 0.8686 - AUC: 0.9578\n",
            "Epoch 481/2500\n",
            "371/371 [==============================] - 16s 44ms/step - loss: 0.2414 - tp: 330056.0000 - fp: 49755.0000 - tn: 330056.0000 - fn: 49755.0000 - accuracy: 0.8690 - precision: 0.8690 - recall: 0.8690 - AUC: 0.9582\n",
            "Epoch 482/2500\n",
            "371/371 [==============================] - 16s 44ms/step - loss: 0.2426 - tp: 329939.0000 - fp: 49872.0000 - tn: 329939.0000 - fn: 49872.0000 - accuracy: 0.8687 - precision: 0.8687 - recall: 0.8687 - AUC: 0.9579\n",
            "Epoch 483/2500\n",
            "371/371 [==============================] - 16s 44ms/step - loss: 0.2436 - tp: 329991.0000 - fp: 49820.0000 - tn: 329991.0000 - fn: 49820.0000 - accuracy: 0.8688 - precision: 0.8688 - recall: 0.8688 - AUC: 0.9578\n",
            "Epoch 484/2500\n",
            "371/371 [==============================] - 16s 44ms/step - loss: 0.2401 - tp: 330208.0000 - fp: 49603.0000 - tn: 330208.0000 - fn: 49603.0000 - accuracy: 0.8694 - precision: 0.8694 - recall: 0.8694 - AUC: 0.9586\n",
            "Epoch 485/2500\n",
            "371/371 [==============================] - 16s 44ms/step - loss: 0.2403 - tp: 330152.0000 - fp: 49659.0000 - tn: 330152.0000 - fn: 49659.0000 - accuracy: 0.8693 - precision: 0.8693 - recall: 0.8693 - AUC: 0.9586\n",
            "Epoch 486/2500\n",
            "371/371 [==============================] - 16s 44ms/step - loss: 0.2407 - tp: 330275.0000 - fp: 49536.0000 - tn: 330275.0000 - fn: 49536.0000 - accuracy: 0.8696 - precision: 0.8696 - recall: 0.8696 - AUC: 0.9585\n",
            "Epoch 487/2500\n",
            "371/371 [==============================] - 16s 44ms/step - loss: 0.2389 - tp: 330523.0000 - fp: 49288.0000 - tn: 330523.0000 - fn: 49288.0000 - accuracy: 0.8702 - precision: 0.8702 - recall: 0.8702 - AUC: 0.9591\n",
            "Epoch 488/2500\n",
            "371/371 [==============================] - 16s 44ms/step - loss: 0.2399 - tp: 330331.0000 - fp: 49480.0000 - tn: 330331.0000 - fn: 49480.0000 - accuracy: 0.8697 - precision: 0.8697 - recall: 0.8697 - AUC: 0.9587\n",
            "Epoch 489/2500\n",
            "371/371 [==============================] - 16s 44ms/step - loss: 0.2417 - tp: 330165.0000 - fp: 49646.0000 - tn: 330165.0000 - fn: 49646.0000 - accuracy: 0.8693 - precision: 0.8693 - recall: 0.8693 - AUC: 0.9583\n",
            "Epoch 490/2500\n",
            "371/371 [==============================] - 16s 44ms/step - loss: 0.2401 - tp: 330174.0000 - fp: 49637.0000 - tn: 330174.0000 - fn: 49637.0000 - accuracy: 0.8693 - precision: 0.8693 - recall: 0.8693 - AUC: 0.9587\n",
            "Epoch 491/2500\n",
            "371/371 [==============================] - 16s 44ms/step - loss: 0.2405 - tp: 330429.0000 - fp: 49382.0000 - tn: 330429.0000 - fn: 49382.0000 - accuracy: 0.8700 - precision: 0.8700 - recall: 0.8700 - AUC: 0.9587\n",
            "Epoch 492/2500\n",
            "371/371 [==============================] - 16s 44ms/step - loss: 0.2394 - tp: 330580.0000 - fp: 49231.0000 - tn: 330580.0000 - fn: 49231.0000 - accuracy: 0.8704 - precision: 0.8704 - recall: 0.8704 - AUC: 0.9589\n",
            "Epoch 493/2500\n",
            "371/371 [==============================] - 16s 44ms/step - loss: 0.2391 - tp: 330311.0000 - fp: 49500.0000 - tn: 330311.0000 - fn: 49500.0000 - accuracy: 0.8697 - precision: 0.8697 - recall: 0.8697 - AUC: 0.9589\n",
            "Epoch 494/2500\n",
            "371/371 [==============================] - 16s 44ms/step - loss: 0.2384 - tp: 330468.0000 - fp: 49343.0000 - tn: 330468.0000 - fn: 49343.0000 - accuracy: 0.8701 - precision: 0.8701 - recall: 0.8701 - AUC: 0.9593\n",
            "Epoch 495/2500\n",
            "371/371 [==============================] - 16s 44ms/step - loss: 0.2388 - tp: 330785.0000 - fp: 49026.0000 - tn: 330785.0000 - fn: 49026.0000 - accuracy: 0.8709 - precision: 0.8709 - recall: 0.8709 - AUC: 0.9593\n",
            "Epoch 496/2500\n",
            "371/371 [==============================] - 16s 44ms/step - loss: 0.2400 - tp: 330454.0000 - fp: 49357.0000 - tn: 330454.0000 - fn: 49357.0000 - accuracy: 0.8700 - precision: 0.8700 - recall: 0.8700 - AUC: 0.9589\n",
            "Epoch 497/2500\n",
            "371/371 [==============================] - 16s 44ms/step - loss: 0.2380 - tp: 330555.0000 - fp: 49256.0000 - tn: 330555.0000 - fn: 49256.0000 - accuracy: 0.8703 - precision: 0.8703 - recall: 0.8703 - AUC: 0.9594\n",
            "Epoch 498/2500\n",
            "371/371 [==============================] - 16s 44ms/step - loss: 0.2389 - tp: 330530.0000 - fp: 49281.0000 - tn: 330530.0000 - fn: 49281.0000 - accuracy: 0.8702 - precision: 0.8702 - recall: 0.8702 - AUC: 0.9590\n",
            "Epoch 499/2500\n",
            "371/371 [==============================] - 16s 44ms/step - loss: 0.2403 - tp: 330240.0000 - fp: 49571.0000 - tn: 330240.0000 - fn: 49571.0000 - accuracy: 0.8695 - precision: 0.8695 - recall: 0.8695 - AUC: 0.9585\n",
            "Epoch 500/2500\n",
            "371/371 [==============================] - 16s 44ms/step - loss: 0.2391 - tp: 330644.0000 - fp: 49167.0000 - tn: 330644.0000 - fn: 49167.0000 - accuracy: 0.8705 - precision: 0.8705 - recall: 0.8705 - AUC: 0.9592\n",
            "Epoch 501/2500\n",
            "371/371 [==============================] - 16s 44ms/step - loss: 0.2371 - tp: 330881.0000 - fp: 48930.0000 - tn: 330881.0000 - fn: 48930.0000 - accuracy: 0.8712 - precision: 0.8712 - recall: 0.8712 - AUC: 0.9596\n",
            "Epoch 502/2500\n",
            "371/371 [==============================] - 16s 44ms/step - loss: 0.2364 - tp: 330951.0000 - fp: 48860.0000 - tn: 330951.0000 - fn: 48860.0000 - accuracy: 0.8714 - precision: 0.8714 - recall: 0.8714 - AUC: 0.9599\n",
            "Epoch 503/2500\n",
            "371/371 [==============================] - 16s 44ms/step - loss: 0.2390 - tp: 330572.0000 - fp: 49239.0000 - tn: 330572.0000 - fn: 49239.0000 - accuracy: 0.8704 - precision: 0.8704 - recall: 0.8704 - AUC: 0.9591\n",
            "Epoch 504/2500\n",
            "371/371 [==============================] - 16s 44ms/step - loss: 0.2411 - tp: 330245.0000 - fp: 49566.0000 - tn: 330245.0000 - fn: 49566.0000 - accuracy: 0.8695 - precision: 0.8695 - recall: 0.8695 - AUC: 0.9585\n",
            "Epoch 505/2500\n",
            "371/371 [==============================] - 16s 44ms/step - loss: 0.2380 - tp: 330536.0000 - fp: 49275.0000 - tn: 330536.0000 - fn: 49275.0000 - accuracy: 0.8703 - precision: 0.8703 - recall: 0.8703 - AUC: 0.9594\n",
            "Epoch 506/2500\n",
            "371/371 [==============================] - 16s 44ms/step - loss: 0.2366 - tp: 331331.0000 - fp: 48480.0000 - tn: 331331.0000 - fn: 48480.0000 - accuracy: 0.8724 - precision: 0.8724 - recall: 0.8724 - AUC: 0.9601\n",
            "Epoch 507/2500\n",
            "371/371 [==============================] - 16s 44ms/step - loss: 0.2362 - tp: 331302.0000 - fp: 48509.0000 - tn: 331302.0000 - fn: 48509.0000 - accuracy: 0.8723 - precision: 0.8723 - recall: 0.8723 - AUC: 0.9601\n",
            "Epoch 508/2500\n",
            "371/371 [==============================] - 16s 44ms/step - loss: 0.2378 - tp: 330990.0000 - fp: 48821.0000 - tn: 330990.0000 - fn: 48821.0000 - accuracy: 0.8715 - precision: 0.8715 - recall: 0.8715 - AUC: 0.9596\n",
            "Epoch 509/2500\n",
            "371/371 [==============================] - 16s 44ms/step - loss: 0.2368 - tp: 330917.0000 - fp: 48894.0000 - tn: 330917.0000 - fn: 48894.0000 - accuracy: 0.8713 - precision: 0.8713 - recall: 0.8713 - AUC: 0.9599\n",
            "Epoch 510/2500\n",
            "371/371 [==============================] - 16s 44ms/step - loss: 0.2359 - tp: 331126.0000 - fp: 48685.0000 - tn: 331126.0000 - fn: 48685.0000 - accuracy: 0.8718 - precision: 0.8718 - recall: 0.8718 - AUC: 0.9600\n",
            "Epoch 511/2500\n",
            "371/371 [==============================] - 16s 44ms/step - loss: 0.2392 - tp: 330612.0000 - fp: 49199.0000 - tn: 330612.0000 - fn: 49199.0000 - accuracy: 0.8705 - precision: 0.8705 - recall: 0.8705 - AUC: 0.9591\n",
            "Epoch 512/2500\n",
            "371/371 [==============================] - 16s 44ms/step - loss: 0.2391 - tp: 331099.0000 - fp: 48712.0000 - tn: 331099.0000 - fn: 48712.0000 - accuracy: 0.8717 - precision: 0.8717 - recall: 0.8717 - AUC: 0.9595\n",
            "Epoch 513/2500\n",
            "371/371 [==============================] - 16s 44ms/step - loss: 0.2389 - tp: 330949.0000 - fp: 48862.0000 - tn: 330949.0000 - fn: 48862.0000 - accuracy: 0.8714 - precision: 0.8714 - recall: 0.8714 - AUC: 0.9594\n",
            "Epoch 514/2500\n",
            "371/371 [==============================] - 16s 44ms/step - loss: 0.2377 - tp: 330890.0000 - fp: 48921.0000 - tn: 330890.0000 - fn: 48921.0000 - accuracy: 0.8712 - precision: 0.8712 - recall: 0.8712 - AUC: 0.9595\n",
            "Epoch 515/2500\n",
            "371/371 [==============================] - 16s 44ms/step - loss: 0.2374 - tp: 331034.0000 - fp: 48777.0000 - tn: 331034.0000 - fn: 48777.0000 - accuracy: 0.8716 - precision: 0.8716 - recall: 0.8716 - AUC: 0.9597\n",
            "Epoch 516/2500\n",
            "371/371 [==============================] - 16s 44ms/step - loss: 0.2369 - tp: 331267.0000 - fp: 48544.0000 - tn: 331267.0000 - fn: 48544.0000 - accuracy: 0.8722 - precision: 0.8722 - recall: 0.8722 - AUC: 0.9600\n",
            "Epoch 517/2500\n",
            "371/371 [==============================] - 16s 44ms/step - loss: 0.2376 - tp: 330836.0000 - fp: 48975.0000 - tn: 330836.0000 - fn: 48975.0000 - accuracy: 0.8711 - precision: 0.8711 - recall: 0.8711 - AUC: 0.9596\n",
            "Epoch 518/2500\n",
            "371/371 [==============================] - 16s 44ms/step - loss: 0.2361 - tp: 331266.0000 - fp: 48545.0000 - tn: 331266.0000 - fn: 48545.0000 - accuracy: 0.8722 - precision: 0.8722 - recall: 0.8722 - AUC: 0.9601\n",
            "Epoch 519/2500\n",
            "371/371 [==============================] - 16s 44ms/step - loss: 0.2377 - tp: 331050.0000 - fp: 48761.0000 - tn: 331050.0000 - fn: 48761.0000 - accuracy: 0.8716 - precision: 0.8716 - recall: 0.8716 - AUC: 0.9596\n",
            "Epoch 520/2500\n",
            "371/371 [==============================] - 16s 44ms/step - loss: 0.2353 - tp: 331525.0000 - fp: 48286.0000 - tn: 331525.0000 - fn: 48286.0000 - accuracy: 0.8729 - precision: 0.8729 - recall: 0.8729 - AUC: 0.9604\n",
            "Epoch 521/2500\n",
            "371/371 [==============================] - 16s 44ms/step - loss: 0.2372 - tp: 331234.0000 - fp: 48577.0000 - tn: 331234.0000 - fn: 48577.0000 - accuracy: 0.8721 - precision: 0.8721 - recall: 0.8721 - AUC: 0.9600\n",
            "Epoch 522/2500\n",
            "371/371 [==============================] - 16s 44ms/step - loss: 0.2402 - tp: 330995.0000 - fp: 48816.0000 - tn: 330995.0000 - fn: 48816.0000 - accuracy: 0.8715 - precision: 0.8715 - recall: 0.8715 - AUC: 0.9592\n",
            "Epoch 523/2500\n",
            "371/371 [==============================] - 16s 44ms/step - loss: 0.2364 - tp: 331239.0000 - fp: 48572.0000 - tn: 331239.0000 - fn: 48572.0000 - accuracy: 0.8721 - precision: 0.8721 - recall: 0.8721 - AUC: 0.9600\n",
            "Epoch 524/2500\n",
            "371/371 [==============================] - 16s 44ms/step - loss: 0.2344 - tp: 331550.0000 - fp: 48261.0000 - tn: 331550.0000 - fn: 48261.0000 - accuracy: 0.8729 - precision: 0.8729 - recall: 0.8729 - AUC: 0.9606\n",
            "Epoch 525/2500\n",
            "371/371 [==============================] - 16s 44ms/step - loss: 0.2324 - tp: 331847.0000 - fp: 47964.0000 - tn: 331847.0000 - fn: 47964.0000 - accuracy: 0.8737 - precision: 0.8737 - recall: 0.8737 - AUC: 0.9612\n",
            "Epoch 526/2500\n",
            "371/371 [==============================] - 16s 44ms/step - loss: 0.2355 - tp: 331594.0000 - fp: 48217.0000 - tn: 331594.0000 - fn: 48217.0000 - accuracy: 0.8731 - precision: 0.8731 - recall: 0.8731 - AUC: 0.9603\n",
            "Epoch 527/2500\n",
            "371/371 [==============================] - 16s 44ms/step - loss: 0.2398 - tp: 331120.0000 - fp: 48691.0000 - tn: 331120.0000 - fn: 48691.0000 - accuracy: 0.8718 - precision: 0.8718 - recall: 0.8718 - AUC: 0.9592\n",
            "Epoch 528/2500\n",
            "371/371 [==============================] - 16s 44ms/step - loss: 0.2411 - tp: 330675.0000 - fp: 49136.0000 - tn: 330675.0000 - fn: 49136.0000 - accuracy: 0.8706 - precision: 0.8706 - recall: 0.8706 - AUC: 0.9587\n",
            "Epoch 529/2500\n",
            "371/371 [==============================] - 16s 44ms/step - loss: 0.2352 - tp: 331588.0000 - fp: 48223.0000 - tn: 331588.0000 - fn: 48223.0000 - accuracy: 0.8730 - precision: 0.8730 - recall: 0.8730 - AUC: 0.9605\n",
            "Epoch 530/2500\n",
            "371/371 [==============================] - 16s 44ms/step - loss: 0.2351 - tp: 331527.0000 - fp: 48284.0000 - tn: 331527.0000 - fn: 48284.0000 - accuracy: 0.8729 - precision: 0.8729 - recall: 0.8729 - AUC: 0.9605\n",
            "Epoch 531/2500\n",
            "371/371 [==============================] - 16s 44ms/step - loss: 0.2331 - tp: 331834.0000 - fp: 47977.0000 - tn: 331834.0000 - fn: 47977.0000 - accuracy: 0.8737 - precision: 0.8737 - recall: 0.8737 - AUC: 0.9611\n",
            "Epoch 532/2500\n",
            "371/371 [==============================] - 16s 44ms/step - loss: 0.2356 - tp: 331712.0000 - fp: 48099.0000 - tn: 331712.0000 - fn: 48099.0000 - accuracy: 0.8734 - precision: 0.8734 - recall: 0.8734 - AUC: 0.9605\n",
            "Epoch 533/2500\n",
            "371/371 [==============================] - 17s 44ms/step - loss: 0.2336 - tp: 331759.0000 - fp: 48052.0000 - tn: 331759.0000 - fn: 48052.0000 - accuracy: 0.8735 - precision: 0.8735 - recall: 0.8735 - AUC: 0.9609\n",
            "Epoch 534/2500\n",
            "371/371 [==============================] - 16s 44ms/step - loss: 0.2360 - tp: 331663.0000 - fp: 48148.0000 - tn: 331663.0000 - fn: 48148.0000 - accuracy: 0.8732 - precision: 0.8732 - recall: 0.8732 - AUC: 0.9604\n",
            "Epoch 535/2500\n",
            "371/371 [==============================] - 16s 44ms/step - loss: 0.2364 - tp: 331256.0000 - fp: 48555.0000 - tn: 331256.0000 - fn: 48555.0000 - accuracy: 0.8722 - precision: 0.8722 - recall: 0.8722 - AUC: 0.9601\n",
            "Epoch 536/2500\n",
            "371/371 [==============================] - 16s 44ms/step - loss: 0.2341 - tp: 332004.0000 - fp: 47807.0000 - tn: 332004.0000 - fn: 47807.0000 - accuracy: 0.8741 - precision: 0.8741 - recall: 0.8741 - AUC: 0.9609\n",
            "Epoch 537/2500\n",
            "371/371 [==============================] - 16s 44ms/step - loss: 0.2351 - tp: 331705.0000 - fp: 48106.0000 - tn: 331705.0000 - fn: 48106.0000 - accuracy: 0.8733 - precision: 0.8733 - recall: 0.8733 - AUC: 0.9606\n",
            "Epoch 538/2500\n",
            "371/371 [==============================] - 16s 44ms/step - loss: 0.2375 - tp: 331448.0000 - fp: 48363.0000 - tn: 331448.0000 - fn: 48363.0000 - accuracy: 0.8727 - precision: 0.8727 - recall: 0.8727 - AUC: 0.9600\n",
            "Epoch 539/2500\n",
            "371/371 [==============================] - 16s 44ms/step - loss: 0.2356 - tp: 331561.0000 - fp: 48250.0000 - tn: 331561.0000 - fn: 48250.0000 - accuracy: 0.8730 - precision: 0.8730 - recall: 0.8730 - AUC: 0.9604\n",
            "Epoch 540/2500\n",
            "371/371 [==============================] - 16s 44ms/step - loss: 0.2331 - tp: 332064.0000 - fp: 47747.0000 - tn: 332064.0000 - fn: 47747.0000 - accuracy: 0.8743 - precision: 0.8743 - recall: 0.8743 - AUC: 0.9612\n",
            "Epoch 541/2500\n",
            "371/371 [==============================] - 16s 44ms/step - loss: 0.2335 - tp: 332084.0000 - fp: 47727.0000 - tn: 332084.0000 - fn: 47727.0000 - accuracy: 0.8743 - precision: 0.8743 - recall: 0.8743 - AUC: 0.9612\n",
            "Epoch 542/2500\n",
            "371/371 [==============================] - 16s 44ms/step - loss: 0.2331 - tp: 332222.0000 - fp: 47589.0000 - tn: 332222.0000 - fn: 47589.0000 - accuracy: 0.8747 - precision: 0.8747 - recall: 0.8747 - AUC: 0.9613\n",
            "Epoch 543/2500\n",
            "371/371 [==============================] - 16s 44ms/step - loss: 0.2345 - tp: 331899.0000 - fp: 47912.0000 - tn: 331899.0000 - fn: 47912.0000 - accuracy: 0.8739 - precision: 0.8739 - recall: 0.8739 - AUC: 0.9607\n",
            "Epoch 544/2500\n",
            "371/371 [==============================] - 16s 44ms/step - loss: 0.2350 - tp: 331954.0000 - fp: 47857.0000 - tn: 331954.0000 - fn: 47857.0000 - accuracy: 0.8740 - precision: 0.8740 - recall: 0.8740 - AUC: 0.9609\n",
            "Epoch 545/2500\n",
            "371/371 [==============================] - 16s 44ms/step - loss: 0.2342 - tp: 331779.0000 - fp: 48032.0000 - tn: 331779.0000 - fn: 48032.0000 - accuracy: 0.8735 - precision: 0.8735 - recall: 0.8735 - AUC: 0.9609\n",
            "Epoch 546/2500\n",
            "371/371 [==============================] - 16s 44ms/step - loss: 0.2310 - tp: 332239.0000 - fp: 47572.0000 - tn: 332239.0000 - fn: 47572.0000 - accuracy: 0.8747 - precision: 0.8747 - recall: 0.8747 - AUC: 0.9617\n",
            "Epoch 547/2500\n",
            "371/371 [==============================] - 16s 44ms/step - loss: 0.2316 - tp: 332208.0000 - fp: 47603.0000 - tn: 332208.0000 - fn: 47603.0000 - accuracy: 0.8747 - precision: 0.8747 - recall: 0.8747 - AUC: 0.9615\n",
            "Epoch 548/2500\n",
            "371/371 [==============================] - 16s 44ms/step - loss: 0.2328 - tp: 332173.0000 - fp: 47638.0000 - tn: 332173.0000 - fn: 47638.0000 - accuracy: 0.8746 - precision: 0.8746 - recall: 0.8746 - AUC: 0.9613\n",
            "Epoch 549/2500\n",
            "371/371 [==============================] - 16s 44ms/step - loss: 0.2339 - tp: 332179.0000 - fp: 47632.0000 - tn: 332179.0000 - fn: 47632.0000 - accuracy: 0.8746 - precision: 0.8746 - recall: 0.8746 - AUC: 0.9611\n",
            "Epoch 550/2500\n",
            "371/371 [==============================] - 16s 44ms/step - loss: 0.2337 - tp: 331965.0000 - fp: 47846.0000 - tn: 331965.0000 - fn: 47846.0000 - accuracy: 0.8740 - precision: 0.8740 - recall: 0.8740 - AUC: 0.9610\n",
            "Epoch 551/2500\n",
            "371/371 [==============================] - 16s 44ms/step - loss: 0.2333 - tp: 332066.0000 - fp: 47745.0000 - tn: 332066.0000 - fn: 47745.0000 - accuracy: 0.8743 - precision: 0.8743 - recall: 0.8743 - AUC: 0.9612\n",
            "Epoch 552/2500\n",
            "371/371 [==============================] - 16s 44ms/step - loss: 0.2338 - tp: 332042.0000 - fp: 47769.0000 - tn: 332042.0000 - fn: 47769.0000 - accuracy: 0.8742 - precision: 0.8742 - recall: 0.8742 - AUC: 0.9610\n",
            "Epoch 553/2500\n",
            "371/371 [==============================] - 16s 44ms/step - loss: 0.2339 - tp: 332166.0000 - fp: 47645.0000 - tn: 332166.0000 - fn: 47645.0000 - accuracy: 0.8746 - precision: 0.8746 - recall: 0.8746 - AUC: 0.9611\n",
            "Epoch 554/2500\n",
            "371/371 [==============================] - 17s 45ms/step - loss: 0.2329 - tp: 332258.0000 - fp: 47553.0000 - tn: 332258.0000 - fn: 47553.0000 - accuracy: 0.8748 - precision: 0.8748 - recall: 0.8748 - AUC: 0.9614\n",
            "Epoch 555/2500\n",
            "371/371 [==============================] - 16s 44ms/step - loss: 0.2320 - tp: 332103.0000 - fp: 47708.0000 - tn: 332103.0000 - fn: 47708.0000 - accuracy: 0.8744 - precision: 0.8744 - recall: 0.8744 - AUC: 0.9614\n",
            "Epoch 556/2500\n",
            "371/371 [==============================] - 16s 44ms/step - loss: 0.2410 - tp: 331138.0000 - fp: 48673.0000 - tn: 331138.0000 - fn: 48673.0000 - accuracy: 0.8718 - precision: 0.8718 - recall: 0.8718 - AUC: 0.9591\n",
            "Epoch 557/2500\n",
            "371/371 [==============================] - 16s 44ms/step - loss: 0.2354 - tp: 331820.0000 - fp: 47991.0000 - tn: 331820.0000 - fn: 47991.0000 - accuracy: 0.8736 - precision: 0.8736 - recall: 0.8736 - AUC: 0.9607\n",
            "Epoch 558/2500\n",
            "371/371 [==============================] - 17s 45ms/step - loss: 0.2321 - tp: 332394.0000 - fp: 47417.0000 - tn: 332394.0000 - fn: 47417.0000 - accuracy: 0.8752 - precision: 0.8752 - recall: 0.8752 - AUC: 0.9616\n",
            "Epoch 559/2500\n",
            "371/371 [==============================] - 16s 44ms/step - loss: 0.2309 - tp: 332423.0000 - fp: 47388.0000 - tn: 332423.0000 - fn: 47388.0000 - accuracy: 0.8752 - precision: 0.8752 - recall: 0.8752 - AUC: 0.9620\n",
            "Epoch 560/2500\n",
            "371/371 [==============================] - 16s 44ms/step - loss: 0.2293 - tp: 332864.0000 - fp: 46947.0000 - tn: 332864.0000 - fn: 46947.0000 - accuracy: 0.8764 - precision: 0.8764 - recall: 0.8764 - AUC: 0.9623\n",
            "Epoch 561/2500\n",
            "371/371 [==============================] - 16s 44ms/step - loss: 0.2292 - tp: 332743.0000 - fp: 47068.0000 - tn: 332743.0000 - fn: 47068.0000 - accuracy: 0.8761 - precision: 0.8761 - recall: 0.8761 - AUC: 0.9624\n",
            "Epoch 562/2500\n",
            "371/371 [==============================] - 16s 44ms/step - loss: 0.2302 - tp: 332796.0000 - fp: 47015.0000 - tn: 332796.0000 - fn: 47015.0000 - accuracy: 0.8762 - precision: 0.8762 - recall: 0.8762 - AUC: 0.9622\n",
            "Epoch 563/2500\n",
            "371/371 [==============================] - 16s 44ms/step - loss: 0.2348 - tp: 332116.0000 - fp: 47695.0000 - tn: 332116.0000 - fn: 47695.0000 - accuracy: 0.8744 - precision: 0.8744 - recall: 0.8744 - AUC: 0.9608\n",
            "Epoch 564/2500\n",
            "371/371 [==============================] - 16s 44ms/step - loss: 0.2360 - tp: 331811.0000 - fp: 48000.0000 - tn: 331811.0000 - fn: 48000.0000 - accuracy: 0.8736 - precision: 0.8736 - recall: 0.8736 - AUC: 0.9605\n",
            "Epoch 565/2500\n",
            "371/371 [==============================] - 16s 44ms/step - loss: 0.2314 - tp: 332393.0000 - fp: 47418.0000 - tn: 332393.0000 - fn: 47418.0000 - accuracy: 0.8752 - precision: 0.8752 - recall: 0.8752 - AUC: 0.9617\n",
            "Epoch 566/2500\n",
            "371/371 [==============================] - 16s 44ms/step - loss: 0.2310 - tp: 332690.0000 - fp: 47121.0000 - tn: 332690.0000 - fn: 47121.0000 - accuracy: 0.8759 - precision: 0.8759 - recall: 0.8759 - AUC: 0.9619\n",
            "Epoch 567/2500\n",
            "371/371 [==============================] - 16s 44ms/step - loss: 0.2313 - tp: 332771.0000 - fp: 47040.0000 - tn: 332771.0000 - fn: 47040.0000 - accuracy: 0.8761 - precision: 0.8761 - recall: 0.8761 - AUC: 0.9619\n",
            "Epoch 568/2500\n",
            "371/371 [==============================] - 16s 44ms/step - loss: 0.2312 - tp: 332686.0000 - fp: 47125.0000 - tn: 332686.0000 - fn: 47125.0000 - accuracy: 0.8759 - precision: 0.8759 - recall: 0.8759 - AUC: 0.9619\n",
            "Epoch 569/2500\n",
            "371/371 [==============================] - 16s 44ms/step - loss: 0.2292 - tp: 332799.0000 - fp: 47012.0000 - tn: 332799.0000 - fn: 47012.0000 - accuracy: 0.8762 - precision: 0.8762 - recall: 0.8762 - AUC: 0.9624\n",
            "Epoch 570/2500\n",
            "371/371 [==============================] - 16s 44ms/step - loss: 0.2293 - tp: 332958.0000 - fp: 46853.0000 - tn: 332958.0000 - fn: 46853.0000 - accuracy: 0.8766 - precision: 0.8766 - recall: 0.8766 - AUC: 0.9625\n",
            "Epoch 571/2500\n",
            "371/371 [==============================] - 16s 44ms/step - loss: 0.2307 - tp: 332755.0000 - fp: 47056.0000 - tn: 332755.0000 - fn: 47056.0000 - accuracy: 0.8761 - precision: 0.8761 - recall: 0.8761 - AUC: 0.9621\n",
            "Epoch 572/2500\n",
            "371/371 [==============================] - 16s 44ms/step - loss: 0.2309 - tp: 332709.0000 - fp: 47102.0000 - tn: 332709.0000 - fn: 47102.0000 - accuracy: 0.8760 - precision: 0.8760 - recall: 0.8760 - AUC: 0.9620\n",
            "Epoch 573/2500\n",
            "371/371 [==============================] - 16s 44ms/step - loss: 0.2329 - tp: 332472.0000 - fp: 47339.0000 - tn: 332472.0000 - fn: 47339.0000 - accuracy: 0.8754 - precision: 0.8754 - recall: 0.8754 - AUC: 0.9615\n",
            "Epoch 574/2500\n",
            "371/371 [==============================] - 16s 44ms/step - loss: 0.2321 - tp: 332395.0000 - fp: 47416.0000 - tn: 332395.0000 - fn: 47416.0000 - accuracy: 0.8752 - precision: 0.8752 - recall: 0.8752 - AUC: 0.9616\n",
            "Epoch 575/2500\n",
            "371/371 [==============================] - 16s 44ms/step - loss: 0.2313 - tp: 332639.0000 - fp: 47172.0000 - tn: 332639.0000 - fn: 47172.0000 - accuracy: 0.8758 - precision: 0.8758 - recall: 0.8758 - AUC: 0.9618\n",
            "Epoch 576/2500\n",
            "371/371 [==============================] - 16s 44ms/step - loss: 0.2330 - tp: 332426.0000 - fp: 47385.0000 - tn: 332426.0000 - fn: 47385.0000 - accuracy: 0.8752 - precision: 0.8752 - recall: 0.8752 - AUC: 0.9614\n",
            "Epoch 577/2500\n",
            "371/371 [==============================] - 16s 44ms/step - loss: 0.2311 - tp: 332897.0000 - fp: 46914.0000 - tn: 332897.0000 - fn: 46914.0000 - accuracy: 0.8765 - precision: 0.8765 - recall: 0.8765 - AUC: 0.9620\n",
            "Epoch 578/2500\n",
            "371/371 [==============================] - 16s 44ms/step - loss: 0.2304 - tp: 333096.0000 - fp: 46715.0000 - tn: 333096.0000 - fn: 46715.0000 - accuracy: 0.8770 - precision: 0.8770 - recall: 0.8770 - AUC: 0.9623\n",
            "Epoch 579/2500\n",
            "371/371 [==============================] - 16s 44ms/step - loss: 0.2295 - tp: 332800.0000 - fp: 47011.0000 - tn: 332800.0000 - fn: 47011.0000 - accuracy: 0.8762 - precision: 0.8762 - recall: 0.8762 - AUC: 0.9624\n",
            "Epoch 580/2500\n",
            "371/371 [==============================] - 16s 44ms/step - loss: 0.2291 - tp: 333063.0000 - fp: 46748.0000 - tn: 333063.0000 - fn: 46748.0000 - accuracy: 0.8769 - precision: 0.8769 - recall: 0.8769 - AUC: 0.9626\n",
            "Epoch 581/2500\n",
            "371/371 [==============================] - 16s 44ms/step - loss: 0.2325 - tp: 332707.0000 - fp: 47104.0000 - tn: 332707.0000 - fn: 47104.0000 - accuracy: 0.8760 - precision: 0.8760 - recall: 0.8760 - AUC: 0.9618\n",
            "Epoch 582/2500\n",
            "371/371 [==============================] - 16s 44ms/step - loss: 0.2349 - tp: 332130.0000 - fp: 47681.0000 - tn: 332130.0000 - fn: 47681.0000 - accuracy: 0.8745 - precision: 0.8745 - recall: 0.8745 - AUC: 0.9608\n",
            "Epoch 583/2500\n",
            "371/371 [==============================] - 16s 44ms/step - loss: 0.2287 - tp: 333046.0000 - fp: 46765.0000 - tn: 333046.0000 - fn: 46765.0000 - accuracy: 0.8769 - precision: 0.8769 - recall: 0.8769 - AUC: 0.9627\n",
            "Epoch 584/2500\n",
            "371/371 [==============================] - 16s 44ms/step - loss: 0.2298 - tp: 333120.0000 - fp: 46691.0000 - tn: 333120.0000 - fn: 46691.0000 - accuracy: 0.8771 - precision: 0.8771 - recall: 0.8771 - AUC: 0.9624\n",
            "Epoch 585/2500\n",
            "371/371 [==============================] - 16s 44ms/step - loss: 0.2304 - tp: 333103.0000 - fp: 46708.0000 - tn: 333103.0000 - fn: 46708.0000 - accuracy: 0.8770 - precision: 0.8770 - recall: 0.8770 - AUC: 0.9624\n",
            "Epoch 586/2500\n",
            "371/371 [==============================] - 16s 44ms/step - loss: 0.2289 - tp: 333061.0000 - fp: 46750.0000 - tn: 333061.0000 - fn: 46750.0000 - accuracy: 0.8769 - precision: 0.8769 - recall: 0.8769 - AUC: 0.9627\n",
            "Epoch 587/2500\n",
            "371/371 [==============================] - 16s 44ms/step - loss: 0.2277 - tp: 333349.0000 - fp: 46462.0000 - tn: 333349.0000 - fn: 46462.0000 - accuracy: 0.8777 - precision: 0.8777 - recall: 0.8777 - AUC: 0.9631\n",
            "Epoch 588/2500\n",
            "371/371 [==============================] - 16s 44ms/step - loss: 0.2310 - tp: 332934.0000 - fp: 46877.0000 - tn: 332934.0000 - fn: 46877.0000 - accuracy: 0.8766 - precision: 0.8766 - recall: 0.8766 - AUC: 0.9621\n",
            "Epoch 589/2500\n",
            "371/371 [==============================] - 16s 44ms/step - loss: 0.2292 - tp: 333232.0000 - fp: 46579.0000 - tn: 333232.0000 - fn: 46579.0000 - accuracy: 0.8774 - precision: 0.8774 - recall: 0.8774 - AUC: 0.9626\n",
            "Epoch 590/2500\n",
            "371/371 [==============================] - 16s 44ms/step - loss: 0.2294 - tp: 333426.0000 - fp: 46385.0000 - tn: 333426.0000 - fn: 46385.0000 - accuracy: 0.8779 - precision: 0.8779 - recall: 0.8779 - AUC: 0.9628\n",
            "Epoch 591/2500\n",
            "371/371 [==============================] - 16s 44ms/step - loss: 0.2315 - tp: 332978.0000 - fp: 46833.0000 - tn: 332978.0000 - fn: 46833.0000 - accuracy: 0.8767 - precision: 0.8767 - recall: 0.8767 - AUC: 0.9621\n",
            "Epoch 592/2500\n",
            "371/371 [==============================] - 16s 44ms/step - loss: 0.2293 - tp: 333209.0000 - fp: 46602.0000 - tn: 333209.0000 - fn: 46602.0000 - accuracy: 0.8773 - precision: 0.8773 - recall: 0.8773 - AUC: 0.9627\n",
            "Epoch 593/2500\n",
            "371/371 [==============================] - 16s 44ms/step - loss: 0.2281 - tp: 333408.0000 - fp: 46403.0000 - tn: 333408.0000 - fn: 46403.0000 - accuracy: 0.8778 - precision: 0.8778 - recall: 0.8778 - AUC: 0.9630\n",
            "Epoch 594/2500\n",
            "371/371 [==============================] - 16s 44ms/step - loss: 0.2288 - tp: 333195.0000 - fp: 46616.0000 - tn: 333195.0000 - fn: 46616.0000 - accuracy: 0.8773 - precision: 0.8773 - recall: 0.8773 - AUC: 0.9627\n",
            "Epoch 595/2500\n",
            "371/371 [==============================] - 16s 44ms/step - loss: 0.2294 - tp: 333206.0000 - fp: 46605.0000 - tn: 333206.0000 - fn: 46605.0000 - accuracy: 0.8773 - precision: 0.8773 - recall: 0.8773 - AUC: 0.9626\n",
            "Epoch 596/2500\n",
            "371/371 [==============================] - 16s 44ms/step - loss: 0.2295 - tp: 333255.0000 - fp: 46556.0000 - tn: 333255.0000 - fn: 46556.0000 - accuracy: 0.8774 - precision: 0.8774 - recall: 0.8774 - AUC: 0.9625\n",
            "Epoch 597/2500\n",
            "371/371 [==============================] - 16s 44ms/step - loss: 0.2277 - tp: 333640.0000 - fp: 46171.0000 - tn: 333640.0000 - fn: 46171.0000 - accuracy: 0.8784 - precision: 0.8784 - recall: 0.8784 - AUC: 0.9631\n",
            "Epoch 598/2500\n",
            "371/371 [==============================] - 16s 44ms/step - loss: 0.2286 - tp: 333307.0000 - fp: 46504.0000 - tn: 333307.0000 - fn: 46504.0000 - accuracy: 0.8776 - precision: 0.8776 - recall: 0.8776 - AUC: 0.9629\n",
            "Epoch 599/2500\n",
            "371/371 [==============================] - 16s 44ms/step - loss: 0.2290 - tp: 333463.0000 - fp: 46348.0000 - tn: 333463.0000 - fn: 46348.0000 - accuracy: 0.8780 - precision: 0.8780 - recall: 0.8780 - AUC: 0.9628\n",
            "Epoch 600/2500\n",
            "371/371 [==============================] - 16s 44ms/step - loss: 0.2280 - tp: 333596.0000 - fp: 46215.0000 - tn: 333596.0000 - fn: 46215.0000 - accuracy: 0.8783 - precision: 0.8783 - recall: 0.8783 - AUC: 0.9631\n",
            "Epoch 601/2500\n",
            "371/371 [==============================] - 16s 44ms/step - loss: 0.2266 - tp: 333914.0000 - fp: 45897.0000 - tn: 333914.0000 - fn: 45897.0000 - accuracy: 0.8792 - precision: 0.8792 - recall: 0.8792 - AUC: 0.9635\n",
            "Epoch 602/2500\n",
            "371/371 [==============================] - 16s 44ms/step - loss: 0.2271 - tp: 333679.0000 - fp: 46132.0000 - tn: 333679.0000 - fn: 46132.0000 - accuracy: 0.8785 - precision: 0.8785 - recall: 0.8785 - AUC: 0.9633\n",
            "Epoch 603/2500\n",
            "371/371 [==============================] - 16s 44ms/step - loss: 0.2295 - tp: 333300.0000 - fp: 46511.0000 - tn: 333300.0000 - fn: 46511.0000 - accuracy: 0.8775 - precision: 0.8775 - recall: 0.8775 - AUC: 0.9625\n",
            "Epoch 604/2500\n",
            "371/371 [==============================] - 16s 44ms/step - loss: 0.2311 - tp: 333032.0000 - fp: 46779.0000 - tn: 333032.0000 - fn: 46779.0000 - accuracy: 0.8768 - precision: 0.8768 - recall: 0.8768 - AUC: 0.9621\n",
            "Epoch 605/2500\n",
            "371/371 [==============================] - 16s 44ms/step - loss: 0.2311 - tp: 333012.0000 - fp: 46799.0000 - tn: 333012.0000 - fn: 46799.0000 - accuracy: 0.8768 - precision: 0.8768 - recall: 0.8768 - AUC: 0.9622\n",
            "Epoch 606/2500\n",
            "371/371 [==============================] - 16s 44ms/step - loss: 0.2281 - tp: 333368.0000 - fp: 46443.0000 - tn: 333368.0000 - fn: 46443.0000 - accuracy: 0.8777 - precision: 0.8777 - recall: 0.8777 - AUC: 0.9630\n",
            "Epoch 607/2500\n",
            "371/371 [==============================] - 16s 44ms/step - loss: 0.2300 - tp: 333153.0000 - fp: 46658.0000 - tn: 333153.0000 - fn: 46658.0000 - accuracy: 0.8772 - precision: 0.8772 - recall: 0.8772 - AUC: 0.9625\n",
            "Epoch 608/2500\n",
            "371/371 [==============================] - 16s 44ms/step - loss: 0.2264 - tp: 333586.0000 - fp: 46225.0000 - tn: 333586.0000 - fn: 46225.0000 - accuracy: 0.8783 - precision: 0.8783 - recall: 0.8783 - AUC: 0.9635\n",
            "Epoch 609/2500\n",
            "371/371 [==============================] - 16s 44ms/step - loss: 0.2246 - tp: 333995.0000 - fp: 45816.0000 - tn: 333995.0000 - fn: 45816.0000 - accuracy: 0.8794 - precision: 0.8794 - recall: 0.8794 - AUC: 0.9640\n",
            "Epoch 610/2500\n",
            "371/371 [==============================] - 16s 44ms/step - loss: 0.2298 - tp: 333311.0000 - fp: 46500.0000 - tn: 333311.0000 - fn: 46500.0000 - accuracy: 0.8776 - precision: 0.8776 - recall: 0.8776 - AUC: 0.9625\n",
            "Epoch 611/2500\n",
            "371/371 [==============================] - 16s 44ms/step - loss: 0.2294 - tp: 333495.0000 - fp: 46316.0000 - tn: 333495.0000 - fn: 46316.0000 - accuracy: 0.8781 - precision: 0.8781 - recall: 0.8781 - AUC: 0.9627\n",
            "Epoch 612/2500\n",
            "371/371 [==============================] - 16s 44ms/step - loss: 0.2266 - tp: 333644.0000 - fp: 46167.0000 - tn: 333644.0000 - fn: 46167.0000 - accuracy: 0.8784 - precision: 0.8784 - recall: 0.8784 - AUC: 0.9634\n",
            "Epoch 613/2500\n",
            "371/371 [==============================] - 16s 44ms/step - loss: 0.2255 - tp: 333931.0000 - fp: 45880.0000 - tn: 333931.0000 - fn: 45880.0000 - accuracy: 0.8792 - precision: 0.8792 - recall: 0.8792 - AUC: 0.9637\n",
            "Epoch 614/2500\n",
            "371/371 [==============================] - 16s 44ms/step - loss: 0.2265 - tp: 333987.0000 - fp: 45824.0000 - tn: 333987.0000 - fn: 45824.0000 - accuracy: 0.8794 - precision: 0.8794 - recall: 0.8794 - AUC: 0.9636\n",
            "Epoch 615/2500\n",
            "371/371 [==============================] - 16s 44ms/step - loss: 0.2283 - tp: 333640.0000 - fp: 46171.0000 - tn: 333640.0000 - fn: 46171.0000 - accuracy: 0.8784 - precision: 0.8784 - recall: 0.8784 - AUC: 0.9631\n",
            "Epoch 616/2500\n",
            "371/371 [==============================] - 16s 44ms/step - loss: 0.2277 - tp: 333670.0000 - fp: 46141.0000 - tn: 333670.0000 - fn: 46141.0000 - accuracy: 0.8785 - precision: 0.8785 - recall: 0.8785 - AUC: 0.9632\n",
            "Epoch 617/2500\n",
            "371/371 [==============================] - 16s 44ms/step - loss: 0.2259 - tp: 333950.0000 - fp: 45861.0000 - tn: 333950.0000 - fn: 45861.0000 - accuracy: 0.8793 - precision: 0.8793 - recall: 0.8793 - AUC: 0.9638\n",
            "Epoch 618/2500\n",
            "371/371 [==============================] - 16s 44ms/step - loss: 0.2256 - tp: 333818.0000 - fp: 45993.0000 - tn: 333818.0000 - fn: 45993.0000 - accuracy: 0.8789 - precision: 0.8789 - recall: 0.8789 - AUC: 0.9636\n",
            "Epoch 619/2500\n",
            "371/371 [==============================] - 16s 44ms/step - loss: 0.2249 - tp: 334027.0000 - fp: 45784.0000 - tn: 334027.0000 - fn: 45784.0000 - accuracy: 0.8795 - precision: 0.8795 - recall: 0.8795 - AUC: 0.9640\n",
            "Epoch 620/2500\n",
            "371/371 [==============================] - 16s 44ms/step - loss: 0.2268 - tp: 333988.0000 - fp: 45822.0000 - tn: 333989.0000 - fn: 45823.0000 - accuracy: 0.8794 - precision: 0.8794 - recall: 0.8794 - AUC: 0.9635\n",
            "Epoch 621/2500\n",
            "371/371 [==============================] - 16s 44ms/step - loss: 0.2287 - tp: 333393.0000 - fp: 46418.0000 - tn: 333393.0000 - fn: 46418.0000 - accuracy: 0.8778 - precision: 0.8778 - recall: 0.8778 - AUC: 0.9628\n",
            "Epoch 622/2500\n",
            "371/371 [==============================] - 16s 44ms/step - loss: 0.2300 - tp: 333556.0000 - fp: 46255.0000 - tn: 333556.0000 - fn: 46255.0000 - accuracy: 0.8782 - precision: 0.8782 - recall: 0.8782 - AUC: 0.9626\n",
            "Epoch 623/2500\n",
            "371/371 [==============================] - 16s 44ms/step - loss: 0.2291 - tp: 333664.0000 - fp: 46147.0000 - tn: 333664.0000 - fn: 46147.0000 - accuracy: 0.8785 - precision: 0.8785 - recall: 0.8785 - AUC: 0.9628\n",
            "Epoch 624/2500\n",
            "371/371 [==============================] - 16s 44ms/step - loss: 0.2268 - tp: 333884.0000 - fp: 45927.0000 - tn: 333884.0000 - fn: 45927.0000 - accuracy: 0.8791 - precision: 0.8791 - recall: 0.8791 - AUC: 0.9636\n",
            "Epoch 625/2500\n",
            "371/371 [==============================] - 16s 44ms/step - loss: 0.2255 - tp: 334062.0000 - fp: 45749.0000 - tn: 334062.0000 - fn: 45749.0000 - accuracy: 0.8795 - precision: 0.8795 - recall: 0.8795 - AUC: 0.9639\n",
            "Epoch 626/2500\n",
            "371/371 [==============================] - 16s 44ms/step - loss: 0.2260 - tp: 334094.0000 - fp: 45717.0000 - tn: 334094.0000 - fn: 45717.0000 - accuracy: 0.8796 - precision: 0.8796 - recall: 0.8796 - AUC: 0.9638\n",
            "Epoch 627/2500\n",
            "371/371 [==============================] - 16s 44ms/step - loss: 0.2257 - tp: 334238.0000 - fp: 45573.0000 - tn: 334238.0000 - fn: 45573.0000 - accuracy: 0.8800 - precision: 0.8800 - recall: 0.8800 - AUC: 0.9638\n",
            "Epoch 628/2500\n",
            "371/371 [==============================] - 16s 44ms/step - loss: 0.2281 - tp: 333763.0000 - fp: 46048.0000 - tn: 333763.0000 - fn: 46048.0000 - accuracy: 0.8788 - precision: 0.8788 - recall: 0.8788 - AUC: 0.9631\n",
            "Epoch 629/2500\n",
            "371/371 [==============================] - 16s 44ms/step - loss: 0.2288 - tp: 333735.0000 - fp: 46076.0000 - tn: 333735.0000 - fn: 46076.0000 - accuracy: 0.8787 - precision: 0.8787 - recall: 0.8787 - AUC: 0.9630\n",
            "Epoch 630/2500\n",
            "371/371 [==============================] - 16s 44ms/step - loss: 0.2287 - tp: 333566.0000 - fp: 46245.0000 - tn: 333566.0000 - fn: 46245.0000 - accuracy: 0.8782 - precision: 0.8782 - recall: 0.8782 - AUC: 0.9630\n",
            "Epoch 631/2500\n",
            "371/371 [==============================] - 16s 44ms/step - loss: 0.2264 - tp: 333791.0000 - fp: 46020.0000 - tn: 333791.0000 - fn: 46020.0000 - accuracy: 0.8788 - precision: 0.8788 - recall: 0.8788 - AUC: 0.9635\n",
            "Epoch 632/2500\n",
            "371/371 [==============================] - 16s 44ms/step - loss: 0.2273 - tp: 333794.0000 - fp: 46017.0000 - tn: 333794.0000 - fn: 46017.0000 - accuracy: 0.8788 - precision: 0.8788 - recall: 0.8788 - AUC: 0.9634\n",
            "Epoch 633/2500\n",
            "371/371 [==============================] - 16s 44ms/step - loss: 0.2253 - tp: 334115.0000 - fp: 45696.0000 - tn: 334115.0000 - fn: 45696.0000 - accuracy: 0.8797 - precision: 0.8797 - recall: 0.8797 - AUC: 0.9641\n",
            "Epoch 634/2500\n",
            "371/371 [==============================] - 16s 44ms/step - loss: 0.2251 - tp: 334451.0000 - fp: 45360.0000 - tn: 334451.0000 - fn: 45360.0000 - accuracy: 0.8806 - precision: 0.8806 - recall: 0.8806 - AUC: 0.9641\n",
            "Epoch 635/2500\n",
            "371/371 [==============================] - 16s 44ms/step - loss: 0.2236 - tp: 334241.0000 - fp: 45570.0000 - tn: 334241.0000 - fn: 45570.0000 - accuracy: 0.8800 - precision: 0.8800 - recall: 0.8800 - AUC: 0.9644\n",
            "Epoch 636/2500\n",
            "371/371 [==============================] - 16s 44ms/step - loss: 0.2243 - tp: 334171.0000 - fp: 45640.0000 - tn: 334171.0000 - fn: 45640.0000 - accuracy: 0.8798 - precision: 0.8798 - recall: 0.8798 - AUC: 0.9642\n",
            "Epoch 637/2500\n",
            "371/371 [==============================] - 16s 44ms/step - loss: 0.2243 - tp: 334546.0000 - fp: 45265.0000 - tn: 334546.0000 - fn: 45265.0000 - accuracy: 0.8808 - precision: 0.8808 - recall: 0.8808 - AUC: 0.9643\n",
            "Epoch 638/2500\n",
            "371/371 [==============================] - 16s 44ms/step - loss: 0.2253 - tp: 334097.0000 - fp: 45714.0000 - tn: 334097.0000 - fn: 45714.0000 - accuracy: 0.8796 - precision: 0.8796 - recall: 0.8796 - AUC: 0.9638\n",
            "Epoch 639/2500\n",
            "371/371 [==============================] - 16s 44ms/step - loss: 0.2243 - tp: 334354.0000 - fp: 45457.0000 - tn: 334354.0000 - fn: 45457.0000 - accuracy: 0.8803 - precision: 0.8803 - recall: 0.8803 - AUC: 0.9643\n",
            "Epoch 640/2500\n",
            "371/371 [==============================] - 16s 44ms/step - loss: 0.2255 - tp: 334270.0000 - fp: 45541.0000 - tn: 334270.0000 - fn: 45541.0000 - accuracy: 0.8801 - precision: 0.8801 - recall: 0.8801 - AUC: 0.9640\n",
            "Epoch 641/2500\n",
            "371/371 [==============================] - 16s 44ms/step - loss: 0.2250 - tp: 334121.0000 - fp: 45690.0000 - tn: 334121.0000 - fn: 45690.0000 - accuracy: 0.8797 - precision: 0.8797 - recall: 0.8797 - AUC: 0.9640\n",
            "Epoch 642/2500\n",
            "371/371 [==============================] - 16s 44ms/step - loss: 0.2240 - tp: 334264.0000 - fp: 45547.0000 - tn: 334264.0000 - fn: 45547.0000 - accuracy: 0.8801 - precision: 0.8801 - recall: 0.8801 - AUC: 0.9643\n",
            "Epoch 643/2500\n",
            "371/371 [==============================] - 17s 45ms/step - loss: 0.2274 - tp: 333913.0000 - fp: 45898.0000 - tn: 333913.0000 - fn: 45898.0000 - accuracy: 0.8792 - precision: 0.8792 - recall: 0.8792 - AUC: 0.9634\n",
            "Epoch 644/2500\n",
            "371/371 [==============================] - 16s 44ms/step - loss: 0.2270 - tp: 333957.0000 - fp: 45854.0000 - tn: 333957.0000 - fn: 45854.0000 - accuracy: 0.8793 - precision: 0.8793 - recall: 0.8793 - AUC: 0.9636\n",
            "Epoch 645/2500\n",
            "371/371 [==============================] - 16s 44ms/step - loss: 0.2269 - tp: 333794.0000 - fp: 46017.0000 - tn: 333794.0000 - fn: 46017.0000 - accuracy: 0.8788 - precision: 0.8788 - recall: 0.8788 - AUC: 0.9633\n",
            "Epoch 646/2500\n",
            "371/371 [==============================] - 16s 44ms/step - loss: 0.2285 - tp: 333709.0000 - fp: 46102.0000 - tn: 333709.0000 - fn: 46102.0000 - accuracy: 0.8786 - precision: 0.8786 - recall: 0.8786 - AUC: 0.9630\n",
            "Epoch 647/2500\n",
            "371/371 [==============================] - 16s 44ms/step - loss: 0.2248 - tp: 334415.0000 - fp: 45396.0000 - tn: 334415.0000 - fn: 45396.0000 - accuracy: 0.8805 - precision: 0.8805 - recall: 0.8805 - AUC: 0.9642\n",
            "Epoch 648/2500\n",
            "371/371 [==============================] - 16s 44ms/step - loss: 0.2238 - tp: 334308.0000 - fp: 45503.0000 - tn: 334308.0000 - fn: 45503.0000 - accuracy: 0.8802 - precision: 0.8802 - recall: 0.8802 - AUC: 0.9643\n",
            "Epoch 649/2500\n",
            "371/371 [==============================] - 16s 44ms/step - loss: 0.2243 - tp: 334543.0000 - fp: 45268.0000 - tn: 334543.0000 - fn: 45268.0000 - accuracy: 0.8808 - precision: 0.8808 - recall: 0.8808 - AUC: 0.9642\n",
            "Epoch 650/2500\n",
            "371/371 [==============================] - 16s 44ms/step - loss: 0.2225 - tp: 334666.0000 - fp: 45145.0000 - tn: 334666.0000 - fn: 45145.0000 - accuracy: 0.8811 - precision: 0.8811 - recall: 0.8811 - AUC: 0.9648\n",
            "Epoch 651/2500\n",
            "371/371 [==============================] - 16s 44ms/step - loss: 0.2212 - tp: 334895.0000 - fp: 44916.0000 - tn: 334895.0000 - fn: 44916.0000 - accuracy: 0.8817 - precision: 0.8817 - recall: 0.8817 - AUC: 0.9652\n",
            "Epoch 652/2500\n",
            "371/371 [==============================] - 16s 44ms/step - loss: 0.2240 - tp: 334431.0000 - fp: 45380.0000 - tn: 334431.0000 - fn: 45380.0000 - accuracy: 0.8805 - precision: 0.8805 - recall: 0.8805 - AUC: 0.9645\n",
            "Epoch 653/2500\n",
            "371/371 [==============================] - 17s 45ms/step - loss: 0.2227 - tp: 334778.0000 - fp: 45033.0000 - tn: 334778.0000 - fn: 45033.0000 - accuracy: 0.8814 - precision: 0.8814 - recall: 0.8814 - AUC: 0.9648\n",
            "Epoch 654/2500\n",
            "371/371 [==============================] - 16s 44ms/step - loss: 0.2276 - tp: 333819.0000 - fp: 45992.0000 - tn: 333819.0000 - fn: 45992.0000 - accuracy: 0.8789 - precision: 0.8789 - recall: 0.8789 - AUC: 0.9632\n",
            "Epoch 655/2500\n",
            "371/371 [==============================] - 16s 44ms/step - loss: 0.2265 - tp: 334049.0000 - fp: 45762.0000 - tn: 334049.0000 - fn: 45762.0000 - accuracy: 0.8795 - precision: 0.8795 - recall: 0.8795 - AUC: 0.9637\n",
            "Epoch 656/2500\n",
            "371/371 [==============================] - 16s 44ms/step - loss: 0.2243 - tp: 334529.0000 - fp: 45282.0000 - tn: 334529.0000 - fn: 45282.0000 - accuracy: 0.8808 - precision: 0.8808 - recall: 0.8808 - AUC: 0.9644\n",
            "Epoch 657/2500\n",
            "371/371 [==============================] - 16s 44ms/step - loss: 0.2258 - tp: 334297.0000 - fp: 45514.0000 - tn: 334297.0000 - fn: 45514.0000 - accuracy: 0.8802 - precision: 0.8802 - recall: 0.8802 - AUC: 0.9639\n",
            "Epoch 658/2500\n",
            "371/371 [==============================] - 16s 44ms/step - loss: 0.2228 - tp: 334856.0000 - fp: 44955.0000 - tn: 334856.0000 - fn: 44955.0000 - accuracy: 0.8816 - precision: 0.8816 - recall: 0.8816 - AUC: 0.9648\n",
            "Epoch 659/2500\n",
            "371/371 [==============================] - 16s 44ms/step - loss: 0.2193 - tp: 335274.0000 - fp: 44537.0000 - tn: 335274.0000 - fn: 44537.0000 - accuracy: 0.8827 - precision: 0.8827 - recall: 0.8827 - AUC: 0.9658\n",
            "Epoch 660/2500\n",
            "371/371 [==============================] - 16s 44ms/step - loss: 0.2220 - tp: 334559.0000 - fp: 45252.0000 - tn: 334559.0000 - fn: 45252.0000 - accuracy: 0.8809 - precision: 0.8809 - recall: 0.8809 - AUC: 0.9649\n",
            "Epoch 661/2500\n",
            "371/371 [==============================] - 17s 45ms/step - loss: 0.2230 - tp: 334514.0000 - fp: 45297.0000 - tn: 334514.0000 - fn: 45297.0000 - accuracy: 0.8807 - precision: 0.8807 - recall: 0.8807 - AUC: 0.9647\n",
            "Epoch 662/2500\n",
            "371/371 [==============================] - 17s 45ms/step - loss: 0.2293 - tp: 333950.0000 - fp: 45861.0000 - tn: 333950.0000 - fn: 45861.0000 - accuracy: 0.8793 - precision: 0.8793 - recall: 0.8793 - AUC: 0.9629\n",
            "Epoch 663/2500\n",
            "371/371 [==============================] - 17s 45ms/step - loss: 0.2272 - tp: 334284.0000 - fp: 45527.0000 - tn: 334284.0000 - fn: 45527.0000 - accuracy: 0.8801 - precision: 0.8801 - recall: 0.8801 - AUC: 0.9637\n",
            "Epoch 664/2500\n",
            "371/371 [==============================] - 16s 44ms/step - loss: 0.2276 - tp: 334134.0000 - fp: 45677.0000 - tn: 334134.0000 - fn: 45677.0000 - accuracy: 0.8797 - precision: 0.8797 - recall: 0.8797 - AUC: 0.9634\n",
            "Epoch 665/2500\n",
            "371/371 [==============================] - 16s 44ms/step - loss: 0.2230 - tp: 334634.0000 - fp: 45177.0000 - tn: 334634.0000 - fn: 45177.0000 - accuracy: 0.8811 - precision: 0.8811 - recall: 0.8811 - AUC: 0.9646\n",
            "Epoch 666/2500\n",
            "371/371 [==============================] - 16s 44ms/step - loss: 0.2220 - tp: 335180.0000 - fp: 44631.0000 - tn: 335180.0000 - fn: 44631.0000 - accuracy: 0.8825 - precision: 0.8825 - recall: 0.8825 - AUC: 0.9652\n",
            "Epoch 667/2500\n",
            "371/371 [==============================] - 16s 44ms/step - loss: 0.2202 - tp: 335146.0000 - fp: 44665.0000 - tn: 335146.0000 - fn: 44665.0000 - accuracy: 0.8824 - precision: 0.8824 - recall: 0.8824 - AUC: 0.9655\n",
            "Epoch 668/2500\n",
            "371/371 [==============================] - 16s 44ms/step - loss: 0.2245 - tp: 334698.0000 - fp: 45113.0000 - tn: 334698.0000 - fn: 45113.0000 - accuracy: 0.8812 - precision: 0.8812 - recall: 0.8812 - AUC: 0.9644\n",
            "Epoch 669/2500\n",
            "371/371 [==============================] - 16s 44ms/step - loss: 0.2247 - tp: 334753.0000 - fp: 45058.0000 - tn: 334753.0000 - fn: 45058.0000 - accuracy: 0.8814 - precision: 0.8814 - recall: 0.8814 - AUC: 0.9644\n",
            "Epoch 670/2500\n",
            "371/371 [==============================] - 16s 44ms/step - loss: 0.2254 - tp: 334582.0000 - fp: 45229.0000 - tn: 334582.0000 - fn: 45229.0000 - accuracy: 0.8809 - precision: 0.8809 - recall: 0.8809 - AUC: 0.9641\n",
            "Epoch 671/2500\n",
            "371/371 [==============================] - 16s 44ms/step - loss: 0.2216 - tp: 335318.0000 - fp: 44493.0000 - tn: 335318.0000 - fn: 44493.0000 - accuracy: 0.8829 - precision: 0.8829 - recall: 0.8829 - AUC: 0.9653\n",
            "Epoch 672/2500\n",
            "371/371 [==============================] - 16s 44ms/step - loss: 0.2214 - tp: 335095.0000 - fp: 44716.0000 - tn: 335095.0000 - fn: 44716.0000 - accuracy: 0.8823 - precision: 0.8823 - recall: 0.8823 - AUC: 0.9653\n",
            "Epoch 673/2500\n",
            "371/371 [==============================] - 16s 44ms/step - loss: 0.2193 - tp: 335126.0000 - fp: 44685.0000 - tn: 335126.0000 - fn: 44685.0000 - accuracy: 0.8823 - precision: 0.8823 - recall: 0.8823 - AUC: 0.9656\n",
            "Epoch 674/2500\n",
            "371/371 [==============================] - 16s 44ms/step - loss: 0.2202 - tp: 335090.0000 - fp: 44721.0000 - tn: 335090.0000 - fn: 44721.0000 - accuracy: 0.8823 - precision: 0.8823 - recall: 0.8823 - AUC: 0.9655\n",
            "Epoch 675/2500\n",
            "371/371 [==============================] - 16s 44ms/step - loss: 0.2236 - tp: 334875.0000 - fp: 44936.0000 - tn: 334875.0000 - fn: 44936.0000 - accuracy: 0.8817 - precision: 0.8817 - recall: 0.8817 - AUC: 0.9648\n",
            "Epoch 676/2500\n",
            "371/371 [==============================] - 16s 44ms/step - loss: 0.2244 - tp: 334616.0000 - fp: 45195.0000 - tn: 334616.0000 - fn: 45195.0000 - accuracy: 0.8810 - precision: 0.8810 - recall: 0.8810 - AUC: 0.9642\n",
            "Epoch 677/2500\n",
            "371/371 [==============================] - 16s 44ms/step - loss: 0.2298 - tp: 334040.0000 - fp: 45771.0000 - tn: 334040.0000 - fn: 45771.0000 - accuracy: 0.8795 - precision: 0.8795 - recall: 0.8795 - AUC: 0.9629\n",
            "Epoch 678/2500\n",
            "371/371 [==============================] - 16s 44ms/step - loss: 0.2262 - tp: 334246.0000 - fp: 45565.0000 - tn: 334246.0000 - fn: 45565.0000 - accuracy: 0.8800 - precision: 0.8800 - recall: 0.8800 - AUC: 0.9638\n",
            "Epoch 679/2500\n",
            "371/371 [==============================] - 16s 44ms/step - loss: 0.2236 - tp: 334682.0000 - fp: 45129.0000 - tn: 334682.0000 - fn: 45129.0000 - accuracy: 0.8812 - precision: 0.8812 - recall: 0.8812 - AUC: 0.9646\n",
            "Epoch 680/2500\n",
            "371/371 [==============================] - 17s 44ms/step - loss: 0.2217 - tp: 334875.0000 - fp: 44936.0000 - tn: 334875.0000 - fn: 44936.0000 - accuracy: 0.8817 - precision: 0.8817 - recall: 0.8817 - AUC: 0.9651\n",
            "Epoch 681/2500\n",
            "371/371 [==============================] - 16s 44ms/step - loss: 0.2203 - tp: 335223.0000 - fp: 44588.0000 - tn: 335223.0000 - fn: 44588.0000 - accuracy: 0.8826 - precision: 0.8826 - recall: 0.8826 - AUC: 0.9655\n",
            "Epoch 682/2500\n",
            "371/371 [==============================] - 16s 44ms/step - loss: 0.2190 - tp: 335235.0000 - fp: 44576.0000 - tn: 335235.0000 - fn: 44576.0000 - accuracy: 0.8826 - precision: 0.8826 - recall: 0.8826 - AUC: 0.9658\n",
            "Epoch 683/2500\n",
            "371/371 [==============================] - 16s 44ms/step - loss: 0.2201 - tp: 335467.0000 - fp: 44344.0000 - tn: 335467.0000 - fn: 44344.0000 - accuracy: 0.8832 - precision: 0.8832 - recall: 0.8832 - AUC: 0.9656\n",
            "Epoch 684/2500\n",
            "371/371 [==============================] - 16s 44ms/step - loss: 0.2202 - tp: 335371.0000 - fp: 44440.0000 - tn: 335371.0000 - fn: 44440.0000 - accuracy: 0.8830 - precision: 0.8830 - recall: 0.8830 - AUC: 0.9656\n",
            "Epoch 685/2500\n",
            "371/371 [==============================] - 16s 44ms/step - loss: 0.2251 - tp: 334754.0000 - fp: 45057.0000 - tn: 334754.0000 - fn: 45057.0000 - accuracy: 0.8814 - precision: 0.8814 - recall: 0.8814 - AUC: 0.9644\n",
            "Epoch 686/2500\n",
            "371/371 [==============================] - 16s 44ms/step - loss: 0.2239 - tp: 334770.0000 - fp: 45041.0000 - tn: 334770.0000 - fn: 45041.0000 - accuracy: 0.8814 - precision: 0.8814 - recall: 0.8814 - AUC: 0.9645\n",
            "Epoch 687/2500\n",
            "371/371 [==============================] - 16s 44ms/step - loss: 0.2211 - tp: 335309.0000 - fp: 44502.0000 - tn: 335309.0000 - fn: 44502.0000 - accuracy: 0.8828 - precision: 0.8828 - recall: 0.8828 - AUC: 0.9653\n",
            "Epoch 688/2500\n",
            "371/371 [==============================] - 16s 44ms/step - loss: 0.2191 - tp: 335438.0000 - fp: 44373.0000 - tn: 335438.0000 - fn: 44373.0000 - accuracy: 0.8832 - precision: 0.8832 - recall: 0.8832 - AUC: 0.9659\n",
            "Epoch 689/2500\n",
            "371/371 [==============================] - 16s 44ms/step - loss: 0.2203 - tp: 335321.0000 - fp: 44490.0000 - tn: 335321.0000 - fn: 44490.0000 - accuracy: 0.8829 - precision: 0.8829 - recall: 0.8829 - AUC: 0.9655\n",
            "Epoch 690/2500\n",
            "371/371 [==============================] - 16s 44ms/step - loss: 0.2232 - tp: 334850.0000 - fp: 44961.0000 - tn: 334850.0000 - fn: 44961.0000 - accuracy: 0.8816 - precision: 0.8816 - recall: 0.8816 - AUC: 0.9648\n",
            "Epoch 691/2500\n",
            "371/371 [==============================] - 16s 44ms/step - loss: 0.2195 - tp: 335483.0000 - fp: 44328.0000 - tn: 335483.0000 - fn: 44328.0000 - accuracy: 0.8833 - precision: 0.8833 - recall: 0.8833 - AUC: 0.9658\n",
            "Epoch 692/2500\n",
            "371/371 [==============================] - 16s 44ms/step - loss: 0.2205 - tp: 335428.0000 - fp: 44383.0000 - tn: 335428.0000 - fn: 44383.0000 - accuracy: 0.8831 - precision: 0.8831 - recall: 0.8831 - AUC: 0.9655\n",
            "Epoch 693/2500\n",
            "371/371 [==============================] - 16s 44ms/step - loss: 0.2231 - tp: 334832.0000 - fp: 44979.0000 - tn: 334832.0000 - fn: 44979.0000 - accuracy: 0.8816 - precision: 0.8816 - recall: 0.8816 - AUC: 0.9647\n",
            "Epoch 694/2500\n",
            "371/371 [==============================] - 16s 44ms/step - loss: 0.2217 - tp: 335384.0000 - fp: 44427.0000 - tn: 335384.0000 - fn: 44427.0000 - accuracy: 0.8830 - precision: 0.8830 - recall: 0.8830 - AUC: 0.9654\n",
            "Epoch 695/2500\n",
            "371/371 [==============================] - 16s 44ms/step - loss: 0.2204 - tp: 335367.0000 - fp: 44444.0000 - tn: 335367.0000 - fn: 44444.0000 - accuracy: 0.8830 - precision: 0.8830 - recall: 0.8830 - AUC: 0.9655\n",
            "Epoch 696/2500\n",
            "371/371 [==============================] - 16s 44ms/step - loss: 0.2222 - tp: 334926.0000 - fp: 44885.0000 - tn: 334926.0000 - fn: 44885.0000 - accuracy: 0.8818 - precision: 0.8818 - recall: 0.8818 - AUC: 0.9650\n",
            "Epoch 697/2500\n",
            "371/371 [==============================] - 16s 44ms/step - loss: 0.2218 - tp: 335315.0000 - fp: 44496.0000 - tn: 335315.0000 - fn: 44496.0000 - accuracy: 0.8828 - precision: 0.8828 - recall: 0.8828 - AUC: 0.9652\n",
            "Epoch 698/2500\n",
            "371/371 [==============================] - 16s 44ms/step - loss: 0.2199 - tp: 335484.0000 - fp: 44327.0000 - tn: 335484.0000 - fn: 44327.0000 - accuracy: 0.8833 - precision: 0.8833 - recall: 0.8833 - AUC: 0.9658\n",
            "Epoch 699/2500\n",
            "371/371 [==============================] - 16s 44ms/step - loss: 0.2200 - tp: 335661.0000 - fp: 44150.0000 - tn: 335661.0000 - fn: 44150.0000 - accuracy: 0.8838 - precision: 0.8838 - recall: 0.8838 - AUC: 0.9657\n",
            "Epoch 700/2500\n",
            "371/371 [==============================] - 16s 44ms/step - loss: 0.2229 - tp: 335265.0000 - fp: 44546.0000 - tn: 335265.0000 - fn: 44546.0000 - accuracy: 0.8827 - precision: 0.8827 - recall: 0.8827 - AUC: 0.9649\n",
            "Epoch 701/2500\n",
            "371/371 [==============================] - 16s 44ms/step - loss: 0.2234 - tp: 335025.0000 - fp: 44786.0000 - tn: 335025.0000 - fn: 44786.0000 - accuracy: 0.8821 - precision: 0.8821 - recall: 0.8821 - AUC: 0.9648\n",
            "Epoch 702/2500\n",
            "371/371 [==============================] - 16s 44ms/step - loss: 0.2187 - tp: 335714.0000 - fp: 44097.0000 - tn: 335714.0000 - fn: 44097.0000 - accuracy: 0.8839 - precision: 0.8839 - recall: 0.8839 - AUC: 0.9661\n",
            "Epoch 703/2500\n",
            "371/371 [==============================] - 16s 44ms/step - loss: 0.2205 - tp: 335355.0000 - fp: 44456.0000 - tn: 335355.0000 - fn: 44456.0000 - accuracy: 0.8830 - precision: 0.8830 - recall: 0.8830 - AUC: 0.9656\n",
            "Epoch 704/2500\n",
            "371/371 [==============================] - 16s 44ms/step - loss: 0.2230 - tp: 335073.0000 - fp: 44738.0000 - tn: 335073.0000 - fn: 44738.0000 - accuracy: 0.8822 - precision: 0.8822 - recall: 0.8822 - AUC: 0.9650\n",
            "Epoch 705/2500\n",
            "371/371 [==============================] - 16s 44ms/step - loss: 0.2198 - tp: 335460.0000 - fp: 44351.0000 - tn: 335460.0000 - fn: 44351.0000 - accuracy: 0.8832 - precision: 0.8832 - recall: 0.8832 - AUC: 0.9658\n",
            "Epoch 706/2500\n",
            "371/371 [==============================] - 16s 44ms/step - loss: 0.2209 - tp: 335635.0000 - fp: 44176.0000 - tn: 335635.0000 - fn: 44176.0000 - accuracy: 0.8837 - precision: 0.8837 - recall: 0.8837 - AUC: 0.9656\n",
            "Epoch 707/2500\n",
            "371/371 [==============================] - 16s 44ms/step - loss: 0.2221 - tp: 335276.0000 - fp: 44535.0000 - tn: 335276.0000 - fn: 44535.0000 - accuracy: 0.8827 - precision: 0.8827 - recall: 0.8827 - AUC: 0.9652\n",
            "Epoch 708/2500\n",
            "371/371 [==============================] - 16s 44ms/step - loss: 0.2210 - tp: 335463.0000 - fp: 44348.0000 - tn: 335463.0000 - fn: 44348.0000 - accuracy: 0.8832 - precision: 0.8832 - recall: 0.8832 - AUC: 0.9656\n",
            "Epoch 709/2500\n",
            "371/371 [==============================] - 16s 44ms/step - loss: 0.2185 - tp: 335749.0000 - fp: 44062.0000 - tn: 335749.0000 - fn: 44062.0000 - accuracy: 0.8840 - precision: 0.8840 - recall: 0.8840 - AUC: 0.9662\n",
            "Epoch 710/2500\n",
            "371/371 [==============================] - 16s 44ms/step - loss: 0.2176 - tp: 336093.0000 - fp: 43718.0000 - tn: 336093.0000 - fn: 43718.0000 - accuracy: 0.8849 - precision: 0.8849 - recall: 0.8849 - AUC: 0.9665\n",
            "Epoch 711/2500\n",
            "371/371 [==============================] - 16s 44ms/step - loss: 0.2164 - tp: 336067.0000 - fp: 43744.0000 - tn: 336067.0000 - fn: 43744.0000 - accuracy: 0.8848 - precision: 0.8848 - recall: 0.8848 - AUC: 0.9666\n",
            "Epoch 712/2500\n",
            "371/371 [==============================] - 16s 44ms/step - loss: 0.2204 - tp: 335429.0000 - fp: 44382.0000 - tn: 335429.0000 - fn: 44382.0000 - accuracy: 0.8831 - precision: 0.8831 - recall: 0.8831 - AUC: 0.9656\n",
            "Epoch 713/2500\n",
            "371/371 [==============================] - 16s 44ms/step - loss: 0.2199 - tp: 335479.0000 - fp: 44332.0000 - tn: 335479.0000 - fn: 44332.0000 - accuracy: 0.8833 - precision: 0.8833 - recall: 0.8833 - AUC: 0.9659\n",
            "Epoch 714/2500\n",
            "371/371 [==============================] - 16s 44ms/step - loss: 0.2200 - tp: 335751.0000 - fp: 44060.0000 - tn: 335751.0000 - fn: 44060.0000 - accuracy: 0.8840 - precision: 0.8840 - recall: 0.8840 - AUC: 0.9659\n",
            "Epoch 715/2500\n",
            "371/371 [==============================] - 16s 44ms/step - loss: 0.2192 - tp: 335644.0000 - fp: 44167.0000 - tn: 335644.0000 - fn: 44167.0000 - accuracy: 0.8837 - precision: 0.8837 - recall: 0.8837 - AUC: 0.9658\n",
            "Epoch 716/2500\n",
            "371/371 [==============================] - 16s 44ms/step - loss: 0.2214 - tp: 335339.0000 - fp: 44472.0000 - tn: 335339.0000 - fn: 44472.0000 - accuracy: 0.8829 - precision: 0.8829 - recall: 0.8829 - AUC: 0.9653\n",
            "Epoch 717/2500\n",
            "371/371 [==============================] - 16s 44ms/step - loss: 0.2224 - tp: 335187.0000 - fp: 44624.0000 - tn: 335187.0000 - fn: 44624.0000 - accuracy: 0.8825 - precision: 0.8825 - recall: 0.8825 - AUC: 0.9651\n",
            "Epoch 718/2500\n",
            "371/371 [==============================] - 16s 44ms/step - loss: 0.2182 - tp: 335829.0000 - fp: 43982.0000 - tn: 335829.0000 - fn: 43982.0000 - accuracy: 0.8842 - precision: 0.8842 - recall: 0.8842 - AUC: 0.9663\n",
            "Epoch 719/2500\n",
            "371/371 [==============================] - 16s 44ms/step - loss: 0.2200 - tp: 335681.0000 - fp: 44130.0000 - tn: 335681.0000 - fn: 44130.0000 - accuracy: 0.8838 - precision: 0.8838 - recall: 0.8838 - AUC: 0.9658\n",
            "Epoch 720/2500\n",
            "371/371 [==============================] - 16s 44ms/step - loss: 0.2192 - tp: 335748.0000 - fp: 44063.0000 - tn: 335748.0000 - fn: 44063.0000 - accuracy: 0.8840 - precision: 0.8840 - recall: 0.8840 - AUC: 0.9660\n",
            "Epoch 721/2500\n",
            "371/371 [==============================] - 16s 44ms/step - loss: 0.2183 - tp: 336098.0000 - fp: 43713.0000 - tn: 336098.0000 - fn: 43713.0000 - accuracy: 0.8849 - precision: 0.8849 - recall: 0.8849 - AUC: 0.9665\n",
            "Epoch 722/2500\n",
            "371/371 [==============================] - 16s 44ms/step - loss: 0.2190 - tp: 335639.0000 - fp: 44172.0000 - tn: 335639.0000 - fn: 44172.0000 - accuracy: 0.8837 - precision: 0.8837 - recall: 0.8837 - AUC: 0.9660\n",
            "Epoch 723/2500\n",
            "371/371 [==============================] - 17s 45ms/step - loss: 0.2194 - tp: 335875.0000 - fp: 43936.0000 - tn: 335875.0000 - fn: 43936.0000 - accuracy: 0.8843 - precision: 0.8843 - recall: 0.8843 - AUC: 0.9659\n",
            "Epoch 724/2500\n",
            "371/371 [==============================] - 17s 45ms/step - loss: 0.2191 - tp: 335756.0000 - fp: 44055.0000 - tn: 335756.0000 - fn: 44055.0000 - accuracy: 0.8840 - precision: 0.8840 - recall: 0.8840 - AUC: 0.9660\n",
            "Epoch 725/2500\n",
            "371/371 [==============================] - 16s 44ms/step - loss: 0.2145 - tp: 336528.0000 - fp: 43283.0000 - tn: 336528.0000 - fn: 43283.0000 - accuracy: 0.8860 - precision: 0.8860 - recall: 0.8860 - AUC: 0.9674\n",
            "Epoch 726/2500\n",
            "371/371 [==============================] - 16s 44ms/step - loss: 0.2177 - tp: 336058.0000 - fp: 43753.0000 - tn: 336058.0000 - fn: 43753.0000 - accuracy: 0.8848 - precision: 0.8848 - recall: 0.8848 - AUC: 0.9665\n",
            "Epoch 727/2500\n",
            "371/371 [==============================] - 16s 44ms/step - loss: 0.2219 - tp: 335413.0000 - fp: 44398.0000 - tn: 335413.0000 - fn: 44398.0000 - accuracy: 0.8831 - precision: 0.8831 - recall: 0.8831 - AUC: 0.9652\n",
            "Epoch 728/2500\n",
            "371/371 [==============================] - 16s 44ms/step - loss: 0.2207 - tp: 335699.0000 - fp: 44112.0000 - tn: 335699.0000 - fn: 44112.0000 - accuracy: 0.8839 - precision: 0.8839 - recall: 0.8839 - AUC: 0.9657\n",
            "Epoch 729/2500\n",
            "371/371 [==============================] - 16s 44ms/step - loss: 0.2184 - tp: 335958.0000 - fp: 43853.0000 - tn: 335958.0000 - fn: 43853.0000 - accuracy: 0.8845 - precision: 0.8845 - recall: 0.8845 - AUC: 0.9662\n",
            "Epoch 730/2500\n",
            "371/371 [==============================] - 16s 44ms/step - loss: 0.2186 - tp: 335932.0000 - fp: 43879.0000 - tn: 335932.0000 - fn: 43879.0000 - accuracy: 0.8845 - precision: 0.8845 - recall: 0.8845 - AUC: 0.9663\n",
            "Epoch 731/2500\n",
            "371/371 [==============================] - 16s 44ms/step - loss: 0.2155 - tp: 336380.0000 - fp: 43431.0000 - tn: 336380.0000 - fn: 43431.0000 - accuracy: 0.8857 - precision: 0.8857 - recall: 0.8857 - AUC: 0.9670\n",
            "Epoch 732/2500\n",
            "371/371 [==============================] - 16s 44ms/step - loss: 0.2180 - tp: 336126.0000 - fp: 43685.0000 - tn: 336126.0000 - fn: 43685.0000 - accuracy: 0.8850 - precision: 0.8850 - recall: 0.8850 - AUC: 0.9665\n",
            "Epoch 733/2500\n",
            "371/371 [==============================] - 16s 44ms/step - loss: 0.2178 - tp: 336025.0000 - fp: 43786.0000 - tn: 336025.0000 - fn: 43786.0000 - accuracy: 0.8847 - precision: 0.8847 - recall: 0.8847 - AUC: 0.9664\n",
            "Epoch 734/2500\n",
            "371/371 [==============================] - 16s 44ms/step - loss: 0.2185 - tp: 335976.0000 - fp: 43835.0000 - tn: 335976.0000 - fn: 43835.0000 - accuracy: 0.8846 - precision: 0.8846 - recall: 0.8846 - AUC: 0.9663\n",
            "Epoch 735/2500\n",
            "371/371 [==============================] - 16s 44ms/step - loss: 0.2184 - tp: 335955.0000 - fp: 43856.0000 - tn: 335955.0000 - fn: 43856.0000 - accuracy: 0.8845 - precision: 0.8845 - recall: 0.8845 - AUC: 0.9663\n",
            "Epoch 736/2500\n",
            "371/371 [==============================] - 16s 44ms/step - loss: 0.2240 - tp: 335429.0000 - fp: 44382.0000 - tn: 335429.0000 - fn: 44382.0000 - accuracy: 0.8831 - precision: 0.8831 - recall: 0.8831 - AUC: 0.9649\n",
            "Epoch 737/2500\n",
            "371/371 [==============================] - 16s 44ms/step - loss: 0.2196 - tp: 335988.0000 - fp: 43823.0000 - tn: 335988.0000 - fn: 43823.0000 - accuracy: 0.8846 - precision: 0.8846 - recall: 0.8846 - AUC: 0.9660\n",
            "Epoch 738/2500\n",
            "371/371 [==============================] - 16s 44ms/step - loss: 0.2174 - tp: 336179.0000 - fp: 43632.0000 - tn: 336179.0000 - fn: 43632.0000 - accuracy: 0.8851 - precision: 0.8851 - recall: 0.8851 - AUC: 0.9665\n",
            "Epoch 739/2500\n",
            "371/371 [==============================] - 16s 44ms/step - loss: 0.2171 - tp: 336109.0000 - fp: 43702.0000 - tn: 336109.0000 - fn: 43702.0000 - accuracy: 0.8849 - precision: 0.8849 - recall: 0.8849 - AUC: 0.9666\n",
            "Epoch 740/2500\n",
            "371/371 [==============================] - 16s 44ms/step - loss: 0.2151 - tp: 336353.0000 - fp: 43458.0000 - tn: 336353.0000 - fn: 43458.0000 - accuracy: 0.8856 - precision: 0.8856 - recall: 0.8856 - AUC: 0.9671\n",
            "Epoch 741/2500\n",
            "371/371 [==============================] - 16s 44ms/step - loss: 0.2186 - tp: 336294.0000 - fp: 43517.0000 - tn: 336294.0000 - fn: 43517.0000 - accuracy: 0.8854 - precision: 0.8854 - recall: 0.8854 - AUC: 0.9664\n",
            "Epoch 742/2500\n",
            "371/371 [==============================] - 16s 44ms/step - loss: 0.2201 - tp: 335665.0000 - fp: 44146.0000 - tn: 335665.0000 - fn: 44146.0000 - accuracy: 0.8838 - precision: 0.8838 - recall: 0.8838 - AUC: 0.9657\n",
            "Epoch 743/2500\n",
            "371/371 [==============================] - 16s 44ms/step - loss: 0.2201 - tp: 335886.0000 - fp: 43925.0000 - tn: 335886.0000 - fn: 43925.0000 - accuracy: 0.8844 - precision: 0.8844 - recall: 0.8844 - AUC: 0.9658\n",
            "Epoch 744/2500\n",
            "371/371 [==============================] - 16s 44ms/step - loss: 0.2182 - tp: 335995.0000 - fp: 43816.0000 - tn: 335995.0000 - fn: 43816.0000 - accuracy: 0.8846 - precision: 0.8846 - recall: 0.8846 - AUC: 0.9663\n",
            "Epoch 745/2500\n",
            "371/371 [==============================] - 16s 44ms/step - loss: 0.2186 - tp: 336246.0000 - fp: 43565.0000 - tn: 336246.0000 - fn: 43565.0000 - accuracy: 0.8853 - precision: 0.8853 - recall: 0.8853 - AUC: 0.9663\n",
            "Epoch 746/2500\n",
            "371/371 [==============================] - 16s 44ms/step - loss: 0.2149 - tp: 336747.0000 - fp: 43064.0000 - tn: 336747.0000 - fn: 43064.0000 - accuracy: 0.8866 - precision: 0.8866 - recall: 0.8866 - AUC: 0.9673\n",
            "Epoch 747/2500\n",
            "371/371 [==============================] - 16s 44ms/step - loss: 0.2143 - tp: 336687.0000 - fp: 43124.0000 - tn: 336687.0000 - fn: 43124.0000 - accuracy: 0.8865 - precision: 0.8865 - recall: 0.8865 - AUC: 0.9675\n",
            "Epoch 748/2500\n",
            "371/371 [==============================] - 16s 44ms/step - loss: 0.2179 - tp: 336060.0000 - fp: 43751.0000 - tn: 336060.0000 - fn: 43751.0000 - accuracy: 0.8848 - precision: 0.8848 - recall: 0.8848 - AUC: 0.9665\n",
            "Epoch 749/2500\n",
            "371/371 [==============================] - 16s 44ms/step - loss: 0.2225 - tp: 335685.0000 - fp: 44126.0000 - tn: 335685.0000 - fn: 44126.0000 - accuracy: 0.8838 - precision: 0.8838 - recall: 0.8838 - AUC: 0.9653\n",
            "Epoch 750/2500\n",
            "371/371 [==============================] - 16s 44ms/step - loss: 0.2190 - tp: 335880.0000 - fp: 43931.0000 - tn: 335880.0000 - fn: 43931.0000 - accuracy: 0.8843 - precision: 0.8843 - recall: 0.8843 - AUC: 0.9662\n",
            "Epoch 751/2500\n",
            "371/371 [==============================] - 16s 44ms/step - loss: 0.2166 - tp: 336482.0000 - fp: 43329.0000 - tn: 336482.0000 - fn: 43329.0000 - accuracy: 0.8859 - precision: 0.8859 - recall: 0.8859 - AUC: 0.9670\n",
            "Epoch 752/2500\n",
            "371/371 [==============================] - 16s 44ms/step - loss: 0.2175 - tp: 336294.0000 - fp: 43517.0000 - tn: 336294.0000 - fn: 43517.0000 - accuracy: 0.8854 - precision: 0.8854 - recall: 0.8854 - AUC: 0.9665\n",
            "Epoch 753/2500\n",
            "371/371 [==============================] - 16s 44ms/step - loss: 0.2187 - tp: 336187.0000 - fp: 43624.0000 - tn: 336187.0000 - fn: 43624.0000 - accuracy: 0.8851 - precision: 0.8851 - recall: 0.8851 - AUC: 0.9664\n",
            "Epoch 754/2500\n",
            "371/371 [==============================] - 16s 44ms/step - loss: 0.2167 - tp: 336505.0000 - fp: 43306.0000 - tn: 336505.0000 - fn: 43306.0000 - accuracy: 0.8860 - precision: 0.8860 - recall: 0.8860 - AUC: 0.9668\n",
            "Epoch 755/2500\n",
            "371/371 [==============================] - 16s 44ms/step - loss: 0.2181 - tp: 336087.0000 - fp: 43724.0000 - tn: 336087.0000 - fn: 43724.0000 - accuracy: 0.8849 - precision: 0.8849 - recall: 0.8849 - AUC: 0.9664\n",
            "Epoch 756/2500\n",
            "371/371 [==============================] - 16s 44ms/step - loss: 0.2140 - tp: 336725.0000 - fp: 43086.0000 - tn: 336725.0000 - fn: 43086.0000 - accuracy: 0.8866 - precision: 0.8866 - recall: 0.8866 - AUC: 0.9675\n",
            "Epoch 757/2500\n",
            "371/371 [==============================] - 16s 44ms/step - loss: 0.2164 - tp: 336567.0000 - fp: 43244.0000 - tn: 336567.0000 - fn: 43244.0000 - accuracy: 0.8861 - precision: 0.8861 - recall: 0.8861 - AUC: 0.9670\n",
            "Epoch 758/2500\n",
            "371/371 [==============================] - 16s 44ms/step - loss: 0.2143 - tp: 336557.0000 - fp: 43254.0000 - tn: 336557.0000 - fn: 43254.0000 - accuracy: 0.8861 - precision: 0.8861 - recall: 0.8861 - AUC: 0.9673\n",
            "Epoch 759/2500\n",
            "371/371 [==============================] - 16s 44ms/step - loss: 0.2171 - tp: 336441.0000 - fp: 43370.0000 - tn: 336441.0000 - fn: 43370.0000 - accuracy: 0.8858 - precision: 0.8858 - recall: 0.8858 - AUC: 0.9668\n",
            "Epoch 760/2500\n",
            "371/371 [==============================] - 16s 44ms/step - loss: 0.2175 - tp: 336301.0000 - fp: 43510.0000 - tn: 336301.0000 - fn: 43510.0000 - accuracy: 0.8854 - precision: 0.8854 - recall: 0.8854 - AUC: 0.9665\n",
            "Epoch 761/2500\n",
            "371/371 [==============================] - 16s 44ms/step - loss: 0.2167 - tp: 336674.0000 - fp: 43137.0000 - tn: 336674.0000 - fn: 43137.0000 - accuracy: 0.8864 - precision: 0.8864 - recall: 0.8864 - AUC: 0.9670\n",
            "Epoch 762/2500\n",
            "371/371 [==============================] - 16s 44ms/step - loss: 0.2192 - tp: 336063.0000 - fp: 43748.0000 - tn: 336063.0000 - fn: 43748.0000 - accuracy: 0.8848 - precision: 0.8848 - recall: 0.8848 - AUC: 0.9662\n",
            "Epoch 763/2500\n",
            "371/371 [==============================] - 16s 44ms/step - loss: 0.2170 - tp: 336559.0000 - fp: 43252.0000 - tn: 336559.0000 - fn: 43252.0000 - accuracy: 0.8861 - precision: 0.8861 - recall: 0.8861 - AUC: 0.9668\n",
            "Epoch 764/2500\n",
            "371/371 [==============================] - 16s 44ms/step - loss: 0.2180 - tp: 336296.0000 - fp: 43515.0000 - tn: 336296.0000 - fn: 43515.0000 - accuracy: 0.8854 - precision: 0.8854 - recall: 0.8854 - AUC: 0.9664\n",
            "Epoch 765/2500\n",
            "371/371 [==============================] - 16s 44ms/step - loss: 0.2148 - tp: 336721.0000 - fp: 43090.0000 - tn: 336721.0000 - fn: 43090.0000 - accuracy: 0.8865 - precision: 0.8865 - recall: 0.8865 - AUC: 0.9674\n",
            "Epoch 766/2500\n",
            "371/371 [==============================] - 16s 44ms/step - loss: 0.2134 - tp: 336936.0000 - fp: 42875.0000 - tn: 336936.0000 - fn: 42875.0000 - accuracy: 0.8871 - precision: 0.8871 - recall: 0.8871 - AUC: 0.9678\n",
            "Epoch 767/2500\n",
            "371/371 [==============================] - 16s 44ms/step - loss: 0.2163 - tp: 336608.0000 - fp: 43203.0000 - tn: 336608.0000 - fn: 43203.0000 - accuracy: 0.8863 - precision: 0.8863 - recall: 0.8863 - AUC: 0.9670\n",
            "Epoch 768/2500\n",
            "371/371 [==============================] - 16s 44ms/step - loss: 0.2160 - tp: 336664.0000 - fp: 43147.0000 - tn: 336664.0000 - fn: 43147.0000 - accuracy: 0.8864 - precision: 0.8864 - recall: 0.8864 - AUC: 0.9671\n",
            "Epoch 769/2500\n",
            "371/371 [==============================] - 16s 44ms/step - loss: 0.2172 - tp: 336495.0000 - fp: 43316.0000 - tn: 336495.0000 - fn: 43316.0000 - accuracy: 0.8860 - precision: 0.8860 - recall: 0.8860 - AUC: 0.9668\n",
            "Epoch 770/2500\n",
            "371/371 [==============================] - 16s 44ms/step - loss: 0.2149 - tp: 337088.0000 - fp: 42723.0000 - tn: 337088.0000 - fn: 42723.0000 - accuracy: 0.8875 - precision: 0.8875 - recall: 0.8875 - AUC: 0.9674\n",
            "Epoch 771/2500\n",
            "371/371 [==============================] - 16s 44ms/step - loss: 0.2161 - tp: 336657.0000 - fp: 43154.0000 - tn: 336657.0000 - fn: 43154.0000 - accuracy: 0.8864 - precision: 0.8864 - recall: 0.8864 - AUC: 0.9671\n",
            "Epoch 772/2500\n",
            "371/371 [==============================] - 16s 44ms/step - loss: 0.2153 - tp: 336771.0000 - fp: 43040.0000 - tn: 336771.0000 - fn: 43040.0000 - accuracy: 0.8867 - precision: 0.8867 - recall: 0.8867 - AUC: 0.9672\n",
            "Epoch 773/2500\n",
            "371/371 [==============================] - 16s 44ms/step - loss: 0.2139 - tp: 337065.0000 - fp: 42746.0000 - tn: 337065.0000 - fn: 42746.0000 - accuracy: 0.8875 - precision: 0.8875 - recall: 0.8875 - AUC: 0.9677\n",
            "Epoch 774/2500\n",
            "371/371 [==============================] - 16s 44ms/step - loss: 0.2134 - tp: 336751.0000 - fp: 43060.0000 - tn: 336751.0000 - fn: 43060.0000 - accuracy: 0.8866 - precision: 0.8866 - recall: 0.8866 - AUC: 0.9677\n",
            "Epoch 775/2500\n",
            "371/371 [==============================] - 16s 44ms/step - loss: 0.2173 - tp: 336719.0000 - fp: 43092.0000 - tn: 336719.0000 - fn: 43092.0000 - accuracy: 0.8865 - precision: 0.8865 - recall: 0.8865 - AUC: 0.9668\n",
            "Epoch 776/2500\n",
            "371/371 [==============================] - 16s 44ms/step - loss: 0.2155 - tp: 336749.0000 - fp: 43062.0000 - tn: 336749.0000 - fn: 43062.0000 - accuracy: 0.8866 - precision: 0.8866 - recall: 0.8866 - AUC: 0.9673\n",
            "Epoch 777/2500\n",
            "371/371 [==============================] - 16s 44ms/step - loss: 0.2199 - tp: 336353.0000 - fp: 43458.0000 - tn: 336353.0000 - fn: 43458.0000 - accuracy: 0.8856 - precision: 0.8856 - recall: 0.8856 - AUC: 0.9662\n",
            "Epoch 778/2500\n",
            "371/371 [==============================] - 16s 44ms/step - loss: 0.2184 - tp: 336210.0000 - fp: 43601.0000 - tn: 336210.0000 - fn: 43601.0000 - accuracy: 0.8852 - precision: 0.8852 - recall: 0.8852 - AUC: 0.9663\n",
            "Epoch 779/2500\n",
            "371/371 [==============================] - 16s 44ms/step - loss: 0.2173 - tp: 336407.0000 - fp: 43404.0000 - tn: 336407.0000 - fn: 43404.0000 - accuracy: 0.8857 - precision: 0.8857 - recall: 0.8857 - AUC: 0.9666\n",
            "Epoch 780/2500\n",
            "371/371 [==============================] - 16s 44ms/step - loss: 0.2157 - tp: 336729.0000 - fp: 43082.0000 - tn: 336729.0000 - fn: 43082.0000 - accuracy: 0.8866 - precision: 0.8866 - recall: 0.8866 - AUC: 0.9671\n",
            "Epoch 781/2500\n",
            "371/371 [==============================] - 16s 44ms/step - loss: 0.2159 - tp: 336841.0000 - fp: 42970.0000 - tn: 336841.0000 - fn: 42970.0000 - accuracy: 0.8869 - precision: 0.8869 - recall: 0.8869 - AUC: 0.9671\n",
            "Epoch 782/2500\n",
            "371/371 [==============================] - 16s 44ms/step - loss: 0.2158 - tp: 336912.0000 - fp: 42899.0000 - tn: 336912.0000 - fn: 42899.0000 - accuracy: 0.8871 - precision: 0.8871 - recall: 0.8871 - AUC: 0.9673\n",
            "Epoch 783/2500\n",
            "371/371 [==============================] - 16s 44ms/step - loss: 0.2154 - tp: 336957.0000 - fp: 42854.0000 - tn: 336957.0000 - fn: 42854.0000 - accuracy: 0.8872 - precision: 0.8872 - recall: 0.8872 - AUC: 0.9673\n",
            "Epoch 784/2500\n",
            "371/371 [==============================] - 16s 44ms/step - loss: 0.2157 - tp: 336604.0000 - fp: 43207.0000 - tn: 336604.0000 - fn: 43207.0000 - accuracy: 0.8862 - precision: 0.8862 - recall: 0.8862 - AUC: 0.9671\n",
            "Epoch 785/2500\n",
            "371/371 [==============================] - 16s 44ms/step - loss: 0.2174 - tp: 336305.0000 - fp: 43506.0000 - tn: 336305.0000 - fn: 43506.0000 - accuracy: 0.8855 - precision: 0.8855 - recall: 0.8855 - AUC: 0.9667\n",
            "Epoch 786/2500\n",
            "371/371 [==============================] - 16s 44ms/step - loss: 0.2185 - tp: 336583.0000 - fp: 43228.0000 - tn: 336583.0000 - fn: 43228.0000 - accuracy: 0.8862 - precision: 0.8862 - recall: 0.8862 - AUC: 0.9665\n",
            "Epoch 787/2500\n",
            "371/371 [==============================] - 16s 44ms/step - loss: 0.2153 - tp: 337052.0000 - fp: 42759.0000 - tn: 337052.0000 - fn: 42759.0000 - accuracy: 0.8874 - precision: 0.8874 - recall: 0.8874 - AUC: 0.9674\n",
            "Epoch 788/2500\n",
            "371/371 [==============================] - 16s 44ms/step - loss: 0.2115 - tp: 337454.0000 - fp: 42357.0000 - tn: 337454.0000 - fn: 42357.0000 - accuracy: 0.8885 - precision: 0.8885 - recall: 0.8885 - AUC: 0.9684\n",
            "Epoch 789/2500\n",
            "371/371 [==============================] - 16s 44ms/step - loss: 0.2125 - tp: 337194.0000 - fp: 42617.0000 - tn: 337194.0000 - fn: 42617.0000 - accuracy: 0.8878 - precision: 0.8878 - recall: 0.8878 - AUC: 0.9681\n",
            "Epoch 790/2500\n",
            "371/371 [==============================] - 16s 44ms/step - loss: 0.2126 - tp: 337532.0000 - fp: 42279.0000 - tn: 337532.0000 - fn: 42279.0000 - accuracy: 0.8887 - precision: 0.8887 - recall: 0.8887 - AUC: 0.9680\n",
            "Epoch 791/2500\n",
            "371/371 [==============================] - 16s 44ms/step - loss: 0.2137 - tp: 337132.0000 - fp: 42679.0000 - tn: 337132.0000 - fn: 42679.0000 - accuracy: 0.8876 - precision: 0.8876 - recall: 0.8876 - AUC: 0.9677\n",
            "Epoch 792/2500\n",
            "371/371 [==============================] - 16s 44ms/step - loss: 0.2129 - tp: 337201.0000 - fp: 42610.0000 - tn: 337201.0000 - fn: 42610.0000 - accuracy: 0.8878 - precision: 0.8878 - recall: 0.8878 - AUC: 0.9679\n",
            "Epoch 793/2500\n",
            "371/371 [==============================] - 16s 44ms/step - loss: 0.2122 - tp: 337504.0000 - fp: 42307.0000 - tn: 337504.0000 - fn: 42307.0000 - accuracy: 0.8886 - precision: 0.8886 - recall: 0.8886 - AUC: 0.9682\n",
            "Epoch 794/2500\n",
            "371/371 [==============================] - 16s 44ms/step - loss: 0.2154 - tp: 336855.0000 - fp: 42956.0000 - tn: 336855.0000 - fn: 42956.0000 - accuracy: 0.8869 - precision: 0.8869 - recall: 0.8869 - AUC: 0.9673\n",
            "Epoch 795/2500\n",
            "371/371 [==============================] - 16s 44ms/step - loss: 0.2178 - tp: 336595.0000 - fp: 43216.0000 - tn: 336595.0000 - fn: 43216.0000 - accuracy: 0.8862 - precision: 0.8862 - recall: 0.8862 - AUC: 0.9668\n",
            "Epoch 796/2500\n",
            "371/371 [==============================] - 16s 44ms/step - loss: 0.2161 - tp: 337012.0000 - fp: 42799.0000 - tn: 337012.0000 - fn: 42799.0000 - accuracy: 0.8873 - precision: 0.8873 - recall: 0.8873 - AUC: 0.9673\n",
            "Epoch 797/2500\n",
            "371/371 [==============================] - 16s 44ms/step - loss: 0.2153 - tp: 337009.0000 - fp: 42802.0000 - tn: 337009.0000 - fn: 42802.0000 - accuracy: 0.8873 - precision: 0.8873 - recall: 0.8873 - AUC: 0.9675\n",
            "Epoch 798/2500\n",
            "371/371 [==============================] - 16s 44ms/step - loss: 0.2149 - tp: 337077.0000 - fp: 42734.0000 - tn: 337077.0000 - fn: 42734.0000 - accuracy: 0.8875 - precision: 0.8875 - recall: 0.8875 - AUC: 0.9675\n",
            "Epoch 799/2500\n",
            "371/371 [==============================] - 16s 44ms/step - loss: 0.2144 - tp: 337265.0000 - fp: 42546.0000 - tn: 337265.0000 - fn: 42546.0000 - accuracy: 0.8880 - precision: 0.8880 - recall: 0.8880 - AUC: 0.9677\n",
            "Epoch 800/2500\n",
            "371/371 [==============================] - 16s 44ms/step - loss: 0.2115 - tp: 337580.0000 - fp: 42231.0000 - tn: 337580.0000 - fn: 42231.0000 - accuracy: 0.8888 - precision: 0.8888 - recall: 0.8888 - AUC: 0.9684\n",
            "Epoch 801/2500\n",
            "371/371 [==============================] - 16s 44ms/step - loss: 0.2109 - tp: 337608.0000 - fp: 42203.0000 - tn: 337608.0000 - fn: 42203.0000 - accuracy: 0.8889 - precision: 0.8889 - recall: 0.8889 - AUC: 0.9685\n",
            "Epoch 802/2500\n",
            "371/371 [==============================] - 16s 44ms/step - loss: 0.2140 - tp: 337115.0000 - fp: 42696.0000 - tn: 337115.0000 - fn: 42696.0000 - accuracy: 0.8876 - precision: 0.8876 - recall: 0.8876 - AUC: 0.9677\n",
            "Epoch 803/2500\n",
            "371/371 [==============================] - 16s 44ms/step - loss: 0.2121 - tp: 337604.0000 - fp: 42207.0000 - tn: 337604.0000 - fn: 42207.0000 - accuracy: 0.8889 - precision: 0.8889 - recall: 0.8889 - AUC: 0.9683\n",
            "Epoch 804/2500\n",
            "371/371 [==============================] - 16s 44ms/step - loss: 0.2161 - tp: 337002.0000 - fp: 42809.0000 - tn: 337002.0000 - fn: 42809.0000 - accuracy: 0.8873 - precision: 0.8873 - recall: 0.8873 - AUC: 0.9673\n",
            "Epoch 805/2500\n",
            "371/371 [==============================] - 16s 44ms/step - loss: 0.2223 - tp: 336288.0000 - fp: 43523.0000 - tn: 336288.0000 - fn: 43523.0000 - accuracy: 0.8854 - precision: 0.8854 - recall: 0.8854 - AUC: 0.9657\n",
            "Epoch 806/2500\n",
            "371/371 [==============================] - 16s 44ms/step - loss: 0.2154 - tp: 336941.0000 - fp: 42870.0000 - tn: 336941.0000 - fn: 42870.0000 - accuracy: 0.8871 - precision: 0.8871 - recall: 0.8871 - AUC: 0.9673\n",
            "Epoch 807/2500\n",
            "371/371 [==============================] - 16s 44ms/step - loss: 0.2132 - tp: 337207.0000 - fp: 42604.0000 - tn: 337207.0000 - fn: 42604.0000 - accuracy: 0.8878 - precision: 0.8878 - recall: 0.8878 - AUC: 0.9679\n",
            "Epoch 808/2500\n",
            "371/371 [==============================] - 16s 44ms/step - loss: 0.2110 - tp: 337719.0000 - fp: 42092.0000 - tn: 337719.0000 - fn: 42092.0000 - accuracy: 0.8892 - precision: 0.8892 - recall: 0.8892 - AUC: 0.9685\n",
            "Epoch 809/2500\n",
            "371/371 [==============================] - 16s 44ms/step - loss: 0.2108 - tp: 338005.0000 - fp: 41806.0000 - tn: 338005.0000 - fn: 41806.0000 - accuracy: 0.8899 - precision: 0.8899 - recall: 0.8899 - AUC: 0.9686\n",
            "Epoch 810/2500\n",
            "371/371 [==============================] - 16s 44ms/step - loss: 0.2122 - tp: 337539.0000 - fp: 42272.0000 - tn: 337539.0000 - fn: 42272.0000 - accuracy: 0.8887 - precision: 0.8887 - recall: 0.8887 - AUC: 0.9682\n",
            "Epoch 811/2500\n",
            "371/371 [==============================] - 16s 44ms/step - loss: 0.2127 - tp: 337456.0000 - fp: 42355.0000 - tn: 337456.0000 - fn: 42355.0000 - accuracy: 0.8885 - precision: 0.8885 - recall: 0.8885 - AUC: 0.9682\n",
            "Epoch 812/2500\n",
            "371/371 [==============================] - 16s 44ms/step - loss: 0.2139 - tp: 337462.0000 - fp: 42349.0000 - tn: 337462.0000 - fn: 42349.0000 - accuracy: 0.8885 - precision: 0.8885 - recall: 0.8885 - AUC: 0.9680\n",
            "Epoch 813/2500\n",
            "371/371 [==============================] - 16s 44ms/step - loss: 0.2146 - tp: 337130.0000 - fp: 42681.0000 - tn: 337130.0000 - fn: 42681.0000 - accuracy: 0.8876 - precision: 0.8876 - recall: 0.8876 - AUC: 0.9676\n",
            "Epoch 814/2500\n",
            "371/371 [==============================] - 16s 44ms/step - loss: 0.2153 - tp: 337145.0000 - fp: 42666.0000 - tn: 337145.0000 - fn: 42666.0000 - accuracy: 0.8877 - precision: 0.8877 - recall: 0.8877 - AUC: 0.9674\n",
            "Epoch 815/2500\n",
            "371/371 [==============================] - 16s 44ms/step - loss: 0.2095 - tp: 337879.0000 - fp: 41932.0000 - tn: 337879.0000 - fn: 41932.0000 - accuracy: 0.8896 - precision: 0.8896 - recall: 0.8896 - AUC: 0.9690\n",
            "Epoch 816/2500\n",
            "371/371 [==============================] - 16s 44ms/step - loss: 0.2118 - tp: 337737.0000 - fp: 42074.0000 - tn: 337737.0000 - fn: 42074.0000 - accuracy: 0.8892 - precision: 0.8892 - recall: 0.8892 - AUC: 0.9683\n",
            "Epoch 817/2500\n",
            "371/371 [==============================] - 16s 44ms/step - loss: 0.2112 - tp: 337588.0000 - fp: 42223.0000 - tn: 337588.0000 - fn: 42223.0000 - accuracy: 0.8888 - precision: 0.8888 - recall: 0.8888 - AUC: 0.9685\n",
            "Epoch 818/2500\n",
            "371/371 [==============================] - 16s 44ms/step - loss: 0.2115 - tp: 337663.0000 - fp: 42148.0000 - tn: 337663.0000 - fn: 42148.0000 - accuracy: 0.8890 - precision: 0.8890 - recall: 0.8890 - AUC: 0.9685\n",
            "Epoch 819/2500\n",
            "371/371 [==============================] - 16s 44ms/step - loss: 0.2129 - tp: 337298.0000 - fp: 42513.0000 - tn: 337298.0000 - fn: 42513.0000 - accuracy: 0.8881 - precision: 0.8881 - recall: 0.8881 - AUC: 0.9680\n",
            "Epoch 820/2500\n",
            "371/371 [==============================] - 16s 44ms/step - loss: 0.2149 - tp: 337231.0000 - fp: 42580.0000 - tn: 337231.0000 - fn: 42580.0000 - accuracy: 0.8879 - precision: 0.8879 - recall: 0.8879 - AUC: 0.9675\n",
            "Epoch 821/2500\n",
            "371/371 [==============================] - 16s 44ms/step - loss: 0.2129 - tp: 337309.0000 - fp: 42502.0000 - tn: 337309.0000 - fn: 42502.0000 - accuracy: 0.8881 - precision: 0.8881 - recall: 0.8881 - AUC: 0.9680\n",
            "Epoch 822/2500\n",
            "371/371 [==============================] - 16s 44ms/step - loss: 0.2101 - tp: 337937.0000 - fp: 41874.0000 - tn: 337937.0000 - fn: 41874.0000 - accuracy: 0.8898 - precision: 0.8898 - recall: 0.8898 - AUC: 0.9689\n",
            "Epoch 823/2500\n",
            "371/371 [==============================] - 16s 44ms/step - loss: 0.2123 - tp: 337556.0000 - fp: 42255.0000 - tn: 337556.0000 - fn: 42255.0000 - accuracy: 0.8887 - precision: 0.8887 - recall: 0.8887 - AUC: 0.9682\n",
            "Epoch 824/2500\n",
            "371/371 [==============================] - 16s 44ms/step - loss: 0.2121 - tp: 337683.0000 - fp: 42128.0000 - tn: 337683.0000 - fn: 42128.0000 - accuracy: 0.8891 - precision: 0.8891 - recall: 0.8891 - AUC: 0.9683\n",
            "Epoch 825/2500\n",
            "371/371 [==============================] - 16s 44ms/step - loss: 0.2149 - tp: 337375.0000 - fp: 42436.0000 - tn: 337375.0000 - fn: 42436.0000 - accuracy: 0.8883 - precision: 0.8883 - recall: 0.8883 - AUC: 0.9676\n",
            "Epoch 826/2500\n",
            "371/371 [==============================] - 16s 44ms/step - loss: 0.2147 - tp: 337176.0000 - fp: 42635.0000 - tn: 337176.0000 - fn: 42635.0000 - accuracy: 0.8877 - precision: 0.8877 - recall: 0.8877 - AUC: 0.9676\n",
            "Epoch 827/2500\n",
            "371/371 [==============================] - 16s 44ms/step - loss: 0.2115 - tp: 337736.0000 - fp: 42075.0000 - tn: 337736.0000 - fn: 42075.0000 - accuracy: 0.8892 - precision: 0.8892 - recall: 0.8892 - AUC: 0.9684\n",
            "Epoch 828/2500\n",
            "371/371 [==============================] - 16s 44ms/step - loss: 0.2114 - tp: 337566.0000 - fp: 42245.0000 - tn: 337566.0000 - fn: 42245.0000 - accuracy: 0.8888 - precision: 0.8888 - recall: 0.8888 - AUC: 0.9683\n",
            "Epoch 829/2500\n",
            "371/371 [==============================] - 16s 44ms/step - loss: 0.2145 - tp: 337241.0000 - fp: 42570.0000 - tn: 337241.0000 - fn: 42570.0000 - accuracy: 0.8879 - precision: 0.8879 - recall: 0.8879 - AUC: 0.9677\n",
            "Epoch 830/2500\n",
            "371/371 [==============================] - 16s 44ms/step - loss: 0.2167 - tp: 337137.0000 - fp: 42674.0000 - tn: 337137.0000 - fn: 42674.0000 - accuracy: 0.8876 - precision: 0.8876 - recall: 0.8876 - AUC: 0.9671\n",
            "Epoch 831/2500\n",
            "371/371 [==============================] - 16s 44ms/step - loss: 0.2144 - tp: 337330.0000 - fp: 42481.0000 - tn: 337330.0000 - fn: 42481.0000 - accuracy: 0.8882 - precision: 0.8882 - recall: 0.8882 - AUC: 0.9678\n",
            "Epoch 832/2500\n",
            "371/371 [==============================] - 16s 44ms/step - loss: 0.2110 - tp: 338025.0000 - fp: 41786.0000 - tn: 338025.0000 - fn: 41786.0000 - accuracy: 0.8900 - precision: 0.8900 - recall: 0.8900 - AUC: 0.9687\n",
            "Epoch 833/2500\n",
            "371/371 [==============================] - 16s 44ms/step - loss: 0.2104 - tp: 337758.0000 - fp: 42053.0000 - tn: 337758.0000 - fn: 42053.0000 - accuracy: 0.8893 - precision: 0.8893 - recall: 0.8893 - AUC: 0.9687\n",
            "Epoch 834/2500\n",
            "371/371 [==============================] - 16s 44ms/step - loss: 0.2113 - tp: 337888.0000 - fp: 41923.0000 - tn: 337888.0000 - fn: 41923.0000 - accuracy: 0.8896 - precision: 0.8896 - recall: 0.8896 - AUC: 0.9686\n",
            "Epoch 835/2500\n",
            "371/371 [==============================] - 16s 44ms/step - loss: 0.2111 - tp: 337787.0000 - fp: 42024.0000 - tn: 337787.0000 - fn: 42024.0000 - accuracy: 0.8894 - precision: 0.8894 - recall: 0.8894 - AUC: 0.9685\n",
            "Epoch 836/2500\n",
            "371/371 [==============================] - 16s 44ms/step - loss: 0.2121 - tp: 337951.0000 - fp: 41860.0000 - tn: 337951.0000 - fn: 41860.0000 - accuracy: 0.8898 - precision: 0.8898 - recall: 0.8898 - AUC: 0.9684\n",
            "Epoch 837/2500\n",
            "371/371 [==============================] - 16s 44ms/step - loss: 0.2113 - tp: 338082.0000 - fp: 41729.0000 - tn: 338082.0000 - fn: 41729.0000 - accuracy: 0.8901 - precision: 0.8901 - recall: 0.8901 - AUC: 0.9687\n",
            "Epoch 838/2500\n",
            "371/371 [==============================] - 16s 44ms/step - loss: 0.2145 - tp: 337324.0000 - fp: 42487.0000 - tn: 337324.0000 - fn: 42487.0000 - accuracy: 0.8881 - precision: 0.8881 - recall: 0.8881 - AUC: 0.9677\n",
            "Epoch 839/2500\n",
            "371/371 [==============================] - 16s 44ms/step - loss: 0.2125 - tp: 337524.0000 - fp: 42287.0000 - tn: 337524.0000 - fn: 42287.0000 - accuracy: 0.8887 - precision: 0.8887 - recall: 0.8887 - AUC: 0.9682\n",
            "Epoch 840/2500\n",
            "371/371 [==============================] - 16s 44ms/step - loss: 0.2133 - tp: 337427.0000 - fp: 42384.0000 - tn: 337427.0000 - fn: 42384.0000 - accuracy: 0.8884 - precision: 0.8884 - recall: 0.8884 - AUC: 0.9679\n",
            "Epoch 841/2500\n",
            "371/371 [==============================] - 16s 44ms/step - loss: 0.2116 - tp: 337785.0000 - fp: 42026.0000 - tn: 337785.0000 - fn: 42026.0000 - accuracy: 0.8894 - precision: 0.8894 - recall: 0.8894 - AUC: 0.9683\n",
            "Epoch 842/2500\n",
            "371/371 [==============================] - 16s 44ms/step - loss: 0.2096 - tp: 337972.0000 - fp: 41839.0000 - tn: 337972.0000 - fn: 41839.0000 - accuracy: 0.8898 - precision: 0.8898 - recall: 0.8898 - AUC: 0.9690\n",
            "Epoch 843/2500\n",
            "371/371 [==============================] - 16s 44ms/step - loss: 0.2096 - tp: 337912.0000 - fp: 41899.0000 - tn: 337912.0000 - fn: 41899.0000 - accuracy: 0.8897 - precision: 0.8897 - recall: 0.8897 - AUC: 0.9689\n",
            "Epoch 844/2500\n",
            "371/371 [==============================] - 16s 44ms/step - loss: 0.2102 - tp: 338017.0000 - fp: 41794.0000 - tn: 338017.0000 - fn: 41794.0000 - accuracy: 0.8900 - precision: 0.8900 - recall: 0.8900 - AUC: 0.9688\n",
            "Epoch 845/2500\n",
            "371/371 [==============================] - 16s 44ms/step - loss: 0.2110 - tp: 338006.0000 - fp: 41805.0000 - tn: 338006.0000 - fn: 41805.0000 - accuracy: 0.8899 - precision: 0.8899 - recall: 0.8899 - AUC: 0.9686\n",
            "Epoch 846/2500\n",
            "371/371 [==============================] - 16s 44ms/step - loss: 0.2139 - tp: 337684.0000 - fp: 42127.0000 - tn: 337684.0000 - fn: 42127.0000 - accuracy: 0.8891 - precision: 0.8891 - recall: 0.8891 - AUC: 0.9680\n",
            "Epoch 847/2500\n",
            "371/371 [==============================] - 16s 44ms/step - loss: 0.2135 - tp: 337584.0000 - fp: 42227.0000 - tn: 337584.0000 - fn: 42227.0000 - accuracy: 0.8888 - precision: 0.8888 - recall: 0.8888 - AUC: 0.9680\n",
            "Epoch 848/2500\n",
            "371/371 [==============================] - 16s 44ms/step - loss: 0.2092 - tp: 338081.0000 - fp: 41730.0000 - tn: 338081.0000 - fn: 41730.0000 - accuracy: 0.8901 - precision: 0.8901 - recall: 0.8901 - AUC: 0.9692\n",
            "Epoch 849/2500\n",
            "371/371 [==============================] - 16s 44ms/step - loss: 0.2118 - tp: 337852.0000 - fp: 41959.0000 - tn: 337852.0000 - fn: 41959.0000 - accuracy: 0.8895 - precision: 0.8895 - recall: 0.8895 - AUC: 0.9684\n",
            "Epoch 850/2500\n",
            "371/371 [==============================] - 16s 44ms/step - loss: 0.2095 - tp: 338037.0000 - fp: 41774.0000 - tn: 338037.0000 - fn: 41774.0000 - accuracy: 0.8900 - precision: 0.8900 - recall: 0.8900 - AUC: 0.9690\n",
            "Epoch 851/2500\n",
            "371/371 [==============================] - 16s 44ms/step - loss: 0.2138 - tp: 337808.0000 - fp: 42003.0000 - tn: 337808.0000 - fn: 42003.0000 - accuracy: 0.8894 - precision: 0.8894 - recall: 0.8894 - AUC: 0.9680\n",
            "Epoch 852/2500\n",
            "371/371 [==============================] - 16s 44ms/step - loss: 0.2109 - tp: 337862.0000 - fp: 41949.0000 - tn: 337862.0000 - fn: 41949.0000 - accuracy: 0.8896 - precision: 0.8896 - recall: 0.8896 - AUC: 0.9687\n",
            "Epoch 853/2500\n",
            "371/371 [==============================] - 16s 44ms/step - loss: 0.2132 - tp: 337756.0000 - fp: 42055.0000 - tn: 337756.0000 - fn: 42055.0000 - accuracy: 0.8893 - precision: 0.8893 - recall: 0.8893 - AUC: 0.9681\n",
            "Epoch 854/2500\n",
            "371/371 [==============================] - 16s 44ms/step - loss: 0.2125 - tp: 337519.0000 - fp: 42292.0000 - tn: 337519.0000 - fn: 42292.0000 - accuracy: 0.8886 - precision: 0.8886 - recall: 0.8886 - AUC: 0.9682\n",
            "Epoch 855/2500\n",
            "371/371 [==============================] - 16s 44ms/step - loss: 0.2089 - tp: 338176.0000 - fp: 41635.0000 - tn: 338176.0000 - fn: 41635.0000 - accuracy: 0.8904 - precision: 0.8904 - recall: 0.8904 - AUC: 0.9692\n",
            "Epoch 856/2500\n",
            "371/371 [==============================] - 16s 44ms/step - loss: 0.2106 - tp: 338095.0000 - fp: 41716.0000 - tn: 338095.0000 - fn: 41716.0000 - accuracy: 0.8902 - precision: 0.8902 - recall: 0.8902 - AUC: 0.9688\n",
            "Epoch 857/2500\n",
            "371/371 [==============================] - 16s 44ms/step - loss: 0.2098 - tp: 338211.0000 - fp: 41600.0000 - tn: 338211.0000 - fn: 41600.0000 - accuracy: 0.8905 - precision: 0.8905 - recall: 0.8905 - AUC: 0.9690\n",
            "Epoch 858/2500\n",
            "371/371 [==============================] - 16s 44ms/step - loss: 0.2074 - tp: 338419.0000 - fp: 41392.0000 - tn: 338419.0000 - fn: 41392.0000 - accuracy: 0.8910 - precision: 0.8910 - recall: 0.8910 - AUC: 0.9697\n",
            "Epoch 859/2500\n",
            "371/371 [==============================] - 16s 44ms/step - loss: 0.2127 - tp: 337817.0000 - fp: 41994.0000 - tn: 337817.0000 - fn: 41994.0000 - accuracy: 0.8894 - precision: 0.8894 - recall: 0.8894 - AUC: 0.9682\n",
            "Epoch 860/2500\n",
            "371/371 [==============================] - 16s 44ms/step - loss: 0.2098 - tp: 338299.0000 - fp: 41512.0000 - tn: 338299.0000 - fn: 41512.0000 - accuracy: 0.8907 - precision: 0.8907 - recall: 0.8907 - AUC: 0.9690\n",
            "Epoch 861/2500\n",
            "371/371 [==============================] - 16s 44ms/step - loss: 0.2132 - tp: 337696.0000 - fp: 42115.0000 - tn: 337696.0000 - fn: 42115.0000 - accuracy: 0.8891 - precision: 0.8891 - recall: 0.8891 - AUC: 0.9681\n",
            "Epoch 862/2500\n",
            "371/371 [==============================] - 16s 44ms/step - loss: 0.2107 - tp: 338197.0000 - fp: 41614.0000 - tn: 338197.0000 - fn: 41614.0000 - accuracy: 0.8904 - precision: 0.8904 - recall: 0.8904 - AUC: 0.9688\n",
            "Epoch 863/2500\n",
            "371/371 [==============================] - 16s 44ms/step - loss: 0.2101 - tp: 338258.0000 - fp: 41553.0000 - tn: 338258.0000 - fn: 41553.0000 - accuracy: 0.8906 - precision: 0.8906 - recall: 0.8906 - AUC: 0.9690\n",
            "Epoch 864/2500\n",
            "371/371 [==============================] - 16s 44ms/step - loss: 0.2094 - tp: 338322.0000 - fp: 41489.0000 - tn: 338322.0000 - fn: 41489.0000 - accuracy: 0.8908 - precision: 0.8908 - recall: 0.8908 - AUC: 0.9693\n",
            "Epoch 865/2500\n",
            "371/371 [==============================] - 16s 44ms/step - loss: 0.2084 - tp: 338275.0000 - fp: 41536.0000 - tn: 338275.0000 - fn: 41536.0000 - accuracy: 0.8906 - precision: 0.8906 - recall: 0.8906 - AUC: 0.9693\n",
            "Epoch 866/2500\n",
            "371/371 [==============================] - 16s 44ms/step - loss: 0.2182 - tp: 337223.0000 - fp: 42588.0000 - tn: 337223.0000 - fn: 42588.0000 - accuracy: 0.8879 - precision: 0.8879 - recall: 0.8879 - AUC: 0.9669\n",
            "Epoch 867/2500\n",
            "371/371 [==============================] - 16s 44ms/step - loss: 0.2164 - tp: 337251.0000 - fp: 42560.0000 - tn: 337251.0000 - fn: 42560.0000 - accuracy: 0.8879 - precision: 0.8879 - recall: 0.8879 - AUC: 0.9673\n",
            "Epoch 868/2500\n",
            "371/371 [==============================] - 16s 44ms/step - loss: 0.2097 - tp: 338326.0000 - fp: 41485.0000 - tn: 338326.0000 - fn: 41485.0000 - accuracy: 0.8908 - precision: 0.8908 - recall: 0.8908 - AUC: 0.9690\n",
            "Epoch 869/2500\n",
            "371/371 [==============================] - 16s 44ms/step - loss: 0.2089 - tp: 338238.0000 - fp: 41573.0000 - tn: 338238.0000 - fn: 41573.0000 - accuracy: 0.8905 - precision: 0.8905 - recall: 0.8905 - AUC: 0.9693\n",
            "Epoch 870/2500\n",
            "371/371 [==============================] - 16s 44ms/step - loss: 0.2047 - tp: 338871.0000 - fp: 40940.0000 - tn: 338871.0000 - fn: 40940.0000 - accuracy: 0.8922 - precision: 0.8922 - recall: 0.8922 - AUC: 0.9702\n",
            "Epoch 871/2500\n",
            "371/371 [==============================] - 16s 44ms/step - loss: 0.2047 - tp: 338925.0000 - fp: 40886.0000 - tn: 338925.0000 - fn: 40886.0000 - accuracy: 0.8924 - precision: 0.8924 - recall: 0.8924 - AUC: 0.9704\n",
            "Epoch 872/2500\n",
            "371/371 [==============================] - 16s 44ms/step - loss: 0.2093 - tp: 338400.0000 - fp: 41411.0000 - tn: 338400.0000 - fn: 41411.0000 - accuracy: 0.8910 - precision: 0.8910 - recall: 0.8910 - AUC: 0.9692\n",
            "Epoch 873/2500\n",
            "371/371 [==============================] - 16s 44ms/step - loss: 0.2132 - tp: 337884.0000 - fp: 41927.0000 - tn: 337884.0000 - fn: 41927.0000 - accuracy: 0.8896 - precision: 0.8896 - recall: 0.8896 - AUC: 0.9682\n",
            "Epoch 874/2500\n",
            "371/371 [==============================] - 16s 44ms/step - loss: 0.2172 - tp: 337334.0000 - fp: 42477.0000 - tn: 337334.0000 - fn: 42477.0000 - accuracy: 0.8882 - precision: 0.8882 - recall: 0.8882 - AUC: 0.9671\n",
            "Epoch 875/2500\n",
            "371/371 [==============================] - 16s 44ms/step - loss: 0.2120 - tp: 337978.0000 - fp: 41833.0000 - tn: 337978.0000 - fn: 41833.0000 - accuracy: 0.8899 - precision: 0.8899 - recall: 0.8899 - AUC: 0.9684\n",
            "Epoch 876/2500\n",
            "371/371 [==============================] - 16s 44ms/step - loss: 0.2122 - tp: 337864.0000 - fp: 41947.0000 - tn: 337864.0000 - fn: 41947.0000 - accuracy: 0.8896 - precision: 0.8896 - recall: 0.8896 - AUC: 0.9683\n",
            "Epoch 877/2500\n",
            "371/371 [==============================] - 16s 43ms/step - loss: 0.2089 - tp: 338587.0000 - fp: 41224.0000 - tn: 338587.0000 - fn: 41224.0000 - accuracy: 0.8915 - precision: 0.8915 - recall: 0.8915 - AUC: 0.9694\n",
            "Epoch 878/2500\n",
            "371/371 [==============================] - 16s 44ms/step - loss: 0.2054 - tp: 338822.0000 - fp: 40989.0000 - tn: 338822.0000 - fn: 40989.0000 - accuracy: 0.8921 - precision: 0.8921 - recall: 0.8921 - AUC: 0.9702\n",
            "Epoch 879/2500\n",
            "371/371 [==============================] - 16s 44ms/step - loss: 0.2070 - tp: 338645.0000 - fp: 41166.0000 - tn: 338645.0000 - fn: 41166.0000 - accuracy: 0.8916 - precision: 0.8916 - recall: 0.8916 - AUC: 0.9697\n",
            "Epoch 880/2500\n",
            "371/371 [==============================] - 16s 44ms/step - loss: 0.2078 - tp: 338669.0000 - fp: 41142.0000 - tn: 338669.0000 - fn: 41142.0000 - accuracy: 0.8917 - precision: 0.8917 - recall: 0.8917 - AUC: 0.9696\n",
            "Epoch 881/2500\n",
            "371/371 [==============================] - 16s 44ms/step - loss: 0.2112 - tp: 338151.0000 - fp: 41660.0000 - tn: 338151.0000 - fn: 41660.0000 - accuracy: 0.8903 - precision: 0.8903 - recall: 0.8903 - AUC: 0.9688\n",
            "Epoch 882/2500\n",
            "371/371 [==============================] - 16s 44ms/step - loss: 0.2125 - tp: 337914.0000 - fp: 41897.0000 - tn: 337914.0000 - fn: 41897.0000 - accuracy: 0.8897 - precision: 0.8897 - recall: 0.8897 - AUC: 0.9683\n",
            "Epoch 883/2500\n",
            "371/371 [==============================] - 17s 45ms/step - loss: 0.2128 - tp: 337863.0000 - fp: 41948.0000 - tn: 337863.0000 - fn: 41948.0000 - accuracy: 0.8896 - precision: 0.8896 - recall: 0.8896 - AUC: 0.9682\n",
            "Epoch 884/2500\n",
            "371/371 [==============================] - 16s 44ms/step - loss: 0.2069 - tp: 338824.0000 - fp: 40987.0000 - tn: 338824.0000 - fn: 40987.0000 - accuracy: 0.8921 - precision: 0.8921 - recall: 0.8921 - AUC: 0.9698\n",
            "Epoch 885/2500\n",
            "371/371 [==============================] - 16s 44ms/step - loss: 0.2090 - tp: 338584.0000 - fp: 41227.0000 - tn: 338584.0000 - fn: 41227.0000 - accuracy: 0.8915 - precision: 0.8915 - recall: 0.8915 - AUC: 0.9695\n",
            "Epoch 886/2500\n",
            "371/371 [==============================] - 16s 44ms/step - loss: 0.2070 - tp: 338972.0000 - fp: 40839.0000 - tn: 338972.0000 - fn: 40839.0000 - accuracy: 0.8925 - precision: 0.8925 - recall: 0.8925 - AUC: 0.9699\n",
            "Epoch 887/2500\n",
            "371/371 [==============================] - 16s 44ms/step - loss: 0.2078 - tp: 338655.0000 - fp: 41156.0000 - tn: 338655.0000 - fn: 41156.0000 - accuracy: 0.8916 - precision: 0.8916 - recall: 0.8916 - AUC: 0.9697\n",
            "Epoch 888/2500\n",
            "371/371 [==============================] - 16s 44ms/step - loss: 0.2067 - tp: 338852.0000 - fp: 40959.0000 - tn: 338852.0000 - fn: 40959.0000 - accuracy: 0.8922 - precision: 0.8922 - recall: 0.8922 - AUC: 0.9699\n",
            "Epoch 889/2500\n",
            "371/371 [==============================] - 16s 44ms/step - loss: 0.2090 - tp: 338573.0000 - fp: 41238.0000 - tn: 338573.0000 - fn: 41238.0000 - accuracy: 0.8914 - precision: 0.8914 - recall: 0.8914 - AUC: 0.9693\n",
            "Epoch 890/2500\n",
            "371/371 [==============================] - 16s 44ms/step - loss: 0.2096 - tp: 338444.0000 - fp: 41367.0000 - tn: 338444.0000 - fn: 41367.0000 - accuracy: 0.8911 - precision: 0.8911 - recall: 0.8911 - AUC: 0.9691\n",
            "Epoch 891/2500\n",
            "371/371 [==============================] - 16s 44ms/step - loss: 0.2083 - tp: 338630.0000 - fp: 41181.0000 - tn: 338630.0000 - fn: 41181.0000 - accuracy: 0.8916 - precision: 0.8916 - recall: 0.8916 - AUC: 0.9694\n",
            "Epoch 892/2500\n",
            "371/371 [==============================] - 16s 44ms/step - loss: 0.2079 - tp: 338661.0000 - fp: 41150.0000 - tn: 338661.0000 - fn: 41150.0000 - accuracy: 0.8917 - precision: 0.8917 - recall: 0.8917 - AUC: 0.9696\n",
            "Epoch 893/2500\n",
            "371/371 [==============================] - 16s 44ms/step - loss: 0.2094 - tp: 338846.0000 - fp: 40965.0000 - tn: 338846.0000 - fn: 40965.0000 - accuracy: 0.8921 - precision: 0.8921 - recall: 0.8921 - AUC: 0.9694\n",
            "Epoch 894/2500\n",
            "371/371 [==============================] - 16s 44ms/step - loss: 0.2097 - tp: 338669.0000 - fp: 41142.0000 - tn: 338669.0000 - fn: 41142.0000 - accuracy: 0.8917 - precision: 0.8917 - recall: 0.8917 - AUC: 0.9692\n",
            "Epoch 895/2500\n",
            "371/371 [==============================] - 16s 44ms/step - loss: 0.2088 - tp: 338654.0000 - fp: 41157.0000 - tn: 338654.0000 - fn: 41157.0000 - accuracy: 0.8916 - precision: 0.8916 - recall: 0.8916 - AUC: 0.9694\n",
            "Epoch 896/2500\n",
            "371/371 [==============================] - 17s 44ms/step - loss: 0.2101 - tp: 338371.0000 - fp: 41440.0000 - tn: 338371.0000 - fn: 41440.0000 - accuracy: 0.8909 - precision: 0.8909 - recall: 0.8909 - AUC: 0.9690\n",
            "Epoch 897/2500\n",
            "371/371 [==============================] - 17s 44ms/step - loss: 0.2098 - tp: 338518.0000 - fp: 41293.0000 - tn: 338518.0000 - fn: 41293.0000 - accuracy: 0.8913 - precision: 0.8913 - recall: 0.8913 - AUC: 0.9692\n",
            "Epoch 898/2500\n",
            "371/371 [==============================] - 17s 45ms/step - loss: 0.2111 - tp: 338181.0000 - fp: 41630.0000 - tn: 338181.0000 - fn: 41630.0000 - accuracy: 0.8904 - precision: 0.8904 - recall: 0.8904 - AUC: 0.9687\n",
            "Epoch 899/2500\n",
            "371/371 [==============================] - 17s 45ms/step - loss: 0.2102 - tp: 338346.0000 - fp: 41465.0000 - tn: 338346.0000 - fn: 41465.0000 - accuracy: 0.8908 - precision: 0.8908 - recall: 0.8908 - AUC: 0.9690\n",
            "Epoch 900/2500\n",
            "371/371 [==============================] - 16s 44ms/step - loss: 0.2068 - tp: 339028.0000 - fp: 40783.0000 - tn: 339028.0000 - fn: 40783.0000 - accuracy: 0.8926 - precision: 0.8926 - recall: 0.8926 - AUC: 0.9700\n",
            "Epoch 901/2500\n",
            "371/371 [==============================] - 16s 44ms/step - loss: 0.2083 - tp: 338656.0000 - fp: 41155.0000 - tn: 338656.0000 - fn: 41155.0000 - accuracy: 0.8916 - precision: 0.8916 - recall: 0.8916 - AUC: 0.9696\n",
            "Epoch 902/2500\n",
            "371/371 [==============================] - 16s 44ms/step - loss: 0.2084 - tp: 338712.0000 - fp: 41099.0000 - tn: 338712.0000 - fn: 41099.0000 - accuracy: 0.8918 - precision: 0.8918 - recall: 0.8918 - AUC: 0.9695\n",
            "Epoch 903/2500\n",
            "371/371 [==============================] - 16s 44ms/step - loss: 0.2101 - tp: 338739.0000 - fp: 41072.0000 - tn: 338739.0000 - fn: 41072.0000 - accuracy: 0.8919 - precision: 0.8919 - recall: 0.8919 - AUC: 0.9692\n",
            "Epoch 904/2500\n",
            "371/371 [==============================] - 16s 44ms/step - loss: 0.2064 - tp: 338928.0000 - fp: 40883.0000 - tn: 338928.0000 - fn: 40883.0000 - accuracy: 0.8924 - precision: 0.8924 - recall: 0.8924 - AUC: 0.9700\n",
            "Epoch 905/2500\n",
            "371/371 [==============================] - 16s 44ms/step - loss: 0.2044 - tp: 339164.0000 - fp: 40647.0000 - tn: 339164.0000 - fn: 40647.0000 - accuracy: 0.8930 - precision: 0.8930 - recall: 0.8930 - AUC: 0.9705\n",
            "Epoch 906/2500\n",
            "371/371 [==============================] - 16s 44ms/step - loss: 0.2087 - tp: 338714.0000 - fp: 41097.0000 - tn: 338714.0000 - fn: 41097.0000 - accuracy: 0.8918 - precision: 0.8918 - recall: 0.8918 - AUC: 0.9694\n",
            "Epoch 907/2500\n",
            "371/371 [==============================] - 16s 44ms/step - loss: 0.2122 - tp: 338056.0000 - fp: 41755.0000 - tn: 338056.0000 - fn: 41755.0000 - accuracy: 0.8901 - precision: 0.8901 - recall: 0.8901 - AUC: 0.9686\n",
            "Epoch 908/2500\n",
            "371/371 [==============================] - 16s 44ms/step - loss: 0.2105 - tp: 338613.0000 - fp: 41198.0000 - tn: 338613.0000 - fn: 41198.0000 - accuracy: 0.8915 - precision: 0.8915 - recall: 0.8915 - AUC: 0.9692\n",
            "Epoch 909/2500\n",
            "371/371 [==============================] - 16s 44ms/step - loss: 0.2062 - tp: 338963.0000 - fp: 40848.0000 - tn: 338963.0000 - fn: 40848.0000 - accuracy: 0.8925 - precision: 0.8925 - recall: 0.8925 - AUC: 0.9701\n",
            "Epoch 910/2500\n",
            "371/371 [==============================] - 16s 44ms/step - loss: 0.2046 - tp: 339252.0000 - fp: 40559.0000 - tn: 339252.0000 - fn: 40559.0000 - accuracy: 0.8932 - precision: 0.8932 - recall: 0.8932 - AUC: 0.9705\n",
            "Epoch 911/2500\n",
            "371/371 [==============================] - 16s 44ms/step - loss: 0.2065 - tp: 339186.0000 - fp: 40625.0000 - tn: 339186.0000 - fn: 40625.0000 - accuracy: 0.8930 - precision: 0.8930 - recall: 0.8930 - AUC: 0.9701\n",
            "Epoch 912/2500\n",
            "371/371 [==============================] - 16s 44ms/step - loss: 0.2093 - tp: 338669.0000 - fp: 41142.0000 - tn: 338669.0000 - fn: 41142.0000 - accuracy: 0.8917 - precision: 0.8917 - recall: 0.8917 - AUC: 0.9693\n",
            "Epoch 913/2500\n",
            "371/371 [==============================] - 16s 44ms/step - loss: 0.2071 - tp: 338971.0000 - fp: 40840.0000 - tn: 338971.0000 - fn: 40840.0000 - accuracy: 0.8925 - precision: 0.8925 - recall: 0.8925 - AUC: 0.9699\n",
            "Epoch 914/2500\n",
            "371/371 [==============================] - 16s 44ms/step - loss: 0.2096 - tp: 338527.0000 - fp: 41284.0000 - tn: 338527.0000 - fn: 41284.0000 - accuracy: 0.8913 - precision: 0.8913 - recall: 0.8913 - AUC: 0.9692\n",
            "Epoch 915/2500\n",
            "371/371 [==============================] - 16s 44ms/step - loss: 0.2070 - tp: 339017.0000 - fp: 40794.0000 - tn: 339017.0000 - fn: 40794.0000 - accuracy: 0.8926 - precision: 0.8926 - recall: 0.8926 - AUC: 0.9699\n",
            "Epoch 916/2500\n",
            "371/371 [==============================] - 16s 44ms/step - loss: 0.2080 - tp: 339016.0000 - fp: 40795.0000 - tn: 339016.0000 - fn: 40795.0000 - accuracy: 0.8926 - precision: 0.8926 - recall: 0.8926 - AUC: 0.9698\n",
            "Epoch 917/2500\n",
            "371/371 [==============================] - 16s 44ms/step - loss: 0.2081 - tp: 338618.0000 - fp: 41193.0000 - tn: 338618.0000 - fn: 41193.0000 - accuracy: 0.8915 - precision: 0.8915 - recall: 0.8915 - AUC: 0.9696\n",
            "Epoch 918/2500\n",
            "371/371 [==============================] - 16s 44ms/step - loss: 0.2082 - tp: 338640.0000 - fp: 41171.0000 - tn: 338640.0000 - fn: 41171.0000 - accuracy: 0.8916 - precision: 0.8916 - recall: 0.8916 - AUC: 0.9695\n",
            "Epoch 919/2500\n",
            "371/371 [==============================] - 16s 44ms/step - loss: 0.2065 - tp: 339219.0000 - fp: 40592.0000 - tn: 339219.0000 - fn: 40592.0000 - accuracy: 0.8931 - precision: 0.8931 - recall: 0.8931 - AUC: 0.9700\n",
            "Epoch 920/2500\n",
            "371/371 [==============================] - 16s 44ms/step - loss: 0.2074 - tp: 339059.0000 - fp: 40752.0000 - tn: 339059.0000 - fn: 40752.0000 - accuracy: 0.8927 - precision: 0.8927 - recall: 0.8927 - AUC: 0.9699\n",
            "Epoch 921/2500\n",
            "371/371 [==============================] - 16s 44ms/step - loss: 0.2054 - tp: 339327.0000 - fp: 40484.0000 - tn: 339327.0000 - fn: 40484.0000 - accuracy: 0.8934 - precision: 0.8934 - recall: 0.8934 - AUC: 0.9704\n",
            "Epoch 922/2500\n",
            "371/371 [==============================] - 16s 44ms/step - loss: 0.2087 - tp: 338977.0000 - fp: 40834.0000 - tn: 338977.0000 - fn: 40834.0000 - accuracy: 0.8925 - precision: 0.8925 - recall: 0.8925 - AUC: 0.9694\n",
            "Epoch 923/2500\n",
            "371/371 [==============================] - 16s 44ms/step - loss: 0.2116 - tp: 338514.0000 - fp: 41297.0000 - tn: 338514.0000 - fn: 41297.0000 - accuracy: 0.8913 - precision: 0.8913 - recall: 0.8913 - AUC: 0.9688\n",
            "Epoch 924/2500\n",
            "371/371 [==============================] - 16s 44ms/step - loss: 0.2104 - tp: 338597.0000 - fp: 41214.0000 - tn: 338597.0000 - fn: 41214.0000 - accuracy: 0.8915 - precision: 0.8915 - recall: 0.8915 - AUC: 0.9690\n",
            "Epoch 925/2500\n",
            "371/371 [==============================] - 16s 44ms/step - loss: 0.2064 - tp: 339052.0000 - fp: 40759.0000 - tn: 339052.0000 - fn: 40759.0000 - accuracy: 0.8927 - precision: 0.8927 - recall: 0.8927 - AUC: 0.9702\n",
            "Epoch 926/2500\n",
            "371/371 [==============================] - 16s 44ms/step - loss: 0.2035 - tp: 339317.0000 - fp: 40494.0000 - tn: 339317.0000 - fn: 40494.0000 - accuracy: 0.8934 - precision: 0.8934 - recall: 0.8934 - AUC: 0.9707\n",
            "Epoch 927/2500\n",
            "371/371 [==============================] - 16s 44ms/step - loss: 0.2075 - tp: 339187.0000 - fp: 40624.0000 - tn: 339187.0000 - fn: 40624.0000 - accuracy: 0.8930 - precision: 0.8930 - recall: 0.8930 - AUC: 0.9698\n",
            "Epoch 928/2500\n",
            "371/371 [==============================] - 16s 44ms/step - loss: 0.2074 - tp: 338960.0000 - fp: 40851.0000 - tn: 338960.0000 - fn: 40851.0000 - accuracy: 0.8924 - precision: 0.8924 - recall: 0.8924 - AUC: 0.9697\n",
            "Epoch 929/2500\n",
            "371/371 [==============================] - 16s 44ms/step - loss: 0.2091 - tp: 338678.0000 - fp: 41133.0000 - tn: 338678.0000 - fn: 41133.0000 - accuracy: 0.8917 - precision: 0.8917 - recall: 0.8917 - AUC: 0.9694\n",
            "Epoch 930/2500\n",
            "371/371 [==============================] - 16s 44ms/step - loss: 0.2078 - tp: 338974.0000 - fp: 40837.0000 - tn: 338974.0000 - fn: 40837.0000 - accuracy: 0.8925 - precision: 0.8925 - recall: 0.8925 - AUC: 0.9698\n",
            "Epoch 931/2500\n",
            "371/371 [==============================] - 16s 44ms/step - loss: 0.2044 - tp: 339416.0000 - fp: 40395.0000 - tn: 339416.0000 - fn: 40395.0000 - accuracy: 0.8936 - precision: 0.8936 - recall: 0.8936 - AUC: 0.9706\n",
            "Epoch 932/2500\n",
            "371/371 [==============================] - 16s 44ms/step - loss: 0.2076 - tp: 338950.0000 - fp: 40861.0000 - tn: 338950.0000 - fn: 40861.0000 - accuracy: 0.8924 - precision: 0.8924 - recall: 0.8924 - AUC: 0.9698\n",
            "Epoch 933/2500\n",
            "371/371 [==============================] - 16s 44ms/step - loss: 0.2083 - tp: 338835.0000 - fp: 40976.0000 - tn: 338835.0000 - fn: 40976.0000 - accuracy: 0.8921 - precision: 0.8921 - recall: 0.8921 - AUC: 0.9696\n",
            "Epoch 934/2500\n",
            "371/371 [==============================] - 16s 44ms/step - loss: 0.2076 - tp: 339209.0000 - fp: 40602.0000 - tn: 339209.0000 - fn: 40602.0000 - accuracy: 0.8931 - precision: 0.8931 - recall: 0.8931 - AUC: 0.9699\n",
            "Epoch 935/2500\n",
            "371/371 [==============================] - 16s 44ms/step - loss: 0.2047 - tp: 339433.0000 - fp: 40378.0000 - tn: 339433.0000 - fn: 40378.0000 - accuracy: 0.8937 - precision: 0.8937 - recall: 0.8937 - AUC: 0.9705\n",
            "Epoch 936/2500\n",
            "371/371 [==============================] - 16s 44ms/step - loss: 0.2108 - tp: 338465.0000 - fp: 41346.0000 - tn: 338465.0000 - fn: 41346.0000 - accuracy: 0.8911 - precision: 0.8911 - recall: 0.8911 - AUC: 0.9689\n",
            "Epoch 937/2500\n",
            "371/371 [==============================] - 16s 44ms/step - loss: 0.2060 - tp: 339100.0000 - fp: 40711.0000 - tn: 339100.0000 - fn: 40711.0000 - accuracy: 0.8928 - precision: 0.8928 - recall: 0.8928 - AUC: 0.9701\n",
            "Epoch 938/2500\n",
            "371/371 [==============================] - 17s 45ms/step - loss: 0.2089 - tp: 338924.0000 - fp: 40887.0000 - tn: 338924.0000 - fn: 40887.0000 - accuracy: 0.8923 - precision: 0.8923 - recall: 0.8923 - AUC: 0.9695\n",
            "Epoch 939/2500\n",
            "371/371 [==============================] - 16s 44ms/step - loss: 0.2056 - tp: 339307.0000 - fp: 40504.0000 - tn: 339307.0000 - fn: 40504.0000 - accuracy: 0.8934 - precision: 0.8934 - recall: 0.8934 - AUC: 0.9704\n",
            "Epoch 940/2500\n",
            "371/371 [==============================] - 16s 44ms/step - loss: 0.2050 - tp: 339273.0000 - fp: 40538.0000 - tn: 339273.0000 - fn: 40538.0000 - accuracy: 0.8933 - precision: 0.8933 - recall: 0.8933 - AUC: 0.9705\n",
            "Epoch 941/2500\n",
            "371/371 [==============================] - 16s 44ms/step - loss: 0.2076 - tp: 339079.0000 - fp: 40732.0000 - tn: 339079.0000 - fn: 40732.0000 - accuracy: 0.8928 - precision: 0.8928 - recall: 0.8928 - AUC: 0.9699\n",
            "Epoch 942/2500\n",
            "371/371 [==============================] - 16s 44ms/step - loss: 0.2075 - tp: 339094.0000 - fp: 40717.0000 - tn: 339094.0000 - fn: 40717.0000 - accuracy: 0.8928 - precision: 0.8928 - recall: 0.8928 - AUC: 0.9700\n",
            "Epoch 943/2500\n",
            "371/371 [==============================] - 16s 44ms/step - loss: 0.2085 - tp: 338861.0000 - fp: 40950.0000 - tn: 338861.0000 - fn: 40950.0000 - accuracy: 0.8922 - precision: 0.8922 - recall: 0.8922 - AUC: 0.9695\n",
            "Epoch 944/2500\n",
            "371/371 [==============================] - 16s 44ms/step - loss: 0.2086 - tp: 338983.0000 - fp: 40828.0000 - tn: 338983.0000 - fn: 40828.0000 - accuracy: 0.8925 - precision: 0.8925 - recall: 0.8925 - AUC: 0.9695\n",
            "Epoch 945/2500\n",
            "371/371 [==============================] - 16s 44ms/step - loss: 0.2070 - tp: 339200.0000 - fp: 40611.0000 - tn: 339200.0000 - fn: 40611.0000 - accuracy: 0.8931 - precision: 0.8931 - recall: 0.8931 - AUC: 0.9699\n",
            "Epoch 946/2500\n",
            "371/371 [==============================] - 16s 44ms/step - loss: 0.2061 - tp: 339458.0000 - fp: 40353.0000 - tn: 339458.0000 - fn: 40353.0000 - accuracy: 0.8938 - precision: 0.8938 - recall: 0.8938 - AUC: 0.9703\n",
            "Epoch 947/2500\n",
            "371/371 [==============================] - 16s 44ms/step - loss: 0.2072 - tp: 339063.0000 - fp: 40748.0000 - tn: 339063.0000 - fn: 40748.0000 - accuracy: 0.8927 - precision: 0.8927 - recall: 0.8927 - AUC: 0.9699\n",
            "Epoch 948/2500\n",
            "371/371 [==============================] - 16s 44ms/step - loss: 0.2041 - tp: 339614.0000 - fp: 40197.0000 - tn: 339614.0000 - fn: 40197.0000 - accuracy: 0.8942 - precision: 0.8942 - recall: 0.8942 - AUC: 0.9707\n",
            "Epoch 949/2500\n",
            "371/371 [==============================] - 16s 44ms/step - loss: 0.2036 - tp: 339673.0000 - fp: 40138.0000 - tn: 339673.0000 - fn: 40138.0000 - accuracy: 0.8943 - precision: 0.8943 - recall: 0.8943 - AUC: 0.9708\n",
            "Epoch 950/2500\n",
            "371/371 [==============================] - 17s 45ms/step - loss: 0.2050 - tp: 339611.0000 - fp: 40200.0000 - tn: 339611.0000 - fn: 40200.0000 - accuracy: 0.8942 - precision: 0.8942 - recall: 0.8942 - AUC: 0.9705\n",
            "Epoch 951/2500\n",
            "371/371 [==============================] - 16s 44ms/step - loss: 0.2041 - tp: 339458.0000 - fp: 40353.0000 - tn: 339458.0000 - fn: 40353.0000 - accuracy: 0.8938 - precision: 0.8938 - recall: 0.8938 - AUC: 0.9705\n",
            "Epoch 952/2500\n",
            "371/371 [==============================] - 16s 44ms/step - loss: 0.2065 - tp: 339184.0000 - fp: 40627.0000 - tn: 339184.0000 - fn: 40627.0000 - accuracy: 0.8930 - precision: 0.8930 - recall: 0.8930 - AUC: 0.9700\n",
            "Epoch 953/2500\n",
            "371/371 [==============================] - 16s 44ms/step - loss: 0.2055 - tp: 339523.0000 - fp: 40288.0000 - tn: 339523.0000 - fn: 40288.0000 - accuracy: 0.8939 - precision: 0.8939 - recall: 0.8939 - AUC: 0.9704\n",
            "Epoch 954/2500\n",
            "371/371 [==============================] - 16s 44ms/step - loss: 0.2031 - tp: 339796.0000 - fp: 40015.0000 - tn: 339796.0000 - fn: 40015.0000 - accuracy: 0.8946 - precision: 0.8946 - recall: 0.8946 - AUC: 0.9710\n",
            "Epoch 955/2500\n",
            "371/371 [==============================] - 16s 44ms/step - loss: 0.2050 - tp: 339591.0000 - fp: 40220.0000 - tn: 339591.0000 - fn: 40220.0000 - accuracy: 0.8941 - precision: 0.8941 - recall: 0.8941 - AUC: 0.9705\n",
            "Epoch 956/2500\n",
            "371/371 [==============================] - 16s 44ms/step - loss: 0.2063 - tp: 339173.0000 - fp: 40638.0000 - tn: 339173.0000 - fn: 40638.0000 - accuracy: 0.8930 - precision: 0.8930 - recall: 0.8930 - AUC: 0.9701\n",
            "Epoch 957/2500\n",
            "371/371 [==============================] - 16s 44ms/step - loss: 0.2074 - tp: 338926.0000 - fp: 40885.0000 - tn: 338926.0000 - fn: 40885.0000 - accuracy: 0.8924 - precision: 0.8924 - recall: 0.8924 - AUC: 0.9698\n",
            "Epoch 958/2500\n",
            "371/371 [==============================] - 16s 44ms/step - loss: 0.2042 - tp: 339563.0000 - fp: 40248.0000 - tn: 339563.0000 - fn: 40248.0000 - accuracy: 0.8940 - precision: 0.8940 - recall: 0.8940 - AUC: 0.9707\n",
            "Epoch 959/2500\n",
            "371/371 [==============================] - 16s 44ms/step - loss: 0.2032 - tp: 339843.0000 - fp: 39968.0000 - tn: 339843.0000 - fn: 39968.0000 - accuracy: 0.8948 - precision: 0.8948 - recall: 0.8948 - AUC: 0.9710\n",
            "Epoch 960/2500\n",
            "371/371 [==============================] - 16s 44ms/step - loss: 0.2053 - tp: 339629.0000 - fp: 40182.0000 - tn: 339629.0000 - fn: 40182.0000 - accuracy: 0.8942 - precision: 0.8942 - recall: 0.8942 - AUC: 0.9705\n",
            "Epoch 961/2500\n",
            "371/371 [==============================] - 16s 44ms/step - loss: 0.2074 - tp: 339046.0000 - fp: 40765.0000 - tn: 339046.0000 - fn: 40765.0000 - accuracy: 0.8927 - precision: 0.8927 - recall: 0.8927 - AUC: 0.9698\n",
            "Epoch 962/2500\n",
            "371/371 [==============================] - 16s 44ms/step - loss: 0.2084 - tp: 339129.0000 - fp: 40682.0000 - tn: 339129.0000 - fn: 40682.0000 - accuracy: 0.8929 - precision: 0.8929 - recall: 0.8929 - AUC: 0.9696\n",
            "Epoch 963/2500\n",
            "371/371 [==============================] - 16s 44ms/step - loss: 0.2050 - tp: 339570.0000 - fp: 40241.0000 - tn: 339570.0000 - fn: 40241.0000 - accuracy: 0.8940 - precision: 0.8940 - recall: 0.8940 - AUC: 0.9706\n",
            "Epoch 964/2500\n",
            "371/371 [==============================] - 16s 44ms/step - loss: 0.2055 - tp: 339398.0000 - fp: 40413.0000 - tn: 339398.0000 - fn: 40413.0000 - accuracy: 0.8936 - precision: 0.8936 - recall: 0.8936 - AUC: 0.9703\n",
            "Epoch 965/2500\n",
            "371/371 [==============================] - 16s 44ms/step - loss: 0.2042 - tp: 339647.0000 - fp: 40164.0000 - tn: 339647.0000 - fn: 40164.0000 - accuracy: 0.8943 - precision: 0.8943 - recall: 0.8943 - AUC: 0.9707\n",
            "Epoch 966/2500\n",
            "371/371 [==============================] - 16s 44ms/step - loss: 0.2037 - tp: 339824.0000 - fp: 39987.0000 - tn: 339824.0000 - fn: 39987.0000 - accuracy: 0.8947 - precision: 0.8947 - recall: 0.8947 - AUC: 0.9709\n",
            "Epoch 967/2500\n",
            "371/371 [==============================] - 16s 44ms/step - loss: 0.2051 - tp: 339508.0000 - fp: 40303.0000 - tn: 339508.0000 - fn: 40303.0000 - accuracy: 0.8939 - precision: 0.8939 - recall: 0.8939 - AUC: 0.9705\n",
            "Epoch 968/2500\n",
            "371/371 [==============================] - 16s 44ms/step - loss: 0.2046 - tp: 339626.0000 - fp: 40185.0000 - tn: 339626.0000 - fn: 40185.0000 - accuracy: 0.8942 - precision: 0.8942 - recall: 0.8942 - AUC: 0.9707\n",
            "Epoch 969/2500\n",
            "371/371 [==============================] - 16s 44ms/step - loss: 0.2101 - tp: 338886.0000 - fp: 40925.0000 - tn: 338886.0000 - fn: 40925.0000 - accuracy: 0.8922 - precision: 0.8922 - recall: 0.8922 - AUC: 0.9694\n",
            "Epoch 970/2500\n",
            "371/371 [==============================] - 16s 44ms/step - loss: 0.2066 - tp: 339406.0000 - fp: 40405.0000 - tn: 339406.0000 - fn: 40405.0000 - accuracy: 0.8936 - precision: 0.8936 - recall: 0.8936 - AUC: 0.9703\n",
            "Epoch 971/2500\n",
            "371/371 [==============================] - 16s 44ms/step - loss: 0.2041 - tp: 339844.0000 - fp: 39967.0000 - tn: 339844.0000 - fn: 39967.0000 - accuracy: 0.8948 - precision: 0.8948 - recall: 0.8948 - AUC: 0.9709\n",
            "Epoch 972/2500\n",
            "371/371 [==============================] - 16s 44ms/step - loss: 0.2049 - tp: 339434.0000 - fp: 40377.0000 - tn: 339434.0000 - fn: 40377.0000 - accuracy: 0.8937 - precision: 0.8937 - recall: 0.8937 - AUC: 0.9705\n",
            "Epoch 973/2500\n",
            "371/371 [==============================] - 16s 44ms/step - loss: 0.2047 - tp: 339636.0000 - fp: 40175.0000 - tn: 339636.0000 - fn: 40175.0000 - accuracy: 0.8942 - precision: 0.8942 - recall: 0.8942 - AUC: 0.9707\n",
            "Epoch 974/2500\n",
            "371/371 [==============================] - 16s 44ms/step - loss: 0.2088 - tp: 339187.0000 - fp: 40624.0000 - tn: 339187.0000 - fn: 40624.0000 - accuracy: 0.8930 - precision: 0.8930 - recall: 0.8930 - AUC: 0.9696\n",
            "Epoch 975/2500\n",
            "371/371 [==============================] - 17s 44ms/step - loss: 0.2044 - tp: 339764.0000 - fp: 40047.0000 - tn: 339764.0000 - fn: 40047.0000 - accuracy: 0.8946 - precision: 0.8946 - recall: 0.8946 - AUC: 0.9708\n",
            "Epoch 976/2500\n",
            "371/371 [==============================] - 16s 44ms/step - loss: 0.2012 - tp: 340187.0000 - fp: 39624.0000 - tn: 340187.0000 - fn: 39624.0000 - accuracy: 0.8957 - precision: 0.8957 - recall: 0.8957 - AUC: 0.9716\n",
            "Epoch 977/2500\n",
            "371/371 [==============================] - 16s 44ms/step - loss: 0.2046 - tp: 339597.0000 - fp: 40214.0000 - tn: 339597.0000 - fn: 40214.0000 - accuracy: 0.8941 - precision: 0.8941 - recall: 0.8941 - AUC: 0.9706\n",
            "Epoch 978/2500\n",
            "371/371 [==============================] - 16s 44ms/step - loss: 0.2049 - tp: 339616.0000 - fp: 40195.0000 - tn: 339616.0000 - fn: 40195.0000 - accuracy: 0.8942 - precision: 0.8942 - recall: 0.8942 - AUC: 0.9706\n",
            "Epoch 979/2500\n",
            "371/371 [==============================] - 16s 44ms/step - loss: 0.2008 - tp: 340273.0000 - fp: 39538.0000 - tn: 340273.0000 - fn: 39538.0000 - accuracy: 0.8959 - precision: 0.8959 - recall: 0.8959 - AUC: 0.9717\n",
            "Epoch 980/2500\n",
            "371/371 [==============================] - 16s 44ms/step - loss: 0.2036 - tp: 339868.0000 - fp: 39943.0000 - tn: 339868.0000 - fn: 39943.0000 - accuracy: 0.8948 - precision: 0.8948 - recall: 0.8948 - AUC: 0.9709\n",
            "Epoch 981/2500\n",
            "371/371 [==============================] - 16s 44ms/step - loss: 0.2052 - tp: 339893.0000 - fp: 39918.0000 - tn: 339893.0000 - fn: 39918.0000 - accuracy: 0.8949 - precision: 0.8949 - recall: 0.8949 - AUC: 0.9707\n",
            "Epoch 982/2500\n",
            "371/371 [==============================] - 16s 44ms/step - loss: 0.2034 - tp: 339926.0000 - fp: 39885.0000 - tn: 339926.0000 - fn: 39885.0000 - accuracy: 0.8950 - precision: 0.8950 - recall: 0.8950 - AUC: 0.9710\n",
            "Epoch 983/2500\n",
            "371/371 [==============================] - 16s 44ms/step - loss: 0.2021 - tp: 340230.0000 - fp: 39581.0000 - tn: 340230.0000 - fn: 39581.0000 - accuracy: 0.8958 - precision: 0.8958 - recall: 0.8958 - AUC: 0.9714\n",
            "Epoch 984/2500\n",
            "371/371 [==============================] - 16s 44ms/step - loss: 0.2036 - tp: 339934.0000 - fp: 39877.0000 - tn: 339934.0000 - fn: 39877.0000 - accuracy: 0.8950 - precision: 0.8950 - recall: 0.8950 - AUC: 0.9710\n",
            "Epoch 985/2500\n",
            "371/371 [==============================] - 16s 44ms/step - loss: 0.2068 - tp: 339440.0000 - fp: 40371.0000 - tn: 339440.0000 - fn: 40371.0000 - accuracy: 0.8937 - precision: 0.8937 - recall: 0.8937 - AUC: 0.9702\n",
            "Epoch 986/2500\n",
            "371/371 [==============================] - 16s 44ms/step - loss: 0.2082 - tp: 339447.0000 - fp: 40364.0000 - tn: 339447.0000 - fn: 40364.0000 - accuracy: 0.8937 - precision: 0.8937 - recall: 0.8937 - AUC: 0.9699\n",
            "Epoch 987/2500\n",
            "371/371 [==============================] - 16s 44ms/step - loss: 0.2061 - tp: 339348.0000 - fp: 40463.0000 - tn: 339348.0000 - fn: 40463.0000 - accuracy: 0.8935 - precision: 0.8935 - recall: 0.8935 - AUC: 0.9702\n",
            "Epoch 988/2500\n",
            "371/371 [==============================] - 16s 44ms/step - loss: 0.2031 - tp: 339901.0000 - fp: 39910.0000 - tn: 339901.0000 - fn: 39910.0000 - accuracy: 0.8949 - precision: 0.8949 - recall: 0.8949 - AUC: 0.9711\n",
            "Epoch 989/2500\n",
            "371/371 [==============================] - 16s 44ms/step - loss: 0.1992 - tp: 340319.0000 - fp: 39492.0000 - tn: 340319.0000 - fn: 39492.0000 - accuracy: 0.8960 - precision: 0.8960 - recall: 0.8960 - AUC: 0.9721\n",
            "Epoch 990/2500\n",
            "371/371 [==============================] - 16s 44ms/step - loss: 0.2032 - tp: 339847.0000 - fp: 39964.0000 - tn: 339847.0000 - fn: 39964.0000 - accuracy: 0.8948 - precision: 0.8948 - recall: 0.8948 - AUC: 0.9710\n",
            "Epoch 991/2500\n",
            "371/371 [==============================] - 16s 44ms/step - loss: 0.2053 - tp: 339597.0000 - fp: 40214.0000 - tn: 339597.0000 - fn: 40214.0000 - accuracy: 0.8941 - precision: 0.8941 - recall: 0.8941 - AUC: 0.9704\n",
            "Epoch 992/2500\n",
            "371/371 [==============================] - 16s 44ms/step - loss: 0.2031 - tp: 340114.0000 - fp: 39697.0000 - tn: 340114.0000 - fn: 39697.0000 - accuracy: 0.8955 - precision: 0.8955 - recall: 0.8955 - AUC: 0.9712\n",
            "Epoch 993/2500\n",
            "371/371 [==============================] - 16s 44ms/step - loss: 0.2029 - tp: 340137.0000 - fp: 39674.0000 - tn: 340137.0000 - fn: 39674.0000 - accuracy: 0.8955 - precision: 0.8955 - recall: 0.8955 - AUC: 0.9712\n",
            "Epoch 994/2500\n",
            "371/371 [==============================] - 16s 44ms/step - loss: 0.2022 - tp: 339985.0000 - fp: 39826.0000 - tn: 339985.0000 - fn: 39826.0000 - accuracy: 0.8951 - precision: 0.8951 - recall: 0.8951 - AUC: 0.9713\n",
            "Epoch 995/2500\n",
            "371/371 [==============================] - 16s 44ms/step - loss: 0.2051 - tp: 339755.0000 - fp: 40056.0000 - tn: 339755.0000 - fn: 40056.0000 - accuracy: 0.8945 - precision: 0.8945 - recall: 0.8945 - AUC: 0.9706\n",
            "Epoch 996/2500\n",
            "371/371 [==============================] - 16s 44ms/step - loss: 0.2041 - tp: 339866.0000 - fp: 39945.0000 - tn: 339866.0000 - fn: 39945.0000 - accuracy: 0.8948 - precision: 0.8948 - recall: 0.8948 - AUC: 0.9708\n",
            "Epoch 997/2500\n",
            "371/371 [==============================] - 16s 44ms/step - loss: 0.2033 - tp: 339855.0000 - fp: 39956.0000 - tn: 339855.0000 - fn: 39956.0000 - accuracy: 0.8948 - precision: 0.8948 - recall: 0.8948 - AUC: 0.9711\n",
            "Epoch 998/2500\n",
            "371/371 [==============================] - 16s 44ms/step - loss: 0.2046 - tp: 339824.0000 - fp: 39987.0000 - tn: 339824.0000 - fn: 39987.0000 - accuracy: 0.8947 - precision: 0.8947 - recall: 0.8947 - AUC: 0.9708\n",
            "Epoch 999/2500\n",
            "371/371 [==============================] - 16s 44ms/step - loss: 0.2045 - tp: 339768.0000 - fp: 40043.0000 - tn: 339768.0000 - fn: 40043.0000 - accuracy: 0.8946 - precision: 0.8946 - recall: 0.8946 - AUC: 0.9707\n",
            "Epoch 1000/2500\n",
            "371/371 [==============================] - 16s 44ms/step - loss: 0.2048 - tp: 339872.0000 - fp: 39939.0000 - tn: 339872.0000 - fn: 39939.0000 - accuracy: 0.8948 - precision: 0.8948 - recall: 0.8948 - AUC: 0.9709\n",
            "Epoch 1001/2500\n",
            "371/371 [==============================] - 16s 44ms/step - loss: 0.2053 - tp: 339914.0000 - fp: 39897.0000 - tn: 339914.0000 - fn: 39897.0000 - accuracy: 0.8950 - precision: 0.8950 - recall: 0.8950 - AUC: 0.9705\n",
            "Epoch 1002/2500\n",
            "371/371 [==============================] - 16s 44ms/step - loss: 0.2031 - tp: 340075.0000 - fp: 39736.0000 - tn: 340075.0000 - fn: 39736.0000 - accuracy: 0.8954 - precision: 0.8954 - recall: 0.8954 - AUC: 0.9712\n",
            "Epoch 1003/2500\n",
            "371/371 [==============================] - 16s 44ms/step - loss: 0.2022 - tp: 340174.0000 - fp: 39637.0000 - tn: 340174.0000 - fn: 39637.0000 - accuracy: 0.8956 - precision: 0.8956 - recall: 0.8956 - AUC: 0.9713\n",
            "Epoch 1004/2500\n",
            "371/371 [==============================] - 16s 44ms/step - loss: 0.2057 - tp: 339859.0000 - fp: 39952.0000 - tn: 339859.0000 - fn: 39952.0000 - accuracy: 0.8948 - precision: 0.8948 - recall: 0.8948 - AUC: 0.9705\n",
            "Epoch 1005/2500\n",
            "371/371 [==============================] - 16s 44ms/step - loss: 0.2032 - tp: 339841.0000 - fp: 39970.0000 - tn: 339841.0000 - fn: 39970.0000 - accuracy: 0.8948 - precision: 0.8948 - recall: 0.8948 - AUC: 0.9710\n",
            "Epoch 1006/2500\n",
            "371/371 [==============================] - 16s 44ms/step - loss: 0.2027 - tp: 340024.0000 - fp: 39787.0000 - tn: 340024.0000 - fn: 39787.0000 - accuracy: 0.8952 - precision: 0.8952 - recall: 0.8952 - AUC: 0.9714\n",
            "Epoch 1007/2500\n",
            "371/371 [==============================] - 16s 44ms/step - loss: 0.2012 - tp: 340356.0000 - fp: 39455.0000 - tn: 340356.0000 - fn: 39455.0000 - accuracy: 0.8961 - precision: 0.8961 - recall: 0.8961 - AUC: 0.9717\n",
            "Epoch 1008/2500\n",
            "371/371 [==============================] - 16s 44ms/step - loss: 0.2026 - tp: 340111.0000 - fp: 39700.0000 - tn: 340111.0000 - fn: 39700.0000 - accuracy: 0.8955 - precision: 0.8955 - recall: 0.8955 - AUC: 0.9713\n",
            "Epoch 1009/2500\n",
            "371/371 [==============================] - 16s 44ms/step - loss: 0.2039 - tp: 339673.0000 - fp: 40138.0000 - tn: 339673.0000 - fn: 40138.0000 - accuracy: 0.8943 - precision: 0.8943 - recall: 0.8943 - AUC: 0.9708\n",
            "Epoch 1010/2500\n",
            "371/371 [==============================] - 16s 44ms/step - loss: 0.2022 - tp: 340197.0000 - fp: 39614.0000 - tn: 340197.0000 - fn: 39614.0000 - accuracy: 0.8957 - precision: 0.8957 - recall: 0.8957 - AUC: 0.9714\n",
            "Epoch 1011/2500\n",
            "371/371 [==============================] - 16s 44ms/step - loss: 0.2016 - tp: 340534.0000 - fp: 39277.0000 - tn: 340534.0000 - fn: 39277.0000 - accuracy: 0.8966 - precision: 0.8966 - recall: 0.8966 - AUC: 0.9717\n",
            "Epoch 1012/2500\n",
            "371/371 [==============================] - 16s 44ms/step - loss: 0.2025 - tp: 340153.0000 - fp: 39658.0000 - tn: 340153.0000 - fn: 39658.0000 - accuracy: 0.8956 - precision: 0.8956 - recall: 0.8956 - AUC: 0.9713\n",
            "Epoch 1013/2500\n",
            "371/371 [==============================] - 16s 44ms/step - loss: 0.2041 - tp: 339876.0000 - fp: 39935.0000 - tn: 339876.0000 - fn: 39935.0000 - accuracy: 0.8949 - precision: 0.8949 - recall: 0.8949 - AUC: 0.9708\n",
            "Epoch 1014/2500\n",
            "371/371 [==============================] - 16s 44ms/step - loss: 0.2042 - tp: 340079.0000 - fp: 39732.0000 - tn: 340079.0000 - fn: 39732.0000 - accuracy: 0.8954 - precision: 0.8954 - recall: 0.8954 - AUC: 0.9708\n",
            "Epoch 1015/2500\n",
            "371/371 [==============================] - 16s 44ms/step - loss: 0.2070 - tp: 339563.0000 - fp: 40248.0000 - tn: 339563.0000 - fn: 40248.0000 - accuracy: 0.8940 - precision: 0.8940 - recall: 0.8940 - AUC: 0.9701\n",
            "Epoch 1016/2500\n",
            "371/371 [==============================] - 16s 44ms/step - loss: 0.2085 - tp: 339469.0000 - fp: 40342.0000 - tn: 339469.0000 - fn: 40342.0000 - accuracy: 0.8938 - precision: 0.8938 - recall: 0.8938 - AUC: 0.9698\n",
            "Epoch 1017/2500\n",
            "371/371 [==============================] - 16s 44ms/step - loss: 0.2062 - tp: 339688.0000 - fp: 40123.0000 - tn: 339688.0000 - fn: 40123.0000 - accuracy: 0.8944 - precision: 0.8944 - recall: 0.8944 - AUC: 0.9704\n",
            "Epoch 1018/2500\n",
            "371/371 [==============================] - 16s 44ms/step - loss: 0.2039 - tp: 340015.0000 - fp: 39796.0000 - tn: 340015.0000 - fn: 39796.0000 - accuracy: 0.8952 - precision: 0.8952 - recall: 0.8952 - AUC: 0.9709\n",
            "Epoch 1019/2500\n",
            "371/371 [==============================] - 16s 44ms/step - loss: 0.1991 - tp: 340699.0000 - fp: 39112.0000 - tn: 340699.0000 - fn: 39112.0000 - accuracy: 0.8970 - precision: 0.8970 - recall: 0.8970 - AUC: 0.9722\n",
            "Epoch 1020/2500\n",
            "371/371 [==============================] - 16s 44ms/step - loss: 0.2009 - tp: 340384.0000 - fp: 39427.0000 - tn: 340384.0000 - fn: 39427.0000 - accuracy: 0.8962 - precision: 0.8962 - recall: 0.8962 - AUC: 0.9716\n",
            "Epoch 1021/2500\n",
            "371/371 [==============================] - 16s 44ms/step - loss: 0.2008 - tp: 340527.0000 - fp: 39284.0000 - tn: 340527.0000 - fn: 39284.0000 - accuracy: 0.8966 - precision: 0.8966 - recall: 0.8966 - AUC: 0.9717\n",
            "Epoch 1022/2500\n",
            "371/371 [==============================] - 16s 44ms/step - loss: 0.2009 - tp: 340336.0000 - fp: 39475.0000 - tn: 340336.0000 - fn: 39475.0000 - accuracy: 0.8961 - precision: 0.8961 - recall: 0.8961 - AUC: 0.9717\n",
            "Epoch 1023/2500\n",
            "371/371 [==============================] - 16s 44ms/step - loss: 0.2028 - tp: 340084.0000 - fp: 39727.0000 - tn: 340084.0000 - fn: 39727.0000 - accuracy: 0.8954 - precision: 0.8954 - recall: 0.8954 - AUC: 0.9710\n",
            "Epoch 1024/2500\n",
            "371/371 [==============================] - 16s 44ms/step - loss: 0.2063 - tp: 339521.0000 - fp: 40290.0000 - tn: 339521.0000 - fn: 40290.0000 - accuracy: 0.8939 - precision: 0.8939 - recall: 0.8939 - AUC: 0.9702\n",
            "Epoch 1025/2500\n",
            "371/371 [==============================] - 16s 44ms/step - loss: 0.2037 - tp: 339984.0000 - fp: 39827.0000 - tn: 339984.0000 - fn: 39827.0000 - accuracy: 0.8951 - precision: 0.8951 - recall: 0.8951 - AUC: 0.9708\n",
            "Epoch 1026/2500\n",
            "371/371 [==============================] - 16s 44ms/step - loss: 0.2010 - tp: 340393.0000 - fp: 39418.0000 - tn: 340393.0000 - fn: 39418.0000 - accuracy: 0.8962 - precision: 0.8962 - recall: 0.8962 - AUC: 0.9716\n",
            "Epoch 1027/2500\n",
            "371/371 [==============================] - 16s 44ms/step - loss: 0.2024 - tp: 340291.0000 - fp: 39520.0000 - tn: 340291.0000 - fn: 39520.0000 - accuracy: 0.8959 - precision: 0.8959 - recall: 0.8959 - AUC: 0.9714\n",
            "Epoch 1028/2500\n",
            "371/371 [==============================] - 16s 44ms/step - loss: 0.1984 - tp: 340678.0000 - fp: 39133.0000 - tn: 340678.0000 - fn: 39133.0000 - accuracy: 0.8970 - precision: 0.8970 - recall: 0.8970 - AUC: 0.9723\n",
            "Epoch 1029/2500\n",
            "371/371 [==============================] - 16s 44ms/step - loss: 0.2023 - tp: 340463.0000 - fp: 39348.0000 - tn: 340463.0000 - fn: 39348.0000 - accuracy: 0.8964 - precision: 0.8964 - recall: 0.8964 - AUC: 0.9714\n",
            "Epoch 1030/2500\n",
            "371/371 [==============================] - 16s 44ms/step - loss: 0.2011 - tp: 340588.0000 - fp: 39223.0000 - tn: 340588.0000 - fn: 39223.0000 - accuracy: 0.8967 - precision: 0.8967 - recall: 0.8967 - AUC: 0.9717\n",
            "Epoch 1031/2500\n",
            "371/371 [==============================] - 16s 44ms/step - loss: 0.2032 - tp: 340393.0000 - fp: 39418.0000 - tn: 340393.0000 - fn: 39418.0000 - accuracy: 0.8962 - precision: 0.8962 - recall: 0.8962 - AUC: 0.9711\n",
            "Epoch 1032/2500\n",
            "371/371 [==============================] - 16s 44ms/step - loss: 0.2044 - tp: 339894.0000 - fp: 39917.0000 - tn: 339894.0000 - fn: 39917.0000 - accuracy: 0.8949 - precision: 0.8949 - recall: 0.8949 - AUC: 0.9708\n",
            "Epoch 1033/2500\n",
            "371/371 [==============================] - 16s 44ms/step - loss: 0.2035 - tp: 340105.0000 - fp: 39706.0000 - tn: 340105.0000 - fn: 39706.0000 - accuracy: 0.8955 - precision: 0.8955 - recall: 0.8955 - AUC: 0.9710\n",
            "Epoch 1034/2500\n",
            "371/371 [==============================] - 16s 44ms/step - loss: 0.2014 - tp: 340415.0000 - fp: 39396.0000 - tn: 340415.0000 - fn: 39396.0000 - accuracy: 0.8963 - precision: 0.8963 - recall: 0.8963 - AUC: 0.9718\n",
            "Epoch 1035/2500\n",
            "371/371 [==============================] - 16s 44ms/step - loss: 0.2046 - tp: 340100.0000 - fp: 39711.0000 - tn: 340100.0000 - fn: 39711.0000 - accuracy: 0.8954 - precision: 0.8954 - recall: 0.8954 - AUC: 0.9708\n",
            "Epoch 1036/2500\n",
            "371/371 [==============================] - 16s 44ms/step - loss: 0.2040 - tp: 340084.0000 - fp: 39727.0000 - tn: 340084.0000 - fn: 39727.0000 - accuracy: 0.8954 - precision: 0.8954 - recall: 0.8954 - AUC: 0.9711\n",
            "Epoch 1037/2500\n",
            "371/371 [==============================] - 16s 44ms/step - loss: 0.2029 - tp: 340194.0000 - fp: 39617.0000 - tn: 340194.0000 - fn: 39617.0000 - accuracy: 0.8957 - precision: 0.8957 - recall: 0.8957 - AUC: 0.9713\n",
            "Epoch 1038/2500\n",
            "371/371 [==============================] - 16s 44ms/step - loss: 0.2025 - tp: 340263.0000 - fp: 39548.0000 - tn: 340263.0000 - fn: 39548.0000 - accuracy: 0.8959 - precision: 0.8959 - recall: 0.8959 - AUC: 0.9714\n",
            "Epoch 1039/2500\n",
            "371/371 [==============================] - 16s 44ms/step - loss: 0.2007 - tp: 340525.0000 - fp: 39286.0000 - tn: 340525.0000 - fn: 39286.0000 - accuracy: 0.8966 - precision: 0.8966 - recall: 0.8966 - AUC: 0.9718\n",
            "Epoch 1040/2500\n",
            "371/371 [==============================] - 16s 44ms/step - loss: 0.2071 - tp: 339678.0000 - fp: 40133.0000 - tn: 339678.0000 - fn: 40133.0000 - accuracy: 0.8943 - precision: 0.8943 - recall: 0.8943 - AUC: 0.9702\n",
            "Epoch 1041/2500\n",
            "371/371 [==============================] - 16s 44ms/step - loss: 0.2002 - tp: 340370.0000 - fp: 39441.0000 - tn: 340370.0000 - fn: 39441.0000 - accuracy: 0.8962 - precision: 0.8962 - recall: 0.8962 - AUC: 0.9718\n",
            "Epoch 1042/2500\n",
            "371/371 [==============================] - 16s 44ms/step - loss: 0.2032 - tp: 340114.0000 - fp: 39697.0000 - tn: 340114.0000 - fn: 39697.0000 - accuracy: 0.8955 - precision: 0.8955 - recall: 0.8955 - AUC: 0.9711\n",
            "Epoch 1043/2500\n",
            "371/371 [==============================] - 16s 44ms/step - loss: 0.2004 - tp: 340598.0000 - fp: 39213.0000 - tn: 340598.0000 - fn: 39213.0000 - accuracy: 0.8968 - precision: 0.8968 - recall: 0.8968 - AUC: 0.9720\n",
            "Epoch 1044/2500\n",
            "371/371 [==============================] - 16s 44ms/step - loss: 0.1996 - tp: 340756.0000 - fp: 39055.0000 - tn: 340756.0000 - fn: 39055.0000 - accuracy: 0.8972 - precision: 0.8972 - recall: 0.8972 - AUC: 0.9720\n",
            "Epoch 1045/2500\n",
            "371/371 [==============================] - 16s 44ms/step - loss: 0.2025 - tp: 340404.0000 - fp: 39407.0000 - tn: 340404.0000 - fn: 39407.0000 - accuracy: 0.8962 - precision: 0.8962 - recall: 0.8962 - AUC: 0.9713\n",
            "Epoch 1046/2500\n",
            "371/371 [==============================] - 16s 44ms/step - loss: 0.2047 - tp: 339854.0000 - fp: 39957.0000 - tn: 339854.0000 - fn: 39957.0000 - accuracy: 0.8948 - precision: 0.8948 - recall: 0.8948 - AUC: 0.9708\n",
            "Epoch 1047/2500\n",
            "371/371 [==============================] - 16s 44ms/step - loss: 0.2030 - tp: 340316.0000 - fp: 39495.0000 - tn: 340316.0000 - fn: 39495.0000 - accuracy: 0.8960 - precision: 0.8960 - recall: 0.8960 - AUC: 0.9712\n",
            "Epoch 1048/2500\n",
            "371/371 [==============================] - 16s 44ms/step - loss: 0.2023 - tp: 340476.0000 - fp: 39335.0000 - tn: 340476.0000 - fn: 39335.0000 - accuracy: 0.8964 - precision: 0.8964 - recall: 0.8964 - AUC: 0.9714\n",
            "Epoch 1049/2500\n",
            "371/371 [==============================] - 16s 44ms/step - loss: 0.2033 - tp: 340200.0000 - fp: 39611.0000 - tn: 340200.0000 - fn: 39611.0000 - accuracy: 0.8957 - precision: 0.8957 - recall: 0.8957 - AUC: 0.9712\n",
            "Epoch 1050/2500\n",
            "371/371 [==============================] - 16s 44ms/step - loss: 0.2029 - tp: 340292.0000 - fp: 39519.0000 - tn: 340292.0000 - fn: 39519.0000 - accuracy: 0.8960 - precision: 0.8960 - recall: 0.8960 - AUC: 0.9712\n",
            "Epoch 1051/2500\n",
            "371/371 [==============================] - 16s 44ms/step - loss: 0.1993 - tp: 340983.0000 - fp: 38828.0000 - tn: 340983.0000 - fn: 38828.0000 - accuracy: 0.8978 - precision: 0.8978 - recall: 0.8978 - AUC: 0.9722\n",
            "Epoch 1052/2500\n",
            "371/371 [==============================] - 16s 44ms/step - loss: 0.1982 - tp: 340951.0000 - fp: 38860.0000 - tn: 340951.0000 - fn: 38860.0000 - accuracy: 0.8977 - precision: 0.8977 - recall: 0.8977 - AUC: 0.9723\n",
            "Epoch 1053/2500\n",
            "371/371 [==============================] - 16s 44ms/step - loss: 0.1993 - tp: 340671.0000 - fp: 39140.0000 - tn: 340671.0000 - fn: 39140.0000 - accuracy: 0.8969 - precision: 0.8969 - recall: 0.8969 - AUC: 0.9721\n",
            "Epoch 1054/2500\n",
            "371/371 [==============================] - 16s 44ms/step - loss: 0.1995 - tp: 340981.0000 - fp: 38830.0000 - tn: 340981.0000 - fn: 38830.0000 - accuracy: 0.8978 - precision: 0.8978 - recall: 0.8978 - AUC: 0.9722\n",
            "Epoch 1055/2500\n",
            "371/371 [==============================] - 16s 44ms/step - loss: 0.2124 - tp: 339178.0000 - fp: 40633.0000 - tn: 339178.0000 - fn: 40633.0000 - accuracy: 0.8930 - precision: 0.8930 - recall: 0.8930 - AUC: 0.9691\n",
            "Epoch 1056/2500\n",
            "371/371 [==============================] - 16s 44ms/step - loss: 0.2062 - tp: 339711.0000 - fp: 40100.0000 - tn: 339711.0000 - fn: 40100.0000 - accuracy: 0.8944 - precision: 0.8944 - recall: 0.8944 - AUC: 0.9704\n",
            "Epoch 1057/2500\n",
            "371/371 [==============================] - 16s 44ms/step - loss: 0.1996 - tp: 340584.0000 - fp: 39227.0000 - tn: 340584.0000 - fn: 39227.0000 - accuracy: 0.8967 - precision: 0.8967 - recall: 0.8967 - AUC: 0.9721\n",
            "Epoch 1058/2500\n",
            "371/371 [==============================] - 16s 44ms/step - loss: 0.1964 - tp: 341328.0000 - fp: 38483.0000 - tn: 341328.0000 - fn: 38483.0000 - accuracy: 0.8987 - precision: 0.8987 - recall: 0.8987 - AUC: 0.9729\n",
            "Epoch 1059/2500\n",
            "371/371 [==============================] - 16s 44ms/step - loss: 0.1981 - tp: 340867.0000 - fp: 38944.0000 - tn: 340867.0000 - fn: 38944.0000 - accuracy: 0.8975 - precision: 0.8975 - recall: 0.8975 - AUC: 0.9726\n",
            "Epoch 1060/2500\n",
            "371/371 [==============================] - 16s 44ms/step - loss: 0.2015 - tp: 340594.0000 - fp: 39217.0000 - tn: 340594.0000 - fn: 39217.0000 - accuracy: 0.8967 - precision: 0.8967 - recall: 0.8967 - AUC: 0.9717\n",
            "Epoch 1061/2500\n",
            "371/371 [==============================] - 16s 44ms/step - loss: 0.2064 - tp: 339772.0000 - fp: 40039.0000 - tn: 339772.0000 - fn: 40039.0000 - accuracy: 0.8946 - precision: 0.8946 - recall: 0.8946 - AUC: 0.9703\n",
            "Epoch 1062/2500\n",
            "371/371 [==============================] - 16s 44ms/step - loss: 0.2021 - tp: 340387.0000 - fp: 39424.0000 - tn: 340387.0000 - fn: 39424.0000 - accuracy: 0.8962 - precision: 0.8962 - recall: 0.8962 - AUC: 0.9714\n",
            "Epoch 1063/2500\n",
            "371/371 [==============================] - 16s 44ms/step - loss: 0.2014 - tp: 340529.0000 - fp: 39282.0000 - tn: 340529.0000 - fn: 39282.0000 - accuracy: 0.8966 - precision: 0.8966 - recall: 0.8966 - AUC: 0.9716\n",
            "Epoch 1064/2500\n",
            "371/371 [==============================] - 16s 44ms/step - loss: 0.2000 - tp: 340992.0000 - fp: 38819.0000 - tn: 340992.0000 - fn: 38819.0000 - accuracy: 0.8978 - precision: 0.8978 - recall: 0.8978 - AUC: 0.9720\n",
            "Epoch 1065/2500\n",
            "371/371 [==============================] - 16s 44ms/step - loss: 0.2008 - tp: 340778.0000 - fp: 39033.0000 - tn: 340778.0000 - fn: 39033.0000 - accuracy: 0.8972 - precision: 0.8972 - recall: 0.8972 - AUC: 0.9719\n",
            "Epoch 1066/2500\n",
            "371/371 [==============================] - 16s 44ms/step - loss: 0.1996 - tp: 340794.0000 - fp: 39017.0000 - tn: 340794.0000 - fn: 39017.0000 - accuracy: 0.8973 - precision: 0.8973 - recall: 0.8973 - AUC: 0.9721\n",
            "Epoch 1067/2500\n",
            "371/371 [==============================] - 16s 44ms/step - loss: 0.2055 - tp: 340145.0000 - fp: 39666.0000 - tn: 340145.0000 - fn: 39666.0000 - accuracy: 0.8956 - precision: 0.8956 - recall: 0.8956 - AUC: 0.9707\n",
            "Epoch 1068/2500\n",
            "371/371 [==============================] - 16s 44ms/step - loss: 0.2040 - tp: 340144.0000 - fp: 39667.0000 - tn: 340144.0000 - fn: 39667.0000 - accuracy: 0.8956 - precision: 0.8956 - recall: 0.8956 - AUC: 0.9710\n",
            "Epoch 1069/2500\n",
            "371/371 [==============================] - 16s 44ms/step - loss: 0.1963 - tp: 341342.0000 - fp: 38469.0000 - tn: 341342.0000 - fn: 38469.0000 - accuracy: 0.8987 - precision: 0.8987 - recall: 0.8987 - AUC: 0.9729\n",
            "Epoch 1070/2500\n",
            "371/371 [==============================] - 16s 44ms/step - loss: 0.2015 - tp: 340769.0000 - fp: 39042.0000 - tn: 340769.0000 - fn: 39042.0000 - accuracy: 0.8972 - precision: 0.8972 - recall: 0.8972 - AUC: 0.9717\n",
            "Epoch 1071/2500\n",
            "371/371 [==============================] - 16s 44ms/step - loss: 0.2031 - tp: 340603.0000 - fp: 39208.0000 - tn: 340603.0000 - fn: 39208.0000 - accuracy: 0.8968 - precision: 0.8968 - recall: 0.8968 - AUC: 0.9714\n",
            "Epoch 1072/2500\n",
            "371/371 [==============================] - 16s 44ms/step - loss: 0.2020 - tp: 340475.0000 - fp: 39336.0000 - tn: 340475.0000 - fn: 39336.0000 - accuracy: 0.8964 - precision: 0.8964 - recall: 0.8964 - AUC: 0.9715\n",
            "Epoch 1073/2500\n",
            "371/371 [==============================] - 16s 44ms/step - loss: 0.1984 - tp: 341089.0000 - fp: 38722.0000 - tn: 341089.0000 - fn: 38722.0000 - accuracy: 0.8980 - precision: 0.8980 - recall: 0.8980 - AUC: 0.9725\n",
            "Epoch 1074/2500\n",
            "371/371 [==============================] - 16s 44ms/step - loss: 0.1982 - tp: 340980.0000 - fp: 38831.0000 - tn: 340980.0000 - fn: 38831.0000 - accuracy: 0.8978 - precision: 0.8978 - recall: 0.8978 - AUC: 0.9725\n",
            "Epoch 1075/2500\n",
            "371/371 [==============================] - 16s 44ms/step - loss: 0.2009 - tp: 340915.0000 - fp: 38896.0000 - tn: 340915.0000 - fn: 38896.0000 - accuracy: 0.8976 - precision: 0.8976 - recall: 0.8976 - AUC: 0.9718\n",
            "Epoch 1076/2500\n",
            "371/371 [==============================] - 16s 44ms/step - loss: 0.1979 - tp: 341190.0000 - fp: 38621.0000 - tn: 341190.0000 - fn: 38621.0000 - accuracy: 0.8983 - precision: 0.8983 - recall: 0.8983 - AUC: 0.9726\n",
            "Epoch 1077/2500\n",
            "371/371 [==============================] - 16s 44ms/step - loss: 0.1994 - tp: 340865.0000 - fp: 38946.0000 - tn: 340865.0000 - fn: 38946.0000 - accuracy: 0.8975 - precision: 0.8975 - recall: 0.8975 - AUC: 0.9721\n",
            "Epoch 1078/2500\n",
            "371/371 [==============================] - 16s 44ms/step - loss: 0.2012 - tp: 340718.0000 - fp: 39093.0000 - tn: 340718.0000 - fn: 39093.0000 - accuracy: 0.8971 - precision: 0.8971 - recall: 0.8971 - AUC: 0.9717\n",
            "Epoch 1079/2500\n",
            "371/371 [==============================] - 17s 46ms/step - loss: 0.2019 - tp: 340694.0000 - fp: 39117.0000 - tn: 340694.0000 - fn: 39117.0000 - accuracy: 0.8970 - precision: 0.8970 - recall: 0.8970 - AUC: 0.9717\n",
            "Epoch 1080/2500\n",
            "371/371 [==============================] - 16s 44ms/step - loss: 0.2044 - tp: 340268.0000 - fp: 39543.0000 - tn: 340268.0000 - fn: 39543.0000 - accuracy: 0.8959 - precision: 0.8959 - recall: 0.8959 - AUC: 0.9711\n",
            "Epoch 1081/2500\n",
            "371/371 [==============================] - 16s 44ms/step - loss: 0.2006 - tp: 340931.0000 - fp: 38880.0000 - tn: 340931.0000 - fn: 38880.0000 - accuracy: 0.8976 - precision: 0.8976 - recall: 0.8976 - AUC: 0.9719\n",
            "Epoch 1082/2500\n",
            "371/371 [==============================] - 17s 46ms/step - loss: 0.2001 - tp: 341121.0000 - fp: 38690.0000 - tn: 341121.0000 - fn: 38690.0000 - accuracy: 0.8981 - precision: 0.8981 - recall: 0.8981 - AUC: 0.9722\n",
            "Epoch 1083/2500\n",
            "371/371 [==============================] - 16s 44ms/step - loss: 0.2011 - tp: 341009.0000 - fp: 38802.0000 - tn: 341009.0000 - fn: 38802.0000 - accuracy: 0.8978 - precision: 0.8978 - recall: 0.8978 - AUC: 0.9720\n",
            "Epoch 1084/2500\n",
            "371/371 [==============================] - 16s 44ms/step - loss: 0.2056 - tp: 340246.0000 - fp: 39565.0000 - tn: 340246.0000 - fn: 39565.0000 - accuracy: 0.8958 - precision: 0.8958 - recall: 0.8958 - AUC: 0.9708\n",
            "Epoch 1085/2500\n",
            "371/371 [==============================] - 16s 44ms/step - loss: 0.2005 - tp: 340879.0000 - fp: 38932.0000 - tn: 340879.0000 - fn: 38932.0000 - accuracy: 0.8975 - precision: 0.8975 - recall: 0.8975 - AUC: 0.9719\n",
            "Epoch 1086/2500\n",
            "371/371 [==============================] - 16s 44ms/step - loss: 0.1978 - tp: 341205.0000 - fp: 38606.0000 - tn: 341205.0000 - fn: 38606.0000 - accuracy: 0.8984 - precision: 0.8984 - recall: 0.8984 - AUC: 0.9725\n",
            "Epoch 1087/2500\n",
            "371/371 [==============================] - 16s 44ms/step - loss: 0.2003 - tp: 340959.0000 - fp: 38852.0000 - tn: 340959.0000 - fn: 38852.0000 - accuracy: 0.8977 - precision: 0.8977 - recall: 0.8977 - AUC: 0.9721\n",
            "Epoch 1088/2500\n",
            "371/371 [==============================] - 16s 44ms/step - loss: 0.1973 - tp: 341360.0000 - fp: 38451.0000 - tn: 341360.0000 - fn: 38451.0000 - accuracy: 0.8988 - precision: 0.8988 - recall: 0.8988 - AUC: 0.9728\n",
            "Epoch 1089/2500\n",
            "371/371 [==============================] - 16s 44ms/step - loss: 0.1969 - tp: 341334.0000 - fp: 38477.0000 - tn: 341334.0000 - fn: 38477.0000 - accuracy: 0.8987 - precision: 0.8987 - recall: 0.8987 - AUC: 0.9728\n",
            "Epoch 1090/2500\n",
            "371/371 [==============================] - 17s 45ms/step - loss: 0.2010 - tp: 340968.0000 - fp: 38843.0000 - tn: 340968.0000 - fn: 38843.0000 - accuracy: 0.8977 - precision: 0.8977 - recall: 0.8977 - AUC: 0.9719\n",
            "Epoch 1091/2500\n",
            "371/371 [==============================] - 17s 46ms/step - loss: 0.2042 - tp: 340139.0000 - fp: 39672.0000 - tn: 340139.0000 - fn: 39672.0000 - accuracy: 0.8955 - precision: 0.8955 - recall: 0.8955 - AUC: 0.9710\n",
            "Epoch 1092/2500\n",
            "371/371 [==============================] - 16s 44ms/step - loss: 0.2019 - tp: 340570.0000 - fp: 39241.0000 - tn: 340570.0000 - fn: 39241.0000 - accuracy: 0.8967 - precision: 0.8967 - recall: 0.8967 - AUC: 0.9715\n",
            "Epoch 1093/2500\n",
            "371/371 [==============================] - 16s 44ms/step - loss: 0.1987 - tp: 341167.0000 - fp: 38644.0000 - tn: 341167.0000 - fn: 38644.0000 - accuracy: 0.8983 - precision: 0.8983 - recall: 0.8983 - AUC: 0.9725\n",
            "Epoch 1094/2500\n",
            "371/371 [==============================] - 16s 44ms/step - loss: 0.1988 - tp: 341262.0000 - fp: 38549.0000 - tn: 341262.0000 - fn: 38549.0000 - accuracy: 0.8985 - precision: 0.8985 - recall: 0.8985 - AUC: 0.9725\n",
            "Epoch 1095/2500\n",
            "371/371 [==============================] - 16s 44ms/step - loss: 0.1994 - tp: 341219.0000 - fp: 38592.0000 - tn: 341219.0000 - fn: 38592.0000 - accuracy: 0.8984 - precision: 0.8984 - recall: 0.8984 - AUC: 0.9722\n",
            "Epoch 1096/2500\n",
            "371/371 [==============================] - 16s 44ms/step - loss: 0.1976 - tp: 341264.0000 - fp: 38547.0000 - tn: 341264.0000 - fn: 38547.0000 - accuracy: 0.8985 - precision: 0.8985 - recall: 0.8985 - AUC: 0.9726\n",
            "Epoch 1097/2500\n",
            "371/371 [==============================] - 16s 44ms/step - loss: 0.1957 - tp: 341552.0000 - fp: 38259.0000 - tn: 341552.0000 - fn: 38259.0000 - accuracy: 0.8993 - precision: 0.8993 - recall: 0.8993 - AUC: 0.9730\n",
            "Epoch 1098/2500\n",
            "371/371 [==============================] - 16s 44ms/step - loss: 0.1985 - tp: 341204.0000 - fp: 38607.0000 - tn: 341204.0000 - fn: 38607.0000 - accuracy: 0.8984 - precision: 0.8984 - recall: 0.8984 - AUC: 0.9724\n",
            "Epoch 1099/2500\n",
            "371/371 [==============================] - 16s 44ms/step - loss: 0.1984 - tp: 341194.0000 - fp: 38617.0000 - tn: 341194.0000 - fn: 38617.0000 - accuracy: 0.8983 - precision: 0.8983 - recall: 0.8983 - AUC: 0.9725\n",
            "Epoch 1100/2500\n",
            "371/371 [==============================] - 16s 44ms/step - loss: 0.1985 - tp: 341313.0000 - fp: 38498.0000 - tn: 341313.0000 - fn: 38498.0000 - accuracy: 0.8986 - precision: 0.8986 - recall: 0.8986 - AUC: 0.9723\n",
            "Epoch 1101/2500\n",
            "371/371 [==============================] - 16s 44ms/step - loss: 0.2040 - tp: 340475.0000 - fp: 39336.0000 - tn: 340475.0000 - fn: 39336.0000 - accuracy: 0.8964 - precision: 0.8964 - recall: 0.8964 - AUC: 0.9712\n",
            "Epoch 1102/2500\n",
            "371/371 [==============================] - 16s 44ms/step - loss: 0.2024 - tp: 340531.0000 - fp: 39280.0000 - tn: 340531.0000 - fn: 39280.0000 - accuracy: 0.8966 - precision: 0.8966 - recall: 0.8966 - AUC: 0.9715\n",
            "Epoch 1103/2500\n",
            "371/371 [==============================] - 16s 44ms/step - loss: 0.2019 - tp: 340625.0000 - fp: 39186.0000 - tn: 340625.0000 - fn: 39186.0000 - accuracy: 0.8968 - precision: 0.8968 - recall: 0.8968 - AUC: 0.9716\n",
            "Epoch 1104/2500\n",
            "371/371 [==============================] - 16s 44ms/step - loss: 0.1982 - tp: 341104.0000 - fp: 38707.0000 - tn: 341104.0000 - fn: 38707.0000 - accuracy: 0.8981 - precision: 0.8981 - recall: 0.8981 - AUC: 0.9726\n",
            "Epoch 1105/2500\n",
            "371/371 [==============================] - 16s 44ms/step - loss: 0.1974 - tp: 341169.0000 - fp: 38642.0000 - tn: 341169.0000 - fn: 38642.0000 - accuracy: 0.8983 - precision: 0.8983 - recall: 0.8983 - AUC: 0.9727\n",
            "Epoch 1106/2500\n",
            "371/371 [==============================] - 16s 44ms/step - loss: 0.1994 - tp: 341089.0000 - fp: 38722.0000 - tn: 341089.0000 - fn: 38722.0000 - accuracy: 0.8980 - precision: 0.8980 - recall: 0.8980 - AUC: 0.9722\n",
            "Epoch 1107/2500\n",
            "371/371 [==============================] - 16s 44ms/step - loss: 0.1971 - tp: 341517.0000 - fp: 38294.0000 - tn: 341517.0000 - fn: 38294.0000 - accuracy: 0.8992 - precision: 0.8992 - recall: 0.8992 - AUC: 0.9728\n",
            "Epoch 1108/2500\n",
            "371/371 [==============================] - 16s 44ms/step - loss: 0.1990 - tp: 341028.0000 - fp: 38783.0000 - tn: 341028.0000 - fn: 38783.0000 - accuracy: 0.8979 - precision: 0.8979 - recall: 0.8979 - AUC: 0.9724\n",
            "Epoch 1109/2500\n",
            "371/371 [==============================] - 16s 44ms/step - loss: 0.2027 - tp: 340511.0000 - fp: 39300.0000 - tn: 340511.0000 - fn: 39300.0000 - accuracy: 0.8965 - precision: 0.8965 - recall: 0.8965 - AUC: 0.9715\n",
            "Epoch 1110/2500\n",
            "371/371 [==============================] - 16s 44ms/step - loss: 0.1999 - tp: 340954.0000 - fp: 38857.0000 - tn: 340954.0000 - fn: 38857.0000 - accuracy: 0.8977 - precision: 0.8977 - recall: 0.8977 - AUC: 0.9721\n",
            "Epoch 1111/2500\n",
            "371/371 [==============================] - 16s 44ms/step - loss: 0.1975 - tp: 341249.0000 - fp: 38562.0000 - tn: 341249.0000 - fn: 38562.0000 - accuracy: 0.8985 - precision: 0.8985 - recall: 0.8985 - AUC: 0.9727\n",
            "Epoch 1112/2500\n",
            "371/371 [==============================] - 16s 44ms/step - loss: 0.1970 - tp: 341452.0000 - fp: 38359.0000 - tn: 341452.0000 - fn: 38359.0000 - accuracy: 0.8990 - precision: 0.8990 - recall: 0.8990 - AUC: 0.9728\n",
            "Epoch 1113/2500\n",
            "371/371 [==============================] - 16s 44ms/step - loss: 0.1981 - tp: 341336.0000 - fp: 38475.0000 - tn: 341336.0000 - fn: 38475.0000 - accuracy: 0.8987 - precision: 0.8987 - recall: 0.8987 - AUC: 0.9726\n",
            "Epoch 1114/2500\n",
            "371/371 [==============================] - 16s 44ms/step - loss: 0.1994 - tp: 341135.0000 - fp: 38676.0000 - tn: 341135.0000 - fn: 38676.0000 - accuracy: 0.8982 - precision: 0.8982 - recall: 0.8982 - AUC: 0.9722\n",
            "Epoch 1115/2500\n",
            "371/371 [==============================] - 16s 44ms/step - loss: 0.1960 - tp: 341406.0000 - fp: 38405.0000 - tn: 341406.0000 - fn: 38405.0000 - accuracy: 0.8989 - precision: 0.8989 - recall: 0.8989 - AUC: 0.9730\n",
            "Epoch 1116/2500\n",
            "371/371 [==============================] - 16s 44ms/step - loss: 0.1981 - tp: 341399.0000 - fp: 38412.0000 - tn: 341399.0000 - fn: 38412.0000 - accuracy: 0.8989 - precision: 0.8989 - recall: 0.8989 - AUC: 0.9726\n",
            "Epoch 1117/2500\n",
            "371/371 [==============================] - 16s 44ms/step - loss: 0.1970 - tp: 341733.0000 - fp: 38078.0000 - tn: 341733.0000 - fn: 38078.0000 - accuracy: 0.8997 - precision: 0.8997 - recall: 0.8997 - AUC: 0.9728\n",
            "Epoch 1118/2500\n",
            "371/371 [==============================] - 16s 44ms/step - loss: 0.1974 - tp: 341501.0000 - fp: 38310.0000 - tn: 341501.0000 - fn: 38310.0000 - accuracy: 0.8991 - precision: 0.8991 - recall: 0.8991 - AUC: 0.9728\n",
            "Epoch 1119/2500\n",
            "371/371 [==============================] - 16s 44ms/step - loss: 0.2010 - tp: 340727.0000 - fp: 39084.0000 - tn: 340727.0000 - fn: 39084.0000 - accuracy: 0.8971 - precision: 0.8971 - recall: 0.8971 - AUC: 0.9718\n",
            "Epoch 1120/2500\n",
            "371/371 [==============================] - 16s 44ms/step - loss: 0.1986 - tp: 341178.0000 - fp: 38633.0000 - tn: 341178.0000 - fn: 38633.0000 - accuracy: 0.8983 - precision: 0.8983 - recall: 0.8983 - AUC: 0.9725\n",
            "Epoch 1121/2500\n",
            "371/371 [==============================] - 16s 44ms/step - loss: 0.1993 - tp: 341469.0000 - fp: 38342.0000 - tn: 341469.0000 - fn: 38342.0000 - accuracy: 0.8990 - precision: 0.8990 - recall: 0.8990 - AUC: 0.9724\n",
            "Epoch 1122/2500\n",
            "371/371 [==============================] - 17s 45ms/step - loss: 0.2009 - tp: 341003.0000 - fp: 38808.0000 - tn: 341003.0000 - fn: 38808.0000 - accuracy: 0.8978 - precision: 0.8978 - recall: 0.8978 - AUC: 0.9719\n",
            "Epoch 1123/2500\n",
            "371/371 [==============================] - 16s 44ms/step - loss: 0.2000 - tp: 341150.0000 - fp: 38661.0000 - tn: 341150.0000 - fn: 38661.0000 - accuracy: 0.8982 - precision: 0.8982 - recall: 0.8982 - AUC: 0.9721\n",
            "Epoch 1124/2500\n",
            "371/371 [==============================] - 16s 44ms/step - loss: 0.1960 - tp: 341762.0000 - fp: 38049.0000 - tn: 341762.0000 - fn: 38049.0000 - accuracy: 0.8998 - precision: 0.8998 - recall: 0.8998 - AUC: 0.9731\n",
            "Epoch 1125/2500\n",
            "371/371 [==============================] - 17s 45ms/step - loss: 0.1962 - tp: 341652.0000 - fp: 38159.0000 - tn: 341652.0000 - fn: 38159.0000 - accuracy: 0.8995 - precision: 0.8995 - recall: 0.8995 - AUC: 0.9731\n",
            "Epoch 1126/2500\n",
            "371/371 [==============================] - 16s 44ms/step - loss: 0.1975 - tp: 341734.0000 - fp: 38077.0000 - tn: 341734.0000 - fn: 38077.0000 - accuracy: 0.8997 - precision: 0.8997 - recall: 0.8997 - AUC: 0.9728\n",
            "Epoch 1127/2500\n",
            "371/371 [==============================] - 16s 44ms/step - loss: 0.2000 - tp: 340985.0000 - fp: 38826.0000 - tn: 340985.0000 - fn: 38826.0000 - accuracy: 0.8978 - precision: 0.8978 - recall: 0.8978 - AUC: 0.9720\n",
            "Epoch 1128/2500\n",
            "371/371 [==============================] - 17s 45ms/step - loss: 0.2034 - tp: 340696.0000 - fp: 39115.0000 - tn: 340696.0000 - fn: 39115.0000 - accuracy: 0.8970 - precision: 0.8970 - recall: 0.8970 - AUC: 0.9712\n",
            "Epoch 1129/2500\n",
            "371/371 [==============================] - 17s 45ms/step - loss: 0.1990 - tp: 341147.0000 - fp: 38664.0000 - tn: 341147.0000 - fn: 38664.0000 - accuracy: 0.8982 - precision: 0.8982 - recall: 0.8982 - AUC: 0.9723\n",
            "Epoch 1130/2500\n",
            "371/371 [==============================] - 16s 44ms/step - loss: 0.1994 - tp: 341115.0000 - fp: 38695.0000 - tn: 341116.0000 - fn: 38696.0000 - accuracy: 0.8981 - precision: 0.8981 - recall: 0.8981 - AUC: 0.9723\n",
            "Epoch 1131/2500\n",
            "371/371 [==============================] - 17s 44ms/step - loss: 0.2016 - tp: 340962.0000 - fp: 38849.0000 - tn: 340962.0000 - fn: 38849.0000 - accuracy: 0.8977 - precision: 0.8977 - recall: 0.8977 - AUC: 0.9719\n",
            "Epoch 1132/2500\n",
            "371/371 [==============================] - 16s 44ms/step - loss: 0.1969 - tp: 341362.0000 - fp: 38449.0000 - tn: 341362.0000 - fn: 38449.0000 - accuracy: 0.8988 - precision: 0.8988 - recall: 0.8988 - AUC: 0.9730\n",
            "Epoch 1133/2500\n",
            "371/371 [==============================] - 16s 44ms/step - loss: 0.1942 - tp: 341959.0000 - fp: 37852.0000 - tn: 341959.0000 - fn: 37852.0000 - accuracy: 0.9003 - precision: 0.9003 - recall: 0.9003 - AUC: 0.9736\n",
            "Epoch 1134/2500\n",
            "371/371 [==============================] - 16s 44ms/step - loss: 0.1955 - tp: 341680.0000 - fp: 38131.0000 - tn: 341680.0000 - fn: 38131.0000 - accuracy: 0.8996 - precision: 0.8996 - recall: 0.8996 - AUC: 0.9733\n",
            "Epoch 1135/2500\n",
            "371/371 [==============================] - 16s 44ms/step - loss: 0.1979 - tp: 341533.0000 - fp: 38278.0000 - tn: 341533.0000 - fn: 38278.0000 - accuracy: 0.8992 - precision: 0.8992 - recall: 0.8992 - AUC: 0.9726\n",
            "Epoch 1136/2500\n",
            "371/371 [==============================] - 16s 44ms/step - loss: 0.2265 - tp: 337641.0000 - fp: 42170.0000 - tn: 337641.0000 - fn: 42170.0000 - accuracy: 0.8890 - precision: 0.8890 - recall: 0.8890 - AUC: 0.9655\n",
            "Epoch 1137/2500\n",
            "371/371 [==============================] - 16s 44ms/step - loss: 0.2041 - tp: 340519.0000 - fp: 39292.0000 - tn: 340519.0000 - fn: 39292.0000 - accuracy: 0.8965 - precision: 0.8965 - recall: 0.8965 - AUC: 0.9711\n",
            "Epoch 1138/2500\n",
            "371/371 [==============================] - 16s 44ms/step - loss: 0.1943 - tp: 341885.0000 - fp: 37926.0000 - tn: 341885.0000 - fn: 37926.0000 - accuracy: 0.9001 - precision: 0.9001 - recall: 0.9001 - AUC: 0.9736\n",
            "Epoch 1139/2500\n",
            "371/371 [==============================] - 16s 44ms/step - loss: 0.1919 - tp: 342212.0000 - fp: 37599.0000 - tn: 342212.0000 - fn: 37599.0000 - accuracy: 0.9010 - precision: 0.9010 - recall: 0.9010 - AUC: 0.9742\n",
            "Epoch 1140/2500\n",
            "371/371 [==============================] - 17s 45ms/step - loss: 0.1908 - tp: 342258.0000 - fp: 37553.0000 - tn: 342258.0000 - fn: 37553.0000 - accuracy: 0.9011 - precision: 0.9011 - recall: 0.9011 - AUC: 0.9744\n",
            "Epoch 1141/2500\n",
            "371/371 [==============================] - 16s 44ms/step - loss: 0.1923 - tp: 342297.0000 - fp: 37514.0000 - tn: 342297.0000 - fn: 37514.0000 - accuracy: 0.9012 - precision: 0.9012 - recall: 0.9012 - AUC: 0.9741\n",
            "Epoch 1142/2500\n",
            "371/371 [==============================] - 17s 45ms/step - loss: 0.1948 - tp: 341965.0000 - fp: 37846.0000 - tn: 341965.0000 - fn: 37846.0000 - accuracy: 0.9004 - precision: 0.9004 - recall: 0.9004 - AUC: 0.9734\n",
            "Epoch 1143/2500\n",
            "371/371 [==============================] - 17s 45ms/step - loss: 0.1986 - tp: 341385.0000 - fp: 38426.0000 - tn: 341385.0000 - fn: 38426.0000 - accuracy: 0.8988 - precision: 0.8988 - recall: 0.8988 - AUC: 0.9725\n",
            "Epoch 1144/2500\n",
            "371/371 [==============================] - 16s 44ms/step - loss: 0.1999 - tp: 341243.0000 - fp: 38568.0000 - tn: 341243.0000 - fn: 38568.0000 - accuracy: 0.8985 - precision: 0.8985 - recall: 0.8985 - AUC: 0.9722\n",
            "Epoch 1145/2500\n",
            "371/371 [==============================] - 16s 44ms/step - loss: 0.1997 - tp: 341215.0000 - fp: 38596.0000 - tn: 341215.0000 - fn: 38596.0000 - accuracy: 0.8984 - precision: 0.8984 - recall: 0.8984 - AUC: 0.9722\n",
            "Epoch 1146/2500\n",
            "371/371 [==============================] - 16s 44ms/step - loss: 0.1971 - tp: 341491.0000 - fp: 38320.0000 - tn: 341491.0000 - fn: 38320.0000 - accuracy: 0.8991 - precision: 0.8991 - recall: 0.8991 - AUC: 0.9728\n",
            "Epoch 1147/2500\n",
            "371/371 [==============================] - 16s 44ms/step - loss: 0.2018 - tp: 341063.0000 - fp: 38748.0000 - tn: 341063.0000 - fn: 38748.0000 - accuracy: 0.8980 - precision: 0.8980 - recall: 0.8980 - AUC: 0.9717\n",
            "Epoch 1148/2500\n",
            "371/371 [==============================] - 16s 44ms/step - loss: 0.1973 - tp: 341545.0000 - fp: 38266.0000 - tn: 341545.0000 - fn: 38266.0000 - accuracy: 0.8992 - precision: 0.8992 - recall: 0.8992 - AUC: 0.9728\n",
            "Epoch 1149/2500\n",
            "371/371 [==============================] - 16s 44ms/step - loss: 0.1947 - tp: 341706.0000 - fp: 38105.0000 - tn: 341706.0000 - fn: 38105.0000 - accuracy: 0.8997 - precision: 0.8997 - recall: 0.8997 - AUC: 0.9733\n",
            "Epoch 1150/2500\n",
            "371/371 [==============================] - 16s 44ms/step - loss: 0.1946 - tp: 341917.0000 - fp: 37894.0000 - tn: 341917.0000 - fn: 37894.0000 - accuracy: 0.9002 - precision: 0.9002 - recall: 0.9002 - AUC: 0.9735\n",
            "Epoch 1151/2500\n",
            "371/371 [==============================] - 16s 44ms/step - loss: 0.1986 - tp: 341554.0000 - fp: 38257.0000 - tn: 341554.0000 - fn: 38257.0000 - accuracy: 0.8993 - precision: 0.8993 - recall: 0.8993 - AUC: 0.9725\n",
            "Epoch 1152/2500\n",
            "371/371 [==============================] - 17s 45ms/step - loss: 0.1965 - tp: 341678.0000 - fp: 38133.0000 - tn: 341678.0000 - fn: 38133.0000 - accuracy: 0.8996 - precision: 0.8996 - recall: 0.8996 - AUC: 0.9730\n",
            "Epoch 1153/2500\n",
            "371/371 [==============================] - 17s 46ms/step - loss: 0.1975 - tp: 341559.0000 - fp: 38252.0000 - tn: 341559.0000 - fn: 38252.0000 - accuracy: 0.8993 - precision: 0.8993 - recall: 0.8993 - AUC: 0.9728\n",
            "Epoch 1154/2500\n",
            "371/371 [==============================] - 17s 45ms/step - loss: 0.2002 - tp: 341186.0000 - fp: 38625.0000 - tn: 341186.0000 - fn: 38625.0000 - accuracy: 0.8983 - precision: 0.8983 - recall: 0.8983 - AUC: 0.9721\n",
            "Epoch 1155/2500\n",
            "371/371 [==============================] - 16s 44ms/step - loss: 0.2007 - tp: 341176.0000 - fp: 38635.0000 - tn: 341176.0000 - fn: 38635.0000 - accuracy: 0.8983 - precision: 0.8983 - recall: 0.8983 - AUC: 0.9720\n",
            "Epoch 1156/2500\n",
            "371/371 [==============================] - 17s 45ms/step - loss: 0.2046 - tp: 340556.0000 - fp: 39255.0000 - tn: 340556.0000 - fn: 39255.0000 - accuracy: 0.8966 - precision: 0.8966 - recall: 0.8966 - AUC: 0.9710\n",
            "Epoch 1157/2500\n",
            "371/371 [==============================] - 17s 46ms/step - loss: 0.1998 - tp: 341191.0000 - fp: 38620.0000 - tn: 341191.0000 - fn: 38620.0000 - accuracy: 0.8983 - precision: 0.8983 - recall: 0.8983 - AUC: 0.9721\n",
            "Epoch 1158/2500\n",
            "371/371 [==============================] - 17s 46ms/step - loss: 0.1944 - tp: 341899.0000 - fp: 37912.0000 - tn: 341899.0000 - fn: 37912.0000 - accuracy: 0.9002 - precision: 0.9002 - recall: 0.9002 - AUC: 0.9735\n",
            "Epoch 1159/2500\n",
            "371/371 [==============================] - 17s 45ms/step - loss: 0.1944 - tp: 342115.0000 - fp: 37696.0000 - tn: 342115.0000 - fn: 37696.0000 - accuracy: 0.9008 - precision: 0.9008 - recall: 0.9008 - AUC: 0.9735\n",
            "Epoch 1160/2500\n",
            "371/371 [==============================] - 16s 44ms/step - loss: 0.1967 - tp: 341701.0000 - fp: 38110.0000 - tn: 341701.0000 - fn: 38110.0000 - accuracy: 0.8997 - precision: 0.8997 - recall: 0.8997 - AUC: 0.9730\n",
            "Epoch 1161/2500\n",
            "371/371 [==============================] - 16s 44ms/step - loss: 0.1972 - tp: 341721.0000 - fp: 38090.0000 - tn: 341721.0000 - fn: 38090.0000 - accuracy: 0.8997 - precision: 0.8997 - recall: 0.8997 - AUC: 0.9729\n",
            "Epoch 1162/2500\n",
            "371/371 [==============================] - 16s 44ms/step - loss: 0.1958 - tp: 341844.0000 - fp: 37967.0000 - tn: 341844.0000 - fn: 37967.0000 - accuracy: 0.9000 - precision: 0.9000 - recall: 0.9000 - AUC: 0.9731\n",
            "Epoch 1163/2500\n",
            "371/371 [==============================] - 16s 44ms/step - loss: 0.1956 - tp: 342058.0000 - fp: 37753.0000 - tn: 342058.0000 - fn: 37753.0000 - accuracy: 0.9006 - precision: 0.9006 - recall: 0.9006 - AUC: 0.9734\n",
            "Epoch 1164/2500\n",
            "371/371 [==============================] - 16s 44ms/step - loss: 0.1957 - tp: 341981.0000 - fp: 37830.0000 - tn: 341981.0000 - fn: 37830.0000 - accuracy: 0.9004 - precision: 0.9004 - recall: 0.9004 - AUC: 0.9734\n",
            "Epoch 1165/2500\n",
            "371/371 [==============================] - 17s 46ms/step - loss: 0.1984 - tp: 341436.0000 - fp: 38375.0000 - tn: 341436.0000 - fn: 38375.0000 - accuracy: 0.8990 - precision: 0.8990 - recall: 0.8990 - AUC: 0.9726\n",
            "Epoch 1166/2500\n",
            "371/371 [==============================] - 17s 45ms/step - loss: 0.1973 - tp: 341784.0000 - fp: 38027.0000 - tn: 341784.0000 - fn: 38027.0000 - accuracy: 0.8999 - precision: 0.8999 - recall: 0.8999 - AUC: 0.9729\n",
            "Epoch 1167/2500\n",
            "371/371 [==============================] - 17s 45ms/step - loss: 0.1986 - tp: 341388.0000 - fp: 38423.0000 - tn: 341388.0000 - fn: 38423.0000 - accuracy: 0.8988 - precision: 0.8988 - recall: 0.8988 - AUC: 0.9725\n",
            "Epoch 1168/2500\n",
            "371/371 [==============================] - 17s 45ms/step - loss: 0.1988 - tp: 341527.0000 - fp: 38284.0000 - tn: 341527.0000 - fn: 38284.0000 - accuracy: 0.8992 - precision: 0.8992 - recall: 0.8992 - AUC: 0.9725\n",
            "Epoch 1169/2500\n",
            "371/371 [==============================] - 16s 44ms/step - loss: 0.1961 - tp: 341914.0000 - fp: 37897.0000 - tn: 341914.0000 - fn: 37897.0000 - accuracy: 0.9002 - precision: 0.9002 - recall: 0.9002 - AUC: 0.9733\n",
            "Epoch 1170/2500\n",
            "371/371 [==============================] - 17s 45ms/step - loss: 0.1957 - tp: 341814.0000 - fp: 37997.0000 - tn: 341814.0000 - fn: 37997.0000 - accuracy: 0.9000 - precision: 0.9000 - recall: 0.9000 - AUC: 0.9733\n",
            "Epoch 1171/2500\n",
            "371/371 [==============================] - 17s 45ms/step - loss: 0.1984 - tp: 341604.0000 - fp: 38207.0000 - tn: 341604.0000 - fn: 38207.0000 - accuracy: 0.8994 - precision: 0.8994 - recall: 0.8994 - AUC: 0.9726\n",
            "Epoch 1172/2500\n",
            "371/371 [==============================] - 17s 46ms/step - loss: 0.1979 - tp: 341618.0000 - fp: 38193.0000 - tn: 341618.0000 - fn: 38193.0000 - accuracy: 0.8994 - precision: 0.8994 - recall: 0.8994 - AUC: 0.9728\n",
            "Epoch 1173/2500\n",
            "371/371 [==============================] - 17s 46ms/step - loss: 0.1995 - tp: 341292.0000 - fp: 38519.0000 - tn: 341292.0000 - fn: 38519.0000 - accuracy: 0.8986 - precision: 0.8986 - recall: 0.8986 - AUC: 0.9723\n",
            "Epoch 1174/2500\n",
            "371/371 [==============================] - 17s 46ms/step - loss: 0.1993 - tp: 341431.0000 - fp: 38380.0000 - tn: 341431.0000 - fn: 38380.0000 - accuracy: 0.8989 - precision: 0.8989 - recall: 0.8989 - AUC: 0.9724\n",
            "Epoch 1175/2500\n",
            "371/371 [==============================] - 16s 44ms/step - loss: 0.1969 - tp: 341805.0000 - fp: 38006.0000 - tn: 341805.0000 - fn: 38006.0000 - accuracy: 0.8999 - precision: 0.8999 - recall: 0.8999 - AUC: 0.9730\n",
            "Epoch 1176/2500\n",
            "371/371 [==============================] - 16s 44ms/step - loss: 0.2047 - tp: 340519.0000 - fp: 39292.0000 - tn: 340519.0000 - fn: 39292.0000 - accuracy: 0.8965 - precision: 0.8965 - recall: 0.8965 - AUC: 0.9709\n",
            "Epoch 1177/2500\n",
            "371/371 [==============================] - 16s 44ms/step - loss: 0.1992 - tp: 341318.0000 - fp: 38493.0000 - tn: 341318.0000 - fn: 38493.0000 - accuracy: 0.8987 - precision: 0.8987 - recall: 0.8987 - AUC: 0.9723\n",
            "Epoch 1178/2500\n",
            "371/371 [==============================] - 16s 44ms/step - loss: 0.1926 - tp: 342128.0000 - fp: 37683.0000 - tn: 342128.0000 - fn: 37683.0000 - accuracy: 0.9008 - precision: 0.9008 - recall: 0.9008 - AUC: 0.9739\n",
            "Epoch 1179/2500\n",
            "371/371 [==============================] - 16s 44ms/step - loss: 0.1912 - tp: 342658.0000 - fp: 37153.0000 - tn: 342658.0000 - fn: 37153.0000 - accuracy: 0.9022 - precision: 0.9022 - recall: 0.9022 - AUC: 0.9744\n",
            "Epoch 1180/2500\n",
            "371/371 [==============================] - 16s 44ms/step - loss: 0.1917 - tp: 342517.0000 - fp: 37294.0000 - tn: 342517.0000 - fn: 37294.0000 - accuracy: 0.9018 - precision: 0.9018 - recall: 0.9018 - AUC: 0.9743\n",
            "Epoch 1181/2500\n",
            "371/371 [==============================] - 16s 44ms/step - loss: 0.1968 - tp: 341616.0000 - fp: 38195.0000 - tn: 341616.0000 - fn: 38195.0000 - accuracy: 0.8994 - precision: 0.8994 - recall: 0.8994 - AUC: 0.9728\n",
            "Epoch 1182/2500\n",
            "371/371 [==============================] - 16s 44ms/step - loss: 0.1998 - tp: 341380.0000 - fp: 38431.0000 - tn: 341380.0000 - fn: 38431.0000 - accuracy: 0.8988 - precision: 0.8988 - recall: 0.8988 - AUC: 0.9724\n",
            "Epoch 1183/2500\n",
            "371/371 [==============================] - 16s 44ms/step - loss: 0.1955 - tp: 342045.0000 - fp: 37766.0000 - tn: 342045.0000 - fn: 37766.0000 - accuracy: 0.9006 - precision: 0.9006 - recall: 0.9006 - AUC: 0.9733\n",
            "Epoch 1184/2500\n",
            "371/371 [==============================] - 16s 44ms/step - loss: 0.1967 - tp: 341937.0000 - fp: 37874.0000 - tn: 341937.0000 - fn: 37874.0000 - accuracy: 0.9003 - precision: 0.9003 - recall: 0.9003 - AUC: 0.9731\n",
            "Epoch 1185/2500\n",
            "371/371 [==============================] - 16s 44ms/step - loss: 0.1959 - tp: 342061.0000 - fp: 37750.0000 - tn: 342061.0000 - fn: 37750.0000 - accuracy: 0.9006 - precision: 0.9006 - recall: 0.9006 - AUC: 0.9732\n",
            "Epoch 1186/2500\n",
            "371/371 [==============================] - 16s 44ms/step - loss: 0.1962 - tp: 342041.0000 - fp: 37770.0000 - tn: 342041.0000 - fn: 37770.0000 - accuracy: 0.9006 - precision: 0.9006 - recall: 0.9006 - AUC: 0.9731\n",
            "Epoch 1187/2500\n",
            "371/371 [==============================] - 16s 44ms/step - loss: 0.1961 - tp: 341856.0000 - fp: 37955.0000 - tn: 341856.0000 - fn: 37955.0000 - accuracy: 0.9001 - precision: 0.9001 - recall: 0.9001 - AUC: 0.9732\n",
            "Epoch 1188/2500\n",
            "371/371 [==============================] - 16s 44ms/step - loss: 0.1977 - tp: 341837.0000 - fp: 37974.0000 - tn: 341837.0000 - fn: 37974.0000 - accuracy: 0.9000 - precision: 0.9000 - recall: 0.9000 - AUC: 0.9727\n",
            "Epoch 1189/2500\n",
            "371/371 [==============================] - 16s 44ms/step - loss: 0.1962 - tp: 341833.0000 - fp: 37978.0000 - tn: 341833.0000 - fn: 37978.0000 - accuracy: 0.9000 - precision: 0.9000 - recall: 0.9000 - AUC: 0.9731\n",
            "Epoch 1190/2500\n",
            "371/371 [==============================] - 16s 44ms/step - loss: 0.1944 - tp: 341945.0000 - fp: 37866.0000 - tn: 341945.0000 - fn: 37866.0000 - accuracy: 0.9003 - precision: 0.9003 - recall: 0.9003 - AUC: 0.9736\n",
            "Epoch 1191/2500\n",
            "371/371 [==============================] - 16s 44ms/step - loss: 0.1966 - tp: 342010.0000 - fp: 37801.0000 - tn: 342010.0000 - fn: 37801.0000 - accuracy: 0.9005 - precision: 0.9005 - recall: 0.9005 - AUC: 0.9730\n",
            "Epoch 1192/2500\n",
            "371/371 [==============================] - 16s 44ms/step - loss: 0.1929 - tp: 342164.0000 - fp: 37647.0000 - tn: 342164.0000 - fn: 37647.0000 - accuracy: 0.9009 - precision: 0.9009 - recall: 0.9009 - AUC: 0.9739\n",
            "Epoch 1193/2500\n",
            "371/371 [==============================] - 16s 44ms/step - loss: 0.1982 - tp: 341574.0000 - fp: 38237.0000 - tn: 341574.0000 - fn: 38237.0000 - accuracy: 0.8993 - precision: 0.8993 - recall: 0.8993 - AUC: 0.9726\n",
            "Epoch 1194/2500\n",
            "371/371 [==============================] - 16s 44ms/step - loss: 0.1969 - tp: 341758.0000 - fp: 38053.0000 - tn: 341758.0000 - fn: 38053.0000 - accuracy: 0.8998 - precision: 0.8998 - recall: 0.8998 - AUC: 0.9730\n",
            "Epoch 1195/2500\n",
            "371/371 [==============================] - 16s 44ms/step - loss: 0.1944 - tp: 342038.0000 - fp: 37773.0000 - tn: 342038.0000 - fn: 37773.0000 - accuracy: 0.9005 - precision: 0.9005 - recall: 0.9005 - AUC: 0.9736\n",
            "Epoch 1196/2500\n",
            "371/371 [==============================] - 16s 44ms/step - loss: 0.1944 - tp: 342141.0000 - fp: 37670.0000 - tn: 342141.0000 - fn: 37670.0000 - accuracy: 0.9008 - precision: 0.9008 - recall: 0.9008 - AUC: 0.9736\n",
            "Epoch 1197/2500\n",
            "371/371 [==============================] - 16s 44ms/step - loss: 0.1967 - tp: 341954.0000 - fp: 37857.0000 - tn: 341954.0000 - fn: 37857.0000 - accuracy: 0.9003 - precision: 0.9003 - recall: 0.9003 - AUC: 0.9730\n",
            "Epoch 1198/2500\n",
            "371/371 [==============================] - 16s 44ms/step - loss: 0.1931 - tp: 342247.0000 - fp: 37564.0000 - tn: 342247.0000 - fn: 37564.0000 - accuracy: 0.9011 - precision: 0.9011 - recall: 0.9011 - AUC: 0.9739\n",
            "Epoch 1199/2500\n",
            "371/371 [==============================] - 16s 44ms/step - loss: 0.2000 - tp: 341351.0000 - fp: 38460.0000 - tn: 341351.0000 - fn: 38460.0000 - accuracy: 0.8987 - precision: 0.8987 - recall: 0.8987 - AUC: 0.9722\n",
            "Epoch 1200/2500\n",
            "371/371 [==============================] - 16s 44ms/step - loss: 0.1984 - tp: 341558.0000 - fp: 38253.0000 - tn: 341558.0000 - fn: 38253.0000 - accuracy: 0.8993 - precision: 0.8993 - recall: 0.8993 - AUC: 0.9726\n"
          ]
        }
      ],
      "source": [
        "history_training = m.fit(all_sentences,labels,\n",
        "                         epochs= 2500,\n",
        "                         batch_size = 1024,\n",
        "                         use_multiprocessing=True,\n",
        "                         workers=-1,\n",
        "                         callbacks=[ earlyStopping])"
      ]
    },
    {
      "cell_type": "code",
      "execution_count": 538,
      "metadata": {
        "id": "V_4Qnavarj5m"
      },
      "outputs": [],
      "source": [
        "import matplotlib as mpl\n",
        "def draw_plot(data,c, type_data):\n",
        "  mpl.style.use('seaborn')\n",
        "  plt.figure(figsize = (20, 6))\n",
        "  plt.plot(data,c, label= type_data)\n",
        "  plt.xlabel('Epoch')\n",
        "  plt.ylabel(type_data)\n",
        "  plt.legend()"
      ]
    },
    {
      "cell_type": "code",
      "source": [
        "draw_plot(history_training.history['accuracy'],\"darkgreen\", \"accuracy\")"
      ],
      "metadata": {
        "colab": {
          "base_uri": "https://localhost:8080/",
          "height": 316
        },
        "id": "zIfCUXilZ2zf",
        "outputId": "cdf2921c-2c8e-46fd-b946-dd7575aa2723"
      },
      "execution_count": 540,
      "outputs": [
        {
          "output_type": "display_data",
          "data": {
            "text/plain": [
              "<Figure size 1440x432 with 1 Axes>"
            ],
            "image/png": "[encoded data removed]"
          },
          "metadata": {}
        }
      ]
    },
    {
      "cell_type": "code",
      "execution_count": 541,
      "metadata": {
        "colab": {
          "base_uri": "https://localhost:8080/",
          "height": 317
        },
        "id": "TdU_UnpCr3kV",
        "outputId": "b0ff7882-3ca4-4757-83dc-5e8c84cee585"
      },
      "outputs": [
        {
          "output_type": "display_data",
          "data": {
            "text/plain": [
              "<Figure size 1440x432 with 1 Axes>"
            ],
            "image/png": "[encoded data removed]"
          },
          "metadata": {}
        }
      ],
      "source": [
        "draw_plot(history_training.history['AUC'],\"red\", \"AUC\")"
      ]
    },
    {
      "cell_type": "code",
      "execution_count": 542,
      "metadata": {
        "colab": {
          "base_uri": "https://localhost:8080/",
          "height": 317
        },
        "id": "hZR3j5yur_QQ",
        "outputId": "abd33441-d5ea-4262-a82a-a86bdbf6dc99"
      },
      "outputs": [
        {
          "output_type": "display_data",
          "data": {
            "text/plain": [
              "<Figure size 1440x432 with 1 Axes>"
            ],
            "image/png": "[encoded data removed]"
          },
          "metadata": {}
        }
      ],
      "source": [
        "draw_plot(history_training.history['loss'],\"blue\", \"loss\")"
      ]
    },
    {
      "cell_type": "code",
      "execution_count": 449,
      "metadata": {
        "colab": {
          "base_uri": "https://localhost:8080/"
        },
        "id": "ZG9y91GGM5QH",
        "outputId": "7a15fbf6-f6b6-404d-9308-d3deb787cf33"
      },
      "outputs": [
        {
          "output_type": "stream",
          "name": "stdout",
          "text": [
            "371/371 [==============================] - 9s 19ms/step - loss: 0.1600 - tp: 349374.0000 - fp: 30437.0000 - tn: 349374.0000 - fn: 30437.0000 - accuracy: 0.9199 - precision: 0.9199 - recall: 0.9199 - AUC: 0.9837\n"
          ]
        },
        {
          "output_type": "execute_result",
          "data": {
            "text/plain": [
              "[0.15999963879585266,\n",
              " 349374.0,\n",
              " 30437.0,\n",
              " 349374.0,\n",
              " 30437.0,\n",
              " 0.9198627471923828,\n",
              " 0.9198627471923828,\n",
              " 0.9198627471923828,\n",
              " 0.9836931824684143]"
            ]
          },
          "metadata": {},
          "execution_count": 449
        }
      ],
      "source": [
        "m.evaluate(all_sentences,labels, batch_size = 1024,use_multiprocessing=True, workers = -1)"
      ]
    },
    {
      "cell_type": "code",
      "execution_count": 455,
      "metadata": {
        "colab": {
          "base_uri": "https://localhost:8080/"
        },
        "id": "p-OJ9aRaNBHu",
        "outputId": "a2306d47-5ce6-469e-a818-9b9c41665aa0"
      },
      "outputs": [
        {
          "output_type": "stream",
          "name": "stdout",
          "text": [
            "371/371 [==============================] - 5s 14ms/step\n"
          ]
        }
      ],
      "source": [
        "y_pred = m.predict(all_sentences, batch_size=1024, verbose= 1)\n",
        "y_pred = np.argmax(y_pred, axis = 1)"
      ]
    },
    {
      "cell_type": "code",
      "execution_count": 456,
      "metadata": {
        "colab": {
          "base_uri": "https://localhost:8080/"
        },
        "id": "U6RodD-4NI_G",
        "outputId": "3edfd457-999b-4ce8-e5b7-1271018df6ce"
      },
      "outputs": [
        {
          "output_type": "execute_result",
          "data": {
            "text/plain": [
              "array([0, 1, 1, ..., 1, 0, 1])"
            ]
          },
          "metadata": {},
          "execution_count": 456
        }
      ],
      "source": [
        "y_pred"
      ]
    },
    {
      "cell_type": "code",
      "execution_count": 457,
      "metadata": {
        "colab": {
          "base_uri": "https://localhost:8080/"
        },
        "id": "976WLuLaNKNu",
        "outputId": "12894440-77b4-4ff3-a23e-ae2dc4be27e6"
      },
      "outputs": [
        {
          "output_type": "execute_result",
          "data": {
            "text/plain": [
              "array([0, 1, 1, ..., 1, 0, 1])"
            ]
          },
          "metadata": {},
          "execution_count": 457
        }
      ],
      "source": [
        "y_test = np.argmax(labels, axis = 1)\n",
        "y_test"
      ]
    },
    {
      "cell_type": "code",
      "execution_count": 458,
      "metadata": {
        "colab": {
          "base_uri": "https://localhost:8080/"
        },
        "id": "AId-yj4eNOkG",
        "outputId": "2ba780bb-6ff2-46c0-f1e4-ad282d6c897c"
      },
      "outputs": [
        {
          "output_type": "execute_result",
          "data": {
            "text/plain": [
              "0.9198627738533113"
            ]
          },
          "metadata": {},
          "execution_count": 458
        }
      ],
      "source": [
        "from sklearn.metrics import accuracy_score\n",
        "accuracy_score(y_test, y_pred)"
      ]
    },
    {
      "cell_type": "code",
      "execution_count": 462,
      "metadata": {
        "id": "MZ3Mui2M1l0I"
      },
      "outputs": [],
      "source": [
        "res = tf.math.confusion_matrix(y_pred,y_test).numpy()"
      ]
    },
    {
      "cell_type": "code",
      "execution_count": 664,
      "metadata": {
        "colab": {
          "base_uri": "https://localhost:8080/",
          "height": 112
        },
        "id": "ezspwTOc1pxd",
        "outputId": "86736feb-509c-4d68-d72e-b3594b259c16"
      },
      "outputs": [
        {
          "output_type": "execute_result",
          "data": {
            "text/plain": [
              "               contradiction  entailment\n",
              "contradiction         175284       16021\n",
              "entailment             14416      174090"
            ],
            "text/html": [
              "\n",
              "  <div id=\"df-8969d576-cddf-4df4-8a9f-3340870244ae\">\n",
              "    <div class=\"colab-df-container\">\n",
              "      <div>\n",
              "<style scoped>\n",
              "    .dataframe tbody tr th:only-of-type {\n",
              "        vertical-align: middle;\n",
              "    }\n",
              "\n",
              "    .dataframe tbody tr th {\n",
              "        vertical-align: top;\n",
              "    }\n",
              "\n",
              "    .dataframe thead th {\n",
              "        text-align: right;\n",
              "    }\n",
              "</style>\n",
              "<table border=\"1\" class=\"dataframe\">\n",
              "  <thead>\n",
              "    <tr style=\"text-align: right;\">\n",
              "      <th></th>\n",
              "      <th>contradiction</th>\n",
              "      <th>entailment</th>\n",
              "    </tr>\n",
              "  </thead>\n",
              "  <tbody>\n",
              "    <tr>\n",
              "      <th>contradiction</th>\n",
              "      <td>175284</td>\n",
              "      <td>16021</td>\n",
              "    </tr>\n",
              "    <tr>\n",
              "      <th>entailment</th>\n",
              "      <td>14416</td>\n",
              "      <td>174090</td>\n",
              "    </tr>\n",
              "  </tbody>\n",
              "</table>\n",
              "</div>\n",
              "      <button class=\"colab-df-convert\" onclick=\"convertToInteractive('df-8969d576-cddf-4df4-8a9f-3340870244ae')\"\n",
              "              title=\"Convert this dataframe to an interactive table.\"\n",
              "              style=\"display:none;\">\n",
              "        \n",
              "  <svg xmlns=\"http://www.w3.org/2000/svg\" height=\"24px\"viewBox=\"0 0 24 24\"\n",
              "       width=\"24px\">\n",
              "    <path d=\"M0 0h24v24H0V0z\" fill=\"none\"/>\n",
              "    <path d=\"M18.56 5.44l.94 2.06.94-2.06 2.06-.94-2.06-.94-.94-2.06-.94 2.06-2.06.94zm-11 1L8.5 8.5l.94-2.06 2.06-.94-2.06-.94L8.5 2.5l-.94 2.06-2.06.94zm10 10l.94 2.06.94-2.06 2.06-.94-2.06-.94-.94-2.06-.94 2.06-2.06.94z\"/><path d=\"M17.41 7.96l-1.37-1.37c-.4-.4-.92-.59-1.43-.59-.52 0-1.04.2-1.43.59L10.3 9.45l-7.72 7.72c-.78.78-.78 2.05 0 2.83L4 21.41c.39.39.9.59 1.41.59.51 0 1.02-.2 1.41-.59l7.78-7.78 2.81-2.81c.8-.78.8-2.07 0-2.86zM5.41 20L4 18.59l7.72-7.72 1.47 1.35L5.41 20z\"/>\n",
              "  </svg>\n",
              "      </button>\n",
              "      \n",
              "  <style>\n",
              "    .colab-df-container {\n",
              "      display:flex;\n",
              "      flex-wrap:wrap;\n",
              "      gap: 12px;\n",
              "    }\n",
              "\n",
              "    .colab-df-convert {\n",
              "      background-color: #E8F0FE;\n",
              "      border: none;\n",
              "      border-radius: 50%;\n",
              "      cursor: pointer;\n",
              "      display: none;\n",
              "      fill: #1967D2;\n",
              "      height: 32px;\n",
              "      padding: 0 0 0 0;\n",
              "      width: 32px;\n",
              "    }\n",
              "\n",
              "    .colab-df-convert:hover {\n",
              "      background-color: #E2EBFA;\n",
              "      box-shadow: 0px 1px 2px rgba(60, 64, 67, 0.3), 0px 1px 3px 1px rgba(60, 64, 67, 0.15);\n",
              "      fill: #174EA6;\n",
              "    }\n",
              "\n",
              "    [theme=dark] .colab-df-convert {\n",
              "      background-color: #3B4455;\n",
              "      fill: #D2E3FC;\n",
              "    }\n",
              "\n",
              "    [theme=dark] .colab-df-convert:hover {\n",
              "      background-color: #434B5C;\n",
              "      box-shadow: 0px 1px 3px 1px rgba(0, 0, 0, 0.15);\n",
              "      filter: drop-shadow(0px 1px 2px rgba(0, 0, 0, 0.3));\n",
              "      fill: #FFFFFF;\n",
              "    }\n",
              "  </style>\n",
              "\n",
              "      <script>\n",
              "        const buttonEl =\n",
              "          document.querySelector('#df-8969d576-cddf-4df4-8a9f-3340870244ae button.colab-df-convert');\n",
              "        buttonEl.style.display =\n",
              "          google.colab.kernel.accessAllowed ? 'block' : 'none';\n",
              "\n",
              "        async function convertToInteractive(key) {\n",
              "          const element = document.querySelector('#df-8969d576-cddf-4df4-8a9f-3340870244ae');\n",
              "          const dataTable =\n",
              "            await google.colab.kernel.invokeFunction('convertToInteractive',\n",
              "                                                     [key], {});\n",
              "          if (!dataTable) return;\n",
              "\n",
              "          const docLinkHtml = 'Like what you see? Visit the ' +\n",
              "            '<a target=\"_blank\" href=https://colab.research.google.com/notebooks/data_table.ipynb>data table notebook</a>'\n",
              "            + ' to learn more about interactive tables.';\n",
              "          element.innerHTML = '';\n",
              "          dataTable['output_type'] = 'display_data';\n",
              "          await google.colab.output.renderOutput(dataTable, element);\n",
              "          const docLink = document.createElement('div');\n",
              "          docLink.innerHTML = docLinkHtml;\n",
              "          element.appendChild(docLink);\n",
              "        }\n",
              "      </script>\n",
              "    </div>\n",
              "  </div>\n",
              "  "
            ]
          },
          "metadata": {},
          "execution_count": 664
        }
      ],
      "source": [
        "cm = pd.DataFrame(res,\n",
        "                     index = ['contradiction', 'entailment'], \n",
        "                     columns = ['contradiction', 'entailment'])\n",
        "cm"
      ]
    },
    {
      "cell_type": "code",
      "execution_count": 665,
      "metadata": {
        "colab": {
          "base_uri": "https://localhost:8080/",
          "height": 606
        },
        "id": "nvnXK5_J15rE",
        "outputId": "7a11004c-b529-4341-824c-388e0b034100"
      },
      "outputs": [
        {
          "output_type": "display_data",
          "data": {
            "text/plain": [
              "<Figure size 720x720 with 2 Axes>"
            ],
            "image/png": "[encoded data removed]"
          },
          "metadata": {}
        }
      ],
      "source": [
        "import seaborn as sns\n",
        "figure = plt.figure(figsize=(10, 10))\n",
        "sns.heatmap(cm, annot=True, cmap=plt.cm.Blues)\n",
        "plt.ylabel('True label')\n",
        "plt.xlabel('Predicted label')\n",
        "plt.show()"
      ]
    },
    {
      "cell_type": "markdown",
      "metadata": {
        "id": "LUyBpcM92DKO"
      },
      "source": [
        "#Live Test"
      ]
    },
    {
      "cell_type": "markdown",
      "source": [
        "The proposed system can benefit from the ability to analyze and link tweets that are similar in meaning with each other, and thus show the way in which Twitter can review similar tweets as suggestions to users, depending on the match in terms of meaning.\n",
        "Examples of datasets that can be used:\n",
        "https://www.kaggle.com/datasets/vishesh1412/twitter-dataset-sri-lanka-crisis/"
      ],
      "metadata": {
        "id": "NBXFuvVpyvsE"
      }
    },
    {
      "cell_type": "code",
      "execution_count": 730,
      "metadata": {
        "id": "y_wdlAi521pw"
      },
      "outputs": [],
      "source": [
        "sen1 = \"In Sri Lanka, the demonstrators went out in many demonstrations against the government, the demonstrators managed to reach the presidential residence of the president, and news of the president's escape.\"\n",
        "sen2 = \"In Sri Lanka, the atmosphere is wonderful, and the tourist areas are spread in large quantity, the prices are rather low, and it has a comfortable political and economic stability, I recommend visiting it, it has many wonderful monuments.\""
      ]
    },
    {
      "cell_type": "code",
      "execution_count": 731,
      "metadata": {
        "id": "m4TQoEy76Zls"
      },
      "outputs": [],
      "source": [
        "def pre_processing_sentence(sentence):\n",
        "  texts = []\n",
        "  pred_input = sentence\n",
        "  pred_input = [letters.lower() for letters in pred_input if letters not in string.punctuation]\n",
        "  pred_input = ''.join(pred_input)\n",
        "  pred_input = [word for word in pred_input.split() if word not in stop_words]\n",
        "  pred_input = ' '.join(pred_input)\n",
        "  print(pred_input)\n",
        "  texts.append(pred_input)\n",
        "  pred_input = tokenizer.texts_to_sequences(texts)\n",
        "  pred_input = np.array(pred_input).reshape(-1)\n",
        "  pred_input = pad_sequences([pred_input],43)\n",
        "  return pred_input"
      ]
    },
    {
      "cell_type": "markdown",
      "source": [
        "**Note:**\n",
        "Tokenizer depends on the words contained in the trained data (word dictionary), and therefore for new words that the Tokenizer has not been trained on, the Tokenizer will remove them."
      ],
      "metadata": {
        "id": "7uIt5pf62bDa"
      }
    },
    {
      "cell_type": "code",
      "execution_count": 732,
      "metadata": {
        "id": "LyGFAKy24f6Q",
        "colab": {
          "base_uri": "https://localhost:8080/"
        },
        "outputId": "2d6ab84d-e85c-434b-8b56-7737bde76d86"
      },
      "outputs": [
        {
          "output_type": "stream",
          "name": "stdout",
          "text": [
            "sri lanka demonstrators went many demonstrations government demonstrators managed reach presidential residence president news presidents escape\n"
          ]
        }
      ],
      "source": [
        "sen1 = pre_processing_sentence(sen1)"
      ]
    },
    {
      "cell_type": "code",
      "execution_count": 733,
      "metadata": {
        "colab": {
          "base_uri": "https://localhost:8080/"
        },
        "id": "nT9hF2PB9F-8",
        "outputId": "bb5cfbba-13d8-49de-90d6-b93ffe36f400"
      },
      "outputs": [
        {
          "output_type": "execute_result",
          "data": {
            "text/plain": [
              "array([[   0,    0,    0,    0,    0,    0,    0,    0,    0,    0,    0,\n",
              "           0,    0,    0,    0,    0,    0,    0,    0,    0,    0,    0,\n",
              "           0,    0,    0,    0,    0,    0,    0,    0,    0,    0,    0,\n",
              "           0,    0,    0, 1595,  171, 4050, 1636, 4002, 2286, 3312]],\n",
              "      dtype=int32)"
            ]
          },
          "metadata": {},
          "execution_count": 733
        }
      ],
      "source": [
        "sen1"
      ]
    },
    {
      "cell_type": "code",
      "execution_count": 734,
      "metadata": {
        "id": "G0HzE15j8FZy",
        "colab": {
          "base_uri": "https://localhost:8080/"
        },
        "outputId": "be77a520-774f-425d-e1b9-3e64cda4ea06"
      },
      "outputs": [
        {
          "output_type": "stream",
          "name": "stdout",
          "text": [
            "sri lanka atmosphere wonderful tourist areas spread large quantity prices rather low comfortable political economic stability recommend visiting many wonderful monuments\n"
          ]
        }
      ],
      "source": [
        "sen2 = pre_processing_sentence(sen2)"
      ]
    },
    {
      "cell_type": "code",
      "execution_count": 735,
      "metadata": {
        "colab": {
          "base_uri": "https://localhost:8080/"
        },
        "id": "gNe0KXR-9IzB",
        "outputId": "79237257-64d2-45b8-dac5-fe494cb33ff9"
      },
      "outputs": [
        {
          "output_type": "execute_result",
          "data": {
            "text/plain": [
              "array([[   0,    0,    0,    0,    0,    0,    0,    0,    0,    0,    0,\n",
              "           0,    0,    0,    0,    0,    0,    0,    0,    0,    0,    0,\n",
              "           0,    0,    0,    0,    0,    0,    0,    0,    0,    0,    0,\n",
              "        1487, 1666,   37, 5037, 3388, 1106, 5021, 3025, 2053,  171]],\n",
              "      dtype=int32)"
            ]
          },
          "metadata": {},
          "execution_count": 735
        }
      ],
      "source": [
        "sen2"
      ]
    },
    {
      "cell_type": "code",
      "execution_count": 720,
      "metadata": {
        "id": "8-pu1Ie68J_R"
      },
      "outputs": [],
      "source": [
        "full_input = np.asarray([sen1, sen2])"
      ]
    },
    {
      "cell_type": "code",
      "execution_count": 721,
      "metadata": {
        "colab": {
          "base_uri": "https://localhost:8080/"
        },
        "id": "OiUGh_sK8Ryc",
        "outputId": "9ef359c9-fecb-4d85-c3f7-0bbfee95e56a"
      },
      "outputs": [
        {
          "output_type": "execute_result",
          "data": {
            "text/plain": [
              "(2, 1, 43)"
            ]
          },
          "metadata": {},
          "execution_count": 721
        }
      ],
      "source": [
        "full_input.shape"
      ]
    },
    {
      "cell_type": "code",
      "execution_count": 722,
      "metadata": {
        "id": "5U_BK-Jm8Vvj"
      },
      "outputs": [],
      "source": [
        "full_input = full_input.reshape(1, 2, 43)"
      ]
    },
    {
      "cell_type": "code",
      "execution_count": 723,
      "metadata": {
        "colab": {
          "base_uri": "https://localhost:8080/"
        },
        "id": "R01VC1YC8b-h",
        "outputId": "708db62d-1dbf-4dac-8256-5c5029c0734b"
      },
      "outputs": [
        {
          "output_type": "execute_result",
          "data": {
            "text/plain": [
              "(1, 2, 43)"
            ]
          },
          "metadata": {},
          "execution_count": 723
        }
      ],
      "source": [
        "full_input.shape"
      ]
    },
    {
      "cell_type": "code",
      "execution_count": 724,
      "metadata": {
        "id": "ihWQdv5C8e1Y"
      },
      "outputs": [],
      "source": [
        "y_predict = m.predict(full_input)"
      ]
    },
    {
      "cell_type": "code",
      "execution_count": 725,
      "metadata": {
        "colab": {
          "base_uri": "https://localhost:8080/"
        },
        "id": "K47IUQDa8juI",
        "outputId": "0d106bff-90ec-49c4-e988-4b151281f516"
      },
      "outputs": [
        {
          "output_type": "execute_result",
          "data": {
            "text/plain": [
              "array([[0.9869354, 0.0130647]], dtype=float32)"
            ]
          },
          "metadata": {},
          "execution_count": 725
        }
      ],
      "source": [
        "y_predict"
      ]
    },
    {
      "cell_type": "code",
      "execution_count": 726,
      "metadata": {
        "id": "tHh7pr-G8m2j"
      },
      "outputs": [],
      "source": [
        "y_pred = np.argmax(y_predict)"
      ]
    },
    {
      "cell_type": "code",
      "execution_count": 727,
      "metadata": {
        "id": "vUF1Obba9ja-"
      },
      "outputs": [],
      "source": [
        "classes_name = ['contradiction', 'entailment']"
      ]
    },
    {
      "cell_type": "code",
      "execution_count": 728,
      "metadata": {
        "colab": {
          "base_uri": "https://localhost:8080/"
        },
        "id": "35i55_zQ8q6A",
        "outputId": "88c2d459-cf29-4baf-909c-ff5e87e50a2b"
      },
      "outputs": [
        {
          "output_type": "execute_result",
          "data": {
            "text/plain": [
              "98.69353771209717"
            ]
          },
          "metadata": {},
          "execution_count": 728
        }
      ],
      "source": [
        "y_predict[0][y_pred]*100"
      ]
    },
    {
      "cell_type": "code",
      "execution_count": 729,
      "metadata": {
        "colab": {
          "base_uri": "https://localhost:8080/",
          "height": 35
        },
        "id": "mbrsQibK9rlX",
        "outputId": "702e8f7f-9bae-40e0-dddb-ab1d6d1557ce"
      },
      "outputs": [
        {
          "output_type": "execute_result",
          "data": {
            "text/plain": [
              "'contradiction'"
            ],
            "application/vnd.google.colaboratory.intrinsic+json": {
              "type": "string"
            }
          },
          "metadata": {},
          "execution_count": 729
        }
      ],
      "source": [
        "classes_name[y_pred]"
      ]
    }
  ],
  "metadata": {
    "accelerator": "GPU",
    "colab": {
      "background_execution": "on",
      "collapsed_sections": [],
      "machine_shape": "hm",
      "name": "Semantic Similarity using TimeDistributed LSTM.ipynb",
      "provenance": []
    },
    "gpuClass": "standard",
    "kernelspec": {
      "display_name": "Python 3",
      "name": "python3"
    },
    "language_info": {
      "name": "python"
    }
  },
  "nbformat": 4,
  "nbformat_minor": 0
}